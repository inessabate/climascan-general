{
 "cells": [
  {
   "metadata": {},
   "cell_type": "markdown",
   "source": "# **Análisis exploratorio de calidad datos meteorológicos (AEMET)**",
   "id": "562fb17dd4569eb9"
  },
  {
   "metadata": {},
   "cell_type": "markdown",
   "source": [
    "# Índice de Chequeos de Calidad de Datos\n",
    "\n",
    "## A. Integridad estructural\n",
    "- A.1 Verificación del esquema de datos\n",
    "- A.2 Comprobación de tipos de datos\n",
    "- A.3 Unicidad de la clave primaria (fecha + estación)\n",
    "\n",
    "## B. Completitud\n",
    "- B.1 Cobertura temporal (días presentes en el periodo 2017–2025)\n",
    "- B.2 Cobertura espacial (estaciones del catálogo)\n",
    "- B.3 Valores requeridos (campos obligatorios sin nulos)\n",
    "- B.4 Cobertura de variables clave (temperatura, precipitación, etc.)\n",
    "- B.5 Cobertura de variables opcionales\n",
    "\n",
    "## C. Validez y rangos de valores\n",
    "- C.1 Valores de temperatura en rangos razonables\n",
    "- C.2 Consistencia entre temperaturas (mínima, máxima y media)\n",
    "- C.3 Precipitación no negativa y códigos especiales correctos\n",
    "- C.4 Viento: velocidad, racha y dirección en rangos válidos\n",
    "- C.5 Presión atmosférica en rango válido\n",
    "- C.6 Humedad relativa en rango válido\n",
    "- C.7 Insolación en rango válido\n",
    "\n",
    "## D. Consistencia temporal\n",
    "- D.1 Formato y rango correcto de las horas\n",
    "- D.2 Ausencia de fechas duplicadas por estación\n",
    "- D.3 Validez de valores acumulados (ej. precipitaciones)\n",
    "\n",
    "## E. Coherencia espacial\n",
    "- E.1 Ausencia de registros duplicados por estación y fecha\n",
    "- E.2 Coherencia de altitud con el catálogo de estaciones\n",
    "- E.3 Coherencia de coordenadas en cada estación\n",
    "- E.4 Detección de valores extremos frente a estaciones cercanas\n",
    "\n",
    "## F. Homogeneidad y representatividad\n",
    "- F.1 Estabilidad de estaciones (cobertura temporal)\n",
    "- F.2 Cobertura de variables clave por estación\n",
    "- F.3 Distribución regional de las estaciones activas\n",
    "- F.4 Balance temporal de la cobertura de datos\n",
    "\n",
    "## G. Calidad técnica\n",
    "- G.1 Detección de registros duplicados en el dataset global\n",
    "- G.2 Tratamiento de codificaciones especiales (Ip, Acum, 88, 99)\n",
    "- G.3 Identificación de valores atípicos extremos\n",
    "- G.4 Verificación de archivos faltantes en la capa *landing*"
   ],
   "id": "72ae8964e1993c1a"
  },
  {
   "metadata": {
    "ExecuteTime": {
     "end_time": "2025-08-24T17:03:09.019614Z",
     "start_time": "2025-08-24T17:03:08.933746Z"
    }
   },
   "cell_type": "code",
   "source": [
    "# 1. Importar librerías necesarias\n",
    "import os\n",
    "from pyspark.sql import SparkSession\n",
    "from delta import configure_spark_with_delta_pip\n",
    "\n",
    "# 2. Asegurar que Java 11 está configurado (macOS con Homebrew)\n",
    "os.environ[\"JAVA_HOME\"] = \"/opt/homebrew/Cellar/openjdk@11/11.0.27/libexec/openjdk.jdk/Contents/Home\"\n",
    "os.environ[\"SPARK_LOCAL_IP\"] = \"127.0.0.1\"  # fuerza loopback para evitar errores de red\n"
   ],
   "id": "cfab781fb5ac0272",
   "outputs": [],
   "execution_count": 1
  },
  {
   "metadata": {
    "ExecuteTime": {
     "end_time": "2025-08-24T17:03:13.341286Z",
     "start_time": "2025-08-24T17:03:10.813645Z"
    }
   },
   "cell_type": "code",
   "source": [
    "# 3. Definir versión de Delta Lake compatible con Spark 3.5.x\n",
    "DELTA_VERSION = \"3.2.0\"\n",
    "\n",
    "# 4. Crear SparkSession con soporte Delta\n",
    "builder = (\n",
    "    SparkSession.builder\n",
    "    .appName(\"EDA_Calidad_AEMET\")\n",
    "    .master(\"local[*]\")  # ejecución local\n",
    "    .config(\"spark.driver.bindAddress\", \"127.0.0.1\")\n",
    "    .config(\"spark.driver.host\", \"127.0.0.1\")\n",
    "    # Extensiones Delta\n",
    "    .config(\"spark.sql.extensions\", \"io.delta.sql.DeltaSparkSessionExtension\")\n",
    "    .config(\"spark.sql.catalog.spark_catalog\", \"org.apache.spark.sql.delta.catalog.DeltaCatalog\")\n",
    "    # JAR Delta desde Maven Central\n",
    "    .config(\"spark.jars.packages\", f\"io.delta:delta-spark_2.12:{DELTA_VERSION}\")\n",
    "    .config(\"spark.sql.shuffle.partitions\", \"200\")  # particiones por defecto\n",
    ")\n",
    "\n",
    "spark = configure_spark_with_delta_pip(builder).getOrCreate()\n",
    "spark.sparkContext.setLogLevel(\"WARN\")\n",
    "\n",
    "# 5. Verificación del arranque\n",
    "print(\"Spark ✅\", spark.version)\n",
    "print(\"Extensiones:\", spark.conf.get(\"spark.sql.extensions\"))\n"
   ],
   "id": "b078d1dff54df207",
   "outputs": [
    {
     "name": "stdout",
     "output_type": "stream",
     "text": [
      ":: loading settings :: url = jar:file:/Users/inessabate/PycharmProjects/climascan-general/.venv311/lib/python3.11/site-packages/pyspark/jars/ivy-2.5.1.jar!/org/apache/ivy/core/settings/ivysettings.xml\n"
     ]
    },
    {
     "name": "stderr",
     "output_type": "stream",
     "text": [
      "Ivy Default Cache set to: /Users/inessabate/.ivy2/cache\n",
      "The jars for the packages stored in: /Users/inessabate/.ivy2/jars\n",
      "io.delta#delta-spark_2.12 added as a dependency\n",
      ":: resolving dependencies :: org.apache.spark#spark-submit-parent-c2acd349-5471-4a05-8046-2174e2e6bd38;1.0\n",
      "\tconfs: [default]\n",
      "\tfound io.delta#delta-spark_2.12;3.2.0 in central\n",
      "\tfound io.delta#delta-storage;3.2.0 in central\n",
      "\tfound org.antlr#antlr4-runtime;4.9.3 in central\n",
      ":: resolution report :: resolve 78ms :: artifacts dl 2ms\n",
      "\t:: modules in use:\n",
      "\tio.delta#delta-spark_2.12;3.2.0 from central in [default]\n",
      "\tio.delta#delta-storage;3.2.0 from central in [default]\n",
      "\torg.antlr#antlr4-runtime;4.9.3 from central in [default]\n",
      "\t---------------------------------------------------------------------\n",
      "\t|                  |            modules            ||   artifacts   |\n",
      "\t|       conf       | number| search|dwnlded|evicted|| number|dwnlded|\n",
      "\t---------------------------------------------------------------------\n",
      "\t|      default     |   3   |   0   |   0   |   0   ||   3   |   0   |\n",
      "\t---------------------------------------------------------------------\n",
      ":: retrieving :: org.apache.spark#spark-submit-parent-c2acd349-5471-4a05-8046-2174e2e6bd38\n",
      "\tconfs: [default]\n",
      "\t0 artifacts copied, 3 already retrieved (0kB/3ms)\n",
      "25/08/24 19:03:12 WARN NativeCodeLoader: Unable to load native-hadoop library for your platform... using builtin-java classes where applicable\n",
      "Setting default log level to \"WARN\".\n",
      "To adjust logging level use sc.setLogLevel(newLevel). For SparkR, use setLogLevel(newLevel).\n"
     ]
    },
    {
     "name": "stdout",
     "output_type": "stream",
     "text": [
      "Spark ✅ 3.5.1\n",
      "Extensiones: io.delta.sql.DeltaSparkSessionExtension\n"
     ]
    }
   ],
   "execution_count": 2
  },
  {
   "metadata": {},
   "cell_type": "markdown",
   "source": [
    "## Uso de Apache Spark para el análisis exploratorio\n",
    "\n",
    "El análisis exploratorio de los datos meteorológicos requiere procesar un volumen elevado de información: **2.848.554 registros** correspondientes a observaciones diarias de múltiples estaciones a lo largo de un periodo de casi nueve años.\n",
    "Ante este escenario, resulta fundamental seleccionar una tecnología que garantice eficiencia, escalabilidad y capacidad de integración con el resto de la arquitectura del *Data Lake*.\n",
    "\n",
    "Se ha optado por emplear **Apache Spark** en lugar de alternativas como **DuckDB**."
   ],
   "id": "a2ee3b43b14945bf"
  },
  {
   "metadata": {
    "ExecuteTime": {
     "end_time": "2025-08-24T17:00:38.228612Z",
     "start_time": "2025-08-24T17:00:38.186219Z"
    }
   },
   "cell_type": "code",
   "source": [
    "import os, sys, subprocess, glob, shutil\n",
    "\n",
    "# Asegura Java 11 (ya lo tienes, pero repetimos por si el kernel se reinició)\n",
    "os.environ[\"JAVA_HOME\"] = \"/Library/Java/JavaVirtualMachines/temurin-11.jdk/Contents/Home\"\n",
    "os.environ[\"PATH\"] = os.path.join(os.environ[\"JAVA_HOME\"], \"bin\") + os.pathsep + os.environ.get(\"PATH\",\"\")\n",
    "os.environ[\"SPARK_LOCAL_IP\"] = \"127.0.0.1\"\n",
    "os.environ[\"PYSPARK_PYTHON\"] = sys.executable\n",
    "\n",
    "# Limpia variables que a veces rompen el arranque\n",
    "for k in [\"PYSPARK_SUBMIT_ARGS\",\"SPARK_SUBMIT_OPTS\"]:\n",
    "    if k in os.environ:\n",
    "        del os.environ[k]\n",
    "\n",
    "# Limpia temporales de Spark\n",
    "for p in glob.glob(\"/tmp/spark-*\"): shutil.rmtree(p, ignore_errors=True)\n",
    "\n",
    "# Verifica Java 11 real\n",
    "print(subprocess.run([\"java\",\"-version\"], capture_output=True, text=True).stderr.strip())"
   ],
   "id": "9122045c7027aac9",
   "outputs": [
    {
     "name": "stdout",
     "output_type": "stream",
     "text": [
      "openjdk version \"11.0.27\" 2025-04-15\n",
      "OpenJDK Runtime Environment Homebrew (build 11.0.27+0)\n",
      "OpenJDK 64-Bit Server VM Homebrew (build 11.0.27+0, mixed mode)\n"
     ]
    }
   ],
   "execution_count": 84
  },
  {
   "metadata": {
    "ExecuteTime": {
     "end_time": "2025-08-24T17:00:44.308360Z",
     "start_time": "2025-08-24T17:00:44.245227Z"
    }
   },
   "cell_type": "code",
   "source": [
    "from pyspark.sql import SparkSession\n",
    "import os\n",
    "\n",
    "# Mostrar el comando de lanzamiento de la JVM (por si vuelve a fallar)\n",
    "os.environ[\"SPARK_PRINT_LAUNCH_COMMAND\"] = \"1\"\n",
    "\n",
    "spark = (SparkSession.builder\n",
    "         .master(\"local[*]\")\n",
    "         .appName(\"smoke-min\")\n",
    "         # Bind explícito a loopback\n",
    "         .config(\"spark.driver.bindAddress\",\"127.0.0.1\")\n",
    "         .config(\"spark.driver.host\",\"127.0.0.1\")\n",
    "         # Evitar conflictos de puertos\n",
    "         .config(\"spark.ui.enabled\",\"false\")   # sin UI web\n",
    "         .config(\"spark.blockManager.port\",\"0\")# 0 = puerto aleatorio\n",
    "         .config(\"spark.driver.port\",\"0\")\n",
    "         # Forzar IPv4 (a veces IPv6 rompe en macOS)\n",
    "         .config(\"spark.driver.extraJavaOptions\",\"-Djava.net.preferIPv4Stack=true\")\n",
    "         .config(\"spark.executor.extraJavaOptions\",\"-Djava.net.preferIPv4Stack=true\")\n",
    "         # Usar tmp/locals explícitos\n",
    "         .config(\"spark.local.dir\", os.environ[\"SPARK_LOCAL_DIRS\"])\n",
    "         .getOrCreate())\n",
    "\n",
    "spark.sparkContext.setLogLevel(\"WARN\")\n",
    "print(\"Spark OK:\", spark.version)\n",
    "spark.range(1).show()\n",
    "spark.stop()"
   ],
   "id": "369c9b55fb8a0d00",
   "outputs": [
    {
     "ename": "ConnectionRefusedError",
     "evalue": "[Errno 61] Connection refused",
     "output_type": "error",
     "traceback": [
      "\u001B[31m---------------------------------------------------------------------------\u001B[39m",
      "\u001B[31mConnectionRefusedError\u001B[39m                    Traceback (most recent call last)",
      "\u001B[36mCell\u001B[39m\u001B[36m \u001B[39m\u001B[32mIn[86]\u001B[39m\u001B[32m, line 22\u001B[39m\n\u001B[32m      4\u001B[39m \u001B[38;5;66;03m# Mostrar el comando de lanzamiento de la JVM (por si vuelve a fallar)\u001B[39;00m\n\u001B[32m      5\u001B[39m os.environ[\u001B[33m\"\u001B[39m\u001B[33mSPARK_PRINT_LAUNCH_COMMAND\u001B[39m\u001B[33m\"\u001B[39m] = \u001B[33m\"\u001B[39m\u001B[33m1\u001B[39m\u001B[33m\"\u001B[39m\n\u001B[32m      7\u001B[39m spark = (\u001B[43mSparkSession\u001B[49m\u001B[43m.\u001B[49m\u001B[43mbuilder\u001B[49m\n\u001B[32m      8\u001B[39m \u001B[43m         \u001B[49m\u001B[43m.\u001B[49m\u001B[43mmaster\u001B[49m\u001B[43m(\u001B[49m\u001B[33;43m\"\u001B[39;49m\u001B[33;43mlocal[*]\u001B[39;49m\u001B[33;43m\"\u001B[39;49m\u001B[43m)\u001B[49m\n\u001B[32m      9\u001B[39m \u001B[43m         \u001B[49m\u001B[43m.\u001B[49m\u001B[43mappName\u001B[49m\u001B[43m(\u001B[49m\u001B[33;43m\"\u001B[39;49m\u001B[33;43msmoke-min\u001B[39;49m\u001B[33;43m\"\u001B[39;49m\u001B[43m)\u001B[49m\n\u001B[32m     10\u001B[39m \u001B[43m         \u001B[49m\u001B[38;5;66;43;03m# Bind explícito a loopback\u001B[39;49;00m\n\u001B[32m     11\u001B[39m \u001B[43m         \u001B[49m\u001B[43m.\u001B[49m\u001B[43mconfig\u001B[49m\u001B[43m(\u001B[49m\u001B[33;43m\"\u001B[39;49m\u001B[33;43mspark.driver.bindAddress\u001B[39;49m\u001B[33;43m\"\u001B[39;49m\u001B[43m,\u001B[49m\u001B[33;43m\"\u001B[39;49m\u001B[33;43m127.0.0.1\u001B[39;49m\u001B[33;43m\"\u001B[39;49m\u001B[43m)\u001B[49m\n\u001B[32m     12\u001B[39m \u001B[43m         \u001B[49m\u001B[43m.\u001B[49m\u001B[43mconfig\u001B[49m\u001B[43m(\u001B[49m\u001B[33;43m\"\u001B[39;49m\u001B[33;43mspark.driver.host\u001B[39;49m\u001B[33;43m\"\u001B[39;49m\u001B[43m,\u001B[49m\u001B[33;43m\"\u001B[39;49m\u001B[33;43m127.0.0.1\u001B[39;49m\u001B[33;43m\"\u001B[39;49m\u001B[43m)\u001B[49m\n\u001B[32m     13\u001B[39m \u001B[43m         \u001B[49m\u001B[38;5;66;43;03m# Evitar conflictos de puertos\u001B[39;49;00m\n\u001B[32m     14\u001B[39m \u001B[43m         \u001B[49m\u001B[43m.\u001B[49m\u001B[43mconfig\u001B[49m\u001B[43m(\u001B[49m\u001B[33;43m\"\u001B[39;49m\u001B[33;43mspark.ui.enabled\u001B[39;49m\u001B[33;43m\"\u001B[39;49m\u001B[43m,\u001B[49m\u001B[33;43m\"\u001B[39;49m\u001B[33;43mfalse\u001B[39;49m\u001B[33;43m\"\u001B[39;49m\u001B[43m)\u001B[49m\u001B[43m   \u001B[49m\u001B[38;5;66;43;03m# sin UI web\u001B[39;49;00m\n\u001B[32m     15\u001B[39m \u001B[43m         \u001B[49m\u001B[43m.\u001B[49m\u001B[43mconfig\u001B[49m\u001B[43m(\u001B[49m\u001B[33;43m\"\u001B[39;49m\u001B[33;43mspark.blockManager.port\u001B[39;49m\u001B[33;43m\"\u001B[39;49m\u001B[43m,\u001B[49m\u001B[33;43m\"\u001B[39;49m\u001B[33;43m0\u001B[39;49m\u001B[33;43m\"\u001B[39;49m\u001B[43m)\u001B[49m\u001B[38;5;66;43;03m# 0 = puerto aleatorio\u001B[39;49;00m\n\u001B[32m     16\u001B[39m \u001B[43m         \u001B[49m\u001B[43m.\u001B[49m\u001B[43mconfig\u001B[49m\u001B[43m(\u001B[49m\u001B[33;43m\"\u001B[39;49m\u001B[33;43mspark.driver.port\u001B[39;49m\u001B[33;43m\"\u001B[39;49m\u001B[43m,\u001B[49m\u001B[33;43m\"\u001B[39;49m\u001B[33;43m0\u001B[39;49m\u001B[33;43m\"\u001B[39;49m\u001B[43m)\u001B[49m\n\u001B[32m     17\u001B[39m \u001B[43m         \u001B[49m\u001B[38;5;66;43;03m# Forzar IPv4 (a veces IPv6 rompe en macOS)\u001B[39;49;00m\n\u001B[32m     18\u001B[39m \u001B[43m         \u001B[49m\u001B[43m.\u001B[49m\u001B[43mconfig\u001B[49m\u001B[43m(\u001B[49m\u001B[33;43m\"\u001B[39;49m\u001B[33;43mspark.driver.extraJavaOptions\u001B[39;49m\u001B[33;43m\"\u001B[39;49m\u001B[43m,\u001B[49m\u001B[33;43m\"\u001B[39;49m\u001B[33;43m-Djava.net.preferIPv4Stack=true\u001B[39;49m\u001B[33;43m\"\u001B[39;49m\u001B[43m)\u001B[49m\n\u001B[32m     19\u001B[39m \u001B[43m         \u001B[49m\u001B[43m.\u001B[49m\u001B[43mconfig\u001B[49m\u001B[43m(\u001B[49m\u001B[33;43m\"\u001B[39;49m\u001B[33;43mspark.executor.extraJavaOptions\u001B[39;49m\u001B[33;43m\"\u001B[39;49m\u001B[43m,\u001B[49m\u001B[33;43m\"\u001B[39;49m\u001B[33;43m-Djava.net.preferIPv4Stack=true\u001B[39;49m\u001B[33;43m\"\u001B[39;49m\u001B[43m)\u001B[49m\n\u001B[32m     20\u001B[39m \u001B[43m         \u001B[49m\u001B[38;5;66;43;03m# Usar tmp/locals explícitos\u001B[39;49;00m\n\u001B[32m     21\u001B[39m \u001B[43m         \u001B[49m\u001B[43m.\u001B[49m\u001B[43mconfig\u001B[49m\u001B[43m(\u001B[49m\u001B[33;43m\"\u001B[39;49m\u001B[33;43mspark.local.dir\u001B[39;49m\u001B[33;43m\"\u001B[39;49m\u001B[43m,\u001B[49m\u001B[43m \u001B[49m\u001B[43mos\u001B[49m\u001B[43m.\u001B[49m\u001B[43menviron\u001B[49m\u001B[43m[\u001B[49m\u001B[33;43m\"\u001B[39;49m\u001B[33;43mSPARK_LOCAL_DIRS\u001B[39;49m\u001B[33;43m\"\u001B[39;49m\u001B[43m]\u001B[49m\u001B[43m)\u001B[49m\n\u001B[32m---> \u001B[39m\u001B[32m22\u001B[39m \u001B[43m         \u001B[49m\u001B[43m.\u001B[49m\u001B[43mgetOrCreate\u001B[49m\u001B[43m(\u001B[49m\u001B[43m)\u001B[49m)\n\u001B[32m     24\u001B[39m spark.sparkContext.setLogLevel(\u001B[33m\"\u001B[39m\u001B[33mWARN\u001B[39m\u001B[33m\"\u001B[39m)\n\u001B[32m     25\u001B[39m \u001B[38;5;28mprint\u001B[39m(\u001B[33m\"\u001B[39m\u001B[33mSpark OK:\u001B[39m\u001B[33m\"\u001B[39m, spark.version)\n",
      "\u001B[36mFile \u001B[39m\u001B[32m~/PycharmProjects/climascan-general/.venv311/lib/python3.11/site-packages/pyspark/sql/session.py:493\u001B[39m, in \u001B[36mSparkSession.Builder.getOrCreate\u001B[39m\u001B[34m(self)\u001B[39m\n\u001B[32m    491\u001B[39m session = SparkSession._instantiatedSession\n\u001B[32m    492\u001B[39m \u001B[38;5;28;01mif\u001B[39;00m session \u001B[38;5;129;01mis\u001B[39;00m \u001B[38;5;28;01mNone\u001B[39;00m \u001B[38;5;129;01mor\u001B[39;00m session._sc._jsc \u001B[38;5;129;01mis\u001B[39;00m \u001B[38;5;28;01mNone\u001B[39;00m:\n\u001B[32m--> \u001B[39m\u001B[32m493\u001B[39m     sparkConf = \u001B[43mSparkConf\u001B[49m\u001B[43m(\u001B[49m\u001B[43m)\u001B[49m\n\u001B[32m    494\u001B[39m     \u001B[38;5;28;01mfor\u001B[39;00m key, value \u001B[38;5;129;01min\u001B[39;00m \u001B[38;5;28mself\u001B[39m._options.items():\n\u001B[32m    495\u001B[39m         sparkConf.set(key, value)\n",
      "\u001B[36mFile \u001B[39m\u001B[32m~/PycharmProjects/climascan-general/.venv311/lib/python3.11/site-packages/pyspark/conf.py:132\u001B[39m, in \u001B[36mSparkConf.__init__\u001B[39m\u001B[34m(self, loadDefaults, _jvm, _jconf)\u001B[39m\n\u001B[32m    128\u001B[39m _jvm = _jvm \u001B[38;5;129;01mor\u001B[39;00m SparkContext._jvm\n\u001B[32m    130\u001B[39m \u001B[38;5;28;01mif\u001B[39;00m _jvm \u001B[38;5;129;01mis\u001B[39;00m \u001B[38;5;129;01mnot\u001B[39;00m \u001B[38;5;28;01mNone\u001B[39;00m:\n\u001B[32m    131\u001B[39m     \u001B[38;5;66;03m# JVM is created, so create self._jconf directly through JVM\u001B[39;00m\n\u001B[32m--> \u001B[39m\u001B[32m132\u001B[39m     \u001B[38;5;28mself\u001B[39m._jconf = \u001B[43m_jvm\u001B[49m\u001B[43m.\u001B[49m\u001B[43mSparkConf\u001B[49m(loadDefaults)\n\u001B[32m    133\u001B[39m     \u001B[38;5;28mself\u001B[39m._conf = \u001B[38;5;28;01mNone\u001B[39;00m\n\u001B[32m    134\u001B[39m \u001B[38;5;28;01melse\u001B[39;00m:\n\u001B[32m    135\u001B[39m     \u001B[38;5;66;03m# JVM is not created, so store data in self._conf first\u001B[39;00m\n",
      "\u001B[36mFile \u001B[39m\u001B[32m~/PycharmProjects/climascan-general/.venv311/lib/python3.11/site-packages/py4j/java_gateway.py:1712\u001B[39m, in \u001B[36mJVMView.__getattr__\u001B[39m\u001B[34m(self, name)\u001B[39m\n\u001B[32m   1709\u001B[39m \u001B[38;5;28;01mif\u001B[39;00m name == UserHelpAutoCompletion.KEY:\n\u001B[32m   1710\u001B[39m     \u001B[38;5;28;01mreturn\u001B[39;00m UserHelpAutoCompletion()\n\u001B[32m-> \u001B[39m\u001B[32m1712\u001B[39m answer = \u001B[38;5;28;43mself\u001B[39;49m\u001B[43m.\u001B[49m\u001B[43m_gateway_client\u001B[49m\u001B[43m.\u001B[49m\u001B[43msend_command\u001B[49m\u001B[43m(\u001B[49m\n\u001B[32m   1713\u001B[39m \u001B[43m    \u001B[49m\u001B[43mproto\u001B[49m\u001B[43m.\u001B[49m\u001B[43mREFLECTION_COMMAND_NAME\u001B[49m\u001B[43m \u001B[49m\u001B[43m+\u001B[49m\n\u001B[32m   1714\u001B[39m \u001B[43m    \u001B[49m\u001B[43mproto\u001B[49m\u001B[43m.\u001B[49m\u001B[43mREFL_GET_UNKNOWN_SUB_COMMAND_NAME\u001B[49m\u001B[43m \u001B[49m\u001B[43m+\u001B[49m\u001B[43m \u001B[49m\u001B[43mname\u001B[49m\u001B[43m \u001B[49m\u001B[43m+\u001B[49m\u001B[43m \u001B[49m\u001B[33;43m\"\u001B[39;49m\u001B[38;5;130;43;01m\\n\u001B[39;49;00m\u001B[33;43m\"\u001B[39;49m\u001B[43m \u001B[49m\u001B[43m+\u001B[49m\u001B[43m \u001B[49m\u001B[38;5;28;43mself\u001B[39;49m\u001B[43m.\u001B[49m\u001B[43m_id\u001B[49m\u001B[43m \u001B[49m\u001B[43m+\u001B[49m\n\u001B[32m   1715\u001B[39m \u001B[43m    \u001B[49m\u001B[33;43m\"\u001B[39;49m\u001B[38;5;130;43;01m\\n\u001B[39;49;00m\u001B[33;43m\"\u001B[39;49m\u001B[43m \u001B[49m\u001B[43m+\u001B[49m\u001B[43m \u001B[49m\u001B[43mproto\u001B[49m\u001B[43m.\u001B[49m\u001B[43mEND_COMMAND_PART\u001B[49m\u001B[43m)\u001B[49m\n\u001B[32m   1716\u001B[39m \u001B[38;5;28;01mif\u001B[39;00m answer == proto.SUCCESS_PACKAGE:\n\u001B[32m   1717\u001B[39m     \u001B[38;5;28;01mreturn\u001B[39;00m JavaPackage(name, \u001B[38;5;28mself\u001B[39m._gateway_client, jvm_id=\u001B[38;5;28mself\u001B[39m._id)\n",
      "\u001B[36mFile \u001B[39m\u001B[32m~/PycharmProjects/climascan-general/.venv311/lib/python3.11/site-packages/py4j/java_gateway.py:1036\u001B[39m, in \u001B[36mGatewayClient.send_command\u001B[39m\u001B[34m(self, command, retry, binary)\u001B[39m\n\u001B[32m   1015\u001B[39m \u001B[38;5;28;01mdef\u001B[39;00m\u001B[38;5;250m \u001B[39m\u001B[34msend_command\u001B[39m(\u001B[38;5;28mself\u001B[39m, command, retry=\u001B[38;5;28;01mTrue\u001B[39;00m, binary=\u001B[38;5;28;01mFalse\u001B[39;00m):\n\u001B[32m   1016\u001B[39m \u001B[38;5;250m    \u001B[39m\u001B[33;03m\"\"\"Sends a command to the JVM. This method is not intended to be\u001B[39;00m\n\u001B[32m   1017\u001B[39m \u001B[33;03m       called directly by Py4J users. It is usually called by\u001B[39;00m\n\u001B[32m   1018\u001B[39m \u001B[33;03m       :class:`JavaMember` instances.\u001B[39;00m\n\u001B[32m   (...)\u001B[39m\u001B[32m   1034\u001B[39m \u001B[33;03m     if `binary` is `True`.\u001B[39;00m\n\u001B[32m   1035\u001B[39m \u001B[33;03m    \"\"\"\u001B[39;00m\n\u001B[32m-> \u001B[39m\u001B[32m1036\u001B[39m     connection = \u001B[38;5;28;43mself\u001B[39;49m\u001B[43m.\u001B[49m\u001B[43m_get_connection\u001B[49m\u001B[43m(\u001B[49m\u001B[43m)\u001B[49m\n\u001B[32m   1037\u001B[39m     \u001B[38;5;28;01mtry\u001B[39;00m:\n\u001B[32m   1038\u001B[39m         response = connection.send_command(command)\n",
      "\u001B[36mFile \u001B[39m\u001B[32m~/PycharmProjects/climascan-general/.venv311/lib/python3.11/site-packages/py4j/clientserver.py:284\u001B[39m, in \u001B[36mJavaClient._get_connection\u001B[39m\u001B[34m(self)\u001B[39m\n\u001B[32m    281\u001B[39m     \u001B[38;5;28;01mpass\u001B[39;00m\n\u001B[32m    283\u001B[39m \u001B[38;5;28;01mif\u001B[39;00m connection \u001B[38;5;129;01mis\u001B[39;00m \u001B[38;5;28;01mNone\u001B[39;00m \u001B[38;5;129;01mor\u001B[39;00m connection.socket \u001B[38;5;129;01mis\u001B[39;00m \u001B[38;5;28;01mNone\u001B[39;00m:\n\u001B[32m--> \u001B[39m\u001B[32m284\u001B[39m     connection = \u001B[38;5;28;43mself\u001B[39;49m\u001B[43m.\u001B[49m\u001B[43m_create_new_connection\u001B[49m\u001B[43m(\u001B[49m\u001B[43m)\u001B[49m\n\u001B[32m    285\u001B[39m \u001B[38;5;28;01mreturn\u001B[39;00m connection\n",
      "\u001B[36mFile \u001B[39m\u001B[32m~/PycharmProjects/climascan-general/.venv311/lib/python3.11/site-packages/py4j/clientserver.py:291\u001B[39m, in \u001B[36mJavaClient._create_new_connection\u001B[39m\u001B[34m(self)\u001B[39m\n\u001B[32m    287\u001B[39m \u001B[38;5;28;01mdef\u001B[39;00m\u001B[38;5;250m \u001B[39m\u001B[34m_create_new_connection\u001B[39m(\u001B[38;5;28mself\u001B[39m):\n\u001B[32m    288\u001B[39m     connection = ClientServerConnection(\n\u001B[32m    289\u001B[39m         \u001B[38;5;28mself\u001B[39m.java_parameters, \u001B[38;5;28mself\u001B[39m.python_parameters,\n\u001B[32m    290\u001B[39m         \u001B[38;5;28mself\u001B[39m.gateway_property, \u001B[38;5;28mself\u001B[39m)\n\u001B[32m--> \u001B[39m\u001B[32m291\u001B[39m     \u001B[43mconnection\u001B[49m\u001B[43m.\u001B[49m\u001B[43mconnect_to_java_server\u001B[49m\u001B[43m(\u001B[49m\u001B[43m)\u001B[49m\n\u001B[32m    292\u001B[39m     \u001B[38;5;28mself\u001B[39m.set_thread_connection(connection)\n\u001B[32m    293\u001B[39m     \u001B[38;5;28;01mreturn\u001B[39;00m connection\n",
      "\u001B[36mFile \u001B[39m\u001B[32m~/PycharmProjects/climascan-general/.venv311/lib/python3.11/site-packages/py4j/clientserver.py:438\u001B[39m, in \u001B[36mClientServerConnection.connect_to_java_server\u001B[39m\u001B[34m(self)\u001B[39m\n\u001B[32m    435\u001B[39m \u001B[38;5;28;01mif\u001B[39;00m \u001B[38;5;28mself\u001B[39m.ssl_context:\n\u001B[32m    436\u001B[39m     \u001B[38;5;28mself\u001B[39m.socket = \u001B[38;5;28mself\u001B[39m.ssl_context.wrap_socket(\n\u001B[32m    437\u001B[39m         \u001B[38;5;28mself\u001B[39m.socket, server_hostname=\u001B[38;5;28mself\u001B[39m.java_address)\n\u001B[32m--> \u001B[39m\u001B[32m438\u001B[39m \u001B[38;5;28;43mself\u001B[39;49m\u001B[43m.\u001B[49m\u001B[43msocket\u001B[49m\u001B[43m.\u001B[49m\u001B[43mconnect\u001B[49m\u001B[43m(\u001B[49m\u001B[43m(\u001B[49m\u001B[38;5;28;43mself\u001B[39;49m\u001B[43m.\u001B[49m\u001B[43mjava_address\u001B[49m\u001B[43m,\u001B[49m\u001B[43m \u001B[49m\u001B[38;5;28;43mself\u001B[39;49m\u001B[43m.\u001B[49m\u001B[43mjava_port\u001B[49m\u001B[43m)\u001B[49m\u001B[43m)\u001B[49m\n\u001B[32m    439\u001B[39m \u001B[38;5;28mself\u001B[39m.stream = \u001B[38;5;28mself\u001B[39m.socket.makefile(\u001B[33m\"\u001B[39m\u001B[33mrb\u001B[39m\u001B[33m\"\u001B[39m)\n\u001B[32m    440\u001B[39m \u001B[38;5;28mself\u001B[39m.is_connected = \u001B[38;5;28;01mTrue\u001B[39;00m\n",
      "\u001B[31mConnectionRefusedError\u001B[39m: [Errno 61] Connection refused"
     ]
    }
   ],
   "execution_count": 86
  },
  {
   "metadata": {},
   "cell_type": "markdown",
   "source": [
    "## Configuración inicial:\n",
    " 1. Creación de sesión Spark\n",
    "2. Obtención del dataset"
   ],
   "id": "c218677c94da1660"
  },
  {
   "metadata": {
    "ExecuteTime": {
     "end_time": "2025-08-24T15:03:59.900729Z",
     "start_time": "2025-08-24T15:03:59.843632Z"
    }
   },
   "cell_type": "code",
   "source": [
    "# --- Resolver Java 11 dentro del kernel (robusto en macOS/ARM) ---\n",
    "import os, sys, subprocess, shutil, pathlib\n",
    "\n",
    "def pick_java11():\n",
    "    # 1) Intenta usar el selector del sistema\n",
    "    try:\n",
    "        jhome = subprocess.check_output(\n",
    "            [\"/usr/libexec/java_home\", \"-v\", \"11\"],\n",
    "            stderr=subprocess.STDOUT\n",
    "        ).decode().strip()\n",
    "        if pathlib.Path(jhome).exists():\n",
    "            return jhome\n",
    "    except Exception:\n",
    "        pass\n",
    "    # 2) Fallback a Homebrew OpenJDK 11 (ruta que ya comprobaste que existe)\n",
    "    hb = \"/opt/homebrew/Cellar/openjdk@11/11.0.27/libexec/openjdk.jdk/Contents/Home\"\n",
    "    if pathlib.Path(hb).exists():\n",
    "        return hb\n",
    "    raise RuntimeError(\"No encuentro Java 11. Ajusta la ruta a tu JDK 11.\")\n",
    "\n",
    "JAVA_HOME = pick_java11()\n",
    "os.environ[\"JAVA_HOME\"] = JAVA_HOME\n",
    "os.environ[\"PATH\"] = os.path.join(JAVA_HOME, \"bin\") + os.pathsep + os.environ.get(\"PATH\",\"\")\n",
    "os.environ[\"SPARK_LOCAL_IP\"] = \"127.0.0.1\"\n",
    "os.environ[\"PYSPARK_PYTHON\"] = sys.executable\n",
    "\n",
    "print(\"JAVA_HOME:\", os.environ[\"JAVA_HOME\"])\n",
    "print(\"java on PATH:\", shutil.which(\"java\"))\n",
    "\n",
    "# Verificación rápida\n",
    "print(subprocess.run([\"java\",\"-version\"], capture_output=True, text=True).stderr.strip())"
   ],
   "id": "a99a46725abc602a",
   "outputs": [
    {
     "name": "stdout",
     "output_type": "stream",
     "text": [
      "JAVA_HOME: /opt/homebrew/Cellar/openjdk@11/11.0.27/libexec/openjdk.jdk/Contents/Home\n",
      "java on PATH: /opt/homebrew/Cellar/openjdk@11/11.0.27/libexec/openjdk.jdk/Contents/Home/bin/java\n",
      "Picked up _JAVA_OPTIONS: -Djava.io.tmpdir=/tmp/java-tmp\n",
      "openjdk version \"11.0.27\" 2025-04-15\n",
      "OpenJDK Runtime Environment Homebrew (build 11.0.27+0)\n",
      "OpenJDK 64-Bit Server VM Homebrew (build 11.0.27+0, mixed mode)\n"
     ]
    }
   ],
   "execution_count": 14
  },
  {
   "metadata": {
    "ExecuteTime": {
     "end_time": "2025-08-24T15:04:04.817787Z",
     "start_time": "2025-08-24T15:04:03.087841Z"
    }
   },
   "cell_type": "code",
   "source": [
    "\n",
    "from pyspark.sql import SparkSession\n",
    "\n",
    "# Cierra sesión previa si existiera\n",
    "try:\n",
    "    spark.stop()\n",
    "except Exception:\n",
    "    pass\n",
    "\n",
    "# Crea sesión\n",
    "\n",
    "import os\n",
    "from pyspark.sql import SparkSession\n",
    "from delta import configure_spark_with_delta_pip\n",
    "\n",
    "os.environ[\"SPARK_LOCAL_IP\"] = \"127.0.0.1\"\n",
    "\n",
    "builder = (\n",
    "    SparkSession.builder\n",
    "    .master(\"local[*]\")\n",
    "    .appName(\"EDA_aemet_landing\")\n",
    "    .config(\"spark.driver.bindAddress\",\"127.0.0.1\")\n",
    "    .config(\"spark.driver.host\",\"127.0.0.1\")\n",
    "    .config(\"spark.ui.enabled\",\"false\")\n",
    "    .config(\"spark.blockManager.port\",\"0\")\n",
    "    .config(\"spark.driver.port\",\"0\")\n",
    "    .config(\"spark.sql.shuffle.partitions\",\"200\")\n",
    ")\n",
    "\n",
    "spark = configure_spark_with_delta_pip(builder).getOrCreate()\n",
    "\n",
    "spark.sparkContext.setLogLevel(\"WARN\")\n",
    "print(\"Spark:\", spark.version)\n",
    "\n",
    "spark.sparkContext.setLogLevel(\"WARN\")\n",
    "print(\"Spark:\", spark.version)\n",
    "print(\"Driver host:\", spark.sparkContext.getConf().get(\"spark.driver.host\"))\n",
    "print(\"Packages:\", spark.sparkContext.getConf().get(\"spark.jars.packages\"))"
   ],
   "id": "c978d3c08d76a7b8",
   "outputs": [
    {
     "name": "stderr",
     "output_type": "stream",
     "text": [
      "Picked up _JAVA_OPTIONS: -Djava.io.tmpdir=/tmp/java-tmp\n",
      "Spark Command: /opt/homebrew/Cellar/openjdk@11/11.0.27/libexec/openjdk.jdk/Contents/Home/bin/java -cp /Users/inessabate/PycharmProjects/climascan-general/.venv311/lib/python3.11/site-packages/pyspark/conf:/Users/inessabate/PycharmProjects/climascan-general/.venv311/lib/python3.11/site-packages/pyspark/jars/* -Xmx1g -XX:+IgnoreUnrecognizedVMOptions --add-opens=java.base/java.lang=ALL-UNNAMED --add-opens=java.base/java.lang.invoke=ALL-UNNAMED --add-opens=java.base/java.lang.reflect=ALL-UNNAMED --add-opens=java.base/java.io=ALL-UNNAMED --add-opens=java.base/java.net=ALL-UNNAMED --add-opens=java.base/java.nio=ALL-UNNAMED --add-opens=java.base/java.util=ALL-UNNAMED --add-opens=java.base/java.util.concurrent=ALL-UNNAMED --add-opens=java.base/java.util.concurrent.atomic=ALL-UNNAMED --add-opens=java.base/jdk.internal.ref=ALL-UNNAMED --add-opens=java.base/sun.nio.ch=ALL-UNNAMED --add-opens=java.base/sun.nio.cs=ALL-UNNAMED --add-opens=java.base/sun.security.action=ALL-UNNAMED --add-opens=java.base/sun.util.calendar=ALL-UNNAMED --add-opens=java.security.jgss/sun.security.krb5=ALL-UNNAMED -Djdk.reflect.useDirectMethodHandle=false org.apache.spark.deploy.SparkSubmit --conf spark.master=local[*] --conf spark.driver.port=0 --conf spark.jars.packages=io.delta:delta-spark_2.12:3.2.0 --conf spark.app.name=EDA_aemet_landing --conf spark.driver.bindAddress=127.0.0.1 --conf spark.sql.shuffle.partitions=200 --conf spark.driver.host=127.0.0.1 --conf spark.blockManager.port=0 --conf spark.ui.enabled=false pyspark-shell\n",
      "========================================\n",
      "Picked up _JAVA_OPTIONS: -Djava.io.tmpdir=/tmp/java-tmp\n"
     ]
    },
    {
     "name": "stdout",
     "output_type": "stream",
     "text": [
      ":: loading settings :: url = jar:file:/Users/inessabate/PycharmProjects/climascan-general/.venv311/lib/python3.11/site-packages/pyspark/jars/ivy-2.5.1.jar!/org/apache/ivy/core/settings/ivysettings.xml\n"
     ]
    },
    {
     "name": "stderr",
     "output_type": "stream",
     "text": [
      "Ivy Default Cache set to: /Users/inessabate/.ivy2/cache\n",
      "The jars for the packages stored in: /Users/inessabate/.ivy2/jars\n",
      "io.delta#delta-spark_2.12 added as a dependency\n",
      ":: resolving dependencies :: org.apache.spark#spark-submit-parent-ad133c98-c379-4fa6-9f75-038327e23a5a;1.0\n",
      "\tconfs: [default]\n",
      "\tfound io.delta#delta-spark_2.12;3.2.0 in central\n",
      "\tfound io.delta#delta-storage;3.2.0 in central\n",
      "\tfound org.antlr#antlr4-runtime;4.9.3 in central\n",
      ":: resolution report :: resolve 74ms :: artifacts dl 2ms\n",
      "\t:: modules in use:\n",
      "\tio.delta#delta-spark_2.12;3.2.0 from central in [default]\n",
      "\tio.delta#delta-storage;3.2.0 from central in [default]\n",
      "\torg.antlr#antlr4-runtime;4.9.3 from central in [default]\n",
      "\t---------------------------------------------------------------------\n",
      "\t|                  |            modules            ||   artifacts   |\n",
      "\t|       conf       | number| search|dwnlded|evicted|| number|dwnlded|\n",
      "\t---------------------------------------------------------------------\n",
      "\t|      default     |   3   |   0   |   0   |   0   ||   3   |   0   |\n",
      "\t---------------------------------------------------------------------\n",
      ":: retrieving :: org.apache.spark#spark-submit-parent-ad133c98-c379-4fa6-9f75-038327e23a5a\n",
      "\tconfs: [default]\n",
      "\t0 artifacts copied, 3 already retrieved (0kB/3ms)\n",
      "25/08/24 17:04:04 WARN NativeCodeLoader: Unable to load native-hadoop library for your platform... using builtin-java classes where applicable\n",
      "Setting default log level to \"WARN\".\n",
      "To adjust logging level use sc.setLogLevel(newLevel). For SparkR, use setLogLevel(newLevel).\n"
     ]
    },
    {
     "name": "stdout",
     "output_type": "stream",
     "text": [
      "Spark: 3.5.1\n",
      "Spark: 3.5.1\n",
      "Driver host: 127.0.0.1\n",
      "Packages: io.delta:delta-spark_2.12:3.2.0\n"
     ]
    }
   ],
   "execution_count": 15
  },
  {
   "metadata": {
    "ExecuteTime": {
     "end_time": "2025-08-24T17:03:35.088847Z",
     "start_time": "2025-08-24T17:03:32.277540Z"
    }
   },
   "cell_type": "code",
   "source": [
    "# Obtección del dataset de observaciones diarias\n",
    "from pathlib import Path\n",
    "\n",
    "# Root del proyecto: subir dos niveles desde notebooks/01_data_analytics/\n",
    "PROJECT_ROOT = Path().resolve().parents[1]\n",
    "LANDING_PATH = PROJECT_ROOT / \"data\" / \"landing\" / \"aemet_deltalake\"\n",
    "\n",
    "try:\n",
    "    df_meteo = spark.read.format(\"delta\").load(str(LANDING_PATH))   # si hay _delta_log\n",
    "except Exception:\n",
    "    df_meteo = spark.read.parquet(str(LANDING_PATH / \"*.parquet\"))  # fallback parquet\n",
    "\n",
    "# Obtencion del dataset de estaciones\n",
    "CATALOG_PATH = PROJECT_ROOT / \"data\" / \"landing\" / \"aemet\"\n",
    "df_estaciones = spark.read.parquet(str(CATALOG_PATH / \"*.parquet\"))"
   ],
   "id": "fb3873a370415d4",
   "outputs": [],
   "execution_count": 5
  },
  {
   "metadata": {
    "ExecuteTime": {
     "end_time": "2025-08-24T14:09:18.165620Z",
     "start_time": "2025-08-24T14:09:17.847482Z"
    }
   },
   "cell_type": "code",
   "source": [
    "# Size of df_meteo\n",
    "print((df_meteo.count(), len(df_meteo.columns)))"
   ],
   "id": "a15faeb3fcfa6e37",
   "outputs": [
    {
     "name": "stdout",
     "output_type": "stream",
     "text": [
      "(2682447, 26)\n"
     ]
    }
   ],
   "execution_count": 3
  },
  {
   "metadata": {
    "ExecuteTime": {
     "end_time": "2025-08-24T14:10:41.004927Z",
     "start_time": "2025-08-24T14:10:40.936398Z"
    }
   },
   "cell_type": "code",
   "source": [
    "\n",
    "df_meteo.show(5)"
   ],
   "id": "4e7c33d311327bcc",
   "outputs": [
    {
     "name": "stdout",
     "output_type": "stream",
     "text": [
      "+----------+----------+--------------------+---------+-------+----+----+----+--------+----+--------+-----+---------+-----+---------+-------+----+--------+-----+---------+-------+-----------+-------+-----------+----+----+\n",
      "|     fecha|indicativo|              nombre|provincia|altitud|tmed|prec|tmin|horatmin|tmax|horatmax|hrMax|horaHrMax|hrMin|horaHrMin|hrMedia| dir|velmedia|racha|horaracha|presMax|horaPresMax|presMin|horaPresMin| sol|year|\n",
      "+----------+----------+--------------------+---------+-------+----+----+----+--------+----+--------+-----+---------+-----+---------+-------+----+--------+-----+---------+-------+-----------+-------+-----------+----+----+\n",
      "|2025-05-30|     8293X|              XÀTIVA| VALENCIA|     88|25,5| 0,0|16,9|   05:00|34,1|   14:10|   82|    00:20|   30|    10:30|     50|  03|     3,3|  6,9|    12:50| 1011,6|         00| 1006,8|     Varias|NULL|2025|\n",
      "|2025-05-30|     5612B|LA RODA DE ANDALUCÍA|  SEVILLA|    410|26,6| 0,0|18,9|   05:30|34,3|   13:00|   46|    05:40|   16|   Varias|     25|  19|     3,9| 11,1|    13:20|  972,4|         00|  970,4|         18|NULL|2025|\n",
      "|2025-05-30|     7250C|            ABANILLA|   MURCIA|    174|24,9| 0,0|15,1|   04:33|34,7|   13:34|   74|    05:40|   28|   Varias|     40|NULL|    NULL| NULL|     NULL|   NULL|       NULL|   NULL|       NULL|NULL|2025|\n",
      "|2025-05-30|     8270X|              BICORP| VALENCIA|    305|25,5| 0,0|15,8|   04:44|35,2|   13:21|   78|    23:40|   30|   Varias|     45|  17|     1,9|  6,7|    12:40|   NULL|       NULL|   NULL|       NULL|NULL|2025|\n",
      "|2025-05-30|      2462|PUERTO DE NAVACER...|   MADRID|   1893|18,9| 1,6|12,5|   03:40|25,3|   13:30|   75|    03:30|   32|    13:10|     44|  27|     4,2| 13,1|    02:50|  821,5|         00|  820,1|         17| 8,9|2025|\n",
      "+----------+----------+--------------------+---------+-------+----+----+----+--------+----+--------+-----+---------+-----+---------+-------+----+--------+-----+---------+-------+-----------+-------+-----------+----+----+\n",
      "only showing top 5 rows\n",
      "\n"
     ]
    }
   ],
   "execution_count": 6
  },
  {
   "metadata": {
    "ExecuteTime": {
     "end_time": "2025-08-24T17:03:37.206520Z",
     "start_time": "2025-08-24T17:03:36.215108Z"
    }
   },
   "cell_type": "code",
   "source": [
    "from pyspark.sql import functions as F\n",
    "from pyspark.sql import types as T\n",
    "\n",
    "# Size de df_estaciones\n",
    "print((df_estaciones.count(), len(df_estaciones.columns)))\n",
    "\n",
    "# Numero de estaciones (indicativo)\n",
    "print(\"Número de estaciones:\", df_estaciones.select(\"indicativo\").distinct().count())\n",
    "\n",
    "# Duplcados en catálogo\n",
    "dups_cat = (df_estaciones\n",
    "    .groupBy(\"indicativo\")\n",
    "    .agg(F.count(\"*\").alias(\"n\"))\n",
    "    .filter(F.col(\"n\") > 1)\n",
    "    .orderBy(F.desc(\"n\"))\n",
    ")\n",
    "print(\"Número de estaciones duplicadas en catálogo:\", dups_cat.count())"
   ],
   "id": "8d9745fb97ccc53",
   "outputs": [
    {
     "name": "stdout",
     "output_type": "stream",
     "text": [
      "(947, 7)\n",
      "Número de estaciones: 947\n",
      "Número de estaciones duplicadas en catálogo: 0\n"
     ]
    }
   ],
   "execution_count": 6
  },
  {
   "metadata": {
    "ExecuteTime": {
     "end_time": "2025-08-24T08:06:40.367190Z",
     "start_time": "2025-08-24T08:06:40.294959Z"
    }
   },
   "cell_type": "code",
   "source": "df_estaciones.show(5)",
   "id": "74848d97979d63ac",
   "outputs": [
    {
     "name": "stdout",
     "output_type": "stream",
     "text": [
      "+-------+-------------+-------+----------+-------------------+--------+--------+\n",
      "|latitud|    provincia|altitud|indicativo|             nombre|indsinop|longitud|\n",
      "+-------+-------------+-------+----------+-------------------+--------+--------+\n",
      "|394924N|ILLES BALEARS|    490|     B013X|      ESCORCA, LLUC|   08304| 025309E|\n",
      "|394744N|ILLES BALEARS|      5|     B051A|     SÓLLER, PUERTO|   08316| 024129E|\n",
      "|393446N|ILLES BALEARS|     52|     B103B| ANDRATX - SANT ELM|        | 022208E|\n",
      "|393305N|ILLES BALEARS|     50|     B158X|CALVIÀ, ES CAPDELLÀ|        | 022759E|\n",
      "|394121N|ILLES BALEARS|     60|     B087X|        BANYALBUFAR|        | 023046E|\n",
      "+-------+-------------+-------+----------+-------------------+--------+--------+\n",
      "only showing top 5 rows\n",
      "\n"
     ]
    }
   ],
   "execution_count": 4
  },
  {
   "metadata": {
    "ExecuteTime": {
     "end_time": "2025-08-24T17:03:39.249691Z",
     "start_time": "2025-08-24T17:03:39.114100Z"
    }
   },
   "cell_type": "code",
   "source": [
    "# Esquema según metadata (id + data type)\n",
    "expected_fields = [\n",
    "    (\"fecha\",      \"string\"),  # AAAA-MM-DD (string en origen)\n",
    "    (\"indicativo\", \"string\"),\n",
    "    (\"nombre\",     \"string\"),\n",
    "    (\"provincia\",  \"string\"),\n",
    "    (\"altitud\",    \"float\"),\n",
    "    (\"tmed\",       \"float\"),\n",
    "    (\"prec\",       \"float\"),   # puede venir con 'Ip' o 'Acum' (string)\n",
    "    (\"tmin\",       \"float\"),\n",
    "    (\"horatmin\",   \"string\"),  # HH:MM (UTC) - se valida en D.1\n",
    "    (\"tmax\",       \"float\"),\n",
    "    (\"horatmax\",   \"string\"),\n",
    "    (\"dir\",        \"float\"),   # decenas de grado; 88/99 especiales\n",
    "    (\"velmedia\",   \"float\"),\n",
    "    (\"racha\",      \"float\"),\n",
    "    (\"horaracha\",  \"string\"),\n",
    "    (\"sol\",        \"float\"),\n",
    "    (\"presmax\",    \"float\"),\n",
    "    (\"horapresmax\",\"string\"),\n",
    "    (\"presmin\",    \"float\"),\n",
    "    (\"horapresmin\",\"string\"),\n",
    "    (\"hrmedia\",    \"float\"),\n",
    "    (\"hrmax\",      \"float\"),\n",
    "    (\"horahrmax\",  \"string\"),\n",
    "    (\"hrmin\",      \"float\"),\n",
    "    (\"horahrmin\",  \"string\"),\n",
    "]\n",
    "\n",
    "# Normalización de nombres de columnas en df_meteo a minúsculas para comparar con metadata\n",
    "def to_lower_cols(df):\n",
    "    for c in df.columns:\n",
    "        df = df.withColumnRenamed(c, c.lower())\n",
    "    return df\n",
    "\n",
    "df_meteo_norm = to_lower_cols(df_meteo)\n",
    "\n",
    "# Mapeo de alias frecuentes (tu muestra tenía hrMax, horaHrMax, etc.)\n",
    "alias_map = {\n",
    "    \"hrmax\": \"hrmax\",\n",
    "    \"horahrmax\": \"horahrmax\",\n",
    "    \"hrmin\": \"hrmin\",\n",
    "    \"horahrmin\": \"horahrmin\",\n",
    "    \"hrmedia\": \"hrmedia\",\n",
    "    \"presmax\": \"presmax\",\n",
    "    \"horapresmax\": \"horapresmax\",\n",
    "    \"presmin\": \"presmin\",\n",
    "    \"horapresmin\": \"horapresmin\",\n",
    "}\n",
    "# Detecta y renombra columnas camelCase si están presentes (ej.: 'hrMax' -> 'hrmax').\n",
    "for camel, target in [(\"hrmax\",\"hrmax\"), (\"horahrmax\",\"horahrmax\"),\n",
    "                      (\"hrmin\",\"hrmin\"), (\"horahrmin\",\"horahrmin\"),\n",
    "                      (\"hrmedia\",\"hrmedia\"), (\"presmax\",\"presmax\"),\n",
    "                      (\"horapresmax\",\"horapresmax\"), (\"presmin\",\"presmin\"),\n",
    "                      (\"horapresmin\",\"horapresmin\")]:\n",
    "    # busca variantes camel en df_meteo original para renombrar\n",
    "    for col in df_meteo.columns:\n",
    "        if col.lower() == camel and col != camel:\n",
    "            df_meteo_norm = df_meteo_norm.withColumnRenamed(col.lower(), target)\n",
    "            print(f\"Renombrada columna {col} a {target}\")\n",
    "\n",
    "# 4) Listas de columnas esperadas / requeridas (según metadata)\n",
    "expected_cols = [c for c, _ in expected_fields]\n",
    "required_cols = [\"fecha\", \"indicativo\", \"nombre\", \"provincia\", \"altitud\"]  # requeridos = true"
   ],
   "id": "fca793e2d36ebb6",
   "outputs": [
    {
     "name": "stdout",
     "output_type": "stream",
     "text": [
      "Renombrada columna hrMax a hrmax\n",
      "Renombrada columna horaHrMax a horahrmax\n",
      "Renombrada columna hrMin a hrmin\n",
      "Renombrada columna horaHrMin a horahrmin\n",
      "Renombrada columna hrMedia a hrmedia\n",
      "Renombrada columna presMax a presmax\n",
      "Renombrada columna horaPresMax a horapresmax\n",
      "Renombrada columna presMin a presmin\n",
      "Renombrada columna horaPresMin a horapresmin\n"
     ]
    }
   ],
   "execution_count": 7
  },
  {
   "metadata": {},
   "cell_type": "markdown",
   "source": [
    "# A. Integridad estructural\n",
    "\n",
    "**Motivación.** Garantizar que la estructura del dataset se ajusta a la especificación: campos, tipos y claves."
   ],
   "id": "632903222028934d"
  },
  {
   "metadata": {},
   "cell_type": "markdown",
   "source": [
    "### A.1 Verificación del esquema de datos\n",
    "Comprobar que todos los campos definidos en la metadata están presentes en los Parquet de *landing* y no existen campos inesperados.\n",
    "\n",
    "\n"
   ],
   "id": "10b6ab0721535647"
  },
  {
   "metadata": {
    "ExecuteTime": {
     "end_time": "2025-08-24T07:58:16.097563Z",
     "start_time": "2025-08-24T07:58:16.095497Z"
    }
   },
   "cell_type": "code",
   "source": [
    "# Columnas presentes en df\n",
    "present_cols = [c.lower() for c in df_meteo_norm.columns]\n",
    "\n",
    "# Faltantes respecto a metadata\n",
    "missing_from_df = [c for c in expected_cols if c not in present_cols]\n",
    "\n",
    "# Extras (presentes pero no esperadas)\n",
    "extra_in_df = [c for c in present_cols if c not in expected_cols]\n",
    "\n",
    "print(\"A.1 Esquema:\")\n",
    "print(\" - Columnas esperadas:\", len(expected_cols))\n",
    "print(\" - Presentes en df_meteo:\", len(present_cols))\n",
    "print(\" - Faltantes respecto a metadata:\", missing_from_df)\n",
    "print(\" - Extras no contempladas en metadata:\", extra_in_df)\n"
   ],
   "id": "386f9831be6d2cc",
   "outputs": [
    {
     "name": "stdout",
     "output_type": "stream",
     "text": [
      "A.1 Esquema:\n",
      " - Columnas esperadas: 25\n",
      " - Presentes en df_meteo: 26\n",
      " - Faltantes respecto a metadata: []\n",
      " - Extras no contempladas en metadata: ['year']\n"
     ]
    }
   ],
   "execution_count": 5
  },
  {
   "metadata": {},
   "cell_type": "markdown",
   "source": "Todas las columnas del esperadas están presentes en el dataset. Es correcto que la columna year no se encontrase en la metadata del dataset, ya que se ha añadido al ingestar los datos en landing.",
   "id": "e91dad76deccf104"
  },
  {
   "metadata": {},
   "cell_type": "markdown",
   "source": [
    "### A.2 Comprobación de tipos de datos\n",
    "Validar que los tipos de las columnas coinciden con los esperados (fechas como texto/fecha, magnitudes físicas como `float`).\n"
   ],
   "id": "3e7875e68306895b"
  },
  {
   "metadata": {
    "ExecuteTime": {
     "end_time": "2025-08-24T07:58:30.502357Z",
     "start_time": "2025-08-24T07:58:18.289046Z"
    }
   },
   "cell_type": "code",
   "source": [
    "# A.2 · Tipos de datos (diagnóstico de castabilidad) — con totales y porcentajes\n",
    "from pyspark.sql import functions as F\n",
    "from pyspark.sql import types as T\n",
    "\n",
    "def type_check_report(df, spec):\n",
    "    total = df.count()  # denominador común para porcentajes\n",
    "    rows = []\n",
    "    for col, typ in spec:\n",
    "        if col not in df.columns:\n",
    "            rows.append((col, typ, \"columna no presente\", None, None, total, None, None, None))\n",
    "            continue\n",
    "\n",
    "        if typ == \"float\":\n",
    "            s = F.col(col)\n",
    "            s_norm = F.regexp_replace(F.col(col).cast(\"string\"), \",\", \".\")\n",
    "            casted = s_norm.cast(T.DoubleType())\n",
    "\n",
    "            agg = (df\n",
    "                   .select(\n",
    "                       F.sum(F.when(s.isNull(), 1).otherwise(0)).alias(\"n_nulls\"),\n",
    "                       F.sum(F.when((s.isNotNull()) & (casted.isNull()), 1).otherwise(0)).alias(\"n_cast_fail\")\n",
    "                   )\n",
    "                   .first())\n",
    "            n_nulls = int(agg[\"n_nulls\"])\n",
    "            n_cast_fail = int(agg[\"n_cast_fail\"])\n",
    "            n_valid_non_null = total - n_nulls - n_cast_fail  # no nulo y casteable\n",
    "\n",
    "            rows.append((\n",
    "                col, \"float\", \"transformar a float\",\n",
    "                n_cast_fail, n_nulls, total,\n",
    "                round(100.0 * n_nulls / total, 4),\n",
    "                round(100.0 * n_cast_fail / total, 4),\n",
    "                n_valid_non_null\n",
    "            ))\n",
    "\n",
    "        elif typ == \"string\":\n",
    "            n_nulls = df.select(F.sum(F.when(F.col(col).isNull(), 1).otherwise(0)).alias(\"n\")).first()[\"n\"]\n",
    "            rows.append((\n",
    "                col, \"string\", \"nulls\",\n",
    "                None, int(n_nulls), total,\n",
    "                round(100.0 * n_nulls / total, 4),\n",
    "                None,\n",
    "                total - int(n_nulls)  # no nulos (válidos para string)\n",
    "            ))\n",
    "\n",
    "        else:\n",
    "            n_nulls = df.select(F.sum(F.when(F.col(col).isNull(), 1).otherwise(0)).alias(\"n\")).first()[\"n\"]\n",
    "            rows.append((\n",
    "                col, typ, \"nulls\",\n",
    "                None, int(n_nulls), total,\n",
    "                round(100.0 * n_nulls / total, 4),\n",
    "                None,\n",
    "                total - int(n_nulls)\n",
    "            ))\n",
    "\n",
    "    schema_chk_df = spark.createDataFrame(rows, [\n",
    "        \"Columna\", \"Tipo esperado\", \"Check aplicado\",\n",
    "        \"Filas cast falla\", \"Nº nulos\", \"Nº valores totales\",\n",
    "        \"% nulos\", \"% cast falla\", \"Nº no nulos válidos\"\n",
    "    ])\n",
    "    return schema_chk_df\n",
    "\n",
    "type_report = type_check_report(df_meteo_norm, expected_fields)\n",
    "type_report.orderBy(F.col(\"% nulos\").desc_nulls_last(), F.col(\"% cast falla\").desc_nulls_last()).show(truncate=False)\n",
    "\n",
    "# Tipo esperado: data type segun metadata\n",
    "# Check aplicado: test aplicado. Para float, se intenta castear cambiando comas por puntos. Para string, solo se cuentan los valores nulos.\n",
    "# Nulos: nº de NULL en cada variable en landing.\n",
    "# Filas cast falla: nº de filas no nulas en origen que no se han podido castear como float tras cambiar coma por punto."
   ],
   "id": "531b0b0d82ec3411",
   "outputs": [
    {
     "name": "stderr",
     "output_type": "stream",
     "text": [
      "25/08/24 09:58:18 WARN SparkStringUtils: Truncated the string representation of a plan since it was too large. This behavior can be adjusted by setting 'spark.sql.debug.maxToStringFields'.\n",
      "                                                                                \r"
     ]
    },
    {
     "name": "stdout",
     "output_type": "stream",
     "text": [
      "+-----------+-------------+-------------------+----------------+--------+------------------+-------+------------+-------------------+\n",
      "|Columna    |Tipo esperado|Check aplicado     |Filas cast falla|Nº nulos|Nº valores totales|% nulos|% cast falla|Nº no nulos válidos|\n",
      "+-----------+-------------+-------------------+----------------+--------+------------------+-------+------------+-------------------+\n",
      "|sol        |float        |transformar a float|0               |2225510 |2682447           |82.9657|0.0         |456937             |\n",
      "|horapresmin|string       |nulls              |NULL            |2025129 |2682447           |75.4956|NULL        |657318             |\n",
      "|horapresmax|string       |nulls              |NULL            |2025097 |2682447           |75.4944|NULL        |657350             |\n",
      "|presmin    |float        |transformar a float|0               |2025085 |2682447           |75.4939|0.0         |657362             |\n",
      "|presmax    |float        |transformar a float|0               |2025073 |2682447           |75.4935|0.0         |657374             |\n",
      "|horaracha  |string       |nulls              |NULL            |549175  |2682447           |20.4729|NULL        |2133272            |\n",
      "|dir        |float        |transformar a float|0               |549090  |2682447           |20.4697|0.0         |2133357            |\n",
      "|racha      |float        |transformar a float|0               |549040  |2682447           |20.4679|0.0         |2133407            |\n",
      "|velmedia   |float        |transformar a float|0               |540284  |2682447           |20.1415|0.0         |2142163            |\n",
      "|hrmedia    |float        |transformar a float|0               |159877  |2682447           |5.9601 |0.0         |2522570            |\n",
      "|horahrmax  |string       |nulls              |NULL            |122850  |2682447           |4.5798 |NULL        |2559597            |\n",
      "|horahrmin  |string       |nulls              |NULL            |122637  |2682447           |4.5718 |NULL        |2559810            |\n",
      "|hrmax      |float        |transformar a float|0               |121910  |2682447           |4.5447 |0.0         |2560537            |\n",
      "|hrmin      |float        |transformar a float|0               |121728  |2682447           |4.5379 |0.0         |2560719            |\n",
      "|prec       |float        |transformar a float|16435           |72378   |2682447           |2.6982 |0.6127      |2593634            |\n",
      "|horatmin   |string       |nulls              |NULL            |67641   |2682447           |2.5216 |NULL        |2614806            |\n",
      "|horatmax   |string       |nulls              |NULL            |66323   |2682447           |2.4725 |NULL        |2616124            |\n",
      "|tmed       |float        |transformar a float|0               |51774   |2682447           |1.9301 |0.0         |2630673            |\n",
      "|tmin       |float        |transformar a float|0               |51017   |2682447           |1.9019 |0.0         |2631430            |\n",
      "|tmax       |float        |transformar a float|0               |50385   |2682447           |1.8783 |0.0         |2632062            |\n",
      "+-----------+-------------+-------------------+----------------+--------+------------------+-------+------------+-------------------+\n",
      "only showing top 20 rows\n",
      "\n"
     ]
    }
   ],
   "execution_count": 6
  },
  {
   "metadata": {
    "ExecuteTime": {
     "end_time": "2025-08-24T07:58:43.328418Z",
     "start_time": "2025-08-24T07:58:40.550958Z"
    }
   },
   "cell_type": "code",
   "source": [
    "# Diagnóstico detallado de la columna 'prec' (precipitación), tiene muchos fallos de casteo a float\n",
    "from pyspark.sql import functions as F, types as T\n",
    "\n",
    "# Normalizamos la coma por punto y casteamos a double\n",
    "prec_casted = F.regexp_replace(F.col(\"prec\").cast(\"string\"), \",\", \".\").cast(T.DoubleType())\n",
    "\n",
    "# Filas que NO se pueden castear (fallan -> cast es NULL, pero la columna original no era NULL)\n",
    "df_prec_fail = (df_meteo_norm\n",
    "    .withColumn(\"prec_casted\", prec_casted)\n",
    "    .filter((F.col(\"prec\").isNotNull()) & (F.col(\"prec_casted\").isNull()))\n",
    ")\n",
    "\n",
    "print(\"Número de filas que fallan el cast:\", df_prec_fail.count())\n",
    "df_prec_fail.select(\"fecha\", \"indicativo\", \"prec\").show(truncate=False)\n",
    "\n",
    "# Filas que SÍ se pueden castear (prec original no nulo y prec_casted no nulo)\n",
    "df_prec_ok = (df_meteo_norm\n",
    "    .withColumn(\"prec_casted\", prec_casted)\n",
    "    .filter((F.col(\"prec\").isNotNull()) & (F.col(\"prec_casted\").isNotNull()))\n",
    ")\n",
    "\n",
    "print(\"Número de filas casteables:\", df_prec_ok.count())\n",
    "df_prec_ok.select(\"fecha\", \"indicativo\", \"prec\", \"prec_casted\").show(truncate=False)"
   ],
   "id": "acabae8aedfe61d0",
   "outputs": [
    {
     "name": "stderr",
     "output_type": "stream",
     "text": [
      "                                                                                \r"
     ]
    },
    {
     "name": "stdout",
     "output_type": "stream",
     "text": [
      "Número de filas que fallan el cast: 16435\n",
      "+----------+----------+----+\n",
      "|fecha     |indicativo|prec|\n",
      "+----------+----------+----+\n",
      "|2025-05-30|1387E     |Ip  |\n",
      "|2025-05-30|8500A     |Ip  |\n",
      "|2025-05-30|1014      |Ip  |\n",
      "|2025-05-30|9170      |Ip  |\n",
      "|2025-05-30|8178D     |Ip  |\n",
      "|2025-05-30|1428      |Ip  |\n",
      "|2025-05-30|2030      |Ip  |\n",
      "|2025-05-30|3191E     |Ip  |\n",
      "|2023-03-13|B893      |Ip  |\n",
      "|2023-03-13|2030      |Ip  |\n",
      "|2023-03-13|2422      |Ip  |\n",
      "|2022-03-20|C658L     |Ip  |\n",
      "|2022-03-20|1495      |Ip  |\n",
      "|2022-03-20|2465      |Ip  |\n",
      "|2022-03-20|B954      |Ip  |\n",
      "|2022-03-20|8025      |Ip  |\n",
      "|2023-01-20|0016A     |Ip  |\n",
      "|2023-01-20|C449C     |Ip  |\n",
      "|2023-01-20|0421E     |Ip  |\n",
      "|2023-01-20|1082      |Ip  |\n",
      "+----------+----------+----+\n",
      "only showing top 20 rows\n",
      "\n"
     ]
    },
    {
     "name": "stderr",
     "output_type": "stream",
     "text": [
      "                                                                                \r"
     ]
    },
    {
     "name": "stdout",
     "output_type": "stream",
     "text": [
      "Número de filas casteables: 2593634\n",
      "+----------+----------+----+-----------+\n",
      "|fecha     |indicativo|prec|prec_casted|\n",
      "+----------+----------+----+-----------+\n",
      "|2025-05-30|8293X     |0,0 |0.0        |\n",
      "|2025-05-30|5612B     |0,0 |0.0        |\n",
      "|2025-05-30|7250C     |0,0 |0.0        |\n",
      "|2025-05-30|8270X     |0,0 |0.0        |\n",
      "|2025-05-30|2462      |1,6 |1.6        |\n",
      "|2025-05-30|8492X     |0,0 |0.0        |\n",
      "|2025-05-30|4520X     |0,0 |0.0        |\n",
      "|2025-05-30|2918Y     |0,0 |0.0        |\n",
      "|2025-05-30|2182C     |0,8 |0.8        |\n",
      "|2025-05-30|2755X     |0,2 |0.2        |\n",
      "|2025-05-30|3094B     |0,4 |0.4        |\n",
      "|2025-05-30|C249I     |0,0 |0.0        |\n",
      "|2025-05-30|7012D     |0,0 |0.0        |\n",
      "|2025-05-30|C439J     |0,0 |0.0        |\n",
      "|2025-05-30|B434X     |0,0 |0.0        |\n",
      "|2025-05-30|1354C     |0,0 |0.0        |\n",
      "|2025-05-30|9302Y     |0,0 |0.0        |\n",
      "|2025-05-30|5612X     |0,0 |0.0        |\n",
      "|2025-05-30|9808X     |0,0 |0.0        |\n",
      "|2025-05-30|2453E     |0,0 |0.0        |\n",
      "+----------+----------+----+-----------+\n",
      "only showing top 20 rows\n",
      "\n"
     ]
    }
   ],
   "execution_count": 7
  },
  {
   "metadata": {},
   "cell_type": "markdown",
   "source": [
    "Variables muy incompletas:\n",
    "- sol (insolación) falta en el 83% de las filas.\n",
    "- presión (presmin, presmax y horas asociadas) falta en torno al 75%.\n",
    "- viento (dir, velmedia, racha, horaracha) falta en un 20%.\n",
    "\n",
    "Variables más críticas (temperaturas y precipitación) están mucho más completas:\n",
    "- tmin, tmax, tmed sólo tienen ~2% de nulos.\n",
    "- prec tiene un 2,7% de nulos y un 0,6% de registros no numéricos.\n",
    "- Los registros no numéricos en prec corresponden a valores 'Ip'. Segun la metadata de AEMET, significa precipitación inferior a 0.1 mm.\n",
    "\n",
    "Nota sobre 'Ip' en precipitación:\n",
    "Valor \"Ip\" debe transformarse a un valor numérico coherente (p. ej., 0.05 mm) o a 0.0 mm\n",
    "\n",
    "\n"
   ],
   "id": "cb7ffd9cfed2617"
  },
  {
   "metadata": {},
   "cell_type": "markdown",
   "source": [
    "### A.3 Unicidad de la clave primaria (fecha + estación)\n",
    "Garantizar un único registro por combinación `(fecha, indicativo)`.\n"
   ],
   "id": "5dc18a99eab4cc40"
  },
  {
   "metadata": {
    "ExecuteTime": {
     "end_time": "2025-08-23T16:32:35.558503Z",
     "start_time": "2025-08-23T16:32:33.440512Z"
    }
   },
   "cell_type": "code",
   "source": [
    "print(\"A.3  Unicidad de fecha + indicativo:\")\n",
    "\n",
    "# Normalizamos clave a minúsculas por seguridad\n",
    "key_cols = [\"fecha\", \"indicativo\"]\n",
    "for k in key_cols:\n",
    "    assert k in df_meteo_norm.columns, f\"Falta columna clave: {k}\"\n",
    "\n",
    "dups_df = (df_meteo_norm\n",
    "           .groupBy([F.col(k) for k in key_cols])\n",
    "           .agg(F.count(\"*\").alias(\"n\"))\n",
    "           .filter(F.col(\"n\") > 1))\n",
    "\n",
    "n_dups = dups_df.count()\n",
    "print(f\" - Registros con clave duplicada: {n_dups}\")\n",
    "\n",
    "if n_dups > 0:\n",
    "    display(dups_df.orderBy(F.desc(\"n\")))"
   ],
   "id": "8b228dbba5268040",
   "outputs": [
    {
     "name": "stdout",
     "output_type": "stream",
     "text": [
      "A.3  Unicidad de fecha + indicativo:\n"
     ]
    },
    {
     "name": "stderr",
     "output_type": "stream",
     "text": [
      "[Stage 193:===============>                                        (3 + 8) / 11]\r"
     ]
    },
    {
     "name": "stdout",
     "output_type": "stream",
     "text": [
      " - Registros con clave duplicada: 0\n"
     ]
    },
    {
     "name": "stderr",
     "output_type": "stream",
     "text": [
      "                                                                                \r"
     ]
    }
   ],
   "execution_count": 19
  },
  {
   "metadata": {},
   "cell_type": "markdown",
   "source": "No hay duplicados en la clave primaria (fecha + indicativo). Es decir, para cada estación y día, hay un único registro.",
   "id": "b88ad640c28fee3d"
  },
  {
   "metadata": {},
   "cell_type": "markdown",
   "source": [
    "# B. Completitud\n",
    "\n",
    "**Motivación.** La ausencia de datos reduce el poder explicativo y puede introducir sesgos. Medimos completitud por días, por estaciones y por variables.\n",
    "\n"
   ],
   "id": "2b3f179ce3109b89"
  },
  {
   "metadata": {
    "ExecuteTime": {
     "end_time": "2025-08-24T15:04:29.862324Z",
     "start_time": "2025-08-24T15:04:29.736134Z"
    }
   },
   "cell_type": "code",
   "source": [
    "from pyspark.sql import functions as F\n",
    "\n",
    "# Parámetros del periodo de estudio\n",
    "DATE_START = \"2017-01-01\"\n",
    "DATE_END   = \"2025-06-30\"\n",
    "\n",
    "\n",
    "# Fechas como date\n",
    "df_meteo_norm = df_meteo_norm.withColumn(\"fecha_date\", F.to_date(\"fecha\"))\n",
    "\n",
    "# Calendario completo (un día por fila)\n",
    "days = (F.sequence(F.to_date(F.lit(DATE_START)), F.to_date(F.lit(DATE_END))))\n",
    "df_calendar = (spark.range(1)\n",
    "    .select(F.explode(days).alias(\"fecha_date\")))\n",
    "\n",
    "TOTAL_DAYS = df_calendar.count()\n",
    "\n",
    "# Helper: condición \"informado\" para variables de texto/numéricas (no NULL y no cadena vacía)\n",
    "def informed(colname):\n",
    "    return (F.col(colname).isNotNull()) & (F.length(F.trim(F.col(colname))) > 0)"
   ],
   "id": "e7124c956cf7f0d5",
   "outputs": [],
   "execution_count": 19
  },
  {
   "metadata": {},
   "cell_type": "markdown",
   "source": [
    "### B.1 Cobertura temporal (2017–2025)\n",
    "Verificar que existen registros para todos los días del periodo objetivo, o documentar los huecos."
   ],
   "id": "7e46f43c981a4534"
  },
  {
   "metadata": {
    "ExecuteTime": {
     "end_time": "2025-08-24T15:16:47.662197Z",
     "start_time": "2025-08-24T15:16:47.188289Z"
    }
   },
   "cell_type": "code",
   "source": [
    "# Días presentes en observaciones\n",
    "df_days_present = df_meteo_norm.select(\"fecha_date\").distinct()\n",
    "\n",
    "# % días presentes\n",
    "n_days_present = df_days_present.count()\n",
    "pct_days_present = round(100.0 * n_days_present / TOTAL_DAYS, 2)\n",
    "\n",
    "print(f\"B.1 Cobertura temporal: {n_days_present}/{TOTAL_DAYS} días ({pct_days_present}%)\")\n",
    "\n",
    "# Fechas faltantes\n",
    "df_missing_days = df_calendar.join(df_days_present, on=\"fecha_date\", how=\"left_anti\")\n",
    "\n",
    "# Listado de huecos por año-mes (para documentar en la memoria)\n",
    "df_missing_by_month = (df_missing_days\n",
    "    .withColumn(\"year\", F.year(\"fecha_date\"))\n",
    "    .withColumn(\"month\", F.date_format(\"fecha_date\",\"yyyy-MM\"))\n",
    "    .groupBy(\"year\",\"month\").agg(F.count(\"*\").alias(\"dias_faltantes\"))\n",
    "    .orderBy(\"year\",\"month\"))\n",
    "\n",
    "df_missing_by_month.show(truncate=False)\n"
   ],
   "id": "248c75ec5d3ac986",
   "outputs": [
    {
     "name": "stdout",
     "output_type": "stream",
     "text": [
      "B.1 Cobertura temporal: 3102/3103 días (99.97%)\n",
      "+----+-------+--------------+\n",
      "|year|month  |dias_faltantes|\n",
      "+----+-------+--------------+\n",
      "|2024|2024-01|1             |\n",
      "+----+-------+--------------+\n",
      "\n"
     ]
    }
   ],
   "execution_count": 32
  },
  {
   "metadata": {},
   "cell_type": "markdown",
   "source": "Faltan datos de todas las estaciones para el día 2024-01. El resto de días comprendidos entre 2017-01-01 y 2025-06-30 tienen al menos un registro.",
   "id": "52c228f8cdbb7c8a"
  },
  {
   "metadata": {
    "ExecuteTime": {
     "end_time": "2025-08-24T14:49:56.167239Z",
     "start_time": "2025-08-24T14:49:53.444728Z"
    }
   },
   "cell_type": "code",
   "source": [
    "from pyspark.sql import functions as F\n",
    "\n",
    "# B.1 Cobertura temporal (optimizada: evita countDistinct costoso)\n",
    "df_daily = (df_meteo_norm\n",
    "    .select(\"fecha_date\", \"indicativo\")\n",
    "    .dropna(subset=[\"fecha_date\", \"indicativo\"])\n",
    "    .dropDuplicates([\"fecha_date\", \"indicativo\"])   # evita countDistinct, más eficiente\n",
    "    .groupBy(\"fecha_date\").agg(F.count(\"*\").alias(\"n_registros\"))\n",
    "    .orderBy(\"fecha_date\"))\n",
    "\n",
    "# Cacheamos el resultado para reutilizar sin recalcular\n",
    "df_daily.cache().count()  # fuerza la materialización en memoria\n",
    "\n",
    "\n",
    "# Vista rápida de los primeros días\n",
    "df_daily.show(10)"
   ],
   "id": "3751a5c2fce305e3",
   "outputs": [
    {
     "name": "stderr",
     "output_type": "stream",
     "text": [
      "                                                                                \r"
     ]
    },
    {
     "name": "stdout",
     "output_type": "stream",
     "text": [
      "+----------+-----------+\n",
      "|fecha_date|n_registros|\n",
      "+----------+-----------+\n",
      "|2017-01-01|        849|\n",
      "|2017-01-02|        849|\n",
      "|2017-01-03|        850|\n",
      "|2017-01-04|        852|\n",
      "|2017-01-05|        850|\n",
      "|2017-01-06|        848|\n",
      "|2017-01-07|        849|\n",
      "|2017-01-08|        849|\n",
      "|2017-01-09|        848|\n",
      "|2017-01-10|        848|\n",
      "+----------+-----------+\n",
      "only showing top 10 rows\n",
      "\n"
     ]
    }
   ],
   "execution_count": 23
  },
  {
   "metadata": {},
   "cell_type": "markdown",
   "source": [
    "Con el fin de identificar si los días con menor cobertura están aislados o concentrados en tramos concretos:\n",
    "\n",
    "Se identifica que a medida que avanza el tiempo la cobertura es mayor. Esto puede deberse a que haya estaciones que se hayan incorporado a la red de estaciones posteriormente a enero de 2017."
   ],
   "id": "371b50b783b85d20"
  },
  {
   "metadata": {
    "ExecuteTime": {
     "end_time": "2025-08-24T14:49:59.192539Z",
     "start_time": "2025-08-24T14:49:58.284804Z"
    }
   },
   "cell_type": "code",
   "source": [
    "# Serie temporal de nº de registros por día con Altair (colores azules + líneas horizontales extra)\n",
    "import altair as alt\n",
    "import pandas as pd\n",
    "\n",
    "# Convertir el df_daily ya calculado y cacheado a Pandas\n",
    "\n",
    "# Solo calcula si no existe ya en memoria (evita recomputar)\n",
    "if \"pdf_daily\" not in globals() or pdf_daily is None:\n",
    "    pdf_daily = df_daily.toPandas().sort_values(\"fecha_date\")\n",
    "    pdf_daily[\"fecha_date\"] = pd.to_datetime(pdf_daily[\"fecha_date\"])\n",
    "    pdf_daily[\"roll7\"] = pdf_daily[\"n_registros\"].rolling(7, min_periods=1, center=True).mean()\n",
    "else:\n",
    "    print(\"Reutilizando pdf_daily ya materializado en memoria\")\n",
    "\n",
    "# Constantes\n",
    "EXPECTED_STATIONS = 947\n",
    "EXPECTED_STATIONS_ACTIVE = 918\n",
    "\n",
    "# Altair setup\n",
    "alt.data_transformers.disable_max_rows()\n",
    "brush = alt.selection_interval(encodings=[\"x\"])  # Altair >= 5\n",
    "\n",
    "# Línea base (nº de registros por día)\n",
    "line_base = alt.Chart(pdf_daily).mark_line(color=\"steelblue\").encode(\n",
    "    x=alt.X(\"fecha_date:T\", title=\"Fecha\"),\n",
    "    y=alt.Y(\"n_registros:Q\", title=\"Nº de registros (estaciones reportando)\")\n",
    ")\n",
    "\n",
    "# Línea suavizada (media móvil 7d)\n",
    "line_roll = alt.Chart(pdf_daily).mark_line(color=\"darkblue\", strokeDash=[4,2]).encode(\n",
    "    x=\"fecha_date:T\",\n",
    "    y=\"roll7:Q\",\n",
    "    tooltip=[\n",
    "        alt.Tooltip(\"fecha_date:T\", title=\"Fecha\"),\n",
    "        alt.Tooltip(\"n_registros:Q\", title=\"Nº registros\"),\n",
    "        alt.Tooltip(\"roll7:Q\", title=\"Media móvil 7d\", format=\".1f\")\n",
    "    ]\n",
    ").transform_filter(brush)\n",
    "\n",
    "# Líneas horizontales de referencia\n",
    "rule_target = alt.Chart(pd.DataFrame({\"y\": [EXPECTED_STATIONS]})).mark_rule(color=\"blue\").encode(y=\"y:Q\")\n",
    "rule_active = alt.Chart(pd.DataFrame({\"y\": [EXPECTED_STATIONS_ACTIVE]})).mark_rule(color=\"#1f77b4\").encode(y=\"y:Q\")\n",
    "\n",
    "# Detalle arriba\n",
    "detail = (line_base.transform_filter(brush) + line_roll + rule_target + rule_active).properties(height=300)\n",
    "\n",
    "# Overview abajo (área con tono azul claro)\n",
    "overview = alt.Chart(pdf_daily).mark_area(opacity=0.4, color=\"lightblue\").encode(\n",
    "    x=alt.X(\"fecha_date:T\", title=\"Arrastra para seleccionar un rango\"),\n",
    "    y=\"n_registros:Q\"\n",
    ").properties(height=80).add_params(brush)\n",
    "\n",
    "(detail & overview).properties(\n",
    "    title=\"Registros diarios por fecha (con líneas horizontales de referencia en azul)\"\n",
    ")"
   ],
   "id": "d91bba44975ae038",
   "outputs": [
    {
     "data": {
      "text/html": [
       "\n",
       "<style>\n",
       "  #altair-viz-9a66346e6a504f1691843db360f68c8b.vega-embed {\n",
       "    width: 100%;\n",
       "    display: flex;\n",
       "  }\n",
       "\n",
       "  #altair-viz-9a66346e6a504f1691843db360f68c8b.vega-embed details,\n",
       "  #altair-viz-9a66346e6a504f1691843db360f68c8b.vega-embed details summary {\n",
       "    position: relative;\n",
       "  }\n",
       "</style>\n",
       "<div id=\"altair-viz-9a66346e6a504f1691843db360f68c8b\"></div>\n",
       "<script type=\"text/javascript\">\n",
       "  var VEGA_DEBUG = (typeof VEGA_DEBUG == \"undefined\") ? {} : VEGA_DEBUG;\n",
       "  (function(spec, embedOpt){\n",
       "    let outputDiv = document.currentScript.previousElementSibling;\n",
       "    if (outputDiv.id !== \"altair-viz-9a66346e6a504f1691843db360f68c8b\") {\n",
       "      outputDiv = document.getElementById(\"altair-viz-9a66346e6a504f1691843db360f68c8b\");\n",
       "    }\n",
       "\n",
       "    const paths = {\n",
       "      \"vega\": \"https://cdn.jsdelivr.net/npm/vega@5?noext\",\n",
       "      \"vega-lib\": \"https://cdn.jsdelivr.net/npm/vega-lib?noext\",\n",
       "      \"vega-lite\": \"https://cdn.jsdelivr.net/npm/vega-lite@5.20.1?noext\",\n",
       "      \"vega-embed\": \"https://cdn.jsdelivr.net/npm/vega-embed@6?noext\",\n",
       "    };\n",
       "\n",
       "    function maybeLoadScript(lib, version) {\n",
       "      var key = `${lib.replace(\"-\", \"\")}_version`;\n",
       "      return (VEGA_DEBUG[key] == version) ?\n",
       "        Promise.resolve(paths[lib]) :\n",
       "        new Promise(function(resolve, reject) {\n",
       "          var s = document.createElement('script');\n",
       "          document.getElementsByTagName(\"head\")[0].appendChild(s);\n",
       "          s.async = true;\n",
       "          s.onload = () => {\n",
       "            VEGA_DEBUG[key] = version;\n",
       "            return resolve(paths[lib]);\n",
       "          };\n",
       "          s.onerror = () => reject(`Error loading script: ${paths[lib]}`);\n",
       "          s.src = paths[lib];\n",
       "        });\n",
       "    }\n",
       "\n",
       "    function showError(err) {\n",
       "      outputDiv.innerHTML = `<div class=\"error\" style=\"color:red;\">${err}</div>`;\n",
       "      throw err;\n",
       "    }\n",
       "\n",
       "    function displayChart(vegaEmbed) {\n",
       "      vegaEmbed(outputDiv, spec, embedOpt)\n",
       "        .catch(err => showError(`Javascript Error: ${err.message}<br>This usually means there's a typo in your chart specification. See the javascript console for the full traceback.`));\n",
       "    }\n",
       "\n",
       "    if(typeof define === \"function\" && define.amd) {\n",
       "      requirejs.config({paths});\n",
       "      let deps = [\"vega-embed\"];\n",
       "      require(deps, displayChart, err => showError(`Error loading script: ${err.message}`));\n",
       "    } else {\n",
       "      maybeLoadScript(\"vega\", \"5\")\n",
       "        .then(() => maybeLoadScript(\"vega-lite\", \"5.20.1\"))\n",
       "        .then(() => maybeLoadScript(\"vega-embed\", \"6\"))\n",
       "        .catch(showError)\n",
       "        .then(() => displayChart(vegaEmbed));\n",
       "    }\n",
       "  })({\"config\": {\"view\": {\"continuousWidth\": 300, \"continuousHeight\": 300}}, \"vconcat\": [{\"layer\": [{\"mark\": {\"type\": \"line\", \"color\": \"steelblue\"}, \"encoding\": {\"x\": {\"field\": \"fecha_date\", \"title\": \"Fecha\", \"type\": \"temporal\"}, \"y\": {\"field\": \"n_registros\", \"title\": \"N\\u00ba de registros (estaciones reportando)\", \"type\": \"quantitative\"}}, \"transform\": [{\"filter\": {\"param\": \"param_1\"}}]}, {\"mark\": {\"type\": \"line\", \"color\": \"darkblue\", \"strokeDash\": [4, 2]}, \"encoding\": {\"tooltip\": [{\"field\": \"fecha_date\", \"title\": \"Fecha\", \"type\": \"temporal\"}, {\"field\": \"n_registros\", \"title\": \"N\\u00ba registros\", \"type\": \"quantitative\"}, {\"field\": \"roll7\", \"format\": \".1f\", \"title\": \"Media m\\u00f3vil 7d\", \"type\": \"quantitative\"}], \"x\": {\"field\": \"fecha_date\", \"type\": \"temporal\"}, \"y\": {\"field\": \"roll7\", \"type\": \"quantitative\"}}, \"transform\": [{\"filter\": {\"param\": \"param_1\"}}]}, {\"data\": {\"name\": \"data-9fedf037adc5d514ca0cf5f49cb27a6d\"}, \"mark\": {\"type\": \"rule\", \"color\": \"blue\"}, \"encoding\": {\"y\": {\"field\": \"y\", \"type\": \"quantitative\"}}}, {\"data\": {\"name\": \"data-f2d7d285ff426ed8ab948807ca6a1239\"}, \"mark\": {\"type\": \"rule\", \"color\": \"#1f77b4\"}, \"encoding\": {\"y\": {\"field\": \"y\", \"type\": \"quantitative\"}}}], \"height\": 300}, {\"mark\": {\"type\": \"area\", \"color\": \"lightblue\", \"opacity\": 0.4}, \"encoding\": {\"x\": {\"field\": \"fecha_date\", \"title\": \"Arrastra para seleccionar un rango\", \"type\": \"temporal\"}, \"y\": {\"field\": \"n_registros\", \"type\": \"quantitative\"}}, \"height\": 80, \"name\": \"view_1\"}], \"data\": {\"name\": \"data-dac64f0dae6c5decebff7ce2b491247f\"}, \"params\": [{\"name\": \"param_1\", \"select\": {\"type\": \"interval\", \"encodings\": [\"x\"]}, \"views\": [\"view_1\"]}], \"title\": \"Registros diarios por fecha (con l\\u00edneas horizontales de referencia en azul)\", \"$schema\": \"https://vega.github.io/schema/vega-lite/v5.20.1.json\", \"datasets\": {\"data-dac64f0dae6c5decebff7ce2b491247f\": [{\"fecha_date\": \"2017-01-01T00:00:00\", \"n_registros\": 849, \"roll7\": 850.0}, {\"fecha_date\": \"2017-01-02T00:00:00\", \"n_registros\": 849, \"roll7\": 850.0}, {\"fecha_date\": \"2017-01-03T00:00:00\", \"n_registros\": 850, \"roll7\": 849.6666666666666}, {\"fecha_date\": \"2017-01-04T00:00:00\", \"n_registros\": 852, \"roll7\": 849.5714285714286}, {\"fecha_date\": \"2017-01-05T00:00:00\", \"n_registros\": 850, \"roll7\": 849.5714285714286}, {\"fecha_date\": \"2017-01-06T00:00:00\", \"n_registros\": 848, \"roll7\": 849.4285714285714}, {\"fecha_date\": \"2017-01-07T00:00:00\", \"n_registros\": 849, \"roll7\": 849.1428571428571}, {\"fecha_date\": \"2017-01-08T00:00:00\", \"n_registros\": 849, \"roll7\": 848.5714285714286}, {\"fecha_date\": \"2017-01-09T00:00:00\", \"n_registros\": 848, \"roll7\": 848.7142857142857}, {\"fecha_date\": \"2017-01-10T00:00:00\", \"n_registros\": 848, \"roll7\": 849.1428571428571}, {\"fecha_date\": \"2017-01-11T00:00:00\", \"n_registros\": 848, \"roll7\": 849.4285714285714}, {\"fecha_date\": \"2017-01-12T00:00:00\", \"n_registros\": 851, \"roll7\": 849.4285714285714}, {\"fecha_date\": \"2017-01-13T00:00:00\", \"n_registros\": 851, \"roll7\": 849.5714285714286}, {\"fecha_date\": \"2017-01-14T00:00:00\", \"n_registros\": 851, \"roll7\": 849.8571428571429}, {\"fecha_date\": \"2017-01-15T00:00:00\", \"n_registros\": 849, \"roll7\": 849.8571428571429}, {\"fecha_date\": \"2017-01-16T00:00:00\", \"n_registros\": 849, \"roll7\": 849.7142857142857}, {\"fecha_date\": \"2017-01-17T00:00:00\", \"n_registros\": 850, \"roll7\": 848.7142857142857}, {\"fecha_date\": \"2017-01-18T00:00:00\", \"n_registros\": 848, \"roll7\": 847.8571428571429}, {\"fecha_date\": \"2017-01-19T00:00:00\", \"n_registros\": 850, \"roll7\": 847.2857142857143}, {\"fecha_date\": \"2017-01-20T00:00:00\", \"n_registros\": 844, \"roll7\": 846.7142857142857}, {\"fecha_date\": \"2017-01-21T00:00:00\", \"n_registros\": 845, \"roll7\": 846.2857142857143}, {\"fecha_date\": \"2017-01-22T00:00:00\", \"n_registros\": 845, \"roll7\": 846.0}, {\"fecha_date\": \"2017-01-23T00:00:00\", \"n_registros\": 845, \"roll7\": 845.4285714285714}, {\"fecha_date\": \"2017-01-24T00:00:00\", \"n_registros\": 847, \"roll7\": 845.5714285714286}, {\"fecha_date\": \"2017-01-25T00:00:00\", \"n_registros\": 846, \"roll7\": 845.5714285714286}, {\"fecha_date\": \"2017-01-26T00:00:00\", \"n_registros\": 846, \"roll7\": 845.7142857142857}, {\"fecha_date\": \"2017-01-27T00:00:00\", \"n_registros\": 845, \"roll7\": 845.7142857142857}, {\"fecha_date\": \"2017-01-28T00:00:00\", \"n_registros\": 845, \"roll7\": 845.4285714285714}, {\"fecha_date\": \"2017-01-29T00:00:00\", \"n_registros\": 846, \"roll7\": 845.2857142857143}, {\"fecha_date\": \"2017-01-30T00:00:00\", \"n_registros\": 845, \"roll7\": 845.2857142857143}, {\"fecha_date\": \"2017-01-31T00:00:00\", \"n_registros\": 845, \"roll7\": 845.1428571428571}, {\"fecha_date\": \"2017-02-01T00:00:00\", \"n_registros\": 845, \"roll7\": 844.8571428571429}, {\"fecha_date\": \"2017-02-02T00:00:00\", \"n_registros\": 846, \"roll7\": 844.0}, {\"fecha_date\": \"2017-02-03T00:00:00\", \"n_registros\": 844, \"roll7\": 843.2857142857143}, {\"fecha_date\": \"2017-02-04T00:00:00\", \"n_registros\": 843, \"roll7\": 843.1428571428571}, {\"fecha_date\": \"2017-02-05T00:00:00\", \"n_registros\": 840, \"roll7\": 843.1428571428571}, {\"fecha_date\": \"2017-02-06T00:00:00\", \"n_registros\": 840, \"roll7\": 843.2857142857143}, {\"fecha_date\": \"2017-02-07T00:00:00\", \"n_registros\": 844, \"roll7\": 843.8571428571429}, {\"fecha_date\": \"2017-02-08T00:00:00\", \"n_registros\": 845, \"roll7\": 844.8571428571429}, {\"fecha_date\": \"2017-02-09T00:00:00\", \"n_registros\": 847, \"roll7\": 846.2857142857143}, {\"fecha_date\": \"2017-02-10T00:00:00\", \"n_registros\": 848, \"roll7\": 847.2857142857143}, {\"fecha_date\": \"2017-02-11T00:00:00\", \"n_registros\": 850, \"roll7\": 847.7142857142857}, {\"fecha_date\": \"2017-02-12T00:00:00\", \"n_registros\": 850, \"roll7\": 848.1428571428571}, {\"fecha_date\": \"2017-02-13T00:00:00\", \"n_registros\": 847, \"roll7\": 848.2857142857143}, {\"fecha_date\": \"2017-02-14T00:00:00\", \"n_registros\": 847, \"roll7\": 848.8571428571429}, {\"fecha_date\": \"2017-02-15T00:00:00\", \"n_registros\": 848, \"roll7\": 849.1428571428571}, {\"fecha_date\": \"2017-02-16T00:00:00\", \"n_registros\": 848, \"roll7\": 849.4285714285714}, {\"fecha_date\": \"2017-02-17T00:00:00\", \"n_registros\": 852, \"roll7\": 850.2857142857143}, {\"fecha_date\": \"2017-02-18T00:00:00\", \"n_registros\": 852, \"roll7\": 851.1428571428571}, {\"fecha_date\": \"2017-02-19T00:00:00\", \"n_registros\": 852, \"roll7\": 851.4285714285714}, {\"fecha_date\": \"2017-02-20T00:00:00\", \"n_registros\": 853, \"roll7\": 851.7142857142857}, {\"fecha_date\": \"2017-02-21T00:00:00\", \"n_registros\": 853, \"roll7\": 851.7142857142857}, {\"fecha_date\": \"2017-02-22T00:00:00\", \"n_registros\": 850, \"roll7\": 851.7142857142857}, {\"fecha_date\": \"2017-02-23T00:00:00\", \"n_registros\": 850, \"roll7\": 851.5714285714286}, {\"fecha_date\": \"2017-02-24T00:00:00\", \"n_registros\": 852, \"roll7\": 851.2857142857143}, {\"fecha_date\": \"2017-02-25T00:00:00\", \"n_registros\": 852, \"roll7\": 850.8571428571429}, {\"fecha_date\": \"2017-02-26T00:00:00\", \"n_registros\": 851, \"roll7\": 850.8571428571429}, {\"fecha_date\": \"2017-02-27T00:00:00\", \"n_registros\": 851, \"roll7\": 850.8571428571429}, {\"fecha_date\": \"2017-02-28T00:00:00\", \"n_registros\": 850, \"roll7\": 850.8571428571429}, {\"fecha_date\": \"2017-03-01T00:00:00\", \"n_registros\": 850, \"roll7\": 850.7142857142857}, {\"fecha_date\": \"2017-03-02T00:00:00\", \"n_registros\": 850, \"roll7\": 850.2857142857143}, {\"fecha_date\": \"2017-03-03T00:00:00\", \"n_registros\": 852, \"roll7\": 850.0}, {\"fecha_date\": \"2017-03-04T00:00:00\", \"n_registros\": 851, \"roll7\": 849.8571428571429}, {\"fecha_date\": \"2017-03-05T00:00:00\", \"n_registros\": 848, \"roll7\": 850.1428571428571}, {\"fecha_date\": \"2017-03-06T00:00:00\", \"n_registros\": 849, \"roll7\": 850.1428571428571}, {\"fecha_date\": \"2017-03-07T00:00:00\", \"n_registros\": 849, \"roll7\": 850.1428571428571}, {\"fecha_date\": \"2017-03-08T00:00:00\", \"n_registros\": 852, \"roll7\": 850.1428571428571}, {\"fecha_date\": \"2017-03-09T00:00:00\", \"n_registros\": 850, \"roll7\": 850.5714285714286}, {\"fecha_date\": \"2017-03-10T00:00:00\", \"n_registros\": 852, \"roll7\": 850.5714285714286}, {\"fecha_date\": \"2017-03-11T00:00:00\", \"n_registros\": 851, \"roll7\": 850.2857142857143}, {\"fecha_date\": \"2017-03-12T00:00:00\", \"n_registros\": 851, \"roll7\": 850.1428571428571}, {\"fecha_date\": \"2017-03-13T00:00:00\", \"n_registros\": 849, \"roll7\": 850.5714285714286}, {\"fecha_date\": \"2017-03-14T00:00:00\", \"n_registros\": 847, \"roll7\": 850.8571428571429}, {\"fecha_date\": \"2017-03-15T00:00:00\", \"n_registros\": 851, \"roll7\": 851.5714285714286}, {\"fecha_date\": \"2017-03-16T00:00:00\", \"n_registros\": 853, \"roll7\": 851.7142857142857}, {\"fecha_date\": \"2017-03-17T00:00:00\", \"n_registros\": 854, \"roll7\": 851.8571428571429}, {\"fecha_date\": \"2017-03-18T00:00:00\", \"n_registros\": 856, \"roll7\": 852.5714285714286}, {\"fecha_date\": \"2017-03-19T00:00:00\", \"n_registros\": 852, \"roll7\": 852.7142857142857}, {\"fecha_date\": \"2017-03-20T00:00:00\", \"n_registros\": 850, \"roll7\": 852.1428571428571}, {\"fecha_date\": \"2017-03-21T00:00:00\", \"n_registros\": 852, \"roll7\": 851.2857142857143}, {\"fecha_date\": \"2017-03-22T00:00:00\", \"n_registros\": 852, \"roll7\": 850.0}, {\"fecha_date\": \"2017-03-23T00:00:00\", \"n_registros\": 849, \"roll7\": 849.4285714285714}, {\"fecha_date\": \"2017-03-24T00:00:00\", \"n_registros\": 848, \"roll7\": 848.8571428571429}, {\"fecha_date\": \"2017-03-25T00:00:00\", \"n_registros\": 847, \"roll7\": 849.0}, {\"fecha_date\": \"2017-03-26T00:00:00\", \"n_registros\": 848, \"roll7\": 849.1428571428571}, {\"fecha_date\": \"2017-03-27T00:00:00\", \"n_registros\": 846, \"roll7\": 849.7142857142857}, {\"fecha_date\": \"2017-03-28T00:00:00\", \"n_registros\": 853, \"roll7\": 850.0}, {\"fecha_date\": \"2017-03-29T00:00:00\", \"n_registros\": 853, \"roll7\": 849.5714285714286}, {\"fecha_date\": \"2017-03-30T00:00:00\", \"n_registros\": 853, \"roll7\": 849.4285714285714}, {\"fecha_date\": \"2017-03-31T00:00:00\", \"n_registros\": 850, \"roll7\": 849.4285714285714}, {\"fecha_date\": \"2017-04-01T00:00:00\", \"n_registros\": 844, \"roll7\": 848.8571428571429}, {\"fecha_date\": \"2017-04-02T00:00:00\", \"n_registros\": 847, \"roll7\": 848.1428571428571}, {\"fecha_date\": \"2017-04-03T00:00:00\", \"n_registros\": 846, \"roll7\": 847.4285714285714}, {\"fecha_date\": \"2017-04-04T00:00:00\", \"n_registros\": 849, \"roll7\": 847.1428571428571}, {\"fecha_date\": \"2017-04-05T00:00:00\", \"n_registros\": 848, \"roll7\": 848.1428571428571}, {\"fecha_date\": \"2017-04-06T00:00:00\", \"n_registros\": 848, \"roll7\": 848.5714285714286}, {\"fecha_date\": \"2017-04-07T00:00:00\", \"n_registros\": 848, \"roll7\": 849.0}, {\"fecha_date\": \"2017-04-08T00:00:00\", \"n_registros\": 851, \"roll7\": 849.2857142857143}, {\"fecha_date\": \"2017-04-09T00:00:00\", \"n_registros\": 850, \"roll7\": 849.5714285714286}, {\"fecha_date\": \"2017-04-10T00:00:00\", \"n_registros\": 849, \"roll7\": 849.5714285714286}, {\"fecha_date\": \"2017-04-11T00:00:00\", \"n_registros\": 851, \"roll7\": 849.8571428571429}, {\"fecha_date\": \"2017-04-12T00:00:00\", \"n_registros\": 850, \"roll7\": 849.8571428571429}, {\"fecha_date\": \"2017-04-13T00:00:00\", \"n_registros\": 848, \"roll7\": 850.0}, {\"fecha_date\": \"2017-04-14T00:00:00\", \"n_registros\": 850, \"roll7\": 850.1428571428571}, {\"fecha_date\": \"2017-04-15T00:00:00\", \"n_registros\": 851, \"roll7\": 850.2857142857143}, {\"fecha_date\": \"2017-04-16T00:00:00\", \"n_registros\": 851, \"roll7\": 850.0}, {\"fecha_date\": \"2017-04-17T00:00:00\", \"n_registros\": 850, \"roll7\": 850.2857142857143}, {\"fecha_date\": \"2017-04-18T00:00:00\", \"n_registros\": 852, \"roll7\": 850.1428571428571}, {\"fecha_date\": \"2017-04-19T00:00:00\", \"n_registros\": 848, \"roll7\": 849.8571428571429}, {\"fecha_date\": \"2017-04-20T00:00:00\", \"n_registros\": 850, \"roll7\": 849.7142857142857}, {\"fecha_date\": \"2017-04-21T00:00:00\", \"n_registros\": 849, \"roll7\": 849.1428571428571}, {\"fecha_date\": \"2017-04-22T00:00:00\", \"n_registros\": 849, \"roll7\": 847.7142857142857}, {\"fecha_date\": \"2017-04-23T00:00:00\", \"n_registros\": 850, \"roll7\": 847.5714285714286}, {\"fecha_date\": \"2017-04-24T00:00:00\", \"n_registros\": 846, \"roll7\": 847.0}, {\"fecha_date\": \"2017-04-25T00:00:00\", \"n_registros\": 842, \"roll7\": 846.4285714285714}, {\"fecha_date\": \"2017-04-26T00:00:00\", \"n_registros\": 847, \"roll7\": 845.8571428571429}, {\"fecha_date\": \"2017-04-27T00:00:00\", \"n_registros\": 846, \"roll7\": 845.7142857142857}, {\"fecha_date\": \"2017-04-28T00:00:00\", \"n_registros\": 845, \"roll7\": 846.0}, {\"fecha_date\": \"2017-04-29T00:00:00\", \"n_registros\": 845, \"roll7\": 846.7142857142857}, {\"fecha_date\": \"2017-04-30T00:00:00\", \"n_registros\": 849, \"roll7\": 847.0}, {\"fecha_date\": \"2017-05-01T00:00:00\", \"n_registros\": 848, \"roll7\": 847.5714285714286}, {\"fecha_date\": \"2017-05-02T00:00:00\", \"n_registros\": 847, \"roll7\": 848.1428571428571}, {\"fecha_date\": \"2017-05-03T00:00:00\", \"n_registros\": 849, \"roll7\": 849.1428571428571}, {\"fecha_date\": \"2017-05-04T00:00:00\", \"n_registros\": 850, \"roll7\": 849.2857142857143}, {\"fecha_date\": \"2017-05-05T00:00:00\", \"n_registros\": 849, \"roll7\": 848.8571428571429}, {\"fecha_date\": \"2017-05-06T00:00:00\", \"n_registros\": 852, \"roll7\": 848.8571428571429}, {\"fecha_date\": \"2017-05-07T00:00:00\", \"n_registros\": 850, \"roll7\": 848.2857142857143}, {\"fecha_date\": \"2017-05-08T00:00:00\", \"n_registros\": 845, \"roll7\": 848.1428571428571}, {\"fecha_date\": \"2017-05-09T00:00:00\", \"n_registros\": 847, \"roll7\": 848.1428571428571}, {\"fecha_date\": \"2017-05-10T00:00:00\", \"n_registros\": 845, \"roll7\": 848.1428571428571}, {\"fecha_date\": \"2017-05-11T00:00:00\", \"n_registros\": 849, \"roll7\": 848.4285714285714}, {\"fecha_date\": \"2017-05-12T00:00:00\", \"n_registros\": 849, \"roll7\": 848.8571428571429}, {\"fecha_date\": \"2017-05-13T00:00:00\", \"n_registros\": 852, \"roll7\": 849.8571428571429}, {\"fecha_date\": \"2017-05-14T00:00:00\", \"n_registros\": 852, \"roll7\": 851.4285714285714}, {\"fecha_date\": \"2017-05-15T00:00:00\", \"n_registros\": 848, \"roll7\": 851.7142857142857}, {\"fecha_date\": \"2017-05-16T00:00:00\", \"n_registros\": 854, \"roll7\": 852.1428571428571}, {\"fecha_date\": \"2017-05-17T00:00:00\", \"n_registros\": 856, \"roll7\": 852.4285714285714}, {\"fecha_date\": \"2017-05-18T00:00:00\", \"n_registros\": 851, \"roll7\": 852.2857142857143}, {\"fecha_date\": \"2017-05-19T00:00:00\", \"n_registros\": 852, \"roll7\": 852.4285714285714}, {\"fecha_date\": \"2017-05-20T00:00:00\", \"n_registros\": 854, \"roll7\": 851.7142857142857}, {\"fecha_date\": \"2017-05-21T00:00:00\", \"n_registros\": 851, \"roll7\": 850.4285714285714}, {\"fecha_date\": \"2017-05-22T00:00:00\", \"n_registros\": 849, \"roll7\": 849.7142857142857}, {\"fecha_date\": \"2017-05-23T00:00:00\", \"n_registros\": 849, \"roll7\": 848.2857142857143}, {\"fecha_date\": \"2017-05-24T00:00:00\", \"n_registros\": 847, \"roll7\": 846.0}, {\"fecha_date\": \"2017-05-25T00:00:00\", \"n_registros\": 846, \"roll7\": 844.5714285714286}, {\"fecha_date\": \"2017-05-26T00:00:00\", \"n_registros\": 842, \"roll7\": 843.2857142857143}, {\"fecha_date\": \"2017-05-27T00:00:00\", \"n_registros\": 838, \"roll7\": 843.0}, {\"fecha_date\": \"2017-05-28T00:00:00\", \"n_registros\": 841, \"roll7\": 843.0}, {\"fecha_date\": \"2017-05-29T00:00:00\", \"n_registros\": 840, \"roll7\": 843.1428571428571}, {\"fecha_date\": \"2017-05-30T00:00:00\", \"n_registros\": 847, \"roll7\": 843.4285714285714}, {\"fecha_date\": \"2017-05-31T00:00:00\", \"n_registros\": 847, \"roll7\": 844.5714285714286}, {\"fecha_date\": \"2017-06-01T00:00:00\", \"n_registros\": 847, \"roll7\": 845.0}, {\"fecha_date\": \"2017-06-02T00:00:00\", \"n_registros\": 844, \"roll7\": 845.7142857142857}, {\"fecha_date\": \"2017-06-03T00:00:00\", \"n_registros\": 846, \"roll7\": 845.4285714285714}, {\"fecha_date\": \"2017-06-04T00:00:00\", \"n_registros\": 844, \"roll7\": 845.7142857142857}, {\"fecha_date\": \"2017-06-05T00:00:00\", \"n_registros\": 845, \"roll7\": 846.4285714285714}, {\"fecha_date\": \"2017-06-06T00:00:00\", \"n_registros\": 845, \"roll7\": 847.4285714285714}, {\"fecha_date\": \"2017-06-07T00:00:00\", \"n_registros\": 849, \"roll7\": 846.8571428571429}, {\"fecha_date\": \"2017-06-08T00:00:00\", \"n_registros\": 852, \"roll7\": 848.1428571428571}, {\"fecha_date\": \"2017-06-09T00:00:00\", \"n_registros\": 851, \"roll7\": 848.5714285714286}, {\"fecha_date\": \"2017-06-10T00:00:00\", \"n_registros\": 842, \"roll7\": 849.4285714285714}, {\"fecha_date\": \"2017-06-11T00:00:00\", \"n_registros\": 853, \"roll7\": 849.4285714285714}, {\"fecha_date\": \"2017-06-12T00:00:00\", \"n_registros\": 848, \"roll7\": 849.1428571428571}, {\"fecha_date\": \"2017-06-13T00:00:00\", \"n_registros\": 851, \"roll7\": 849.2857142857143}, {\"fecha_date\": \"2017-06-14T00:00:00\", \"n_registros\": 849, \"roll7\": 850.7142857142857}, {\"fecha_date\": \"2017-06-15T00:00:00\", \"n_registros\": 850, \"roll7\": 850.2857142857143}, {\"fecha_date\": \"2017-06-16T00:00:00\", \"n_registros\": 852, \"roll7\": 850.2857142857143}, {\"fecha_date\": \"2017-06-17T00:00:00\", \"n_registros\": 852, \"roll7\": 850.0}, {\"fecha_date\": \"2017-06-18T00:00:00\", \"n_registros\": 850, \"roll7\": 850.0}, {\"fecha_date\": \"2017-06-19T00:00:00\", \"n_registros\": 848, \"roll7\": 850.2857142857143}, {\"fecha_date\": \"2017-06-20T00:00:00\", \"n_registros\": 849, \"roll7\": 850.2857142857143}, {\"fecha_date\": \"2017-06-21T00:00:00\", \"n_registros\": 849, \"roll7\": 850.0}, {\"fecha_date\": \"2017-06-22T00:00:00\", \"n_registros\": 852, \"roll7\": 849.2857142857143}, {\"fecha_date\": \"2017-06-23T00:00:00\", \"n_registros\": 852, \"roll7\": 849.0}, {\"fecha_date\": \"2017-06-24T00:00:00\", \"n_registros\": 850, \"roll7\": 848.8571428571429}, {\"fecha_date\": \"2017-06-25T00:00:00\", \"n_registros\": 845, \"roll7\": 849.1428571428571}, {\"fecha_date\": \"2017-06-26T00:00:00\", \"n_registros\": 846, \"roll7\": 848.8571428571429}, {\"fecha_date\": \"2017-06-27T00:00:00\", \"n_registros\": 848, \"roll7\": 848.1428571428571}, {\"fecha_date\": \"2017-06-28T00:00:00\", \"n_registros\": 851, \"roll7\": 848.2857142857143}, {\"fecha_date\": \"2017-06-29T00:00:00\", \"n_registros\": 850, \"roll7\": 849.1428571428571}, {\"fecha_date\": \"2017-06-30T00:00:00\", \"n_registros\": 847, \"roll7\": 849.8571428571429}, {\"fecha_date\": \"2017-07-01T00:00:00\", \"n_registros\": 851, \"roll7\": 850.7142857142857}, {\"fecha_date\": \"2017-07-02T00:00:00\", \"n_registros\": 851, \"roll7\": 851.2857142857143}, {\"fecha_date\": \"2017-07-03T00:00:00\", \"n_registros\": 851, \"roll7\": 851.5714285714286}, {\"fecha_date\": \"2017-07-04T00:00:00\", \"n_registros\": 854, \"roll7\": 851.8571428571429}, {\"fecha_date\": \"2017-07-05T00:00:00\", \"n_registros\": 855, \"roll7\": 851.5714285714286}, {\"fecha_date\": \"2017-07-06T00:00:00\", \"n_registros\": 852, \"roll7\": 851.5714285714286}, {\"fecha_date\": \"2017-07-07T00:00:00\", \"n_registros\": 849, \"roll7\": 850.8571428571429}, {\"fecha_date\": \"2017-07-08T00:00:00\", \"n_registros\": 849, \"roll7\": 850.4285714285714}, {\"fecha_date\": \"2017-07-09T00:00:00\", \"n_registros\": 851, \"roll7\": 850.0}, {\"fecha_date\": \"2017-07-10T00:00:00\", \"n_registros\": 846, \"roll7\": 850.2857142857143}, {\"fecha_date\": \"2017-07-11T00:00:00\", \"n_registros\": 851, \"roll7\": 851.0}, {\"fecha_date\": \"2017-07-12T00:00:00\", \"n_registros\": 852, \"roll7\": 851.5714285714286}, {\"fecha_date\": \"2017-07-13T00:00:00\", \"n_registros\": 854, \"roll7\": 851.7142857142857}, {\"fecha_date\": \"2017-07-14T00:00:00\", \"n_registros\": 854, \"roll7\": 852.0}, {\"fecha_date\": \"2017-07-15T00:00:00\", \"n_registros\": 853, \"roll7\": 851.4285714285714}, {\"fecha_date\": \"2017-07-16T00:00:00\", \"n_registros\": 852, \"roll7\": 850.5714285714286}, {\"fecha_date\": \"2017-07-17T00:00:00\", \"n_registros\": 848, \"roll7\": 849.7142857142857}, {\"fecha_date\": \"2017-07-18T00:00:00\", \"n_registros\": 847, \"roll7\": 848.7142857142857}, {\"fecha_date\": \"2017-07-19T00:00:00\", \"n_registros\": 846, \"roll7\": 848.2857142857143}, {\"fecha_date\": \"2017-07-20T00:00:00\", \"n_registros\": 848, \"roll7\": 848.0}, {\"fecha_date\": \"2017-07-21T00:00:00\", \"n_registros\": 847, \"roll7\": 848.4285714285714}, {\"fecha_date\": \"2017-07-22T00:00:00\", \"n_registros\": 850, \"roll7\": 849.1428571428571}, {\"fecha_date\": \"2017-07-23T00:00:00\", \"n_registros\": 850, \"roll7\": 849.5714285714286}, {\"fecha_date\": \"2017-07-24T00:00:00\", \"n_registros\": 851, \"roll7\": 850.0}, {\"fecha_date\": \"2017-07-25T00:00:00\", \"n_registros\": 852, \"roll7\": 850.5714285714286}, {\"fecha_date\": \"2017-07-26T00:00:00\", \"n_registros\": 849, \"roll7\": 851.1428571428571}, {\"fecha_date\": \"2017-07-27T00:00:00\", \"n_registros\": 851, \"roll7\": 851.8571428571429}, {\"fecha_date\": \"2017-07-28T00:00:00\", \"n_registros\": 851, \"roll7\": 852.1428571428571}, {\"fecha_date\": \"2017-07-29T00:00:00\", \"n_registros\": 854, \"roll7\": 852.0}, {\"fecha_date\": \"2017-07-30T00:00:00\", \"n_registros\": 855, \"roll7\": 852.1428571428571}, {\"fecha_date\": \"2017-07-31T00:00:00\", \"n_registros\": 853, \"roll7\": 851.8571428571429}, {\"fecha_date\": \"2017-08-01T00:00:00\", \"n_registros\": 851, \"roll7\": 852.2857142857143}, {\"fecha_date\": \"2017-08-02T00:00:00\", \"n_registros\": 850, \"roll7\": 852.1428571428571}, {\"fecha_date\": \"2017-08-03T00:00:00\", \"n_registros\": 849, \"roll7\": 851.4285714285714}, {\"fecha_date\": \"2017-08-04T00:00:00\", \"n_registros\": 854, \"roll7\": 851.2857142857143}, {\"fecha_date\": \"2017-08-05T00:00:00\", \"n_registros\": 853, \"roll7\": 851.5714285714286}, {\"fecha_date\": \"2017-08-06T00:00:00\", \"n_registros\": 850, \"roll7\": 851.8571428571429}, {\"fecha_date\": \"2017-08-07T00:00:00\", \"n_registros\": 852, \"roll7\": 851.8571428571429}, {\"fecha_date\": \"2017-08-08T00:00:00\", \"n_registros\": 853, \"roll7\": 851.5714285714286}, {\"fecha_date\": \"2017-08-09T00:00:00\", \"n_registros\": 852, \"roll7\": 851.2857142857143}, {\"fecha_date\": \"2017-08-10T00:00:00\", \"n_registros\": 849, \"roll7\": 851.5714285714286}, {\"fecha_date\": \"2017-08-11T00:00:00\", \"n_registros\": 852, \"roll7\": 851.0}, {\"fecha_date\": \"2017-08-12T00:00:00\", \"n_registros\": 851, \"roll7\": 850.8571428571429}, {\"fecha_date\": \"2017-08-13T00:00:00\", \"n_registros\": 852, \"roll7\": 850.4285714285714}, {\"fecha_date\": \"2017-08-14T00:00:00\", \"n_registros\": 848, \"roll7\": 850.4285714285714}, {\"fecha_date\": \"2017-08-15T00:00:00\", \"n_registros\": 852, \"roll7\": 846.2857142857143}, {\"fecha_date\": \"2017-08-16T00:00:00\", \"n_registros\": 849, \"roll7\": 842.4285714285714}, {\"fecha_date\": \"2017-08-17T00:00:00\", \"n_registros\": 849, \"roll7\": 838.2857142857143}, {\"fecha_date\": \"2017-08-18T00:00:00\", \"n_registros\": 823, \"roll7\": 838.1428571428571}, {\"fecha_date\": \"2017-08-19T00:00:00\", \"n_registros\": 824, \"roll7\": 837.5714285714286}, {\"fecha_date\": \"2017-08-20T00:00:00\", \"n_registros\": 823, \"roll7\": 838.0}, {\"fecha_date\": \"2017-08-21T00:00:00\", \"n_registros\": 847, \"roll7\": 838.2857142857143}, {\"fecha_date\": \"2017-08-22T00:00:00\", \"n_registros\": 848, \"roll7\": 842.7142857142857}, {\"fecha_date\": \"2017-08-23T00:00:00\", \"n_registros\": 852, \"roll7\": 847.0}, {\"fecha_date\": \"2017-08-24T00:00:00\", \"n_registros\": 851, \"roll7\": 851.0}, {\"fecha_date\": \"2017-08-25T00:00:00\", \"n_registros\": 854, \"roll7\": 850.7142857142857}, {\"fecha_date\": \"2017-08-26T00:00:00\", \"n_registros\": 854, \"roll7\": 850.2857142857143}, {\"fecha_date\": \"2017-08-27T00:00:00\", \"n_registros\": 851, \"roll7\": 849.2857142857143}, {\"fecha_date\": \"2017-08-28T00:00:00\", \"n_registros\": 845, \"roll7\": 848.5714285714286}, {\"fecha_date\": \"2017-08-29T00:00:00\", \"n_registros\": 845, \"roll7\": 847.7142857142857}, {\"fecha_date\": \"2017-08-30T00:00:00\", \"n_registros\": 845, \"roll7\": 847.7142857142857}, {\"fecha_date\": \"2017-08-31T00:00:00\", \"n_registros\": 846, \"roll7\": 848.2857142857143}, {\"fecha_date\": \"2017-09-01T00:00:00\", \"n_registros\": 848, \"roll7\": 849.0}, {\"fecha_date\": \"2017-09-02T00:00:00\", \"n_registros\": 854, \"roll7\": 850.4285714285714}, {\"fecha_date\": \"2017-09-03T00:00:00\", \"n_registros\": 855, \"roll7\": 851.5714285714286}, {\"fecha_date\": \"2017-09-04T00:00:00\", \"n_registros\": 850, \"roll7\": 852.8571428571429}, {\"fecha_date\": \"2017-09-05T00:00:00\", \"n_registros\": 855, \"roll7\": 853.2857142857143}, {\"fecha_date\": \"2017-09-06T00:00:00\", \"n_registros\": 853, \"roll7\": 853.2857142857143}, {\"fecha_date\": \"2017-09-07T00:00:00\", \"n_registros\": 855, \"roll7\": 853.0}, {\"fecha_date\": \"2017-09-08T00:00:00\", \"n_registros\": 851, \"roll7\": 853.1428571428571}, {\"fecha_date\": \"2017-09-09T00:00:00\", \"n_registros\": 854, \"roll7\": 852.7142857142857}, {\"fecha_date\": \"2017-09-10T00:00:00\", \"n_registros\": 853, \"roll7\": 852.1428571428571}, {\"fecha_date\": \"2017-09-11T00:00:00\", \"n_registros\": 851, \"roll7\": 851.4285714285714}, {\"fecha_date\": \"2017-09-12T00:00:00\", \"n_registros\": 852, \"roll7\": 851.7142857142857}, {\"fecha_date\": \"2017-09-13T00:00:00\", \"n_registros\": 849, \"roll7\": 851.7142857142857}, {\"fecha_date\": \"2017-09-14T00:00:00\", \"n_registros\": 850, \"roll7\": 852.0}, {\"fecha_date\": \"2017-09-15T00:00:00\", \"n_registros\": 853, \"roll7\": 852.1428571428571}, {\"fecha_date\": \"2017-09-16T00:00:00\", \"n_registros\": 854, \"roll7\": 851.7142857142857}, {\"fecha_date\": \"2017-09-17T00:00:00\", \"n_registros\": 855, \"roll7\": 852.1428571428571}, {\"fecha_date\": \"2017-09-18T00:00:00\", \"n_registros\": 852, \"roll7\": 852.5714285714286}, {\"fecha_date\": \"2017-09-19T00:00:00\", \"n_registros\": 849, \"roll7\": 852.2857142857143}, {\"fecha_date\": \"2017-09-20T00:00:00\", \"n_registros\": 852, \"roll7\": 852.0}, {\"fecha_date\": \"2017-09-21T00:00:00\", \"n_registros\": 853, \"roll7\": 851.5714285714286}, {\"fecha_date\": \"2017-09-22T00:00:00\", \"n_registros\": 851, \"roll7\": 851.1428571428571}, {\"fecha_date\": \"2017-09-23T00:00:00\", \"n_registros\": 852, \"roll7\": 851.1428571428571}, {\"fecha_date\": \"2017-09-24T00:00:00\", \"n_registros\": 852, \"roll7\": 850.7142857142857}, {\"fecha_date\": \"2017-09-25T00:00:00\", \"n_registros\": 849, \"roll7\": 850.2857142857143}, {\"fecha_date\": \"2017-09-26T00:00:00\", \"n_registros\": 849, \"roll7\": 849.5714285714286}, {\"fecha_date\": \"2017-09-27T00:00:00\", \"n_registros\": 849, \"roll7\": 849.4285714285714}, {\"fecha_date\": \"2017-09-28T00:00:00\", \"n_registros\": 850, \"roll7\": 849.5714285714286}, {\"fecha_date\": \"2017-09-29T00:00:00\", \"n_registros\": 846, \"roll7\": 849.7142857142857}, {\"fecha_date\": \"2017-09-30T00:00:00\", \"n_registros\": 851, \"roll7\": 849.5714285714286}, {\"fecha_date\": \"2017-10-01T00:00:00\", \"n_registros\": 853, \"roll7\": 849.4285714285714}, {\"fecha_date\": \"2017-10-02T00:00:00\", \"n_registros\": 850, \"roll7\": 849.5714285714286}, {\"fecha_date\": \"2017-10-03T00:00:00\", \"n_registros\": 848, \"roll7\": 850.8571428571429}, {\"fecha_date\": \"2017-10-04T00:00:00\", \"n_registros\": 848, \"roll7\": 851.2857142857143}, {\"fecha_date\": \"2017-10-05T00:00:00\", \"n_registros\": 851, \"roll7\": 851.4285714285714}, {\"fecha_date\": \"2017-10-06T00:00:00\", \"n_registros\": 855, \"roll7\": 852.1428571428571}, {\"fecha_date\": \"2017-10-07T00:00:00\", \"n_registros\": 854, \"roll7\": 852.8571428571429}, {\"fecha_date\": \"2017-10-08T00:00:00\", \"n_registros\": 854, \"roll7\": 853.7142857142857}, {\"fecha_date\": \"2017-10-09T00:00:00\", \"n_registros\": 855, \"roll7\": 854.0}, {\"fecha_date\": \"2017-10-10T00:00:00\", \"n_registros\": 853, \"roll7\": 853.8571428571429}, {\"fecha_date\": \"2017-10-11T00:00:00\", \"n_registros\": 854, \"roll7\": 853.7142857142857}, {\"fecha_date\": \"2017-10-12T00:00:00\", \"n_registros\": 853, \"roll7\": 853.2857142857143}, {\"fecha_date\": \"2017-10-13T00:00:00\", \"n_registros\": 854, \"roll7\": 852.8571428571429}, {\"fecha_date\": \"2017-10-14T00:00:00\", \"n_registros\": 853, \"roll7\": 852.5714285714286}, {\"fecha_date\": \"2017-10-15T00:00:00\", \"n_registros\": 851, \"roll7\": 851.8571428571429}, {\"fecha_date\": \"2017-10-16T00:00:00\", \"n_registros\": 852, \"roll7\": 850.8571428571429}, {\"fecha_date\": \"2017-10-17T00:00:00\", \"n_registros\": 851, \"roll7\": 850.0}, {\"fecha_date\": \"2017-10-18T00:00:00\", \"n_registros\": 849, \"roll7\": 849.1428571428571}, {\"fecha_date\": \"2017-10-19T00:00:00\", \"n_registros\": 846, \"roll7\": 848.5714285714286}, {\"fecha_date\": \"2017-10-20T00:00:00\", \"n_registros\": 848, \"roll7\": 847.8571428571429}, {\"fecha_date\": \"2017-10-21T00:00:00\", \"n_registros\": 847, \"roll7\": 847.5714285714286}, {\"fecha_date\": \"2017-10-22T00:00:00\", \"n_registros\": 847, \"roll7\": 848.1428571428571}, {\"fecha_date\": \"2017-10-23T00:00:00\", \"n_registros\": 847, \"roll7\": 848.7142857142857}, {\"fecha_date\": \"2017-10-24T00:00:00\", \"n_registros\": 849, \"roll7\": 849.0}, {\"fecha_date\": \"2017-10-25T00:00:00\", \"n_registros\": 853, \"roll7\": 849.5714285714286}, {\"fecha_date\": \"2017-10-26T00:00:00\", \"n_registros\": 850, \"roll7\": 850.1428571428571}, {\"fecha_date\": \"2017-10-27T00:00:00\", \"n_registros\": 850, \"roll7\": 850.7142857142857}, {\"fecha_date\": \"2017-10-28T00:00:00\", \"n_registros\": 851, \"roll7\": 851.0}, {\"fecha_date\": \"2017-10-29T00:00:00\", \"n_registros\": 851, \"roll7\": 850.7142857142857}, {\"fecha_date\": \"2017-10-30T00:00:00\", \"n_registros\": 851, \"roll7\": 850.2857142857143}, {\"fecha_date\": \"2017-10-31T00:00:00\", \"n_registros\": 851, \"roll7\": 849.8571428571429}, {\"fecha_date\": \"2017-11-01T00:00:00\", \"n_registros\": 851, \"roll7\": 849.5714285714286}, {\"fecha_date\": \"2017-11-02T00:00:00\", \"n_registros\": 847, \"roll7\": 849.8571428571429}, {\"fecha_date\": \"2017-11-03T00:00:00\", \"n_registros\": 847, \"roll7\": 850.0}, {\"fecha_date\": \"2017-11-04T00:00:00\", \"n_registros\": 849, \"roll7\": 850.1428571428571}, {\"fecha_date\": \"2017-11-05T00:00:00\", \"n_registros\": 853, \"roll7\": 850.7142857142857}, {\"fecha_date\": \"2017-11-06T00:00:00\", \"n_registros\": 852, \"roll7\": 851.4285714285714}, {\"fecha_date\": \"2017-11-07T00:00:00\", \"n_registros\": 852, \"roll7\": 852.4285714285714}, {\"fecha_date\": \"2017-11-08T00:00:00\", \"n_registros\": 855, \"roll7\": 852.7142857142857}, {\"fecha_date\": \"2017-11-09T00:00:00\", \"n_registros\": 852, \"roll7\": 852.4285714285714}, {\"fecha_date\": \"2017-11-10T00:00:00\", \"n_registros\": 854, \"roll7\": 852.1428571428571}, {\"fecha_date\": \"2017-11-11T00:00:00\", \"n_registros\": 851, \"roll7\": 851.7142857142857}, {\"fecha_date\": \"2017-11-12T00:00:00\", \"n_registros\": 851, \"roll7\": 851.1428571428571}, {\"fecha_date\": \"2017-11-13T00:00:00\", \"n_registros\": 850, \"roll7\": 850.8571428571429}, {\"fecha_date\": \"2017-11-14T00:00:00\", \"n_registros\": 849, \"roll7\": 850.7142857142857}, {\"fecha_date\": \"2017-11-15T00:00:00\", \"n_registros\": 851, \"roll7\": 851.0}, {\"fecha_date\": \"2017-11-16T00:00:00\", \"n_registros\": 850, \"roll7\": 851.2857142857143}, {\"fecha_date\": \"2017-11-17T00:00:00\", \"n_registros\": 853, \"roll7\": 851.5714285714286}, {\"fecha_date\": \"2017-11-18T00:00:00\", \"n_registros\": 853, \"roll7\": 851.8571428571429}, {\"fecha_date\": \"2017-11-19T00:00:00\", \"n_registros\": 853, \"roll7\": 852.0}, {\"fecha_date\": \"2017-11-20T00:00:00\", \"n_registros\": 852, \"roll7\": 852.4285714285714}, {\"fecha_date\": \"2017-11-21T00:00:00\", \"n_registros\": 851, \"roll7\": 852.0}, {\"fecha_date\": \"2017-11-22T00:00:00\", \"n_registros\": 852, \"roll7\": 851.8571428571429}, {\"fecha_date\": \"2017-11-23T00:00:00\", \"n_registros\": 853, \"roll7\": 851.4285714285714}, {\"fecha_date\": \"2017-11-24T00:00:00\", \"n_registros\": 850, \"roll7\": 850.8571428571429}, {\"fecha_date\": \"2017-11-25T00:00:00\", \"n_registros\": 852, \"roll7\": 850.1428571428571}, {\"fecha_date\": \"2017-11-26T00:00:00\", \"n_registros\": 850, \"roll7\": 849.2857142857143}, {\"fecha_date\": \"2017-11-27T00:00:00\", \"n_registros\": 848, \"roll7\": 848.1428571428571}, {\"fecha_date\": \"2017-11-28T00:00:00\", \"n_registros\": 846, \"roll7\": 847.4285714285714}, {\"fecha_date\": \"2017-11-29T00:00:00\", \"n_registros\": 846, \"roll7\": 846.4285714285714}, {\"fecha_date\": \"2017-11-30T00:00:00\", \"n_registros\": 845, \"roll7\": 846.0}, {\"fecha_date\": \"2017-12-01T00:00:00\", \"n_registros\": 845, \"roll7\": 845.7142857142857}, {\"fecha_date\": \"2017-12-02T00:00:00\", \"n_registros\": 845, \"roll7\": 845.8571428571429}, {\"fecha_date\": \"2017-12-03T00:00:00\", \"n_registros\": 847, \"roll7\": 845.8571428571429}, {\"fecha_date\": \"2017-12-04T00:00:00\", \"n_registros\": 846, \"roll7\": 845.8571428571429}, {\"fecha_date\": \"2017-12-05T00:00:00\", \"n_registros\": 847, \"roll7\": 846.2857142857143}, {\"fecha_date\": \"2017-12-06T00:00:00\", \"n_registros\": 846, \"roll7\": 846.5714285714286}, {\"fecha_date\": \"2017-12-07T00:00:00\", \"n_registros\": 845, \"roll7\": 846.5714285714286}, {\"fecha_date\": \"2017-12-08T00:00:00\", \"n_registros\": 848, \"roll7\": 846.2857142857143}, {\"fecha_date\": \"2017-12-09T00:00:00\", \"n_registros\": 847, \"roll7\": 845.4285714285714}, {\"fecha_date\": \"2017-12-10T00:00:00\", \"n_registros\": 847, \"roll7\": 844.8571428571429}, {\"fecha_date\": \"2017-12-11T00:00:00\", \"n_registros\": 844, \"roll7\": 844.7142857142857}, {\"fecha_date\": \"2017-12-12T00:00:00\", \"n_registros\": 841, \"roll7\": 844.4285714285714}, {\"fecha_date\": \"2017-12-13T00:00:00\", \"n_registros\": 842, \"roll7\": 844.0}, {\"fecha_date\": \"2017-12-14T00:00:00\", \"n_registros\": 844, \"roll7\": 843.8571428571429}, {\"fecha_date\": \"2017-12-15T00:00:00\", \"n_registros\": 846, \"roll7\": 844.1428571428571}, {\"fecha_date\": \"2017-12-16T00:00:00\", \"n_registros\": 844, \"roll7\": 845.1428571428571}, {\"fecha_date\": \"2017-12-17T00:00:00\", \"n_registros\": 846, \"roll7\": 845.8571428571429}, {\"fecha_date\": \"2017-12-18T00:00:00\", \"n_registros\": 846, \"roll7\": 846.8571428571429}, {\"fecha_date\": \"2017-12-19T00:00:00\", \"n_registros\": 848, \"roll7\": 847.7142857142857}, {\"fecha_date\": \"2017-12-20T00:00:00\", \"n_registros\": 847, \"roll7\": 848.8571428571429}, {\"fecha_date\": \"2017-12-21T00:00:00\", \"n_registros\": 851, \"roll7\": 850.0}, {\"fecha_date\": \"2017-12-22T00:00:00\", \"n_registros\": 852, \"roll7\": 850.1428571428571}, {\"fecha_date\": \"2017-12-23T00:00:00\", \"n_registros\": 852, \"roll7\": 850.2857142857143}, {\"fecha_date\": \"2017-12-24T00:00:00\", \"n_registros\": 854, \"roll7\": 850.7142857142857}, {\"fecha_date\": \"2017-12-25T00:00:00\", \"n_registros\": 847, \"roll7\": 850.4285714285714}, {\"fecha_date\": \"2017-12-26T00:00:00\", \"n_registros\": 849, \"roll7\": 850.0}, {\"fecha_date\": \"2017-12-27T00:00:00\", \"n_registros\": 850, \"roll7\": 850.0}, {\"fecha_date\": \"2017-12-28T00:00:00\", \"n_registros\": 849, \"roll7\": 849.5714285714286}, {\"fecha_date\": \"2017-12-29T00:00:00\", \"n_registros\": 849, \"roll7\": 850.2857142857143}, {\"fecha_date\": \"2017-12-30T00:00:00\", \"n_registros\": 852, \"roll7\": 850.7142857142857}, {\"fecha_date\": \"2017-12-31T00:00:00\", \"n_registros\": 851, \"roll7\": 850.7142857142857}, {\"fecha_date\": \"2018-01-01T00:00:00\", \"n_registros\": 852, \"roll7\": 850.8571428571429}, {\"fecha_date\": \"2018-01-02T00:00:00\", \"n_registros\": 852, \"roll7\": 850.5714285714286}, {\"fecha_date\": \"2018-01-03T00:00:00\", \"n_registros\": 850, \"roll7\": 849.2857142857143}, {\"fecha_date\": \"2018-01-04T00:00:00\", \"n_registros\": 850, \"roll7\": 848.5714285714286}, {\"fecha_date\": \"2018-01-05T00:00:00\", \"n_registros\": 847, \"roll7\": 847.8571428571429}, {\"fecha_date\": \"2018-01-06T00:00:00\", \"n_registros\": 843, \"roll7\": 847.1428571428571}, {\"fecha_date\": \"2018-01-07T00:00:00\", \"n_registros\": 846, \"roll7\": 847.2857142857143}, {\"fecha_date\": \"2018-01-08T00:00:00\", \"n_registros\": 847, \"roll7\": 847.1428571428571}, {\"fecha_date\": \"2018-01-09T00:00:00\", \"n_registros\": 847, \"roll7\": 847.4285714285714}, {\"fecha_date\": \"2018-01-10T00:00:00\", \"n_registros\": 851, \"roll7\": 848.4285714285714}, {\"fecha_date\": \"2018-01-11T00:00:00\", \"n_registros\": 849, \"roll7\": 848.7142857142857}, {\"fecha_date\": \"2018-01-12T00:00:00\", \"n_registros\": 849, \"roll7\": 848.8571428571429}, {\"fecha_date\": \"2018-01-13T00:00:00\", \"n_registros\": 850, \"roll7\": 848.8571428571429}, {\"fecha_date\": \"2018-01-14T00:00:00\", \"n_registros\": 848, \"roll7\": 848.8571428571429}, {\"fecha_date\": \"2018-01-15T00:00:00\", \"n_registros\": 848, \"roll7\": 849.1428571428571}, {\"fecha_date\": \"2018-01-16T00:00:00\", \"n_registros\": 847, \"roll7\": 849.1428571428571}, {\"fecha_date\": \"2018-01-17T00:00:00\", \"n_registros\": 851, \"roll7\": 849.2857142857143}, {\"fecha_date\": \"2018-01-18T00:00:00\", \"n_registros\": 851, \"roll7\": 849.7142857142857}, {\"fecha_date\": \"2018-01-19T00:00:00\", \"n_registros\": 849, \"roll7\": 850.0}, {\"fecha_date\": \"2018-01-20T00:00:00\", \"n_registros\": 851, \"roll7\": 850.4285714285714}, {\"fecha_date\": \"2018-01-21T00:00:00\", \"n_registros\": 851, \"roll7\": 850.7142857142857}, {\"fecha_date\": \"2018-01-22T00:00:00\", \"n_registros\": 850, \"roll7\": 851.0}, {\"fecha_date\": \"2018-01-23T00:00:00\", \"n_registros\": 850, \"roll7\": 851.4285714285714}, {\"fecha_date\": \"2018-01-24T00:00:00\", \"n_registros\": 853, \"roll7\": 852.0}, {\"fecha_date\": \"2018-01-25T00:00:00\", \"n_registros\": 853, \"roll7\": 852.2857142857143}, {\"fecha_date\": \"2018-01-26T00:00:00\", \"n_registros\": 852, \"roll7\": 852.1428571428571}, {\"fecha_date\": \"2018-01-27T00:00:00\", \"n_registros\": 855, \"roll7\": 852.1428571428571}, {\"fecha_date\": \"2018-01-28T00:00:00\", \"n_registros\": 853, \"roll7\": 851.5714285714286}, {\"fecha_date\": \"2018-01-29T00:00:00\", \"n_registros\": 849, \"roll7\": 851.0}, {\"fecha_date\": \"2018-01-30T00:00:00\", \"n_registros\": 850, \"roll7\": 850.4285714285714}, {\"fecha_date\": \"2018-01-31T00:00:00\", \"n_registros\": 849, \"roll7\": 849.2857142857143}, {\"fecha_date\": \"2018-02-01T00:00:00\", \"n_registros\": 849, \"roll7\": 848.2857142857143}, {\"fecha_date\": \"2018-02-02T00:00:00\", \"n_registros\": 848, \"roll7\": 847.4285714285714}, {\"fecha_date\": \"2018-02-03T00:00:00\", \"n_registros\": 847, \"roll7\": 846.8571428571429}, {\"fecha_date\": \"2018-02-04T00:00:00\", \"n_registros\": 846, \"roll7\": 847.0}, {\"fecha_date\": \"2018-02-05T00:00:00\", \"n_registros\": 843, \"roll7\": 846.8571428571429}, {\"fecha_date\": \"2018-02-06T00:00:00\", \"n_registros\": 846, \"roll7\": 846.8571428571429}, {\"fecha_date\": \"2018-02-07T00:00:00\", \"n_registros\": 850, \"roll7\": 846.7142857142857}, {\"fecha_date\": \"2018-02-08T00:00:00\", \"n_registros\": 848, \"roll7\": 846.5714285714286}, {\"fecha_date\": \"2018-02-09T00:00:00\", \"n_registros\": 848, \"roll7\": 846.7142857142857}, {\"fecha_date\": \"2018-02-10T00:00:00\", \"n_registros\": 846, \"roll7\": 846.7142857142857}, {\"fecha_date\": \"2018-02-11T00:00:00\", \"n_registros\": 845, \"roll7\": 846.4285714285714}, {\"fecha_date\": \"2018-02-12T00:00:00\", \"n_registros\": 844, \"roll7\": 846.5714285714286}, {\"fecha_date\": \"2018-02-13T00:00:00\", \"n_registros\": 846, \"roll7\": 846.8571428571429}, {\"fecha_date\": \"2018-02-14T00:00:00\", \"n_registros\": 848, \"roll7\": 847.5714285714286}, {\"fecha_date\": \"2018-02-15T00:00:00\", \"n_registros\": 849, \"roll7\": 848.4285714285714}, {\"fecha_date\": \"2018-02-16T00:00:00\", \"n_registros\": 850, \"roll7\": 849.0}, {\"fecha_date\": \"2018-02-17T00:00:00\", \"n_registros\": 851, \"roll7\": 849.7142857142857}, {\"fecha_date\": \"2018-02-18T00:00:00\", \"n_registros\": 851, \"roll7\": 850.0}, {\"fecha_date\": \"2018-02-19T00:00:00\", \"n_registros\": 848, \"roll7\": 850.1428571428571}, {\"fecha_date\": \"2018-02-20T00:00:00\", \"n_registros\": 851, \"roll7\": 850.4285714285714}, {\"fecha_date\": \"2018-02-21T00:00:00\", \"n_registros\": 850, \"roll7\": 850.7142857142857}, {\"fecha_date\": \"2018-02-22T00:00:00\", \"n_registros\": 850, \"roll7\": 850.8571428571429}, {\"fecha_date\": \"2018-02-23T00:00:00\", \"n_registros\": 852, \"roll7\": 851.2857142857143}, {\"fecha_date\": \"2018-02-24T00:00:00\", \"n_registros\": 853, \"roll7\": 851.4285714285714}, {\"fecha_date\": \"2018-02-25T00:00:00\", \"n_registros\": 852, \"roll7\": 851.5714285714286}, {\"fecha_date\": \"2018-02-26T00:00:00\", \"n_registros\": 851, \"roll7\": 851.1428571428571}, {\"fecha_date\": \"2018-02-27T00:00:00\", \"n_registros\": 852, \"roll7\": 850.2857142857143}, {\"fecha_date\": \"2018-02-28T00:00:00\", \"n_registros\": 851, \"roll7\": 849.7142857142857}, {\"fecha_date\": \"2018-03-01T00:00:00\", \"n_registros\": 847, \"roll7\": 849.0}, {\"fecha_date\": \"2018-03-02T00:00:00\", \"n_registros\": 846, \"roll7\": 848.2857142857143}, {\"fecha_date\": \"2018-03-03T00:00:00\", \"n_registros\": 849, \"roll7\": 847.4285714285714}, {\"fecha_date\": \"2018-03-04T00:00:00\", \"n_registros\": 847, \"roll7\": 847.0}, {\"fecha_date\": \"2018-03-05T00:00:00\", \"n_registros\": 846, \"roll7\": 847.0}, {\"fecha_date\": \"2018-03-06T00:00:00\", \"n_registros\": 846, \"roll7\": 847.7142857142857}, {\"fecha_date\": \"2018-03-07T00:00:00\", \"n_registros\": 848, \"roll7\": 848.2857142857143}, {\"fecha_date\": \"2018-03-08T00:00:00\", \"n_registros\": 847, \"roll7\": 848.2857142857143}, {\"fecha_date\": \"2018-03-09T00:00:00\", \"n_registros\": 851, \"roll7\": 848.1428571428571}, {\"fecha_date\": \"2018-03-10T00:00:00\", \"n_registros\": 853, \"roll7\": 848.1428571428571}, {\"fecha_date\": \"2018-03-11T00:00:00\", \"n_registros\": 847, \"roll7\": 848.1428571428571}, {\"fecha_date\": \"2018-03-12T00:00:00\", \"n_registros\": 845, \"roll7\": 848.1428571428571}, {\"fecha_date\": \"2018-03-13T00:00:00\", \"n_registros\": 846, \"roll7\": 847.2857142857143}, {\"fecha_date\": \"2018-03-14T00:00:00\", \"n_registros\": 848, \"roll7\": 846.1428571428571}, {\"fecha_date\": \"2018-03-15T00:00:00\", \"n_registros\": 847, \"roll7\": 845.8571428571429}, {\"fecha_date\": \"2018-03-16T00:00:00\", \"n_registros\": 845, \"roll7\": 846.1428571428571}, {\"fecha_date\": \"2018-03-17T00:00:00\", \"n_registros\": 845, \"roll7\": 846.0}, {\"fecha_date\": \"2018-03-18T00:00:00\", \"n_registros\": 845, \"roll7\": 846.1428571428571}, {\"fecha_date\": \"2018-03-19T00:00:00\", \"n_registros\": 847, \"roll7\": 846.1428571428571}, {\"fecha_date\": \"2018-03-20T00:00:00\", \"n_registros\": 845, \"roll7\": 846.2857142857143}, {\"fecha_date\": \"2018-03-21T00:00:00\", \"n_registros\": 849, \"roll7\": 846.5714285714286}, {\"fecha_date\": \"2018-03-22T00:00:00\", \"n_registros\": 847, \"roll7\": 846.8571428571429}, {\"fecha_date\": \"2018-03-23T00:00:00\", \"n_registros\": 846, \"roll7\": 847.0}, {\"fecha_date\": \"2018-03-24T00:00:00\", \"n_registros\": 847, \"roll7\": 847.5714285714286}, {\"fecha_date\": \"2018-03-25T00:00:00\", \"n_registros\": 847, \"roll7\": 847.8571428571429}, {\"fecha_date\": \"2018-03-26T00:00:00\", \"n_registros\": 848, \"roll7\": 848.4285714285714}, {\"fecha_date\": \"2018-03-27T00:00:00\", \"n_registros\": 849, \"roll7\": 849.0}, {\"fecha_date\": \"2018-03-28T00:00:00\", \"n_registros\": 851, \"roll7\": 849.2857142857143}, {\"fecha_date\": \"2018-03-29T00:00:00\", \"n_registros\": 851, \"roll7\": 849.1428571428571}, {\"fecha_date\": \"2018-03-30T00:00:00\", \"n_registros\": 850, \"roll7\": 849.0}, {\"fecha_date\": \"2018-03-31T00:00:00\", \"n_registros\": 849, \"roll7\": 848.4285714285714}, {\"fecha_date\": \"2018-04-01T00:00:00\", \"n_registros\": 846, \"roll7\": 847.4285714285714}, {\"fecha_date\": \"2018-04-02T00:00:00\", \"n_registros\": 847, \"roll7\": 846.4285714285714}, {\"fecha_date\": \"2018-04-03T00:00:00\", \"n_registros\": 845, \"roll7\": 845.2857142857143}, {\"fecha_date\": \"2018-04-04T00:00:00\", \"n_registros\": 844, \"roll7\": 844.0}, {\"fecha_date\": \"2018-04-05T00:00:00\", \"n_registros\": 844, \"roll7\": 842.8571428571429}, {\"fecha_date\": \"2018-04-06T00:00:00\", \"n_registros\": 842, \"roll7\": 842.0}, {\"fecha_date\": \"2018-04-07T00:00:00\", \"n_registros\": 840, \"roll7\": 841.1428571428571}, {\"fecha_date\": \"2018-04-08T00:00:00\", \"n_registros\": 838, \"roll7\": 841.0}, {\"fecha_date\": \"2018-04-09T00:00:00\", \"n_registros\": 841, \"roll7\": 841.0}, {\"fecha_date\": \"2018-04-10T00:00:00\", \"n_registros\": 839, \"roll7\": 841.2857142857143}, {\"fecha_date\": \"2018-04-11T00:00:00\", \"n_registros\": 843, \"roll7\": 842.0}, {\"fecha_date\": \"2018-04-12T00:00:00\", \"n_registros\": 844, \"roll7\": 842.8571428571429}, {\"fecha_date\": \"2018-04-13T00:00:00\", \"n_registros\": 844, \"roll7\": 843.2857142857143}, {\"fecha_date\": \"2018-04-14T00:00:00\", \"n_registros\": 845, \"roll7\": 844.2857142857143}, {\"fecha_date\": \"2018-04-15T00:00:00\", \"n_registros\": 844, \"roll7\": 845.1428571428571}, {\"fecha_date\": \"2018-04-16T00:00:00\", \"n_registros\": 844, \"roll7\": 845.8571428571429}, {\"fecha_date\": \"2018-04-17T00:00:00\", \"n_registros\": 846, \"roll7\": 846.5714285714286}, {\"fecha_date\": \"2018-04-18T00:00:00\", \"n_registros\": 849, \"roll7\": 847.0}, {\"fecha_date\": \"2018-04-19T00:00:00\", \"n_registros\": 849, \"roll7\": 847.1428571428571}, {\"fecha_date\": \"2018-04-20T00:00:00\", \"n_registros\": 849, \"roll7\": 847.7142857142857}, {\"fecha_date\": \"2018-04-21T00:00:00\", \"n_registros\": 848, \"roll7\": 848.0}, {\"fecha_date\": \"2018-04-22T00:00:00\", \"n_registros\": 845, \"roll7\": 847.7142857142857}, {\"fecha_date\": \"2018-04-23T00:00:00\", \"n_registros\": 848, \"roll7\": 846.8571428571429}, {\"fecha_date\": \"2018-04-24T00:00:00\", \"n_registros\": 848, \"roll7\": 846.2857142857143}, {\"fecha_date\": \"2018-04-25T00:00:00\", \"n_registros\": 847, \"roll7\": 846.1428571428571}, {\"fecha_date\": \"2018-04-26T00:00:00\", \"n_registros\": 843, \"roll7\": 846.1428571428571}, {\"fecha_date\": \"2018-04-27T00:00:00\", \"n_registros\": 845, \"roll7\": 845.5714285714286}, {\"fecha_date\": \"2018-04-28T00:00:00\", \"n_registros\": 847, \"roll7\": 845.0}, {\"fecha_date\": \"2018-04-29T00:00:00\", \"n_registros\": 845, \"roll7\": 844.2857142857143}, {\"fecha_date\": \"2018-04-30T00:00:00\", \"n_registros\": 844, \"roll7\": 844.7142857142857}, {\"fecha_date\": \"2018-05-01T00:00:00\", \"n_registros\": 844, \"roll7\": 845.1428571428571}, {\"fecha_date\": \"2018-05-02T00:00:00\", \"n_registros\": 842, \"roll7\": 845.4285714285714}, {\"fecha_date\": \"2018-05-03T00:00:00\", \"n_registros\": 846, \"roll7\": 846.0}, {\"fecha_date\": \"2018-05-04T00:00:00\", \"n_registros\": 848, \"roll7\": 846.7142857142857}, {\"fecha_date\": \"2018-05-05T00:00:00\", \"n_registros\": 849, \"roll7\": 846.8571428571429}, {\"fecha_date\": \"2018-05-06T00:00:00\", \"n_registros\": 849, \"roll7\": 847.2857142857143}, {\"fecha_date\": \"2018-05-07T00:00:00\", \"n_registros\": 849, \"roll7\": 847.4285714285714}, {\"fecha_date\": \"2018-05-08T00:00:00\", \"n_registros\": 845, \"roll7\": 847.4285714285714}, {\"fecha_date\": \"2018-05-09T00:00:00\", \"n_registros\": 845, \"roll7\": 847.5714285714286}, {\"fecha_date\": \"2018-05-10T00:00:00\", \"n_registros\": 847, \"roll7\": 847.4285714285714}, {\"fecha_date\": \"2018-05-11T00:00:00\", \"n_registros\": 848, \"roll7\": 847.1428571428571}, {\"fecha_date\": \"2018-05-12T00:00:00\", \"n_registros\": 850, \"roll7\": 847.4285714285714}, {\"fecha_date\": \"2018-05-13T00:00:00\", \"n_registros\": 848, \"roll7\": 848.1428571428571}, {\"fecha_date\": \"2018-05-14T00:00:00\", \"n_registros\": 847, \"roll7\": 848.2857142857143}, {\"fecha_date\": \"2018-05-15T00:00:00\", \"n_registros\": 847, \"roll7\": 848.7142857142857}, {\"fecha_date\": \"2018-05-16T00:00:00\", \"n_registros\": 850, \"roll7\": 848.5714285714286}, {\"fecha_date\": \"2018-05-17T00:00:00\", \"n_registros\": 848, \"roll7\": 848.2857142857143}, {\"fecha_date\": \"2018-05-18T00:00:00\", \"n_registros\": 851, \"roll7\": 847.7142857142857}, {\"fecha_date\": \"2018-05-19T00:00:00\", \"n_registros\": 849, \"roll7\": 847.8571428571429}, {\"fecha_date\": \"2018-05-20T00:00:00\", \"n_registros\": 846, \"roll7\": 847.4285714285714}, {\"fecha_date\": \"2018-05-21T00:00:00\", \"n_registros\": 843, \"roll7\": 847.1428571428571}, {\"fecha_date\": \"2018-05-22T00:00:00\", \"n_registros\": 848, \"roll7\": 845.7142857142857}, {\"fecha_date\": \"2018-05-23T00:00:00\", \"n_registros\": 847, \"roll7\": 845.0}, {\"fecha_date\": \"2018-05-24T00:00:00\", \"n_registros\": 846, \"roll7\": 844.2857142857143}, {\"fecha_date\": \"2018-05-25T00:00:00\", \"n_registros\": 841, \"roll7\": 844.0}, {\"fecha_date\": \"2018-05-26T00:00:00\", \"n_registros\": 844, \"roll7\": 843.0}, {\"fecha_date\": \"2018-05-27T00:00:00\", \"n_registros\": 841, \"roll7\": 842.8571428571429}, {\"fecha_date\": \"2018-05-28T00:00:00\", \"n_registros\": 841, \"roll7\": 842.7142857142857}, {\"fecha_date\": \"2018-05-29T00:00:00\", \"n_registros\": 841, \"roll7\": 843.5714285714286}, {\"fecha_date\": \"2018-05-30T00:00:00\", \"n_registros\": 846, \"roll7\": 843.8571428571429}, {\"fecha_date\": \"2018-05-31T00:00:00\", \"n_registros\": 845, \"roll7\": 844.8571428571429}, {\"fecha_date\": \"2018-06-01T00:00:00\", \"n_registros\": 847, \"roll7\": 845.5714285714286}, {\"fecha_date\": \"2018-06-02T00:00:00\", \"n_registros\": 846, \"roll7\": 846.4285714285714}, {\"fecha_date\": \"2018-06-03T00:00:00\", \"n_registros\": 848, \"roll7\": 846.8571428571429}, {\"fecha_date\": \"2018-06-04T00:00:00\", \"n_registros\": 846, \"roll7\": 847.5714285714286}, {\"fecha_date\": \"2018-06-05T00:00:00\", \"n_registros\": 847, \"roll7\": 848.2857142857143}, {\"fecha_date\": \"2018-06-06T00:00:00\", \"n_registros\": 849, \"roll7\": 848.8571428571429}, {\"fecha_date\": \"2018-06-07T00:00:00\", \"n_registros\": 850, \"roll7\": 849.1428571428571}, {\"fecha_date\": \"2018-06-08T00:00:00\", \"n_registros\": 852, \"roll7\": 849.8571428571429}, {\"fecha_date\": \"2018-06-09T00:00:00\", \"n_registros\": 850, \"roll7\": 850.4285714285714}, {\"fecha_date\": \"2018-06-10T00:00:00\", \"n_registros\": 850, \"roll7\": 851.0}, {\"fecha_date\": \"2018-06-11T00:00:00\", \"n_registros\": 851, \"roll7\": 851.5714285714286}, {\"fecha_date\": \"2018-06-12T00:00:00\", \"n_registros\": 851, \"roll7\": 851.7142857142857}, {\"fecha_date\": \"2018-06-13T00:00:00\", \"n_registros\": 853, \"roll7\": 851.8571428571429}, {\"fecha_date\": \"2018-06-14T00:00:00\", \"n_registros\": 854, \"roll7\": 852.1428571428571}, {\"fecha_date\": \"2018-06-15T00:00:00\", \"n_registros\": 853, \"roll7\": 852.1428571428571}, {\"fecha_date\": \"2018-06-16T00:00:00\", \"n_registros\": 851, \"roll7\": 852.2857142857143}, {\"fecha_date\": \"2018-06-17T00:00:00\", \"n_registros\": 852, \"roll7\": 852.2857142857143}, {\"fecha_date\": \"2018-06-18T00:00:00\", \"n_registros\": 851, \"roll7\": 852.4285714285714}, {\"fecha_date\": \"2018-06-19T00:00:00\", \"n_registros\": 852, \"roll7\": 852.4285714285714}, {\"fecha_date\": \"2018-06-20T00:00:00\", \"n_registros\": 853, \"roll7\": 852.7142857142857}, {\"fecha_date\": \"2018-06-21T00:00:00\", \"n_registros\": 855, \"roll7\": 852.8571428571429}, {\"fecha_date\": \"2018-06-22T00:00:00\", \"n_registros\": 853, \"roll7\": 852.7142857142857}, {\"fecha_date\": \"2018-06-23T00:00:00\", \"n_registros\": 853, \"roll7\": 852.5714285714286}, {\"fecha_date\": \"2018-06-24T00:00:00\", \"n_registros\": 853, \"roll7\": 851.7142857142857}, {\"fecha_date\": \"2018-06-25T00:00:00\", \"n_registros\": 850, \"roll7\": 850.8571428571429}, {\"fecha_date\": \"2018-06-26T00:00:00\", \"n_registros\": 851, \"roll7\": 850.4285714285714}, {\"fecha_date\": \"2018-06-27T00:00:00\", \"n_registros\": 847, \"roll7\": 849.7142857142857}, {\"fecha_date\": \"2018-06-28T00:00:00\", \"n_registros\": 849, \"roll7\": 848.2857142857143}, {\"fecha_date\": \"2018-06-29T00:00:00\", \"n_registros\": 850, \"roll7\": 847.4285714285714}, {\"fecha_date\": \"2018-06-30T00:00:00\", \"n_registros\": 848, \"roll7\": 846.4285714285714}, {\"fecha_date\": \"2018-07-01T00:00:00\", \"n_registros\": 843, \"roll7\": 845.7142857142857}, {\"fecha_date\": \"2018-07-02T00:00:00\", \"n_registros\": 844, \"roll7\": 845.0}, {\"fecha_date\": \"2018-07-03T00:00:00\", \"n_registros\": 844, \"roll7\": 844.4285714285714}, {\"fecha_date\": \"2018-07-04T00:00:00\", \"n_registros\": 842, \"roll7\": 843.7142857142857}, {\"fecha_date\": \"2018-07-05T00:00:00\", \"n_registros\": 844, \"roll7\": 843.7142857142857}, {\"fecha_date\": \"2018-07-06T00:00:00\", \"n_registros\": 846, \"roll7\": 843.5714285714286}, {\"fecha_date\": \"2018-07-07T00:00:00\", \"n_registros\": 843, \"roll7\": 843.5714285714286}, {\"fecha_date\": \"2018-07-08T00:00:00\", \"n_registros\": 843, \"roll7\": 843.5714285714286}, {\"fecha_date\": \"2018-07-09T00:00:00\", \"n_registros\": 843, \"roll7\": 843.7142857142857}, {\"fecha_date\": \"2018-07-10T00:00:00\", \"n_registros\": 844, \"roll7\": 843.5714285714286}, {\"fecha_date\": \"2018-07-11T00:00:00\", \"n_registros\": 842, \"roll7\": 843.5714285714286}, {\"fecha_date\": \"2018-07-12T00:00:00\", \"n_registros\": 845, \"roll7\": 843.4285714285714}, {\"fecha_date\": \"2018-07-13T00:00:00\", \"n_registros\": 845, \"roll7\": 843.2857142857143}, {\"fecha_date\": \"2018-07-14T00:00:00\", \"n_registros\": 843, \"roll7\": 843.2857142857143}, {\"fecha_date\": \"2018-07-15T00:00:00\", \"n_registros\": 842, \"roll7\": 839.5714285714286}, {\"fecha_date\": \"2018-07-16T00:00:00\", \"n_registros\": 842, \"roll7\": 839.5714285714286}, {\"fecha_date\": \"2018-07-17T00:00:00\", \"n_registros\": 844, \"roll7\": 840.2857142857143}, {\"fecha_date\": \"2018-07-18T00:00:00\", \"n_registros\": 816, \"roll7\": 841.4285714285714}, {\"fecha_date\": \"2018-07-19T00:00:00\", \"n_registros\": 845, \"roll7\": 842.2857142857143}, {\"fecha_date\": \"2018-07-20T00:00:00\", \"n_registros\": 850, \"roll7\": 843.2857142857143}, {\"fecha_date\": \"2018-07-21T00:00:00\", \"n_registros\": 851, \"roll7\": 843.7142857142857}, {\"fecha_date\": \"2018-07-22T00:00:00\", \"n_registros\": 848, \"roll7\": 848.2857142857143}, {\"fecha_date\": \"2018-07-23T00:00:00\", \"n_registros\": 849, \"roll7\": 848.5714285714286}, {\"fecha_date\": \"2018-07-24T00:00:00\", \"n_registros\": 847, \"roll7\": 848.4285714285714}, {\"fecha_date\": \"2018-07-25T00:00:00\", \"n_registros\": 848, \"roll7\": 848.1428571428571}, {\"fecha_date\": \"2018-07-26T00:00:00\", \"n_registros\": 847, \"roll7\": 848.2857142857143}, {\"fecha_date\": \"2018-07-27T00:00:00\", \"n_registros\": 849, \"roll7\": 848.1428571428571}, {\"fecha_date\": \"2018-07-28T00:00:00\", \"n_registros\": 849, \"roll7\": 848.4285714285714}, {\"fecha_date\": \"2018-07-29T00:00:00\", \"n_registros\": 849, \"roll7\": 849.0}, {\"fecha_date\": \"2018-07-30T00:00:00\", \"n_registros\": 848, \"roll7\": 850.0}, {\"fecha_date\": \"2018-07-31T00:00:00\", \"n_registros\": 849, \"roll7\": 850.5714285714286}, {\"fecha_date\": \"2018-08-01T00:00:00\", \"n_registros\": 852, \"roll7\": 851.5714285714286}, {\"fecha_date\": \"2018-08-02T00:00:00\", \"n_registros\": 854, \"roll7\": 852.0}, {\"fecha_date\": \"2018-08-03T00:00:00\", \"n_registros\": 853, \"roll7\": 852.5714285714286}, {\"fecha_date\": \"2018-08-04T00:00:00\", \"n_registros\": 856, \"roll7\": 852.7142857142857}, {\"fecha_date\": \"2018-08-05T00:00:00\", \"n_registros\": 852, \"roll7\": 852.0}, {\"fecha_date\": \"2018-08-06T00:00:00\", \"n_registros\": 852, \"roll7\": 851.8571428571429}, {\"fecha_date\": \"2018-08-07T00:00:00\", \"n_registros\": 850, \"roll7\": 852.0}, {\"fecha_date\": \"2018-08-08T00:00:00\", \"n_registros\": 847, \"roll7\": 852.1428571428571}, {\"fecha_date\": \"2018-08-09T00:00:00\", \"n_registros\": 853, \"roll7\": 852.0}, {\"fecha_date\": \"2018-08-10T00:00:00\", \"n_registros\": 854, \"roll7\": 852.2857142857143}, {\"fecha_date\": \"2018-08-11T00:00:00\", \"n_registros\": 857, \"roll7\": 852.8571428571429}, {\"fecha_date\": \"2018-08-12T00:00:00\", \"n_registros\": 851, \"roll7\": 853.8571428571429}, {\"fecha_date\": \"2018-08-13T00:00:00\", \"n_registros\": 854, \"roll7\": 853.8571428571429}, {\"fecha_date\": \"2018-08-14T00:00:00\", \"n_registros\": 854, \"roll7\": 853.4285714285714}, {\"fecha_date\": \"2018-08-15T00:00:00\", \"n_registros\": 854, \"roll7\": 852.8571428571429}, {\"fecha_date\": \"2018-08-16T00:00:00\", \"n_registros\": 853, \"roll7\": 853.0}, {\"fecha_date\": \"2018-08-17T00:00:00\", \"n_registros\": 851, \"roll7\": 853.0}, {\"fecha_date\": \"2018-08-18T00:00:00\", \"n_registros\": 853, \"roll7\": 853.1428571428571}, {\"fecha_date\": \"2018-08-19T00:00:00\", \"n_registros\": 852, \"roll7\": 853.5714285714286}, {\"fecha_date\": \"2018-08-20T00:00:00\", \"n_registros\": 854, \"roll7\": 854.0}, {\"fecha_date\": \"2018-08-21T00:00:00\", \"n_registros\": 855, \"roll7\": 854.5714285714286}, {\"fecha_date\": \"2018-08-22T00:00:00\", \"n_registros\": 857, \"roll7\": 854.8571428571429}, {\"fecha_date\": \"2018-08-23T00:00:00\", \"n_registros\": 856, \"roll7\": 855.2857142857143}, {\"fecha_date\": \"2018-08-24T00:00:00\", \"n_registros\": 855, \"roll7\": 855.4285714285714}, {\"fecha_date\": \"2018-08-25T00:00:00\", \"n_registros\": 855, \"roll7\": 855.1428571428571}, {\"fecha_date\": \"2018-08-26T00:00:00\", \"n_registros\": 855, \"roll7\": 854.4285714285714}, {\"fecha_date\": \"2018-08-27T00:00:00\", \"n_registros\": 855, \"roll7\": 854.0}, {\"fecha_date\": \"2018-08-28T00:00:00\", \"n_registros\": 853, \"roll7\": 853.4285714285714}, {\"fecha_date\": \"2018-08-29T00:00:00\", \"n_registros\": 852, \"roll7\": 852.8571428571429}, {\"fecha_date\": \"2018-08-30T00:00:00\", \"n_registros\": 853, \"roll7\": 851.8571428571429}, {\"fecha_date\": \"2018-08-31T00:00:00\", \"n_registros\": 851, \"roll7\": 851.0}, {\"fecha_date\": \"2018-09-01T00:00:00\", \"n_registros\": 851, \"roll7\": 850.2857142857143}, {\"fecha_date\": \"2018-09-02T00:00:00\", \"n_registros\": 848, \"roll7\": 849.4285714285714}, {\"fecha_date\": \"2018-09-03T00:00:00\", \"n_registros\": 849, \"roll7\": 849.0}, {\"fecha_date\": \"2018-09-04T00:00:00\", \"n_registros\": 848, \"roll7\": 848.8571428571429}, {\"fecha_date\": \"2018-09-05T00:00:00\", \"n_registros\": 846, \"roll7\": 848.2857142857143}, {\"fecha_date\": \"2018-09-06T00:00:00\", \"n_registros\": 850, \"roll7\": 847.2857142857143}, {\"fecha_date\": \"2018-09-07T00:00:00\", \"n_registros\": 850, \"roll7\": 846.1428571428571}, {\"fecha_date\": \"2018-09-08T00:00:00\", \"n_registros\": 847, \"roll7\": 845.4285714285714}, {\"fecha_date\": \"2018-09-09T00:00:00\", \"n_registros\": 841, \"roll7\": 845.0}, {\"fecha_date\": \"2018-09-10T00:00:00\", \"n_registros\": 841, \"roll7\": 844.1428571428571}, {\"fecha_date\": \"2018-09-11T00:00:00\", \"n_registros\": 843, \"roll7\": 843.5714285714286}, {\"fecha_date\": \"2018-09-12T00:00:00\", \"n_registros\": 843, \"roll7\": 843.5714285714286}, {\"fecha_date\": \"2018-09-13T00:00:00\", \"n_registros\": 844, \"roll7\": 844.0}, {\"fecha_date\": \"2018-09-14T00:00:00\", \"n_registros\": 846, \"roll7\": 843.8571428571429}, {\"fecha_date\": \"2018-09-15T00:00:00\", \"n_registros\": 847, \"roll7\": 843.8571428571429}, {\"fecha_date\": \"2018-09-16T00:00:00\", \"n_registros\": 844, \"roll7\": 843.7142857142857}, {\"fecha_date\": \"2018-09-17T00:00:00\", \"n_registros\": 840, \"roll7\": 843.4285714285714}, {\"fecha_date\": \"2018-09-18T00:00:00\", \"n_registros\": 843, \"roll7\": 843.7142857142857}, {\"fecha_date\": \"2018-09-19T00:00:00\", \"n_registros\": 842, \"roll7\": 844.0}, {\"fecha_date\": \"2018-09-20T00:00:00\", \"n_registros\": 842, \"roll7\": 844.7142857142857}, {\"fecha_date\": \"2018-09-21T00:00:00\", \"n_registros\": 848, \"roll7\": 846.0}, {\"fecha_date\": \"2018-09-22T00:00:00\", \"n_registros\": 849, \"roll7\": 846.5714285714286}, {\"fecha_date\": \"2018-09-23T00:00:00\", \"n_registros\": 849, \"roll7\": 847.4285714285714}, {\"fecha_date\": \"2018-09-24T00:00:00\", \"n_registros\": 849, \"roll7\": 848.4285714285714}, {\"fecha_date\": \"2018-09-25T00:00:00\", \"n_registros\": 847, \"roll7\": 849.0}, {\"fecha_date\": \"2018-09-26T00:00:00\", \"n_registros\": 848, \"roll7\": 849.4285714285714}, {\"fecha_date\": \"2018-09-27T00:00:00\", \"n_registros\": 849, \"roll7\": 849.5714285714286}, {\"fecha_date\": \"2018-09-28T00:00:00\", \"n_registros\": 852, \"roll7\": 850.0}, {\"fecha_date\": \"2018-09-29T00:00:00\", \"n_registros\": 852, \"roll7\": 850.7142857142857}, {\"fecha_date\": \"2018-09-30T00:00:00\", \"n_registros\": 850, \"roll7\": 851.2857142857143}, {\"fecha_date\": \"2018-10-01T00:00:00\", \"n_registros\": 852, \"roll7\": 851.5714285714286}, {\"fecha_date\": \"2018-10-02T00:00:00\", \"n_registros\": 852, \"roll7\": 851.4285714285714}, {\"fecha_date\": \"2018-10-03T00:00:00\", \"n_registros\": 852, \"roll7\": 851.1428571428571}, {\"fecha_date\": \"2018-10-04T00:00:00\", \"n_registros\": 851, \"roll7\": 851.1428571428571}, {\"fecha_date\": \"2018-10-05T00:00:00\", \"n_registros\": 851, \"roll7\": 851.0}, {\"fecha_date\": \"2018-10-06T00:00:00\", \"n_registros\": 850, \"roll7\": 850.1428571428571}, {\"fecha_date\": \"2018-10-07T00:00:00\", \"n_registros\": 850, \"roll7\": 849.4285714285714}, {\"fecha_date\": \"2018-10-08T00:00:00\", \"n_registros\": 851, \"roll7\": 848.7142857142857}, {\"fecha_date\": \"2018-10-09T00:00:00\", \"n_registros\": 846, \"roll7\": 848.2857142857143}, {\"fecha_date\": \"2018-10-10T00:00:00\", \"n_registros\": 847, \"roll7\": 848.0}, {\"fecha_date\": \"2018-10-11T00:00:00\", \"n_registros\": 846, \"roll7\": 847.2857142857143}, {\"fecha_date\": \"2018-10-12T00:00:00\", \"n_registros\": 848, \"roll7\": 846.2857142857143}, {\"fecha_date\": \"2018-10-13T00:00:00\", \"n_registros\": 848, \"roll7\": 846.4285714285714}, {\"fecha_date\": \"2018-10-14T00:00:00\", \"n_registros\": 845, \"roll7\": 847.0}, {\"fecha_date\": \"2018-10-15T00:00:00\", \"n_registros\": 844, \"roll7\": 847.8571428571429}, {\"fecha_date\": \"2018-10-16T00:00:00\", \"n_registros\": 847, \"roll7\": 848.1428571428571}, {\"fecha_date\": \"2018-10-17T00:00:00\", \"n_registros\": 851, \"roll7\": 848.2857142857143}, {\"fecha_date\": \"2018-10-18T00:00:00\", \"n_registros\": 852, \"roll7\": 848.5714285714286}, {\"fecha_date\": \"2018-10-19T00:00:00\", \"n_registros\": 850, \"roll7\": 849.0}, {\"fecha_date\": \"2018-10-20T00:00:00\", \"n_registros\": 849, \"roll7\": 849.4285714285714}, {\"fecha_date\": \"2018-10-21T00:00:00\", \"n_registros\": 847, \"roll7\": 849.2857142857143}, {\"fecha_date\": \"2018-10-22T00:00:00\", \"n_registros\": 847, \"roll7\": 849.0}, {\"fecha_date\": \"2018-10-23T00:00:00\", \"n_registros\": 850, \"roll7\": 848.8571428571429}, {\"fecha_date\": \"2018-10-24T00:00:00\", \"n_registros\": 850, \"roll7\": 848.7142857142857}, {\"fecha_date\": \"2018-10-25T00:00:00\", \"n_registros\": 850, \"roll7\": 847.8571428571429}, {\"fecha_date\": \"2018-10-26T00:00:00\", \"n_registros\": 849, \"roll7\": 847.1428571428571}, {\"fecha_date\": \"2018-10-27T00:00:00\", \"n_registros\": 848, \"roll7\": 846.8571428571429}, {\"fecha_date\": \"2018-10-28T00:00:00\", \"n_registros\": 841, \"roll7\": 846.8571428571429}, {\"fecha_date\": \"2018-10-29T00:00:00\", \"n_registros\": 842, \"roll7\": 847.2857142857143}, {\"fecha_date\": \"2018-10-30T00:00:00\", \"n_registros\": 848, \"roll7\": 847.2857142857143}, {\"fecha_date\": \"2018-10-31T00:00:00\", \"n_registros\": 850, \"roll7\": 847.8571428571429}, {\"fecha_date\": \"2018-11-01T00:00:00\", \"n_registros\": 853, \"roll7\": 849.4285714285714}, {\"fecha_date\": \"2018-11-02T00:00:00\", \"n_registros\": 849, \"roll7\": 851.1428571428571}, {\"fecha_date\": \"2018-11-03T00:00:00\", \"n_registros\": 852, \"roll7\": 852.0}, {\"fecha_date\": \"2018-11-04T00:00:00\", \"n_registros\": 852, \"roll7\": 852.5714285714286}, {\"fecha_date\": \"2018-11-05T00:00:00\", \"n_registros\": 854, \"roll7\": 852.5714285714286}, {\"fecha_date\": \"2018-11-06T00:00:00\", \"n_registros\": 854, \"roll7\": 853.2857142857143}, {\"fecha_date\": \"2018-11-07T00:00:00\", \"n_registros\": 854, \"roll7\": 853.8571428571429}, {\"fecha_date\": \"2018-11-08T00:00:00\", \"n_registros\": 853, \"roll7\": 854.2857142857143}, {\"fecha_date\": \"2018-11-09T00:00:00\", \"n_registros\": 854, \"roll7\": 854.1428571428571}, {\"fecha_date\": \"2018-11-10T00:00:00\", \"n_registros\": 856, \"roll7\": 854.2857142857143}, {\"fecha_date\": \"2018-11-11T00:00:00\", \"n_registros\": 855, \"roll7\": 854.2857142857143}, {\"fecha_date\": \"2018-11-12T00:00:00\", \"n_registros\": 853, \"roll7\": 854.1428571428571}, {\"fecha_date\": \"2018-11-13T00:00:00\", \"n_registros\": 855, \"roll7\": 853.8571428571429}, {\"fecha_date\": \"2018-11-14T00:00:00\", \"n_registros\": 854, \"roll7\": 853.2857142857143}, {\"fecha_date\": \"2018-11-15T00:00:00\", \"n_registros\": 852, \"roll7\": 852.7142857142857}, {\"fecha_date\": \"2018-11-16T00:00:00\", \"n_registros\": 852, \"roll7\": 852.2857142857143}, {\"fecha_date\": \"2018-11-17T00:00:00\", \"n_registros\": 852, \"roll7\": 851.7142857142857}, {\"fecha_date\": \"2018-11-18T00:00:00\", \"n_registros\": 851, \"roll7\": 851.7142857142857}, {\"fecha_date\": \"2018-11-19T00:00:00\", \"n_registros\": 850, \"roll7\": 852.2857142857143}, {\"fecha_date\": \"2018-11-20T00:00:00\", \"n_registros\": 851, \"roll7\": 852.8571428571429}, {\"fecha_date\": \"2018-11-21T00:00:00\", \"n_registros\": 854, \"roll7\": 853.4285714285714}, {\"fecha_date\": \"2018-11-22T00:00:00\", \"n_registros\": 856, \"roll7\": 854.0}, {\"fecha_date\": \"2018-11-23T00:00:00\", \"n_registros\": 856, \"roll7\": 854.5714285714286}, {\"fecha_date\": \"2018-11-24T00:00:00\", \"n_registros\": 856, \"roll7\": 855.1428571428571}, {\"fecha_date\": \"2018-11-25T00:00:00\", \"n_registros\": 855, \"roll7\": 855.5714285714286}, {\"fecha_date\": \"2018-11-26T00:00:00\", \"n_registros\": 854, \"roll7\": 855.7142857142857}, {\"fecha_date\": \"2018-11-27T00:00:00\", \"n_registros\": 855, \"roll7\": 855.8571428571429}, {\"fecha_date\": \"2018-11-28T00:00:00\", \"n_registros\": 857, \"roll7\": 856.2857142857143}, {\"fecha_date\": \"2018-11-29T00:00:00\", \"n_registros\": 857, \"roll7\": 856.7142857142857}, {\"fecha_date\": \"2018-11-30T00:00:00\", \"n_registros\": 857, \"roll7\": 857.1428571428571}, {\"fecha_date\": \"2018-12-01T00:00:00\", \"n_registros\": 859, \"roll7\": 857.4285714285714}, {\"fecha_date\": \"2018-12-02T00:00:00\", \"n_registros\": 858, \"roll7\": 857.2857142857143}, {\"fecha_date\": \"2018-12-03T00:00:00\", \"n_registros\": 857, \"roll7\": 857.0}, {\"fecha_date\": \"2018-12-04T00:00:00\", \"n_registros\": 857, \"roll7\": 856.5714285714286}, {\"fecha_date\": \"2018-12-05T00:00:00\", \"n_registros\": 856, \"roll7\": 855.8571428571429}, {\"fecha_date\": \"2018-12-06T00:00:00\", \"n_registros\": 855, \"roll7\": 855.2857142857143}, {\"fecha_date\": \"2018-12-07T00:00:00\", \"n_registros\": 854, \"roll7\": 854.7142857142857}, {\"fecha_date\": \"2018-12-08T00:00:00\", \"n_registros\": 854, \"roll7\": 854.4285714285714}, {\"fecha_date\": \"2018-12-09T00:00:00\", \"n_registros\": 854, \"roll7\": 853.7142857142857}, {\"fecha_date\": \"2018-12-10T00:00:00\", \"n_registros\": 853, \"roll7\": 852.8571428571429}, {\"fecha_date\": \"2018-12-11T00:00:00\", \"n_registros\": 855, \"roll7\": 852.5714285714286}, {\"fecha_date\": \"2018-12-12T00:00:00\", \"n_registros\": 851, \"roll7\": 852.2857142857143}, {\"fecha_date\": \"2018-12-13T00:00:00\", \"n_registros\": 849, \"roll7\": 851.7142857142857}, {\"fecha_date\": \"2018-12-14T00:00:00\", \"n_registros\": 852, \"roll7\": 851.0}, {\"fecha_date\": \"2018-12-15T00:00:00\", \"n_registros\": 852, \"roll7\": 850.7142857142857}, {\"fecha_date\": \"2018-12-16T00:00:00\", \"n_registros\": 850, \"roll7\": 851.2857142857143}, {\"fecha_date\": \"2018-12-17T00:00:00\", \"n_registros\": 848, \"roll7\": 852.1428571428571}, {\"fecha_date\": \"2018-12-18T00:00:00\", \"n_registros\": 853, \"roll7\": 852.4285714285714}, {\"fecha_date\": \"2018-12-19T00:00:00\", \"n_registros\": 855, \"roll7\": 853.1428571428571}, {\"fecha_date\": \"2018-12-20T00:00:00\", \"n_registros\": 855, \"roll7\": 854.1428571428571}, {\"fecha_date\": \"2018-12-21T00:00:00\", \"n_registros\": 854, \"roll7\": 855.4285714285714}, {\"fecha_date\": \"2018-12-22T00:00:00\", \"n_registros\": 857, \"roll7\": 856.0}, {\"fecha_date\": \"2018-12-23T00:00:00\", \"n_registros\": 857, \"roll7\": 856.2857142857143}, {\"fecha_date\": \"2018-12-24T00:00:00\", \"n_registros\": 857, \"roll7\": 856.5714285714286}, {\"fecha_date\": \"2018-12-25T00:00:00\", \"n_registros\": 857, \"roll7\": 856.8571428571429}, {\"fecha_date\": \"2018-12-26T00:00:00\", \"n_registros\": 857, \"roll7\": 856.5714285714286}, {\"fecha_date\": \"2018-12-27T00:00:00\", \"n_registros\": 857, \"roll7\": 856.4285714285714}, {\"fecha_date\": \"2018-12-28T00:00:00\", \"n_registros\": 856, \"roll7\": 856.1428571428571}, {\"fecha_date\": \"2018-12-29T00:00:00\", \"n_registros\": 855, \"roll7\": 856.1428571428571}, {\"fecha_date\": \"2018-12-30T00:00:00\", \"n_registros\": 856, \"roll7\": 855.5714285714286}, {\"fecha_date\": \"2018-12-31T00:00:00\", \"n_registros\": 855, \"roll7\": 855.2857142857143}, {\"fecha_date\": \"2019-01-01T00:00:00\", \"n_registros\": 857, \"roll7\": 855.2857142857143}, {\"fecha_date\": \"2019-01-02T00:00:00\", \"n_registros\": 853, \"roll7\": 855.2857142857143}, {\"fecha_date\": \"2019-01-03T00:00:00\", \"n_registros\": 855, \"roll7\": 855.2857142857143}, {\"fecha_date\": \"2019-01-04T00:00:00\", \"n_registros\": 856, \"roll7\": 855.2857142857143}, {\"fecha_date\": \"2019-01-05T00:00:00\", \"n_registros\": 855, \"roll7\": 854.8571428571429}, {\"fecha_date\": \"2019-01-06T00:00:00\", \"n_registros\": 856, \"roll7\": 855.2857142857143}, {\"fecha_date\": \"2019-01-07T00:00:00\", \"n_registros\": 855, \"roll7\": 855.2857142857143}, {\"fecha_date\": \"2019-01-08T00:00:00\", \"n_registros\": 854, \"roll7\": 855.0}, {\"fecha_date\": \"2019-01-09T00:00:00\", \"n_registros\": 856, \"roll7\": 855.0}, {\"fecha_date\": \"2019-01-10T00:00:00\", \"n_registros\": 855, \"roll7\": 854.8571428571429}, {\"fecha_date\": \"2019-01-11T00:00:00\", \"n_registros\": 854, \"roll7\": 854.7142857142857}, {\"fecha_date\": \"2019-01-12T00:00:00\", \"n_registros\": 855, \"roll7\": 854.8571428571429}, {\"fecha_date\": \"2019-01-13T00:00:00\", \"n_registros\": 855, \"roll7\": 854.5714285714286}, {\"fecha_date\": \"2019-01-14T00:00:00\", \"n_registros\": 854, \"roll7\": 854.4285714285714}, {\"fecha_date\": \"2019-01-15T00:00:00\", \"n_registros\": 855, \"roll7\": 854.8571428571429}, {\"fecha_date\": \"2019-01-16T00:00:00\", \"n_registros\": 854, \"roll7\": 854.4285714285714}, {\"fecha_date\": \"2019-01-17T00:00:00\", \"n_registros\": 854, \"roll7\": 854.0}, {\"fecha_date\": \"2019-01-18T00:00:00\", \"n_registros\": 857, \"roll7\": 853.4285714285714}, {\"fecha_date\": \"2019-01-19T00:00:00\", \"n_registros\": 852, \"roll7\": 852.8571428571429}, {\"fecha_date\": \"2019-01-20T00:00:00\", \"n_registros\": 852, \"roll7\": 852.7142857142857}, {\"fecha_date\": \"2019-01-21T00:00:00\", \"n_registros\": 850, \"roll7\": 852.4285714285714}, {\"fecha_date\": \"2019-01-22T00:00:00\", \"n_registros\": 851, \"roll7\": 851.2857142857143}, {\"fecha_date\": \"2019-01-23T00:00:00\", \"n_registros\": 853, \"roll7\": 851.2857142857143}, {\"fecha_date\": \"2019-01-24T00:00:00\", \"n_registros\": 852, \"roll7\": 851.1428571428571}, {\"fecha_date\": \"2019-01-25T00:00:00\", \"n_registros\": 849, \"roll7\": 851.5714285714286}, {\"fecha_date\": \"2019-01-26T00:00:00\", \"n_registros\": 852, \"roll7\": 851.8571428571429}, {\"fecha_date\": \"2019-01-27T00:00:00\", \"n_registros\": 851, \"roll7\": 852.0}, {\"fecha_date\": \"2019-01-28T00:00:00\", \"n_registros\": 853, \"roll7\": 852.0}, {\"fecha_date\": \"2019-01-29T00:00:00\", \"n_registros\": 853, \"roll7\": 851.8571428571429}, {\"fecha_date\": \"2019-01-30T00:00:00\", \"n_registros\": 854, \"roll7\": 851.7142857142857}, {\"fecha_date\": \"2019-01-31T00:00:00\", \"n_registros\": 852, \"roll7\": 851.7142857142857}, {\"fecha_date\": \"2019-02-01T00:00:00\", \"n_registros\": 848, \"roll7\": 851.4285714285714}, {\"fecha_date\": \"2019-02-02T00:00:00\", \"n_registros\": 851, \"roll7\": 851.4285714285714}, {\"fecha_date\": \"2019-02-03T00:00:00\", \"n_registros\": 851, \"roll7\": 850.8571428571429}, {\"fecha_date\": \"2019-02-04T00:00:00\", \"n_registros\": 851, \"roll7\": 851.1428571428571}, {\"fecha_date\": \"2019-02-05T00:00:00\", \"n_registros\": 853, \"roll7\": 852.4285714285714}, {\"fecha_date\": \"2019-02-06T00:00:00\", \"n_registros\": 850, \"roll7\": 853.1428571428571}, {\"fecha_date\": \"2019-02-07T00:00:00\", \"n_registros\": 854, \"roll7\": 854.0}, {\"fecha_date\": \"2019-02-08T00:00:00\", \"n_registros\": 857, \"roll7\": 855.0}, {\"fecha_date\": \"2019-02-09T00:00:00\", \"n_registros\": 856, \"roll7\": 855.4285714285714}, {\"fecha_date\": \"2019-02-10T00:00:00\", \"n_registros\": 857, \"roll7\": 856.5714285714286}, {\"fecha_date\": \"2019-02-11T00:00:00\", \"n_registros\": 858, \"roll7\": 857.2857142857143}, {\"fecha_date\": \"2019-02-12T00:00:00\", \"n_registros\": 856, \"roll7\": 857.8571428571429}, {\"fecha_date\": \"2019-02-13T00:00:00\", \"n_registros\": 858, \"roll7\": 858.4285714285714}, {\"fecha_date\": \"2019-02-14T00:00:00\", \"n_registros\": 859, \"roll7\": 858.2857142857143}, {\"fecha_date\": \"2019-02-15T00:00:00\", \"n_registros\": 861, \"roll7\": 858.2857142857143}, {\"fecha_date\": \"2019-02-16T00:00:00\", \"n_registros\": 860, \"roll7\": 858.7142857142857}, {\"fecha_date\": \"2019-02-17T00:00:00\", \"n_registros\": 856, \"roll7\": 859.1428571428571}, {\"fecha_date\": \"2019-02-18T00:00:00\", \"n_registros\": 858, \"roll7\": 859.4285714285714}, {\"fecha_date\": \"2019-02-19T00:00:00\", \"n_registros\": 859, \"roll7\": 859.2857142857143}, {\"fecha_date\": \"2019-02-20T00:00:00\", \"n_registros\": 861, \"roll7\": 859.4285714285714}, {\"fecha_date\": \"2019-02-21T00:00:00\", \"n_registros\": 861, \"roll7\": 860.0}, {\"fecha_date\": \"2019-02-22T00:00:00\", \"n_registros\": 860, \"roll7\": 859.7142857142857}, {\"fecha_date\": \"2019-02-23T00:00:00\", \"n_registros\": 861, \"roll7\": 859.4285714285714}, {\"fecha_date\": \"2019-02-24T00:00:00\", \"n_registros\": 860, \"roll7\": 859.1428571428571}, {\"fecha_date\": \"2019-02-25T00:00:00\", \"n_registros\": 856, \"roll7\": 858.4285714285714}, {\"fecha_date\": \"2019-02-26T00:00:00\", \"n_registros\": 857, \"roll7\": 858.0}, {\"fecha_date\": \"2019-02-27T00:00:00\", \"n_registros\": 859, \"roll7\": 857.4285714285714}, {\"fecha_date\": \"2019-02-28T00:00:00\", \"n_registros\": 856, \"roll7\": 856.7142857142857}, {\"fecha_date\": \"2019-03-01T00:00:00\", \"n_registros\": 857, \"roll7\": 856.5714285714286}, {\"fecha_date\": \"2019-03-02T00:00:00\", \"n_registros\": 857, \"roll7\": 856.2857142857143}, {\"fecha_date\": \"2019-03-03T00:00:00\", \"n_registros\": 855, \"roll7\": 855.7142857142857}, {\"fecha_date\": \"2019-03-04T00:00:00\", \"n_registros\": 855, \"roll7\": 855.1428571428571}, {\"fecha_date\": \"2019-03-05T00:00:00\", \"n_registros\": 855, \"roll7\": 854.8571428571429}, {\"fecha_date\": \"2019-03-06T00:00:00\", \"n_registros\": 855, \"roll7\": 854.4285714285714}, {\"fecha_date\": \"2019-03-07T00:00:00\", \"n_registros\": 852, \"roll7\": 854.5714285714286}, {\"fecha_date\": \"2019-03-08T00:00:00\", \"n_registros\": 855, \"roll7\": 854.4285714285714}, {\"fecha_date\": \"2019-03-09T00:00:00\", \"n_registros\": 854, \"roll7\": 854.2857142857143}, {\"fecha_date\": \"2019-03-10T00:00:00\", \"n_registros\": 856, \"roll7\": 854.2857142857143}, {\"fecha_date\": \"2019-03-11T00:00:00\", \"n_registros\": 854, \"roll7\": 854.7142857142857}, {\"fecha_date\": \"2019-03-12T00:00:00\", \"n_registros\": 854, \"roll7\": 855.1428571428571}, {\"fecha_date\": \"2019-03-13T00:00:00\", \"n_registros\": 855, \"roll7\": 855.7142857142857}, {\"fecha_date\": \"2019-03-14T00:00:00\", \"n_registros\": 855, \"roll7\": 856.0}, {\"fecha_date\": \"2019-03-15T00:00:00\", \"n_registros\": 858, \"roll7\": 856.5714285714286}, {\"fecha_date\": \"2019-03-16T00:00:00\", \"n_registros\": 858, \"roll7\": 857.2857142857143}, {\"fecha_date\": \"2019-03-17T00:00:00\", \"n_registros\": 858, \"roll7\": 857.8571428571429}, {\"fecha_date\": \"2019-03-18T00:00:00\", \"n_registros\": 858, \"roll7\": 858.4285714285714}, {\"fecha_date\": \"2019-03-19T00:00:00\", \"n_registros\": 859, \"roll7\": 858.8571428571429}, {\"fecha_date\": \"2019-03-20T00:00:00\", \"n_registros\": 859, \"roll7\": 859.1428571428571}, {\"fecha_date\": \"2019-03-21T00:00:00\", \"n_registros\": 859, \"roll7\": 859.2857142857143}, {\"fecha_date\": \"2019-03-22T00:00:00\", \"n_registros\": 861, \"roll7\": 859.2857142857143}, {\"fecha_date\": \"2019-03-23T00:00:00\", \"n_registros\": 860, \"roll7\": 859.4285714285714}, {\"fecha_date\": \"2019-03-24T00:00:00\", \"n_registros\": 859, \"roll7\": 859.5714285714286}, {\"fecha_date\": \"2019-03-25T00:00:00\", \"n_registros\": 858, \"roll7\": 859.4285714285714}, {\"fecha_date\": \"2019-03-26T00:00:00\", \"n_registros\": 860, \"roll7\": 858.8571428571429}, {\"fecha_date\": \"2019-03-27T00:00:00\", \"n_registros\": 860, \"roll7\": 858.5714285714286}, {\"fecha_date\": \"2019-03-28T00:00:00\", \"n_registros\": 858, \"roll7\": 858.5714285714286}, {\"fecha_date\": \"2019-03-29T00:00:00\", \"n_registros\": 857, \"roll7\": 858.1428571428571}, {\"fecha_date\": \"2019-03-30T00:00:00\", \"n_registros\": 858, \"roll7\": 857.5714285714286}, {\"fecha_date\": \"2019-03-31T00:00:00\", \"n_registros\": 859, \"roll7\": 856.8571428571429}, {\"fecha_date\": \"2019-04-01T00:00:00\", \"n_registros\": 855, \"roll7\": 856.8571428571429}, {\"fecha_date\": \"2019-04-02T00:00:00\", \"n_registros\": 856, \"roll7\": 857.1428571428571}, {\"fecha_date\": \"2019-04-03T00:00:00\", \"n_registros\": 855, \"roll7\": 856.8571428571429}, {\"fecha_date\": \"2019-04-04T00:00:00\", \"n_registros\": 858, \"roll7\": 856.2857142857143}, {\"fecha_date\": \"2019-04-05T00:00:00\", \"n_registros\": 859, \"roll7\": 856.2857142857143}, {\"fecha_date\": \"2019-04-06T00:00:00\", \"n_registros\": 856, \"roll7\": 856.5714285714286}, {\"fecha_date\": \"2019-04-07T00:00:00\", \"n_registros\": 855, \"roll7\": 856.7142857142857}, {\"fecha_date\": \"2019-04-08T00:00:00\", \"n_registros\": 855, \"roll7\": 856.8571428571429}, {\"fecha_date\": \"2019-04-09T00:00:00\", \"n_registros\": 858, \"roll7\": 856.7142857142857}, {\"fecha_date\": \"2019-04-10T00:00:00\", \"n_registros\": 856, \"roll7\": 857.2857142857143}, {\"fecha_date\": \"2019-04-11T00:00:00\", \"n_registros\": 859, \"roll7\": 857.8571428571429}, {\"fecha_date\": \"2019-04-12T00:00:00\", \"n_registros\": 858, \"roll7\": 857.7142857142857}, {\"fecha_date\": \"2019-04-13T00:00:00\", \"n_registros\": 860, \"roll7\": 857.4285714285714}, {\"fecha_date\": \"2019-04-14T00:00:00\", \"n_registros\": 859, \"roll7\": 857.4285714285714}, {\"fecha_date\": \"2019-04-15T00:00:00\", \"n_registros\": 854, \"roll7\": 857.1428571428571}, {\"fecha_date\": \"2019-04-16T00:00:00\", \"n_registros\": 856, \"roll7\": 856.2857142857143}, {\"fecha_date\": \"2019-04-17T00:00:00\", \"n_registros\": 856, \"roll7\": 855.5714285714286}, {\"fecha_date\": \"2019-04-18T00:00:00\", \"n_registros\": 857, \"roll7\": 854.7142857142857}, {\"fecha_date\": \"2019-04-19T00:00:00\", \"n_registros\": 852, \"roll7\": 854.5714285714286}, {\"fecha_date\": \"2019-04-20T00:00:00\", \"n_registros\": 855, \"roll7\": 853.5714285714286}, {\"fecha_date\": \"2019-04-21T00:00:00\", \"n_registros\": 853, \"roll7\": 853.0}, {\"fecha_date\": \"2019-04-22T00:00:00\", \"n_registros\": 853, \"roll7\": 852.5714285714286}, {\"fecha_date\": \"2019-04-23T00:00:00\", \"n_registros\": 849, \"roll7\": 853.5714285714286}, {\"fecha_date\": \"2019-04-24T00:00:00\", \"n_registros\": 852, \"roll7\": 854.4285714285714}, {\"fecha_date\": \"2019-04-25T00:00:00\", \"n_registros\": 854, \"roll7\": 855.4285714285714}, {\"fecha_date\": \"2019-04-26T00:00:00\", \"n_registros\": 859, \"roll7\": 856.2857142857143}, {\"fecha_date\": \"2019-04-27T00:00:00\", \"n_registros\": 861, \"roll7\": 858.0}, {\"fecha_date\": \"2019-04-28T00:00:00\", \"n_registros\": 860, \"roll7\": 859.2857142857143}, {\"fecha_date\": \"2019-04-29T00:00:00\", \"n_registros\": 859, \"roll7\": 860.7142857142857}, {\"fecha_date\": \"2019-04-30T00:00:00\", \"n_registros\": 861, \"roll7\": 861.0}, {\"fecha_date\": \"2019-05-01T00:00:00\", \"n_registros\": 861, \"roll7\": 861.1428571428571}, {\"fecha_date\": \"2019-05-02T00:00:00\", \"n_registros\": 864, \"roll7\": 861.2857142857143}, {\"fecha_date\": \"2019-05-03T00:00:00\", \"n_registros\": 861, \"roll7\": 861.2857142857143}, {\"fecha_date\": \"2019-05-04T00:00:00\", \"n_registros\": 862, \"roll7\": 861.1428571428571}, {\"fecha_date\": \"2019-05-05T00:00:00\", \"n_registros\": 861, \"roll7\": 861.1428571428571}, {\"fecha_date\": \"2019-05-06T00:00:00\", \"n_registros\": 859, \"roll7\": 860.5714285714286}, {\"fecha_date\": \"2019-05-07T00:00:00\", \"n_registros\": 860, \"roll7\": 860.2857142857143}, {\"fecha_date\": \"2019-05-08T00:00:00\", \"n_registros\": 861, \"roll7\": 860.0}, {\"fecha_date\": \"2019-05-09T00:00:00\", \"n_registros\": 860, \"roll7\": 859.8571428571429}, {\"fecha_date\": \"2019-05-10T00:00:00\", \"n_registros\": 859, \"roll7\": 859.7142857142857}, {\"fecha_date\": \"2019-05-11T00:00:00\", \"n_registros\": 860, \"roll7\": 860.0}, {\"fecha_date\": \"2019-05-12T00:00:00\", \"n_registros\": 860, \"roll7\": 860.0}, {\"fecha_date\": \"2019-05-13T00:00:00\", \"n_registros\": 858, \"roll7\": 860.0}, {\"fecha_date\": \"2019-05-14T00:00:00\", \"n_registros\": 862, \"roll7\": 860.1428571428571}, {\"fecha_date\": \"2019-05-15T00:00:00\", \"n_registros\": 861, \"roll7\": 860.4285714285714}, {\"fecha_date\": \"2019-05-16T00:00:00\", \"n_registros\": 860, \"roll7\": 860.8571428571429}, {\"fecha_date\": \"2019-05-17T00:00:00\", \"n_registros\": 860, \"roll7\": 861.1428571428571}, {\"fecha_date\": \"2019-05-18T00:00:00\", \"n_registros\": 862, \"roll7\": 861.2857142857143}, {\"fecha_date\": \"2019-05-19T00:00:00\", \"n_registros\": 863, \"roll7\": 861.1428571428571}, {\"fecha_date\": \"2019-05-20T00:00:00\", \"n_registros\": 860, \"roll7\": 860.8571428571429}, {\"fecha_date\": \"2019-05-21T00:00:00\", \"n_registros\": 863, \"roll7\": 860.7142857142857}, {\"fecha_date\": \"2019-05-22T00:00:00\", \"n_registros\": 860, \"roll7\": 860.2857142857143}, {\"fecha_date\": \"2019-05-23T00:00:00\", \"n_registros\": 858, \"roll7\": 859.7142857142857}, {\"fecha_date\": \"2019-05-24T00:00:00\", \"n_registros\": 859, \"roll7\": 859.4285714285714}, {\"fecha_date\": \"2019-05-25T00:00:00\", \"n_registros\": 859, \"roll7\": 858.5714285714286}, {\"fecha_date\": \"2019-05-26T00:00:00\", \"n_registros\": 859, \"roll7\": 858.4285714285714}, {\"fecha_date\": \"2019-05-27T00:00:00\", \"n_registros\": 858, \"roll7\": 858.5714285714286}, {\"fecha_date\": \"2019-05-28T00:00:00\", \"n_registros\": 857, \"roll7\": 858.8571428571429}, {\"fecha_date\": \"2019-05-29T00:00:00\", \"n_registros\": 859, \"roll7\": 859.5714285714286}, {\"fecha_date\": \"2019-05-30T00:00:00\", \"n_registros\": 859, \"roll7\": 860.1428571428571}, {\"fecha_date\": \"2019-05-31T00:00:00\", \"n_registros\": 861, \"roll7\": 860.8571428571429}, {\"fecha_date\": \"2019-06-01T00:00:00\", \"n_registros\": 864, \"roll7\": 861.8571428571429}, {\"fecha_date\": \"2019-06-02T00:00:00\", \"n_registros\": 863, \"roll7\": 862.5714285714286}, {\"fecha_date\": \"2019-06-03T00:00:00\", \"n_registros\": 863, \"roll7\": 862.8571428571429}, {\"fecha_date\": \"2019-06-04T00:00:00\", \"n_registros\": 864, \"roll7\": 862.8571428571429}, {\"fecha_date\": \"2019-06-05T00:00:00\", \"n_registros\": 864, \"roll7\": 862.5714285714286}, {\"fecha_date\": \"2019-06-06T00:00:00\", \"n_registros\": 861, \"roll7\": 862.1428571428571}, {\"fecha_date\": \"2019-06-07T00:00:00\", \"n_registros\": 861, \"roll7\": 861.7142857142857}, {\"fecha_date\": \"2019-06-08T00:00:00\", \"n_registros\": 862, \"roll7\": 861.1428571428571}, {\"fecha_date\": \"2019-06-09T00:00:00\", \"n_registros\": 860, \"roll7\": 860.4285714285714}, {\"fecha_date\": \"2019-06-10T00:00:00\", \"n_registros\": 860, \"roll7\": 860.4285714285714}, {\"fecha_date\": \"2019-06-11T00:00:00\", \"n_registros\": 860, \"roll7\": 860.1428571428571}, {\"fecha_date\": \"2019-06-12T00:00:00\", \"n_registros\": 859, \"roll7\": 859.7142857142857}, {\"fecha_date\": \"2019-06-13T00:00:00\", \"n_registros\": 861, \"roll7\": 859.5714285714286}, {\"fecha_date\": \"2019-06-14T00:00:00\", \"n_registros\": 859, \"roll7\": 859.4285714285714}, {\"fecha_date\": \"2019-06-15T00:00:00\", \"n_registros\": 859, \"roll7\": 857.0}, {\"fecha_date\": \"2019-06-16T00:00:00\", \"n_registros\": 859, \"roll7\": 853.7142857142857}, {\"fecha_date\": \"2019-06-17T00:00:00\", \"n_registros\": 859, \"roll7\": 853.1428571428571}, {\"fecha_date\": \"2019-06-18T00:00:00\", \"n_registros\": 843, \"roll7\": 853.0}, {\"fecha_date\": \"2019-06-19T00:00:00\", \"n_registros\": 836, \"roll7\": 853.1428571428571}, {\"fecha_date\": \"2019-06-20T00:00:00\", \"n_registros\": 857, \"roll7\": 853.4285714285714}, {\"fecha_date\": \"2019-06-21T00:00:00\", \"n_registros\": 858, \"roll7\": 853.7142857142857}, {\"fecha_date\": \"2019-06-22T00:00:00\", \"n_registros\": 860, \"roll7\": 856.1428571428571}, {\"fecha_date\": \"2019-06-23T00:00:00\", \"n_registros\": 861, \"roll7\": 859.0}, {\"fecha_date\": \"2019-06-24T00:00:00\", \"n_registros\": 861, \"roll7\": 858.7142857142857}, {\"fecha_date\": \"2019-06-25T00:00:00\", \"n_registros\": 860, \"roll7\": 858.7142857142857}, {\"fecha_date\": \"2019-06-26T00:00:00\", \"n_registros\": 856, \"roll7\": 858.0}, {\"fecha_date\": \"2019-06-27T00:00:00\", \"n_registros\": 855, \"roll7\": 857.0}, {\"fecha_date\": \"2019-06-28T00:00:00\", \"n_registros\": 858, \"roll7\": 855.5714285714286}, {\"fecha_date\": \"2019-06-29T00:00:00\", \"n_registros\": 855, \"roll7\": 854.4285714285714}, {\"fecha_date\": \"2019-06-30T00:00:00\", \"n_registros\": 854, \"roll7\": 853.4285714285714}, {\"fecha_date\": \"2019-07-01T00:00:00\", \"n_registros\": 851, \"roll7\": 853.1428571428571}, {\"fecha_date\": \"2019-07-02T00:00:00\", \"n_registros\": 852, \"roll7\": 852.0}, {\"fecha_date\": \"2019-07-03T00:00:00\", \"n_registros\": 849, \"roll7\": 851.1428571428571}, {\"fecha_date\": \"2019-07-04T00:00:00\", \"n_registros\": 853, \"roll7\": 850.4285714285714}, {\"fecha_date\": \"2019-07-05T00:00:00\", \"n_registros\": 850, \"roll7\": 849.4285714285714}, {\"fecha_date\": \"2019-07-06T00:00:00\", \"n_registros\": 849, \"roll7\": 848.4285714285714}, {\"fecha_date\": \"2019-07-07T00:00:00\", \"n_registros\": 849, \"roll7\": 848.4285714285714}, {\"fecha_date\": \"2019-07-08T00:00:00\", \"n_registros\": 844, \"roll7\": 848.2857142857143}, {\"fecha_date\": \"2019-07-09T00:00:00\", \"n_registros\": 845, \"roll7\": 848.2857142857143}, {\"fecha_date\": \"2019-07-10T00:00:00\", \"n_registros\": 849, \"roll7\": 848.5714285714286}, {\"fecha_date\": \"2019-07-11T00:00:00\", \"n_registros\": 852, \"roll7\": 848.4285714285714}, {\"fecha_date\": \"2019-07-12T00:00:00\", \"n_registros\": 850, \"roll7\": 849.1428571428571}, {\"fecha_date\": \"2019-07-13T00:00:00\", \"n_registros\": 851, \"roll7\": 850.4285714285714}, {\"fecha_date\": \"2019-07-14T00:00:00\", \"n_registros\": 848, \"roll7\": 850.8571428571429}, {\"fecha_date\": \"2019-07-15T00:00:00\", \"n_registros\": 849, \"roll7\": 851.0}, {\"fecha_date\": \"2019-07-16T00:00:00\", \"n_registros\": 854, \"roll7\": 851.8571428571429}, {\"fecha_date\": \"2019-07-17T00:00:00\", \"n_registros\": 852, \"roll7\": 852.5714285714286}, {\"fecha_date\": \"2019-07-18T00:00:00\", \"n_registros\": 853, \"roll7\": 853.1428571428571}, {\"fecha_date\": \"2019-07-19T00:00:00\", \"n_registros\": 856, \"roll7\": 852.8571428571429}, {\"fecha_date\": \"2019-07-20T00:00:00\", \"n_registros\": 856, \"roll7\": 852.0}, {\"fecha_date\": \"2019-07-21T00:00:00\", \"n_registros\": 852, \"roll7\": 851.5714285714286}, {\"fecha_date\": \"2019-07-22T00:00:00\", \"n_registros\": 847, \"roll7\": 851.4285714285714}, {\"fecha_date\": \"2019-07-23T00:00:00\", \"n_registros\": 848, \"roll7\": 850.8571428571429}, {\"fecha_date\": \"2019-07-24T00:00:00\", \"n_registros\": 849, \"roll7\": 850.0}, {\"fecha_date\": \"2019-07-25T00:00:00\", \"n_registros\": 852, \"roll7\": 849.7142857142857}, {\"fecha_date\": \"2019-07-26T00:00:00\", \"n_registros\": 852, \"roll7\": 850.4285714285714}, {\"fecha_date\": \"2019-07-27T00:00:00\", \"n_registros\": 850, \"roll7\": 851.4285714285714}, {\"fecha_date\": \"2019-07-28T00:00:00\", \"n_registros\": 850, \"roll7\": 851.8571428571429}, {\"fecha_date\": \"2019-07-29T00:00:00\", \"n_registros\": 852, \"roll7\": 852.4285714285714}, {\"fecha_date\": \"2019-07-30T00:00:00\", \"n_registros\": 855, \"roll7\": 853.1428571428571}, {\"fecha_date\": \"2019-07-31T00:00:00\", \"n_registros\": 852, \"roll7\": 854.1428571428571}, {\"fecha_date\": \"2019-08-01T00:00:00\", \"n_registros\": 856, \"roll7\": 854.8571428571429}, {\"fecha_date\": \"2019-08-02T00:00:00\", \"n_registros\": 857, \"roll7\": 855.2857142857143}, {\"fecha_date\": \"2019-08-03T00:00:00\", \"n_registros\": 857, \"roll7\": 855.4285714285714}, {\"fecha_date\": \"2019-08-04T00:00:00\", \"n_registros\": 855, \"roll7\": 856.0}, {\"fecha_date\": \"2019-08-05T00:00:00\", \"n_registros\": 855, \"roll7\": 856.1428571428571}, {\"fecha_date\": \"2019-08-06T00:00:00\", \"n_registros\": 856, \"roll7\": 856.2857142857143}, {\"fecha_date\": \"2019-08-07T00:00:00\", \"n_registros\": 856, \"roll7\": 856.1428571428571}, {\"fecha_date\": \"2019-08-08T00:00:00\", \"n_registros\": 857, \"roll7\": 856.0}, {\"fecha_date\": \"2019-08-09T00:00:00\", \"n_registros\": 858, \"roll7\": 856.1428571428571}, {\"fecha_date\": \"2019-08-10T00:00:00\", \"n_registros\": 856, \"roll7\": 856.4285714285714}, {\"fecha_date\": \"2019-08-11T00:00:00\", \"n_registros\": 854, \"roll7\": 856.5714285714286}, {\"fecha_date\": \"2019-08-12T00:00:00\", \"n_registros\": 856, \"roll7\": 856.8571428571429}, {\"fecha_date\": \"2019-08-13T00:00:00\", \"n_registros\": 858, \"roll7\": 856.7142857142857}, {\"fecha_date\": \"2019-08-14T00:00:00\", \"n_registros\": 857, \"roll7\": 856.8571428571429}, {\"fecha_date\": \"2019-08-15T00:00:00\", \"n_registros\": 859, \"roll7\": 857.4285714285714}, {\"fecha_date\": \"2019-08-16T00:00:00\", \"n_registros\": 857, \"roll7\": 857.4285714285714}, {\"fecha_date\": \"2019-08-17T00:00:00\", \"n_registros\": 857, \"roll7\": 857.1428571428571}, {\"fecha_date\": \"2019-08-18T00:00:00\", \"n_registros\": 858, \"roll7\": 857.0}, {\"fecha_date\": \"2019-08-19T00:00:00\", \"n_registros\": 856, \"roll7\": 856.5714285714286}, {\"fecha_date\": \"2019-08-20T00:00:00\", \"n_registros\": 856, \"roll7\": 856.4285714285714}, {\"fecha_date\": \"2019-08-21T00:00:00\", \"n_registros\": 856, \"roll7\": 856.4285714285714}, {\"fecha_date\": \"2019-08-22T00:00:00\", \"n_registros\": 856, \"roll7\": 856.1428571428571}, {\"fecha_date\": \"2019-08-23T00:00:00\", \"n_registros\": 856, \"roll7\": 855.1428571428571}, {\"fecha_date\": \"2019-08-24T00:00:00\", \"n_registros\": 857, \"roll7\": 854.5714285714286}, {\"fecha_date\": \"2019-08-25T00:00:00\", \"n_registros\": 856, \"roll7\": 854.2857142857143}, {\"fecha_date\": \"2019-08-26T00:00:00\", \"n_registros\": 849, \"roll7\": 853.8571428571429}, {\"fecha_date\": \"2019-08-27T00:00:00\", \"n_registros\": 852, \"roll7\": 853.4285714285714}, {\"fecha_date\": \"2019-08-28T00:00:00\", \"n_registros\": 854, \"roll7\": 852.2857142857143}, {\"fecha_date\": \"2019-08-29T00:00:00\", \"n_registros\": 853, \"roll7\": 851.4285714285714}, {\"fecha_date\": \"2019-08-30T00:00:00\", \"n_registros\": 853, \"roll7\": 851.8571428571429}, {\"fecha_date\": \"2019-08-31T00:00:00\", \"n_registros\": 849, \"roll7\": 852.0}, {\"fecha_date\": \"2019-09-01T00:00:00\", \"n_registros\": 850, \"roll7\": 852.0}, {\"fecha_date\": \"2019-09-02T00:00:00\", \"n_registros\": 852, \"roll7\": 852.0}, {\"fecha_date\": \"2019-09-03T00:00:00\", \"n_registros\": 853, \"roll7\": 851.8571428571429}, {\"fecha_date\": \"2019-09-04T00:00:00\", \"n_registros\": 854, \"roll7\": 852.1428571428571}, {\"fecha_date\": \"2019-09-05T00:00:00\", \"n_registros\": 853, \"roll7\": 852.5714285714286}, {\"fecha_date\": \"2019-09-06T00:00:00\", \"n_registros\": 852, \"roll7\": 852.8571428571429}, {\"fecha_date\": \"2019-09-07T00:00:00\", \"n_registros\": 851, \"roll7\": 852.8571428571429}, {\"fecha_date\": \"2019-09-08T00:00:00\", \"n_registros\": 853, \"roll7\": 853.0}, {\"fecha_date\": \"2019-09-09T00:00:00\", \"n_registros\": 854, \"roll7\": 853.0}, {\"fecha_date\": \"2019-09-10T00:00:00\", \"n_registros\": 853, \"roll7\": 853.1428571428571}, {\"fecha_date\": \"2019-09-11T00:00:00\", \"n_registros\": 855, \"roll7\": 853.2857142857143}, {\"fecha_date\": \"2019-09-12T00:00:00\", \"n_registros\": 853, \"roll7\": 852.5714285714286}, {\"fecha_date\": \"2019-09-13T00:00:00\", \"n_registros\": 853, \"roll7\": 851.2857142857143}, {\"fecha_date\": \"2019-09-14T00:00:00\", \"n_registros\": 852, \"roll7\": 850.4285714285714}, {\"fecha_date\": \"2019-09-15T00:00:00\", \"n_registros\": 848, \"roll7\": 849.5714285714286}, {\"fecha_date\": \"2019-09-16T00:00:00\", \"n_registros\": 845, \"roll7\": 849.2857142857143}, {\"fecha_date\": \"2019-09-17T00:00:00\", \"n_registros\": 847, \"roll7\": 849.0}, {\"fecha_date\": \"2019-09-18T00:00:00\", \"n_registros\": 849, \"roll7\": 848.4285714285714}, {\"fecha_date\": \"2019-09-19T00:00:00\", \"n_registros\": 851, \"roll7\": 848.1428571428571}, {\"fecha_date\": \"2019-09-20T00:00:00\", \"n_registros\": 851, \"roll7\": 848.8571428571429}, {\"fecha_date\": \"2019-09-21T00:00:00\", \"n_registros\": 848, \"roll7\": 849.1428571428571}, {\"fecha_date\": \"2019-09-22T00:00:00\", \"n_registros\": 846, \"roll7\": 848.5714285714286}, {\"fecha_date\": \"2019-09-23T00:00:00\", \"n_registros\": 850, \"roll7\": 848.2857142857143}, {\"fecha_date\": \"2019-09-24T00:00:00\", \"n_registros\": 849, \"roll7\": 847.8571428571429}, {\"fecha_date\": \"2019-09-25T00:00:00\", \"n_registros\": 845, \"roll7\": 848.2857142857143}, {\"fecha_date\": \"2019-09-26T00:00:00\", \"n_registros\": 849, \"roll7\": 848.5714285714286}, {\"fecha_date\": \"2019-09-27T00:00:00\", \"n_registros\": 848, \"roll7\": 847.8571428571429}, {\"fecha_date\": \"2019-09-28T00:00:00\", \"n_registros\": 851, \"roll7\": 847.7142857142857}, {\"fecha_date\": \"2019-09-29T00:00:00\", \"n_registros\": 848, \"roll7\": 848.1428571428571}, {\"fecha_date\": \"2019-09-30T00:00:00\", \"n_registros\": 845, \"roll7\": 848.0}, {\"fecha_date\": \"2019-10-01T00:00:00\", \"n_registros\": 848, \"roll7\": 847.7142857142857}, {\"fecha_date\": \"2019-10-02T00:00:00\", \"n_registros\": 848, \"roll7\": 846.8571428571429}, {\"fecha_date\": \"2019-10-03T00:00:00\", \"n_registros\": 848, \"roll7\": 846.2857142857143}, {\"fecha_date\": \"2019-10-04T00:00:00\", \"n_registros\": 846, \"roll7\": 846.4285714285714}, {\"fecha_date\": \"2019-10-05T00:00:00\", \"n_registros\": 845, \"roll7\": 846.0}, {\"fecha_date\": \"2019-10-06T00:00:00\", \"n_registros\": 844, \"roll7\": 846.5714285714286}, {\"fecha_date\": \"2019-10-07T00:00:00\", \"n_registros\": 846, \"roll7\": 847.4285714285714}, {\"fecha_date\": \"2019-10-08T00:00:00\", \"n_registros\": 845, \"roll7\": 848.4285714285714}, {\"fecha_date\": \"2019-10-09T00:00:00\", \"n_registros\": 852, \"roll7\": 849.2857142857143}, {\"fecha_date\": \"2019-10-10T00:00:00\", \"n_registros\": 854, \"roll7\": 850.0}, {\"fecha_date\": \"2019-10-11T00:00:00\", \"n_registros\": 853, \"roll7\": 850.2857142857143}, {\"fecha_date\": \"2019-10-12T00:00:00\", \"n_registros\": 851, \"roll7\": 850.4285714285714}, {\"fecha_date\": \"2019-10-13T00:00:00\", \"n_registros\": 849, \"roll7\": 850.4285714285714}, {\"fecha_date\": \"2019-10-14T00:00:00\", \"n_registros\": 848, \"roll7\": 850.2857142857143}, {\"fecha_date\": \"2019-10-15T00:00:00\", \"n_registros\": 846, \"roll7\": 850.7142857142857}, {\"fecha_date\": \"2019-10-16T00:00:00\", \"n_registros\": 852, \"roll7\": 851.2857142857143}, {\"fecha_date\": \"2019-10-17T00:00:00\", \"n_registros\": 853, \"roll7\": 851.7142857142857}, {\"fecha_date\": \"2019-10-18T00:00:00\", \"n_registros\": 856, \"roll7\": 852.0}, {\"fecha_date\": \"2019-10-19T00:00:00\", \"n_registros\": 855, \"roll7\": 853.0}, {\"fecha_date\": \"2019-10-20T00:00:00\", \"n_registros\": 852, \"roll7\": 852.8571428571429}, {\"fecha_date\": \"2019-10-21T00:00:00\", \"n_registros\": 850, \"roll7\": 853.1428571428571}, {\"fecha_date\": \"2019-10-22T00:00:00\", \"n_registros\": 853, \"roll7\": 853.0}, {\"fecha_date\": \"2019-10-23T00:00:00\", \"n_registros\": 851, \"roll7\": 853.0}, {\"fecha_date\": \"2019-10-24T00:00:00\", \"n_registros\": 855, \"roll7\": 853.7142857142857}, {\"fecha_date\": \"2019-10-25T00:00:00\", \"n_registros\": 855, \"roll7\": 854.7142857142857}, {\"fecha_date\": \"2019-10-26T00:00:00\", \"n_registros\": 855, \"roll7\": 855.0}, {\"fecha_date\": \"2019-10-27T00:00:00\", \"n_registros\": 857, \"roll7\": 856.2857142857143}, {\"fecha_date\": \"2019-10-28T00:00:00\", \"n_registros\": 857, \"roll7\": 856.7142857142857}, {\"fecha_date\": \"2019-10-29T00:00:00\", \"n_registros\": 855, \"roll7\": 857.0}, {\"fecha_date\": \"2019-10-30T00:00:00\", \"n_registros\": 860, \"roll7\": 857.1428571428571}, {\"fecha_date\": \"2019-10-31T00:00:00\", \"n_registros\": 858, \"roll7\": 856.7142857142857}, {\"fecha_date\": \"2019-11-01T00:00:00\", \"n_registros\": 857, \"roll7\": 856.2857142857143}, {\"fecha_date\": \"2019-11-02T00:00:00\", \"n_registros\": 856, \"roll7\": 856.4285714285714}, {\"fecha_date\": \"2019-11-03T00:00:00\", \"n_registros\": 854, \"roll7\": 855.4285714285714}, {\"fecha_date\": \"2019-11-04T00:00:00\", \"n_registros\": 854, \"roll7\": 854.4285714285714}, {\"fecha_date\": \"2019-11-05T00:00:00\", \"n_registros\": 856, \"roll7\": 853.1428571428571}, {\"fecha_date\": \"2019-11-06T00:00:00\", \"n_registros\": 853, \"roll7\": 852.4285714285714}, {\"fecha_date\": \"2019-11-07T00:00:00\", \"n_registros\": 851, \"roll7\": 851.8571428571429}, {\"fecha_date\": \"2019-11-08T00:00:00\", \"n_registros\": 848, \"roll7\": 850.8571428571429}, {\"fecha_date\": \"2019-11-09T00:00:00\", \"n_registros\": 851, \"roll7\": 850.4285714285714}, {\"fecha_date\": \"2019-11-10T00:00:00\", \"n_registros\": 850, \"roll7\": 850.5714285714286}, {\"fecha_date\": \"2019-11-11T00:00:00\", \"n_registros\": 847, \"roll7\": 850.5714285714286}, {\"fecha_date\": \"2019-11-12T00:00:00\", \"n_registros\": 853, \"roll7\": 850.7142857142857}, {\"fecha_date\": \"2019-11-13T00:00:00\", \"n_registros\": 854, \"roll7\": 850.7142857142857}, {\"fecha_date\": \"2019-11-14T00:00:00\", \"n_registros\": 851, \"roll7\": 850.8571428571429}, {\"fecha_date\": \"2019-11-15T00:00:00\", \"n_registros\": 849, \"roll7\": 851.0}, {\"fecha_date\": \"2019-11-16T00:00:00\", \"n_registros\": 851, \"roll7\": 850.8571428571429}, {\"fecha_date\": \"2019-11-17T00:00:00\", \"n_registros\": 851, \"roll7\": 851.0}, {\"fecha_date\": \"2019-11-18T00:00:00\", \"n_registros\": 848, \"roll7\": 851.8571428571429}, {\"fecha_date\": \"2019-11-19T00:00:00\", \"n_registros\": 852, \"roll7\": 852.0}, {\"fecha_date\": \"2019-11-20T00:00:00\", \"n_registros\": 855, \"roll7\": 851.8571428571429}, {\"fecha_date\": \"2019-11-21T00:00:00\", \"n_registros\": 857, \"roll7\": 851.8571428571429}, {\"fecha_date\": \"2019-11-22T00:00:00\", \"n_registros\": 850, \"roll7\": 852.2857142857143}, {\"fecha_date\": \"2019-11-23T00:00:00\", \"n_registros\": 850, \"roll7\": 852.4285714285714}, {\"fecha_date\": \"2019-11-24T00:00:00\", \"n_registros\": 851, \"roll7\": 852.2857142857143}, {\"fecha_date\": \"2019-11-25T00:00:00\", \"n_registros\": 851, \"roll7\": 852.4285714285714}, {\"fecha_date\": \"2019-11-26T00:00:00\", \"n_registros\": 853, \"roll7\": 853.0}, {\"fecha_date\": \"2019-11-27T00:00:00\", \"n_registros\": 854, \"roll7\": 854.1428571428571}, {\"fecha_date\": \"2019-11-28T00:00:00\", \"n_registros\": 858, \"roll7\": 855.2857142857143}, {\"fecha_date\": \"2019-11-29T00:00:00\", \"n_registros\": 854, \"roll7\": 856.2857142857143}, {\"fecha_date\": \"2019-11-30T00:00:00\", \"n_registros\": 858, \"roll7\": 857.1428571428571}, {\"fecha_date\": \"2019-12-01T00:00:00\", \"n_registros\": 859, \"roll7\": 857.5714285714286}, {\"fecha_date\": \"2019-12-02T00:00:00\", \"n_registros\": 858, \"roll7\": 857.8571428571429}, {\"fecha_date\": \"2019-12-03T00:00:00\", \"n_registros\": 859, \"roll7\": 858.5714285714286}, {\"fecha_date\": \"2019-12-04T00:00:00\", \"n_registros\": 857, \"roll7\": 858.5714285714286}, {\"fecha_date\": \"2019-12-05T00:00:00\", \"n_registros\": 860, \"roll7\": 858.1428571428571}, {\"fecha_date\": \"2019-12-06T00:00:00\", \"n_registros\": 859, \"roll7\": 857.4285714285714}, {\"fecha_date\": \"2019-12-07T00:00:00\", \"n_registros\": 858, \"roll7\": 856.7142857142857}, {\"fecha_date\": \"2019-12-08T00:00:00\", \"n_registros\": 856, \"roll7\": 856.7142857142857}, {\"fecha_date\": \"2019-12-09T00:00:00\", \"n_registros\": 853, \"roll7\": 856.2857142857143}, {\"fecha_date\": \"2019-12-10T00:00:00\", \"n_registros\": 854, \"roll7\": 856.4285714285714}, {\"fecha_date\": \"2019-12-11T00:00:00\", \"n_registros\": 857, \"roll7\": 857.0}, {\"fecha_date\": \"2019-12-12T00:00:00\", \"n_registros\": 857, \"roll7\": 857.7142857142857}, {\"fecha_date\": \"2019-12-13T00:00:00\", \"n_registros\": 860, \"roll7\": 858.8571428571429}, {\"fecha_date\": \"2019-12-14T00:00:00\", \"n_registros\": 862, \"roll7\": 859.8571428571429}, {\"fecha_date\": \"2019-12-15T00:00:00\", \"n_registros\": 861, \"roll7\": 860.4285714285714}, {\"fecha_date\": \"2019-12-16T00:00:00\", \"n_registros\": 861, \"roll7\": 860.8571428571429}, {\"fecha_date\": \"2019-12-17T00:00:00\", \"n_registros\": 861, \"roll7\": 860.8571428571429}, {\"fecha_date\": \"2019-12-18T00:00:00\", \"n_registros\": 861, \"roll7\": 859.4285714285714}, {\"fecha_date\": \"2019-12-19T00:00:00\", \"n_registros\": 860, \"roll7\": 858.4285714285714}, {\"fecha_date\": \"2019-12-20T00:00:00\", \"n_registros\": 860, \"roll7\": 857.7142857142857}, {\"fecha_date\": \"2019-12-21T00:00:00\", \"n_registros\": 852, \"roll7\": 857.1428571428571}, {\"fecha_date\": \"2019-12-22T00:00:00\", \"n_registros\": 854, \"roll7\": 856.2857142857143}, {\"fecha_date\": \"2019-12-23T00:00:00\", \"n_registros\": 856, \"roll7\": 855.7142857142857}, {\"fecha_date\": \"2019-12-24T00:00:00\", \"n_registros\": 857, \"roll7\": 855.4285714285714}, {\"fecha_date\": \"2019-12-25T00:00:00\", \"n_registros\": 855, \"roll7\": 856.2857142857143}, {\"fecha_date\": \"2019-12-26T00:00:00\", \"n_registros\": 856, \"roll7\": 857.0}, {\"fecha_date\": \"2019-12-27T00:00:00\", \"n_registros\": 858, \"roll7\": 851.0}, {\"fecha_date\": \"2019-12-28T00:00:00\", \"n_registros\": 858, \"roll7\": 849.4285714285714}, {\"fecha_date\": \"2019-12-29T00:00:00\", \"n_registros\": 859, \"roll7\": 849.8571428571429}, {\"fecha_date\": \"2019-12-30T00:00:00\", \"n_registros\": 814, \"roll7\": 850.1428571428571}, {\"fecha_date\": \"2019-12-31T00:00:00\", \"n_registros\": 846, \"roll7\": 850.1428571428571}, {\"fecha_date\": \"2020-01-01T00:00:00\", \"n_registros\": 858, \"roll7\": 850.4285714285714}, {\"fecha_date\": \"2020-01-02T00:00:00\", \"n_registros\": 858, \"roll7\": 850.5714285714286}, {\"fecha_date\": \"2020-01-03T00:00:00\", \"n_registros\": 858, \"roll7\": 857.0}, {\"fecha_date\": \"2020-01-04T00:00:00\", \"n_registros\": 860, \"roll7\": 858.8571428571429}, {\"fecha_date\": \"2020-01-05T00:00:00\", \"n_registros\": 860, \"roll7\": 858.8571428571429}, {\"fecha_date\": \"2020-01-06T00:00:00\", \"n_registros\": 859, \"roll7\": 859.4285714285714}, {\"fecha_date\": \"2020-01-07T00:00:00\", \"n_registros\": 859, \"roll7\": 859.8571428571429}, {\"fecha_date\": \"2020-01-08T00:00:00\", \"n_registros\": 858, \"roll7\": 860.2857142857143}, {\"fecha_date\": \"2020-01-09T00:00:00\", \"n_registros\": 862, \"roll7\": 860.7142857142857}, {\"fecha_date\": \"2020-01-10T00:00:00\", \"n_registros\": 861, \"roll7\": 861.1428571428571}, {\"fecha_date\": \"2020-01-11T00:00:00\", \"n_registros\": 863, \"roll7\": 861.4285714285714}, {\"fecha_date\": \"2020-01-12T00:00:00\", \"n_registros\": 863, \"roll7\": 861.8571428571429}, {\"fecha_date\": \"2020-01-13T00:00:00\", \"n_registros\": 862, \"roll7\": 862.0}, {\"fecha_date\": \"2020-01-14T00:00:00\", \"n_registros\": 861, \"roll7\": 862.2857142857143}, {\"fecha_date\": \"2020-01-15T00:00:00\", \"n_registros\": 861, \"roll7\": 862.2857142857143}, {\"fecha_date\": \"2020-01-16T00:00:00\", \"n_registros\": 863, \"roll7\": 862.1428571428571}, {\"fecha_date\": \"2020-01-17T00:00:00\", \"n_registros\": 863, \"roll7\": 862.1428571428571}, {\"fecha_date\": \"2020-01-18T00:00:00\", \"n_registros\": 863, \"roll7\": 860.8571428571429}, {\"fecha_date\": \"2020-01-19T00:00:00\", \"n_registros\": 862, \"roll7\": 860.1428571428571}, {\"fecha_date\": \"2020-01-20T00:00:00\", \"n_registros\": 862, \"roll7\": 859.4285714285714}, {\"fecha_date\": \"2020-01-21T00:00:00\", \"n_registros\": 852, \"roll7\": 858.5714285714286}, {\"fecha_date\": \"2020-01-22T00:00:00\", \"n_registros\": 856, \"roll7\": 857.8571428571429}, {\"fecha_date\": \"2020-01-23T00:00:00\", \"n_registros\": 858, \"roll7\": 857.4285714285714}, {\"fecha_date\": \"2020-01-24T00:00:00\", \"n_registros\": 857, \"roll7\": 856.7142857142857}, {\"fecha_date\": \"2020-01-25T00:00:00\", \"n_registros\": 858, \"roll7\": 857.7142857142857}, {\"fecha_date\": \"2020-01-26T00:00:00\", \"n_registros\": 859, \"roll7\": 858.5714285714286}, {\"fecha_date\": \"2020-01-27T00:00:00\", \"n_registros\": 857, \"roll7\": 859.2857142857143}, {\"fecha_date\": \"2020-01-28T00:00:00\", \"n_registros\": 859, \"roll7\": 860.0}, {\"fecha_date\": \"2020-01-29T00:00:00\", \"n_registros\": 862, \"roll7\": 860.5714285714286}, {\"fecha_date\": \"2020-01-30T00:00:00\", \"n_registros\": 863, \"roll7\": 860.7142857142857}, {\"fecha_date\": \"2020-01-31T00:00:00\", \"n_registros\": 862, \"roll7\": 861.1428571428571}, {\"fecha_date\": \"2020-02-01T00:00:00\", \"n_registros\": 862, \"roll7\": 861.2857142857143}, {\"fecha_date\": \"2020-02-02T00:00:00\", \"n_registros\": 860, \"roll7\": 861.1428571428571}, {\"fecha_date\": \"2020-02-03T00:00:00\", \"n_registros\": 860, \"roll7\": 860.7142857142857}, {\"fecha_date\": \"2020-02-04T00:00:00\", \"n_registros\": 860, \"roll7\": 860.8571428571429}, {\"fecha_date\": \"2020-02-05T00:00:00\", \"n_registros\": 861, \"roll7\": 860.4285714285714}, {\"fecha_date\": \"2020-02-06T00:00:00\", \"n_registros\": 860, \"roll7\": 860.7142857142857}, {\"fecha_date\": \"2020-02-07T00:00:00\", \"n_registros\": 863, \"roll7\": 860.7142857142857}, {\"fecha_date\": \"2020-02-08T00:00:00\", \"n_registros\": 859, \"roll7\": 861.1428571428571}, {\"fecha_date\": \"2020-02-09T00:00:00\", \"n_registros\": 862, \"roll7\": 861.4285714285714}, {\"fecha_date\": \"2020-02-10T00:00:00\", \"n_registros\": 860, \"roll7\": 862.2857142857143}, {\"fecha_date\": \"2020-02-11T00:00:00\", \"n_registros\": 863, \"roll7\": 862.8571428571429}, {\"fecha_date\": \"2020-02-12T00:00:00\", \"n_registros\": 863, \"roll7\": 864.0}, {\"fecha_date\": \"2020-02-13T00:00:00\", \"n_registros\": 866, \"roll7\": 864.4285714285714}, {\"fecha_date\": \"2020-02-14T00:00:00\", \"n_registros\": 867, \"roll7\": 865.0}, {\"fecha_date\": \"2020-02-15T00:00:00\", \"n_registros\": 867, \"roll7\": 864.5714285714286}, {\"fecha_date\": \"2020-02-16T00:00:00\", \"n_registros\": 865, \"roll7\": 864.5714285714286}, {\"fecha_date\": \"2020-02-17T00:00:00\", \"n_registros\": 864, \"roll7\": 864.0}, {\"fecha_date\": \"2020-02-18T00:00:00\", \"n_registros\": 860, \"roll7\": 863.8571428571429}, {\"fecha_date\": \"2020-02-19T00:00:00\", \"n_registros\": 863, \"roll7\": 863.4285714285714}, {\"fecha_date\": \"2020-02-20T00:00:00\", \"n_registros\": 862, \"roll7\": 863.2857142857143}, {\"fecha_date\": \"2020-02-21T00:00:00\", \"n_registros\": 866, \"roll7\": 863.1428571428571}, {\"fecha_date\": \"2020-02-22T00:00:00\", \"n_registros\": 864, \"roll7\": 863.5714285714286}, {\"fecha_date\": \"2020-02-23T00:00:00\", \"n_registros\": 864, \"roll7\": 863.4285714285714}, {\"fecha_date\": \"2020-02-24T00:00:00\", \"n_registros\": 863, \"roll7\": 863.2857142857143}, {\"fecha_date\": \"2020-02-25T00:00:00\", \"n_registros\": 863, \"roll7\": 862.8571428571429}, {\"fecha_date\": \"2020-02-26T00:00:00\", \"n_registros\": 862, \"roll7\": 862.5714285714286}, {\"fecha_date\": \"2020-02-27T00:00:00\", \"n_registros\": 861, \"roll7\": 861.7142857142857}, {\"fecha_date\": \"2020-02-28T00:00:00\", \"n_registros\": 863, \"roll7\": 860.8571428571429}, {\"fecha_date\": \"2020-02-29T00:00:00\", \"n_registros\": 862, \"roll7\": 860.0}, {\"fecha_date\": \"2020-03-01T00:00:00\", \"n_registros\": 858, \"roll7\": 859.1428571428571}, {\"fecha_date\": \"2020-03-02T00:00:00\", \"n_registros\": 857, \"roll7\": 858.1428571428571}, {\"fecha_date\": \"2020-03-03T00:00:00\", \"n_registros\": 857, \"roll7\": 856.7142857142857}, {\"fecha_date\": \"2020-03-04T00:00:00\", \"n_registros\": 856, \"roll7\": 855.8571428571429}, {\"fecha_date\": \"2020-03-05T00:00:00\", \"n_registros\": 854, \"roll7\": 855.4285714285714}, {\"fecha_date\": \"2020-03-06T00:00:00\", \"n_registros\": 853, \"roll7\": 855.2857142857143}, {\"fecha_date\": \"2020-03-07T00:00:00\", \"n_registros\": 856, \"roll7\": 855.4285714285714}, {\"fecha_date\": \"2020-03-08T00:00:00\", \"n_registros\": 855, \"roll7\": 856.1428571428571}, {\"fecha_date\": \"2020-03-09T00:00:00\", \"n_registros\": 856, \"roll7\": 857.0}, {\"fecha_date\": \"2020-03-10T00:00:00\", \"n_registros\": 858, \"roll7\": 858.0}, {\"fecha_date\": \"2020-03-11T00:00:00\", \"n_registros\": 861, \"roll7\": 858.7142857142857}, {\"fecha_date\": \"2020-03-12T00:00:00\", \"n_registros\": 860, \"roll7\": 859.0}, {\"fecha_date\": \"2020-03-13T00:00:00\", \"n_registros\": 860, \"roll7\": 858.5714285714286}, {\"fecha_date\": \"2020-03-14T00:00:00\", \"n_registros\": 861, \"roll7\": 858.1428571428571}, {\"fecha_date\": \"2020-03-15T00:00:00\", \"n_registros\": 857, \"roll7\": 857.0}, {\"fecha_date\": \"2020-03-16T00:00:00\", \"n_registros\": 853, \"roll7\": 856.1428571428571}, {\"fecha_date\": \"2020-03-17T00:00:00\", \"n_registros\": 855, \"roll7\": 855.2857142857143}, {\"fecha_date\": \"2020-03-18T00:00:00\", \"n_registros\": 853, \"roll7\": 854.0}, {\"fecha_date\": \"2020-03-19T00:00:00\", \"n_registros\": 854, \"roll7\": 853.2857142857143}, {\"fecha_date\": \"2020-03-20T00:00:00\", \"n_registros\": 854, \"roll7\": 853.1428571428571}, {\"fecha_date\": \"2020-03-21T00:00:00\", \"n_registros\": 852, \"roll7\": 852.8571428571429}, {\"fecha_date\": \"2020-03-22T00:00:00\", \"n_registros\": 852, \"roll7\": 852.5714285714286}, {\"fecha_date\": \"2020-03-23T00:00:00\", \"n_registros\": 852, \"roll7\": 852.1428571428571}, {\"fecha_date\": \"2020-03-24T00:00:00\", \"n_registros\": 853, \"roll7\": 851.7142857142857}, {\"fecha_date\": \"2020-03-25T00:00:00\", \"n_registros\": 851, \"roll7\": 851.7142857142857}, {\"fecha_date\": \"2020-03-26T00:00:00\", \"n_registros\": 851, \"roll7\": 851.8571428571429}, {\"fecha_date\": \"2020-03-27T00:00:00\", \"n_registros\": 851, \"roll7\": 851.7142857142857}, {\"fecha_date\": \"2020-03-28T00:00:00\", \"n_registros\": 852, \"roll7\": 851.2857142857143}, {\"fecha_date\": \"2020-03-29T00:00:00\", \"n_registros\": 853, \"roll7\": 851.0}, {\"fecha_date\": \"2020-03-30T00:00:00\", \"n_registros\": 851, \"roll7\": 850.4285714285714}, {\"fecha_date\": \"2020-03-31T00:00:00\", \"n_registros\": 850, \"roll7\": 849.8571428571429}, {\"fecha_date\": \"2020-04-01T00:00:00\", \"n_registros\": 849, \"roll7\": 849.4285714285714}, {\"fecha_date\": \"2020-04-02T00:00:00\", \"n_registros\": 847, \"roll7\": 848.8571428571429}, {\"fecha_date\": \"2020-04-03T00:00:00\", \"n_registros\": 847, \"roll7\": 848.5714285714286}, {\"fecha_date\": \"2020-04-04T00:00:00\", \"n_registros\": 849, \"roll7\": 848.8571428571429}, {\"fecha_date\": \"2020-04-05T00:00:00\", \"n_registros\": 849, \"roll7\": 849.5714285714286}, {\"fecha_date\": \"2020-04-06T00:00:00\", \"n_registros\": 849, \"roll7\": 850.4285714285714}, {\"fecha_date\": \"2020-04-07T00:00:00\", \"n_registros\": 852, \"roll7\": 851.4285714285714}, {\"fecha_date\": \"2020-04-08T00:00:00\", \"n_registros\": 854, \"roll7\": 852.0}, {\"fecha_date\": \"2020-04-09T00:00:00\", \"n_registros\": 853, \"roll7\": 852.4285714285714}, {\"fecha_date\": \"2020-04-10T00:00:00\", \"n_registros\": 854, \"roll7\": 852.5714285714286}, {\"fecha_date\": \"2020-04-11T00:00:00\", \"n_registros\": 853, \"roll7\": 852.5714285714286}, {\"fecha_date\": \"2020-04-12T00:00:00\", \"n_registros\": 852, \"roll7\": 852.2857142857143}, {\"fecha_date\": \"2020-04-13T00:00:00\", \"n_registros\": 850, \"roll7\": 852.4285714285714}, {\"fecha_date\": \"2020-04-14T00:00:00\", \"n_registros\": 852, \"roll7\": 852.1428571428571}, {\"fecha_date\": \"2020-04-15T00:00:00\", \"n_registros\": 852, \"roll7\": 852.0}, {\"fecha_date\": \"2020-04-16T00:00:00\", \"n_registros\": 854, \"roll7\": 852.0}, {\"fecha_date\": \"2020-04-17T00:00:00\", \"n_registros\": 852, \"roll7\": 852.1428571428571}, {\"fecha_date\": \"2020-04-18T00:00:00\", \"n_registros\": 852, \"roll7\": 852.0}, {\"fecha_date\": \"2020-04-19T00:00:00\", \"n_registros\": 852, \"roll7\": 851.8571428571429}, {\"fecha_date\": \"2020-04-20T00:00:00\", \"n_registros\": 851, \"roll7\": 851.5714285714286}, {\"fecha_date\": \"2020-04-21T00:00:00\", \"n_registros\": 851, \"roll7\": 851.4285714285714}, {\"fecha_date\": \"2020-04-22T00:00:00\", \"n_registros\": 851, \"roll7\": 850.5714285714286}, {\"fecha_date\": \"2020-04-23T00:00:00\", \"n_registros\": 852, \"roll7\": 849.4285714285714}, {\"fecha_date\": \"2020-04-24T00:00:00\", \"n_registros\": 851, \"roll7\": 848.1428571428571}, {\"fecha_date\": \"2020-04-25T00:00:00\", \"n_registros\": 846, \"roll7\": 847.8571428571429}, {\"fecha_date\": \"2020-04-26T00:00:00\", \"n_registros\": 844, \"roll7\": 847.8571428571429}, {\"fecha_date\": \"2020-04-27T00:00:00\", \"n_registros\": 842, \"roll7\": 847.8571428571429}, {\"fecha_date\": \"2020-04-28T00:00:00\", \"n_registros\": 849, \"roll7\": 847.8571428571429}, {\"fecha_date\": \"2020-04-29T00:00:00\", \"n_registros\": 851, \"roll7\": 848.8571428571429}, {\"fecha_date\": \"2020-04-30T00:00:00\", \"n_registros\": 852, \"roll7\": 850.0}, {\"fecha_date\": \"2020-05-01T00:00:00\", \"n_registros\": 851, \"roll7\": 851.2857142857143}, {\"fecha_date\": \"2020-05-02T00:00:00\", \"n_registros\": 853, \"roll7\": 851.2857142857143}, {\"fecha_date\": \"2020-05-03T00:00:00\", \"n_registros\": 852, \"roll7\": 851.8571428571429}, {\"fecha_date\": \"2020-05-04T00:00:00\", \"n_registros\": 851, \"roll7\": 852.1428571428571}, {\"fecha_date\": \"2020-05-05T00:00:00\", \"n_registros\": 849, \"roll7\": 851.4285714285714}, {\"fecha_date\": \"2020-05-06T00:00:00\", \"n_registros\": 855, \"roll7\": 850.2857142857143}, {\"fecha_date\": \"2020-05-07T00:00:00\", \"n_registros\": 854, \"roll7\": 848.8571428571429}, {\"fecha_date\": \"2020-05-08T00:00:00\", \"n_registros\": 846, \"roll7\": 848.2857142857143}, {\"fecha_date\": \"2020-05-09T00:00:00\", \"n_registros\": 845, \"roll7\": 848.1428571428571}, {\"fecha_date\": \"2020-05-10T00:00:00\", \"n_registros\": 842, \"roll7\": 847.0}, {\"fecha_date\": \"2020-05-11T00:00:00\", \"n_registros\": 847, \"roll7\": 846.2857142857143}, {\"fecha_date\": \"2020-05-12T00:00:00\", \"n_registros\": 848, \"roll7\": 846.5714285714286}, {\"fecha_date\": \"2020-05-13T00:00:00\", \"n_registros\": 847, \"roll7\": 846.8571428571429}, {\"fecha_date\": \"2020-05-14T00:00:00\", \"n_registros\": 849, \"roll7\": 847.8571428571429}, {\"fecha_date\": \"2020-05-15T00:00:00\", \"n_registros\": 848, \"roll7\": 848.5714285714286}, {\"fecha_date\": \"2020-05-16T00:00:00\", \"n_registros\": 847, \"roll7\": 849.1428571428571}, {\"fecha_date\": \"2020-05-17T00:00:00\", \"n_registros\": 849, \"roll7\": 849.8571428571429}, {\"fecha_date\": \"2020-05-18T00:00:00\", \"n_registros\": 852, \"roll7\": 850.5714285714286}, {\"fecha_date\": \"2020-05-19T00:00:00\", \"n_registros\": 852, \"roll7\": 851.4285714285714}, {\"fecha_date\": \"2020-05-20T00:00:00\", \"n_registros\": 852, \"roll7\": 852.4285714285714}, {\"fecha_date\": \"2020-05-21T00:00:00\", \"n_registros\": 854, \"roll7\": 853.1428571428571}, {\"fecha_date\": \"2020-05-22T00:00:00\", \"n_registros\": 854, \"roll7\": 853.2857142857143}, {\"fecha_date\": \"2020-05-23T00:00:00\", \"n_registros\": 854, \"roll7\": 853.1428571428571}, {\"fecha_date\": \"2020-05-24T00:00:00\", \"n_registros\": 854, \"roll7\": 852.8571428571429}, {\"fecha_date\": \"2020-05-25T00:00:00\", \"n_registros\": 853, \"roll7\": 852.1428571428571}, {\"fecha_date\": \"2020-05-26T00:00:00\", \"n_registros\": 851, \"roll7\": 851.7142857142857}, {\"fecha_date\": \"2020-05-27T00:00:00\", \"n_registros\": 850, \"roll7\": 851.5714285714286}, {\"fecha_date\": \"2020-05-28T00:00:00\", \"n_registros\": 849, \"roll7\": 850.8571428571429}, {\"fecha_date\": \"2020-05-29T00:00:00\", \"n_registros\": 851, \"roll7\": 850.2857142857143}, {\"fecha_date\": \"2020-05-30T00:00:00\", \"n_registros\": 853, \"roll7\": 849.4285714285714}, {\"fecha_date\": \"2020-05-31T00:00:00\", \"n_registros\": 849, \"roll7\": 848.2857142857143}, {\"fecha_date\": \"2020-06-01T00:00:00\", \"n_registros\": 849, \"roll7\": 847.1428571428571}, {\"fecha_date\": \"2020-06-02T00:00:00\", \"n_registros\": 845, \"roll7\": 846.0}, {\"fecha_date\": \"2020-06-03T00:00:00\", \"n_registros\": 842, \"roll7\": 844.7142857142857}, {\"fecha_date\": \"2020-06-04T00:00:00\", \"n_registros\": 841, \"roll7\": 843.4285714285714}, {\"fecha_date\": \"2020-06-05T00:00:00\", \"n_registros\": 843, \"roll7\": 842.4285714285714}, {\"fecha_date\": \"2020-06-06T00:00:00\", \"n_registros\": 844, \"roll7\": 841.7142857142857}, {\"fecha_date\": \"2020-06-07T00:00:00\", \"n_registros\": 840, \"roll7\": 841.8571428571429}, {\"fecha_date\": \"2020-06-08T00:00:00\", \"n_registros\": 842, \"roll7\": 842.5714285714286}, {\"fecha_date\": \"2020-06-09T00:00:00\", \"n_registros\": 840, \"roll7\": 842.7142857142857}, {\"fecha_date\": \"2020-06-10T00:00:00\", \"n_registros\": 843, \"roll7\": 843.0}, {\"fecha_date\": \"2020-06-11T00:00:00\", \"n_registros\": 846, \"roll7\": 843.7142857142857}, {\"fecha_date\": \"2020-06-12T00:00:00\", \"n_registros\": 844, \"roll7\": 844.5714285714286}, {\"fecha_date\": \"2020-06-13T00:00:00\", \"n_registros\": 846, \"roll7\": 845.7142857142857}, {\"fecha_date\": \"2020-06-14T00:00:00\", \"n_registros\": 845, \"roll7\": 846.2857142857143}, {\"fecha_date\": \"2020-06-15T00:00:00\", \"n_registros\": 848, \"roll7\": 846.7142857142857}, {\"fecha_date\": \"2020-06-16T00:00:00\", \"n_registros\": 848, \"roll7\": 848.0}, {\"fecha_date\": \"2020-06-17T00:00:00\", \"n_registros\": 847, \"roll7\": 849.1428571428571}, {\"fecha_date\": \"2020-06-18T00:00:00\", \"n_registros\": 849, \"roll7\": 850.4285714285714}, {\"fecha_date\": \"2020-06-19T00:00:00\", \"n_registros\": 853, \"roll7\": 851.4285714285714}, {\"fecha_date\": \"2020-06-20T00:00:00\", \"n_registros\": 854, \"roll7\": 852.4285714285714}, {\"fecha_date\": \"2020-06-21T00:00:00\", \"n_registros\": 854, \"roll7\": 852.4285714285714}, {\"fecha_date\": \"2020-06-22T00:00:00\", \"n_registros\": 855, \"roll7\": 851.5714285714286}, {\"fecha_date\": \"2020-06-23T00:00:00\", \"n_registros\": 855, \"roll7\": 851.0}, {\"fecha_date\": \"2020-06-24T00:00:00\", \"n_registros\": 847, \"roll7\": 850.5714285714286}, {\"fecha_date\": \"2020-06-25T00:00:00\", \"n_registros\": 843, \"roll7\": 850.0}, {\"fecha_date\": \"2020-06-26T00:00:00\", \"n_registros\": 849, \"roll7\": 849.2857142857143}, {\"fecha_date\": \"2020-06-27T00:00:00\", \"n_registros\": 851, \"roll7\": 848.4285714285714}, {\"fecha_date\": \"2020-06-28T00:00:00\", \"n_registros\": 850, \"roll7\": 848.4285714285714}, {\"fecha_date\": \"2020-06-29T00:00:00\", \"n_registros\": 850, \"roll7\": 849.2857142857143}, {\"fecha_date\": \"2020-06-30T00:00:00\", \"n_registros\": 849, \"roll7\": 849.5714285714286}, {\"fecha_date\": \"2020-07-01T00:00:00\", \"n_registros\": 847, \"roll7\": 849.4285714285714}, {\"fecha_date\": \"2020-07-02T00:00:00\", \"n_registros\": 849, \"roll7\": 849.5714285714286}, {\"fecha_date\": \"2020-07-03T00:00:00\", \"n_registros\": 851, \"roll7\": 849.4285714285714}, {\"fecha_date\": \"2020-07-04T00:00:00\", \"n_registros\": 850, \"roll7\": 849.8571428571429}, {\"fecha_date\": \"2020-07-05T00:00:00\", \"n_registros\": 851, \"roll7\": 850.4285714285714}, {\"fecha_date\": \"2020-07-06T00:00:00\", \"n_registros\": 849, \"roll7\": 850.1428571428571}, {\"fecha_date\": \"2020-07-07T00:00:00\", \"n_registros\": 852, \"roll7\": 849.7142857142857}, {\"fecha_date\": \"2020-07-08T00:00:00\", \"n_registros\": 851, \"roll7\": 849.2857142857143}, {\"fecha_date\": \"2020-07-09T00:00:00\", \"n_registros\": 847, \"roll7\": 848.1428571428571}, {\"fecha_date\": \"2020-07-10T00:00:00\", \"n_registros\": 848, \"roll7\": 847.4285714285714}, {\"fecha_date\": \"2020-07-11T00:00:00\", \"n_registros\": 847, \"roll7\": 846.2857142857143}, {\"fecha_date\": \"2020-07-12T00:00:00\", \"n_registros\": 843, \"roll7\": 845.5714285714286}, {\"fecha_date\": \"2020-07-13T00:00:00\", \"n_registros\": 844, \"roll7\": 846.1428571428571}, {\"fecha_date\": \"2020-07-14T00:00:00\", \"n_registros\": 844, \"roll7\": 846.4285714285714}, {\"fecha_date\": \"2020-07-15T00:00:00\", \"n_registros\": 846, \"roll7\": 847.0}, {\"fecha_date\": \"2020-07-16T00:00:00\", \"n_registros\": 851, \"roll7\": 847.7142857142857}, {\"fecha_date\": \"2020-07-17T00:00:00\", \"n_registros\": 850, \"roll7\": 848.1428571428571}, {\"fecha_date\": \"2020-07-18T00:00:00\", \"n_registros\": 851, \"roll7\": 848.2857142857143}, {\"fecha_date\": \"2020-07-19T00:00:00\", \"n_registros\": 848, \"roll7\": 848.5714285714286}, {\"fecha_date\": \"2020-07-20T00:00:00\", \"n_registros\": 847, \"roll7\": 848.1428571428571}, {\"fecha_date\": \"2020-07-21T00:00:00\", \"n_registros\": 845, \"roll7\": 848.1428571428571}, {\"fecha_date\": \"2020-07-22T00:00:00\", \"n_registros\": 848, \"roll7\": 848.2857142857143}, {\"fecha_date\": \"2020-07-23T00:00:00\", \"n_registros\": 848, \"roll7\": 848.4285714285714}, {\"fecha_date\": \"2020-07-24T00:00:00\", \"n_registros\": 850, \"roll7\": 848.7142857142857}, {\"fecha_date\": \"2020-07-25T00:00:00\", \"n_registros\": 852, \"roll7\": 849.2857142857143}, {\"fecha_date\": \"2020-07-26T00:00:00\", \"n_registros\": 849, \"roll7\": 848.8571428571429}, {\"fecha_date\": \"2020-07-27T00:00:00\", \"n_registros\": 849, \"roll7\": 848.5714285714286}, {\"fecha_date\": \"2020-07-28T00:00:00\", \"n_registros\": 849, \"roll7\": 848.0}, {\"fecha_date\": \"2020-07-29T00:00:00\", \"n_registros\": 845, \"roll7\": 847.1428571428571}, {\"fecha_date\": \"2020-07-30T00:00:00\", \"n_registros\": 846, \"roll7\": 847.0}, {\"fecha_date\": \"2020-07-31T00:00:00\", \"n_registros\": 846, \"roll7\": 847.0}, {\"fecha_date\": \"2020-08-01T00:00:00\", \"n_registros\": 846, \"roll7\": 846.8571428571429}, {\"fecha_date\": \"2020-08-02T00:00:00\", \"n_registros\": 848, \"roll7\": 847.0}, {\"fecha_date\": \"2020-08-03T00:00:00\", \"n_registros\": 849, \"roll7\": 846.8571428571429}, {\"fecha_date\": \"2020-08-04T00:00:00\", \"n_registros\": 848, \"roll7\": 847.0}, {\"fecha_date\": \"2020-08-05T00:00:00\", \"n_registros\": 846, \"roll7\": 847.2857142857143}, {\"fecha_date\": \"2020-08-06T00:00:00\", \"n_registros\": 845, \"roll7\": 846.7142857142857}, {\"fecha_date\": \"2020-08-07T00:00:00\", \"n_registros\": 847, \"roll7\": 845.4285714285714}, {\"fecha_date\": \"2020-08-08T00:00:00\", \"n_registros\": 848, \"roll7\": 844.2857142857143}, {\"fecha_date\": \"2020-08-09T00:00:00\", \"n_registros\": 844, \"roll7\": 843.7142857142857}, {\"fecha_date\": \"2020-08-10T00:00:00\", \"n_registros\": 840, \"roll7\": 844.0}, {\"fecha_date\": \"2020-08-11T00:00:00\", \"n_registros\": 840, \"roll7\": 844.4285714285714}, {\"fecha_date\": \"2020-08-12T00:00:00\", \"n_registros\": 842, \"roll7\": 844.7142857142857}, {\"fecha_date\": \"2020-08-13T00:00:00\", \"n_registros\": 847, \"roll7\": 845.5714285714286}, {\"fecha_date\": \"2020-08-14T00:00:00\", \"n_registros\": 850, \"roll7\": 847.0}, {\"fecha_date\": \"2020-08-15T00:00:00\", \"n_registros\": 850, \"roll7\": 848.2857142857143}, {\"fecha_date\": \"2020-08-16T00:00:00\", \"n_registros\": 850, \"roll7\": 849.5714285714286}, {\"fecha_date\": \"2020-08-17T00:00:00\", \"n_registros\": 850, \"roll7\": 850.2857142857143}, {\"fecha_date\": \"2020-08-18T00:00:00\", \"n_registros\": 849, \"roll7\": 850.4285714285714}, {\"fecha_date\": \"2020-08-19T00:00:00\", \"n_registros\": 851, \"roll7\": 850.4285714285714}, {\"fecha_date\": \"2020-08-20T00:00:00\", \"n_registros\": 852, \"roll7\": 850.7142857142857}, {\"fecha_date\": \"2020-08-21T00:00:00\", \"n_registros\": 851, \"roll7\": 851.0}, {\"fecha_date\": \"2020-08-22T00:00:00\", \"n_registros\": 850, \"roll7\": 851.5714285714286}, {\"fecha_date\": \"2020-08-23T00:00:00\", \"n_registros\": 852, \"roll7\": 852.2857142857143}, {\"fecha_date\": \"2020-08-24T00:00:00\", \"n_registros\": 852, \"roll7\": 853.0}, {\"fecha_date\": \"2020-08-25T00:00:00\", \"n_registros\": 853, \"roll7\": 853.4285714285714}, {\"fecha_date\": \"2020-08-26T00:00:00\", \"n_registros\": 856, \"roll7\": 853.8571428571429}, {\"fecha_date\": \"2020-08-27T00:00:00\", \"n_registros\": 857, \"roll7\": 854.0}, {\"fecha_date\": \"2020-08-28T00:00:00\", \"n_registros\": 854, \"roll7\": 853.5714285714286}, {\"fecha_date\": \"2020-08-29T00:00:00\", \"n_registros\": 853, \"roll7\": 853.5714285714286}, {\"fecha_date\": \"2020-08-30T00:00:00\", \"n_registros\": 853, \"roll7\": 853.4285714285714}, {\"fecha_date\": \"2020-08-31T00:00:00\", \"n_registros\": 849, \"roll7\": 853.1428571428571}, {\"fecha_date\": \"2020-09-01T00:00:00\", \"n_registros\": 853, \"roll7\": 853.4285714285714}, {\"fecha_date\": \"2020-09-02T00:00:00\", \"n_registros\": 855, \"roll7\": 853.7142857142857}, {\"fecha_date\": \"2020-09-03T00:00:00\", \"n_registros\": 855, \"roll7\": 853.8571428571429}, {\"fecha_date\": \"2020-09-04T00:00:00\", \"n_registros\": 856, \"roll7\": 854.2857142857143}, {\"fecha_date\": \"2020-09-05T00:00:00\", \"n_registros\": 855, \"roll7\": 854.1428571428571}, {\"fecha_date\": \"2020-09-06T00:00:00\", \"n_registros\": 854, \"roll7\": 853.7142857142857}, {\"fecha_date\": \"2020-09-07T00:00:00\", \"n_registros\": 852, \"roll7\": 853.7142857142857}, {\"fecha_date\": \"2020-09-08T00:00:00\", \"n_registros\": 852, \"roll7\": 853.4285714285714}, {\"fecha_date\": \"2020-09-09T00:00:00\", \"n_registros\": 852, \"roll7\": 853.2857142857143}, {\"fecha_date\": \"2020-09-10T00:00:00\", \"n_registros\": 855, \"roll7\": 853.7142857142857}, {\"fecha_date\": \"2020-09-11T00:00:00\", \"n_registros\": 854, \"roll7\": 854.4285714285714}, {\"fecha_date\": \"2020-09-12T00:00:00\", \"n_registros\": 854, \"roll7\": 855.0}, {\"fecha_date\": \"2020-09-13T00:00:00\", \"n_registros\": 857, \"roll7\": 855.7142857142857}, {\"fecha_date\": \"2020-09-14T00:00:00\", \"n_registros\": 857, \"roll7\": 855.1428571428571}, {\"fecha_date\": \"2020-09-15T00:00:00\", \"n_registros\": 856, \"roll7\": 854.5714285714286}, {\"fecha_date\": \"2020-09-16T00:00:00\", \"n_registros\": 857, \"roll7\": 854.2857142857143}, {\"fecha_date\": \"2020-09-17T00:00:00\", \"n_registros\": 851, \"roll7\": 854.0}, {\"fecha_date\": \"2020-09-18T00:00:00\", \"n_registros\": 850, \"roll7\": 853.5714285714286}, {\"fecha_date\": \"2020-09-19T00:00:00\", \"n_registros\": 852, \"roll7\": 853.7142857142857}, {\"fecha_date\": \"2020-09-20T00:00:00\", \"n_registros\": 855, \"roll7\": 853.4285714285714}, {\"fecha_date\": \"2020-09-21T00:00:00\", \"n_registros\": 854, \"roll7\": 853.7142857142857}, {\"fecha_date\": \"2020-09-22T00:00:00\", \"n_registros\": 857, \"roll7\": 854.1428571428571}, {\"fecha_date\": \"2020-09-23T00:00:00\", \"n_registros\": 855, \"roll7\": 854.5714285714286}, {\"fecha_date\": \"2020-09-24T00:00:00\", \"n_registros\": 853, \"roll7\": 854.7142857142857}, {\"fecha_date\": \"2020-09-25T00:00:00\", \"n_registros\": 853, \"roll7\": 854.7142857142857}, {\"fecha_date\": \"2020-09-26T00:00:00\", \"n_registros\": 855, \"roll7\": 854.5714285714286}, {\"fecha_date\": \"2020-09-27T00:00:00\", \"n_registros\": 856, \"roll7\": 854.7142857142857}, {\"fecha_date\": \"2020-09-28T00:00:00\", \"n_registros\": 854, \"roll7\": 854.8571428571429}, {\"fecha_date\": \"2020-09-29T00:00:00\", \"n_registros\": 856, \"roll7\": 855.2857142857143}, {\"fecha_date\": \"2020-09-30T00:00:00\", \"n_registros\": 856, \"roll7\": 855.5714285714286}, {\"fecha_date\": \"2020-10-01T00:00:00\", \"n_registros\": 854, \"roll7\": 856.1428571428571}, {\"fecha_date\": \"2020-10-02T00:00:00\", \"n_registros\": 856, \"roll7\": 857.0}, {\"fecha_date\": \"2020-10-03T00:00:00\", \"n_registros\": 857, \"roll7\": 857.4285714285714}, {\"fecha_date\": \"2020-10-04T00:00:00\", \"n_registros\": 860, \"roll7\": 858.2857142857143}, {\"fecha_date\": \"2020-10-05T00:00:00\", \"n_registros\": 860, \"roll7\": 859.4285714285714}, {\"fecha_date\": \"2020-10-06T00:00:00\", \"n_registros\": 859, \"roll7\": 860.5714285714286}, {\"fecha_date\": \"2020-10-07T00:00:00\", \"n_registros\": 862, \"roll7\": 861.2857142857143}, {\"fecha_date\": \"2020-10-08T00:00:00\", \"n_registros\": 862, \"roll7\": 861.2857142857143}, {\"fecha_date\": \"2020-10-09T00:00:00\", \"n_registros\": 864, \"roll7\": 861.0}, {\"fecha_date\": \"2020-10-10T00:00:00\", \"n_registros\": 862, \"roll7\": 861.1428571428571}, {\"fecha_date\": \"2020-10-11T00:00:00\", \"n_registros\": 860, \"roll7\": 860.7142857142857}, {\"fecha_date\": \"2020-10-12T00:00:00\", \"n_registros\": 858, \"roll7\": 860.0}, {\"fecha_date\": \"2020-10-13T00:00:00\", \"n_registros\": 860, \"roll7\": 859.2857142857143}, {\"fecha_date\": \"2020-10-14T00:00:00\", \"n_registros\": 859, \"roll7\": 859.0}, {\"fecha_date\": \"2020-10-15T00:00:00\", \"n_registros\": 857, \"roll7\": 859.0}, {\"fecha_date\": \"2020-10-16T00:00:00\", \"n_registros\": 859, \"roll7\": 859.5714285714286}, {\"fecha_date\": \"2020-10-17T00:00:00\", \"n_registros\": 860, \"roll7\": 859.5714285714286}, {\"fecha_date\": \"2020-10-18T00:00:00\", \"n_registros\": 860, \"roll7\": 859.5714285714286}, {\"fecha_date\": \"2020-10-19T00:00:00\", \"n_registros\": 862, \"roll7\": 860.0}, {\"fecha_date\": \"2020-10-20T00:00:00\", \"n_registros\": 860, \"roll7\": 860.1428571428571}, {\"fecha_date\": \"2020-10-21T00:00:00\", \"n_registros\": 859, \"roll7\": 860.1428571428571}, {\"fecha_date\": \"2020-10-22T00:00:00\", \"n_registros\": 860, \"roll7\": 860.1428571428571}, {\"fecha_date\": \"2020-10-23T00:00:00\", \"n_registros\": 860, \"roll7\": 859.7142857142857}, {\"fecha_date\": \"2020-10-24T00:00:00\", \"n_registros\": 860, \"roll7\": 859.5714285714286}, {\"fecha_date\": \"2020-10-25T00:00:00\", \"n_registros\": 860, \"roll7\": 859.5714285714286}, {\"fecha_date\": \"2020-10-26T00:00:00\", \"n_registros\": 859, \"roll7\": 859.5714285714286}, {\"fecha_date\": \"2020-10-27T00:00:00\", \"n_registros\": 859, \"roll7\": 859.2857142857143}, {\"fecha_date\": \"2020-10-28T00:00:00\", \"n_registros\": 859, \"roll7\": 859.4285714285714}, {\"fecha_date\": \"2020-10-29T00:00:00\", \"n_registros\": 860, \"roll7\": 859.7142857142857}, {\"fecha_date\": \"2020-10-30T00:00:00\", \"n_registros\": 858, \"roll7\": 860.2857142857143}, {\"fecha_date\": \"2020-10-31T00:00:00\", \"n_registros\": 861, \"roll7\": 860.7142857142857}, {\"fecha_date\": \"2020-11-01T00:00:00\", \"n_registros\": 862, \"roll7\": 861.0}, {\"fecha_date\": \"2020-11-02T00:00:00\", \"n_registros\": 863, \"roll7\": 860.8571428571429}, {\"fecha_date\": \"2020-11-03T00:00:00\", \"n_registros\": 862, \"roll7\": 861.5714285714286}, {\"fecha_date\": \"2020-11-04T00:00:00\", \"n_registros\": 861, \"roll7\": 861.5714285714286}, {\"fecha_date\": \"2020-11-05T00:00:00\", \"n_registros\": 859, \"roll7\": 861.4285714285714}, {\"fecha_date\": \"2020-11-06T00:00:00\", \"n_registros\": 863, \"roll7\": 860.8571428571429}, {\"fecha_date\": \"2020-11-07T00:00:00\", \"n_registros\": 861, \"roll7\": 860.8571428571429}, {\"fecha_date\": \"2020-11-08T00:00:00\", \"n_registros\": 861, \"roll7\": 861.2857142857143}, {\"fecha_date\": \"2020-11-09T00:00:00\", \"n_registros\": 859, \"roll7\": 862.0}, {\"fecha_date\": \"2020-11-10T00:00:00\", \"n_registros\": 862, \"roll7\": 862.1428571428571}, {\"fecha_date\": \"2020-11-11T00:00:00\", \"n_registros\": 864, \"roll7\": 862.7142857142857}, {\"fecha_date\": \"2020-11-12T00:00:00\", \"n_registros\": 864, \"roll7\": 863.1428571428571}, {\"fecha_date\": \"2020-11-13T00:00:00\", \"n_registros\": 864, \"roll7\": 863.8571428571429}, {\"fecha_date\": \"2020-11-14T00:00:00\", \"n_registros\": 865, \"roll7\": 863.8571428571429}, {\"fecha_date\": \"2020-11-15T00:00:00\", \"n_registros\": 864, \"roll7\": 863.7142857142857}, {\"fecha_date\": \"2020-11-16T00:00:00\", \"n_registros\": 864, \"roll7\": 863.4285714285714}, {\"fecha_date\": \"2020-11-17T00:00:00\", \"n_registros\": 862, \"roll7\": 863.2857142857143}, {\"fecha_date\": \"2020-11-18T00:00:00\", \"n_registros\": 863, \"roll7\": 862.8571428571429}, {\"fecha_date\": \"2020-11-19T00:00:00\", \"n_registros\": 862, \"roll7\": 863.0}, {\"fecha_date\": \"2020-11-20T00:00:00\", \"n_registros\": 863, \"roll7\": 862.8571428571429}, {\"fecha_date\": \"2020-11-21T00:00:00\", \"n_registros\": 862, \"roll7\": 862.7142857142857}, {\"fecha_date\": \"2020-11-22T00:00:00\", \"n_registros\": 865, \"roll7\": 862.1428571428571}, {\"fecha_date\": \"2020-11-23T00:00:00\", \"n_registros\": 863, \"roll7\": 861.2857142857143}, {\"fecha_date\": \"2020-11-24T00:00:00\", \"n_registros\": 861, \"roll7\": 860.2857142857143}, {\"fecha_date\": \"2020-11-25T00:00:00\", \"n_registros\": 859, \"roll7\": 859.5714285714286}, {\"fecha_date\": \"2020-11-26T00:00:00\", \"n_registros\": 856, \"roll7\": 858.7142857142857}, {\"fecha_date\": \"2020-11-27T00:00:00\", \"n_registros\": 856, \"roll7\": 857.5714285714286}, {\"fecha_date\": \"2020-11-28T00:00:00\", \"n_registros\": 857, \"roll7\": 856.8571428571429}, {\"fecha_date\": \"2020-11-29T00:00:00\", \"n_registros\": 859, \"roll7\": 856.7142857142857}, {\"fecha_date\": \"2020-11-30T00:00:00\", \"n_registros\": 855, \"roll7\": 857.5714285714286}, {\"fecha_date\": \"2020-12-01T00:00:00\", \"n_registros\": 856, \"roll7\": 858.5714285714286}, {\"fecha_date\": \"2020-12-02T00:00:00\", \"n_registros\": 858, \"roll7\": 859.5714285714286}, {\"fecha_date\": \"2020-12-03T00:00:00\", \"n_registros\": 862, \"roll7\": 860.1428571428571}, {\"fecha_date\": \"2020-12-04T00:00:00\", \"n_registros\": 863, \"roll7\": 860.8571428571429}, {\"fecha_date\": \"2020-12-05T00:00:00\", \"n_registros\": 864, \"roll7\": 861.7142857142857}, {\"fecha_date\": \"2020-12-06T00:00:00\", \"n_registros\": 863, \"roll7\": 862.2857142857143}, {\"fecha_date\": \"2020-12-07T00:00:00\", \"n_registros\": 860, \"roll7\": 862.2857142857143}, {\"fecha_date\": \"2020-12-08T00:00:00\", \"n_registros\": 862, \"roll7\": 862.8571428571429}, {\"fecha_date\": \"2020-12-09T00:00:00\", \"n_registros\": 862, \"roll7\": 863.1428571428571}, {\"fecha_date\": \"2020-12-10T00:00:00\", \"n_registros\": 862, \"roll7\": 863.4285714285714}, {\"fecha_date\": \"2020-12-11T00:00:00\", \"n_registros\": 867, \"roll7\": 864.1428571428571}, {\"fecha_date\": \"2020-12-12T00:00:00\", \"n_registros\": 866, \"roll7\": 864.4285714285714}, {\"fecha_date\": \"2020-12-13T00:00:00\", \"n_registros\": 865, \"roll7\": 864.7142857142857}, {\"fecha_date\": \"2020-12-14T00:00:00\", \"n_registros\": 865, \"roll7\": 865.2857142857143}, {\"fecha_date\": \"2020-12-15T00:00:00\", \"n_registros\": 864, \"roll7\": 864.8571428571429}, {\"fecha_date\": \"2020-12-16T00:00:00\", \"n_registros\": 864, \"roll7\": 864.7142857142857}, {\"fecha_date\": \"2020-12-17T00:00:00\", \"n_registros\": 866, \"roll7\": 864.4285714285714}, {\"fecha_date\": \"2020-12-18T00:00:00\", \"n_registros\": 864, \"roll7\": 864.4285714285714}, {\"fecha_date\": \"2020-12-19T00:00:00\", \"n_registros\": 865, \"roll7\": 864.5714285714286}, {\"fecha_date\": \"2020-12-20T00:00:00\", \"n_registros\": 863, \"roll7\": 864.8571428571429}, {\"fecha_date\": \"2020-12-21T00:00:00\", \"n_registros\": 865, \"roll7\": 864.7142857142857}, {\"fecha_date\": \"2020-12-22T00:00:00\", \"n_registros\": 865, \"roll7\": 864.8571428571429}, {\"fecha_date\": \"2020-12-23T00:00:00\", \"n_registros\": 866, \"roll7\": 864.8571428571429}, {\"fecha_date\": \"2020-12-24T00:00:00\", \"n_registros\": 865, \"roll7\": 864.8571428571429}, {\"fecha_date\": \"2020-12-25T00:00:00\", \"n_registros\": 865, \"roll7\": 864.5714285714286}, {\"fecha_date\": \"2020-12-26T00:00:00\", \"n_registros\": 865, \"roll7\": 864.2857142857143}, {\"fecha_date\": \"2020-12-27T00:00:00\", \"n_registros\": 863, \"roll7\": 864.0}, {\"fecha_date\": \"2020-12-28T00:00:00\", \"n_registros\": 863, \"roll7\": 864.0}, {\"fecha_date\": \"2020-12-29T00:00:00\", \"n_registros\": 863, \"roll7\": 863.4285714285714}, {\"fecha_date\": \"2020-12-30T00:00:00\", \"n_registros\": 864, \"roll7\": 862.5714285714286}, {\"fecha_date\": \"2020-12-31T00:00:00\", \"n_registros\": 865, \"roll7\": 862.2857142857143}, {\"fecha_date\": \"2021-01-01T00:00:00\", \"n_registros\": 861, \"roll7\": 862.0}, {\"fecha_date\": \"2021-01-02T00:00:00\", \"n_registros\": 859, \"roll7\": 862.1428571428571}, {\"fecha_date\": \"2021-01-03T00:00:00\", \"n_registros\": 861, \"roll7\": 861.7142857142857}, {\"fecha_date\": \"2021-01-04T00:00:00\", \"n_registros\": 861, \"roll7\": 861.2857142857143}, {\"fecha_date\": \"2021-01-05T00:00:00\", \"n_registros\": 864, \"roll7\": 861.1428571428571}, {\"fecha_date\": \"2021-01-06T00:00:00\", \"n_registros\": 861, \"roll7\": 860.5714285714286}, {\"fecha_date\": \"2021-01-07T00:00:00\", \"n_registros\": 862, \"roll7\": 859.8571428571429}, {\"fecha_date\": \"2021-01-08T00:00:00\", \"n_registros\": 860, \"roll7\": 859.2857142857143}, {\"fecha_date\": \"2021-01-09T00:00:00\", \"n_registros\": 855, \"roll7\": 858.2857142857143}, {\"fecha_date\": \"2021-01-10T00:00:00\", \"n_registros\": 856, \"roll7\": 858.4285714285714}, {\"fecha_date\": \"2021-01-11T00:00:00\", \"n_registros\": 857, \"roll7\": 858.0}, {\"fecha_date\": \"2021-01-12T00:00:00\", \"n_registros\": 857, \"roll7\": 857.7142857142857}, {\"fecha_date\": \"2021-01-13T00:00:00\", \"n_registros\": 862, \"roll7\": 858.5714285714286}, {\"fecha_date\": \"2021-01-14T00:00:00\", \"n_registros\": 859, \"roll7\": 859.5714285714286}, {\"fecha_date\": \"2021-01-15T00:00:00\", \"n_registros\": 858, \"roll7\": 860.2857142857143}, {\"fecha_date\": \"2021-01-16T00:00:00\", \"n_registros\": 861, \"roll7\": 860.7142857142857}, {\"fecha_date\": \"2021-01-17T00:00:00\", \"n_registros\": 863, \"roll7\": 860.5714285714286}, {\"fecha_date\": \"2021-01-18T00:00:00\", \"n_registros\": 862, \"roll7\": 861.0}, {\"fecha_date\": \"2021-01-19T00:00:00\", \"n_registros\": 860, \"roll7\": 861.0}, {\"fecha_date\": \"2021-01-20T00:00:00\", \"n_registros\": 861, \"roll7\": 860.5714285714286}, {\"fecha_date\": \"2021-01-21T00:00:00\", \"n_registros\": 862, \"roll7\": 860.2857142857143}, {\"fecha_date\": \"2021-01-22T00:00:00\", \"n_registros\": 858, \"roll7\": 859.7142857142857}, {\"fecha_date\": \"2021-01-23T00:00:00\", \"n_registros\": 858, \"roll7\": 859.8571428571429}, {\"fecha_date\": \"2021-01-24T00:00:00\", \"n_registros\": 861, \"roll7\": 859.4285714285714}, {\"fecha_date\": \"2021-01-25T00:00:00\", \"n_registros\": 858, \"roll7\": 859.0}, {\"fecha_date\": \"2021-01-26T00:00:00\", \"n_registros\": 861, \"roll7\": 859.5714285714286}, {\"fecha_date\": \"2021-01-27T00:00:00\", \"n_registros\": 858, \"roll7\": 860.1428571428571}, {\"fecha_date\": \"2021-01-28T00:00:00\", \"n_registros\": 859, \"roll7\": 860.1428571428571}, {\"fecha_date\": \"2021-01-29T00:00:00\", \"n_registros\": 862, \"roll7\": 860.5714285714286}, {\"fecha_date\": \"2021-01-30T00:00:00\", \"n_registros\": 862, \"roll7\": 860.4285714285714}, {\"fecha_date\": \"2021-01-31T00:00:00\", \"n_registros\": 861, \"roll7\": 860.5714285714286}, {\"fecha_date\": \"2021-02-01T00:00:00\", \"n_registros\": 861, \"roll7\": 860.4285714285714}, {\"fecha_date\": \"2021-02-02T00:00:00\", \"n_registros\": 860, \"roll7\": 860.1428571428571}, {\"fecha_date\": \"2021-02-03T00:00:00\", \"n_registros\": 859, \"roll7\": 860.1428571428571}, {\"fecha_date\": \"2021-02-04T00:00:00\", \"n_registros\": 858, \"roll7\": 860.2857142857143}, {\"fecha_date\": \"2021-02-05T00:00:00\", \"n_registros\": 860, \"roll7\": 859.8571428571429}, {\"fecha_date\": \"2021-02-06T00:00:00\", \"n_registros\": 862, \"roll7\": 859.8571428571429}, {\"fecha_date\": \"2021-02-07T00:00:00\", \"n_registros\": 862, \"roll7\": 859.7142857142857}, {\"fecha_date\": \"2021-02-08T00:00:00\", \"n_registros\": 858, \"roll7\": 859.7142857142857}, {\"fecha_date\": \"2021-02-09T00:00:00\", \"n_registros\": 860, \"roll7\": 860.0}, {\"fecha_date\": \"2021-02-10T00:00:00\", \"n_registros\": 858, \"roll7\": 860.0}, {\"fecha_date\": \"2021-02-11T00:00:00\", \"n_registros\": 858, \"roll7\": 860.0}, {\"fecha_date\": \"2021-02-12T00:00:00\", \"n_registros\": 862, \"roll7\": 860.5714285714286}, {\"fecha_date\": \"2021-02-13T00:00:00\", \"n_registros\": 862, \"roll7\": 861.2857142857143}, {\"fecha_date\": \"2021-02-14T00:00:00\", \"n_registros\": 862, \"roll7\": 862.2857142857143}, {\"fecha_date\": \"2021-02-15T00:00:00\", \"n_registros\": 862, \"roll7\": 863.1428571428571}, {\"fecha_date\": \"2021-02-16T00:00:00\", \"n_registros\": 865, \"roll7\": 863.7142857142857}, {\"fecha_date\": \"2021-02-17T00:00:00\", \"n_registros\": 865, \"roll7\": 864.5714285714286}, {\"fecha_date\": \"2021-02-18T00:00:00\", \"n_registros\": 864, \"roll7\": 865.2857142857143}, {\"fecha_date\": \"2021-02-19T00:00:00\", \"n_registros\": 866, \"roll7\": 866.0}, {\"fecha_date\": \"2021-02-20T00:00:00\", \"n_registros\": 868, \"roll7\": 866.0}, {\"fecha_date\": \"2021-02-21T00:00:00\", \"n_registros\": 867, \"roll7\": 866.5714285714286}, {\"fecha_date\": \"2021-02-22T00:00:00\", \"n_registros\": 867, \"roll7\": 867.2857142857143}, {\"fecha_date\": \"2021-02-23T00:00:00\", \"n_registros\": 865, \"roll7\": 868.0}, {\"fecha_date\": \"2021-02-24T00:00:00\", \"n_registros\": 869, \"roll7\": 868.7142857142857}, {\"fecha_date\": \"2021-02-25T00:00:00\", \"n_registros\": 869, \"roll7\": 869.5714285714286}, {\"fecha_date\": \"2021-02-26T00:00:00\", \"n_registros\": 871, \"roll7\": 870.1428571428571}, {\"fecha_date\": \"2021-02-27T00:00:00\", \"n_registros\": 873, \"roll7\": 871.0}, {\"fecha_date\": \"2021-02-28T00:00:00\", \"n_registros\": 873, \"roll7\": 871.1428571428571}, {\"fecha_date\": \"2021-03-01T00:00:00\", \"n_registros\": 871, \"roll7\": 871.2857142857143}, {\"fecha_date\": \"2021-03-02T00:00:00\", \"n_registros\": 871, \"roll7\": 871.2857142857143}, {\"fecha_date\": \"2021-03-03T00:00:00\", \"n_registros\": 870, \"roll7\": 870.7142857142857}, {\"fecha_date\": \"2021-03-04T00:00:00\", \"n_registros\": 870, \"roll7\": 870.1428571428571}, {\"fecha_date\": \"2021-03-05T00:00:00\", \"n_registros\": 871, \"roll7\": 869.4285714285714}, {\"fecha_date\": \"2021-03-06T00:00:00\", \"n_registros\": 869, \"roll7\": 869.0}, {\"fecha_date\": \"2021-03-07T00:00:00\", \"n_registros\": 869, \"roll7\": 868.5714285714286}, {\"fecha_date\": \"2021-03-08T00:00:00\", \"n_registros\": 866, \"roll7\": 868.1428571428571}, {\"fecha_date\": \"2021-03-09T00:00:00\", \"n_registros\": 868, \"roll7\": 867.5714285714286}, {\"fecha_date\": \"2021-03-10T00:00:00\", \"n_registros\": 867, \"roll7\": 867.2857142857143}, {\"fecha_date\": \"2021-03-11T00:00:00\", \"n_registros\": 867, \"roll7\": 866.8571428571429}, {\"fecha_date\": \"2021-03-12T00:00:00\", \"n_registros\": 867, \"roll7\": 867.0}, {\"fecha_date\": \"2021-03-13T00:00:00\", \"n_registros\": 867, \"roll7\": 866.5714285714286}, {\"fecha_date\": \"2021-03-14T00:00:00\", \"n_registros\": 866, \"roll7\": 866.2857142857143}, {\"fecha_date\": \"2021-03-15T00:00:00\", \"n_registros\": 867, \"roll7\": 866.1428571428571}, {\"fecha_date\": \"2021-03-16T00:00:00\", \"n_registros\": 865, \"roll7\": 866.2857142857143}, {\"fecha_date\": \"2021-03-17T00:00:00\", \"n_registros\": 865, \"roll7\": 866.4285714285714}, {\"fecha_date\": \"2021-03-18T00:00:00\", \"n_registros\": 866, \"roll7\": 866.7142857142857}, {\"fecha_date\": \"2021-03-19T00:00:00\", \"n_registros\": 868, \"roll7\": 866.8571428571429}, {\"fecha_date\": \"2021-03-20T00:00:00\", \"n_registros\": 868, \"roll7\": 867.0}, {\"fecha_date\": \"2021-03-21T00:00:00\", \"n_registros\": 868, \"roll7\": 867.2857142857143}, {\"fecha_date\": \"2021-03-22T00:00:00\", \"n_registros\": 868, \"roll7\": 867.8571428571429}, {\"fecha_date\": \"2021-03-23T00:00:00\", \"n_registros\": 866, \"roll7\": 868.1428571428571}, {\"fecha_date\": \"2021-03-24T00:00:00\", \"n_registros\": 867, \"roll7\": 868.2857142857143}, {\"fecha_date\": \"2021-03-25T00:00:00\", \"n_registros\": 870, \"roll7\": 868.4285714285714}, {\"fecha_date\": \"2021-03-26T00:00:00\", \"n_registros\": 870, \"roll7\": 868.4285714285714}, {\"fecha_date\": \"2021-03-27T00:00:00\", \"n_registros\": 869, \"roll7\": 868.7142857142857}, {\"fecha_date\": \"2021-03-28T00:00:00\", \"n_registros\": 869, \"roll7\": 868.8571428571429}, {\"fecha_date\": \"2021-03-29T00:00:00\", \"n_registros\": 868, \"roll7\": 868.2857142857143}, {\"fecha_date\": \"2021-03-30T00:00:00\", \"n_registros\": 868, \"roll7\": 867.5714285714286}, {\"fecha_date\": \"2021-03-31T00:00:00\", \"n_registros\": 868, \"roll7\": 866.8571428571429}, {\"fecha_date\": \"2021-04-01T00:00:00\", \"n_registros\": 866, \"roll7\": 866.2857142857143}, {\"fecha_date\": \"2021-04-02T00:00:00\", \"n_registros\": 865, \"roll7\": 865.8571428571429}, {\"fecha_date\": \"2021-04-03T00:00:00\", \"n_registros\": 864, \"roll7\": 865.7142857142857}, {\"fecha_date\": \"2021-04-04T00:00:00\", \"n_registros\": 865, \"roll7\": 865.7142857142857}, {\"fecha_date\": \"2021-04-05T00:00:00\", \"n_registros\": 865, \"roll7\": 865.8571428571429}, {\"fecha_date\": \"2021-04-06T00:00:00\", \"n_registros\": 867, \"roll7\": 866.0}, {\"fecha_date\": \"2021-04-07T00:00:00\", \"n_registros\": 868, \"roll7\": 866.4285714285714}, {\"fecha_date\": \"2021-04-08T00:00:00\", \"n_registros\": 867, \"roll7\": 866.8571428571429}, {\"fecha_date\": \"2021-04-09T00:00:00\", \"n_registros\": 866, \"roll7\": 867.1428571428571}, {\"fecha_date\": \"2021-04-10T00:00:00\", \"n_registros\": 867, \"roll7\": 866.7142857142857}, {\"fecha_date\": \"2021-04-11T00:00:00\", \"n_registros\": 868, \"roll7\": 866.2857142857143}, {\"fecha_date\": \"2021-04-12T00:00:00\", \"n_registros\": 867, \"roll7\": 866.1428571428571}, {\"fecha_date\": \"2021-04-13T00:00:00\", \"n_registros\": 864, \"roll7\": 866.2857142857143}, {\"fecha_date\": \"2021-04-14T00:00:00\", \"n_registros\": 865, \"roll7\": 866.5714285714286}, {\"fecha_date\": \"2021-04-15T00:00:00\", \"n_registros\": 866, \"roll7\": 866.8571428571429}, {\"fecha_date\": \"2021-04-16T00:00:00\", \"n_registros\": 867, \"roll7\": 867.0}, {\"fecha_date\": \"2021-04-17T00:00:00\", \"n_registros\": 869, \"roll7\": 867.8571428571429}, {\"fecha_date\": \"2021-04-18T00:00:00\", \"n_registros\": 870, \"roll7\": 868.1428571428571}, {\"fecha_date\": \"2021-04-19T00:00:00\", \"n_registros\": 868, \"roll7\": 868.7142857142857}, {\"fecha_date\": \"2021-04-20T00:00:00\", \"n_registros\": 870, \"roll7\": 869.1428571428571}, {\"fecha_date\": \"2021-04-21T00:00:00\", \"n_registros\": 867, \"roll7\": 869.0}, {\"fecha_date\": \"2021-04-22T00:00:00\", \"n_registros\": 870, \"roll7\": 868.2857142857143}, {\"fecha_date\": \"2021-04-23T00:00:00\", \"n_registros\": 870, \"roll7\": 868.7142857142857}, {\"fecha_date\": \"2021-04-24T00:00:00\", \"n_registros\": 868, \"roll7\": 868.1428571428571}, {\"fecha_date\": \"2021-04-25T00:00:00\", \"n_registros\": 865, \"roll7\": 868.4285714285714}, {\"fecha_date\": \"2021-04-26T00:00:00\", \"n_registros\": 871, \"roll7\": 868.5714285714286}, {\"fecha_date\": \"2021-04-27T00:00:00\", \"n_registros\": 866, \"roll7\": 868.4285714285714}, {\"fecha_date\": \"2021-04-28T00:00:00\", \"n_registros\": 869, \"roll7\": 868.4285714285714}, {\"fecha_date\": \"2021-04-29T00:00:00\", \"n_registros\": 871, \"roll7\": 868.8571428571429}, {\"fecha_date\": \"2021-04-30T00:00:00\", \"n_registros\": 869, \"roll7\": 867.8571428571429}, {\"fecha_date\": \"2021-05-01T00:00:00\", \"n_registros\": 868, \"roll7\": 867.5714285714286}, {\"fecha_date\": \"2021-05-02T00:00:00\", \"n_registros\": 868, \"roll7\": 867.0}, {\"fecha_date\": \"2021-05-03T00:00:00\", \"n_registros\": 864, \"roll7\": 866.1428571428571}, {\"fecha_date\": \"2021-05-04T00:00:00\", \"n_registros\": 864, \"roll7\": 865.8571428571429}, {\"fecha_date\": \"2021-05-05T00:00:00\", \"n_registros\": 865, \"roll7\": 865.4285714285714}, {\"fecha_date\": \"2021-05-06T00:00:00\", \"n_registros\": 865, \"roll7\": 865.2857142857143}, {\"fecha_date\": \"2021-05-07T00:00:00\", \"n_registros\": 867, \"roll7\": 865.2857142857143}, {\"fecha_date\": \"2021-05-08T00:00:00\", \"n_registros\": 865, \"roll7\": 865.5714285714286}, {\"fecha_date\": \"2021-05-09T00:00:00\", \"n_registros\": 867, \"roll7\": 865.8571428571429}, {\"fecha_date\": \"2021-05-10T00:00:00\", \"n_registros\": 864, \"roll7\": 866.0}, {\"fecha_date\": \"2021-05-11T00:00:00\", \"n_registros\": 866, \"roll7\": 866.1428571428571}, {\"fecha_date\": \"2021-05-12T00:00:00\", \"n_registros\": 867, \"roll7\": 866.1428571428571}, {\"fecha_date\": \"2021-05-13T00:00:00\", \"n_registros\": 866, \"roll7\": 865.8571428571429}, {\"fecha_date\": \"2021-05-14T00:00:00\", \"n_registros\": 868, \"roll7\": 866.0}, {\"fecha_date\": \"2021-05-15T00:00:00\", \"n_registros\": 865, \"roll7\": 865.8571428571429}, {\"fecha_date\": \"2021-05-16T00:00:00\", \"n_registros\": 865, \"roll7\": 865.5714285714286}, {\"fecha_date\": \"2021-05-17T00:00:00\", \"n_registros\": 865, \"roll7\": 865.1428571428571}, {\"fecha_date\": \"2021-05-18T00:00:00\", \"n_registros\": 865, \"roll7\": 864.2857142857143}, {\"fecha_date\": \"2021-05-19T00:00:00\", \"n_registros\": 865, \"roll7\": 863.5714285714286}, {\"fecha_date\": \"2021-05-20T00:00:00\", \"n_registros\": 863, \"roll7\": 862.8571428571429}, {\"fecha_date\": \"2021-05-21T00:00:00\", \"n_registros\": 862, \"roll7\": 862.1428571428571}, {\"fecha_date\": \"2021-05-22T00:00:00\", \"n_registros\": 860, \"roll7\": 862.0}, {\"fecha_date\": \"2021-05-23T00:00:00\", \"n_registros\": 860, \"roll7\": 862.4285714285714}, {\"fecha_date\": \"2021-05-24T00:00:00\", \"n_registros\": 860, \"roll7\": 863.2857142857143}, {\"fecha_date\": \"2021-05-25T00:00:00\", \"n_registros\": 864, \"roll7\": 863.8571428571429}, {\"fecha_date\": \"2021-05-26T00:00:00\", \"n_registros\": 868, \"roll7\": 864.5714285714286}, {\"fecha_date\": \"2021-05-27T00:00:00\", \"n_registros\": 869, \"roll7\": 864.8571428571429}, {\"fecha_date\": \"2021-05-28T00:00:00\", \"n_registros\": 866, \"roll7\": 865.5714285714286}, {\"fecha_date\": \"2021-05-29T00:00:00\", \"n_registros\": 865, \"roll7\": 866.2857142857143}, {\"fecha_date\": \"2021-05-30T00:00:00\", \"n_registros\": 862, \"roll7\": 866.5714285714286}, {\"fecha_date\": \"2021-05-31T00:00:00\", \"n_registros\": 865, \"roll7\": 866.8571428571429}, {\"fecha_date\": \"2021-06-01T00:00:00\", \"n_registros\": 869, \"roll7\": 867.4285714285714}, {\"fecha_date\": \"2021-06-02T00:00:00\", \"n_registros\": 870, \"roll7\": 868.4285714285714}, {\"fecha_date\": \"2021-06-03T00:00:00\", \"n_registros\": 871, \"roll7\": 869.5714285714286}, {\"fecha_date\": \"2021-06-04T00:00:00\", \"n_registros\": 870, \"roll7\": 870.4285714285714}, {\"fecha_date\": \"2021-06-05T00:00:00\", \"n_registros\": 872, \"roll7\": 870.5714285714286}, {\"fecha_date\": \"2021-06-06T00:00:00\", \"n_registros\": 870, \"roll7\": 870.1428571428571}, {\"fecha_date\": \"2021-06-07T00:00:00\", \"n_registros\": 871, \"roll7\": 869.4285714285714}, {\"fecha_date\": \"2021-06-08T00:00:00\", \"n_registros\": 870, \"roll7\": 868.4285714285714}, {\"fecha_date\": \"2021-06-09T00:00:00\", \"n_registros\": 867, \"roll7\": 867.0}, {\"fecha_date\": \"2021-06-10T00:00:00\", \"n_registros\": 866, \"roll7\": 865.4285714285714}, {\"fecha_date\": \"2021-06-11T00:00:00\", \"n_registros\": 863, \"roll7\": 863.5714285714286}, {\"fecha_date\": \"2021-06-12T00:00:00\", \"n_registros\": 862, \"roll7\": 861.5714285714286}, {\"fecha_date\": \"2021-06-13T00:00:00\", \"n_registros\": 859, \"roll7\": 860.4285714285714}, {\"fecha_date\": \"2021-06-14T00:00:00\", \"n_registros\": 858, \"roll7\": 859.2857142857143}, {\"fecha_date\": \"2021-06-15T00:00:00\", \"n_registros\": 856, \"roll7\": 858.0}, {\"fecha_date\": \"2021-06-16T00:00:00\", \"n_registros\": 859, \"roll7\": 857.0}, {\"fecha_date\": \"2021-06-17T00:00:00\", \"n_registros\": 858, \"roll7\": 855.7142857142857}, {\"fecha_date\": \"2021-06-18T00:00:00\", \"n_registros\": 854, \"roll7\": 855.4285714285714}, {\"fecha_date\": \"2021-06-19T00:00:00\", \"n_registros\": 855, \"roll7\": 855.1428571428571}, {\"fecha_date\": \"2021-06-20T00:00:00\", \"n_registros\": 850, \"roll7\": 855.1428571428571}, {\"fecha_date\": \"2021-06-21T00:00:00\", \"n_registros\": 856, \"roll7\": 855.5714285714286}, {\"fecha_date\": \"2021-06-22T00:00:00\", \"n_registros\": 854, \"roll7\": 856.7142857142857}, {\"fecha_date\": \"2021-06-23T00:00:00\", \"n_registros\": 859, \"roll7\": 857.4285714285714}, {\"fecha_date\": \"2021-06-24T00:00:00\", \"n_registros\": 861, \"roll7\": 858.8571428571429}, {\"fecha_date\": \"2021-06-25T00:00:00\", \"n_registros\": 862, \"roll7\": 859.1428571428571}, {\"fecha_date\": \"2021-06-26T00:00:00\", \"n_registros\": 860, \"roll7\": 860.1428571428571}, {\"fecha_date\": \"2021-06-27T00:00:00\", \"n_registros\": 860, \"roll7\": 860.4285714285714}, {\"fecha_date\": \"2021-06-28T00:00:00\", \"n_registros\": 858, \"roll7\": 860.8571428571429}, {\"fecha_date\": \"2021-06-29T00:00:00\", \"n_registros\": 861, \"roll7\": 861.2857142857143}, {\"fecha_date\": \"2021-06-30T00:00:00\", \"n_registros\": 861, \"roll7\": 861.7142857142857}, {\"fecha_date\": \"2021-07-01T00:00:00\", \"n_registros\": 864, \"roll7\": 862.1428571428571}, {\"fecha_date\": \"2021-07-02T00:00:00\", \"n_registros\": 865, \"roll7\": 862.7142857142857}, {\"fecha_date\": \"2021-07-03T00:00:00\", \"n_registros\": 863, \"roll7\": 863.0}, {\"fecha_date\": \"2021-07-04T00:00:00\", \"n_registros\": 863, \"roll7\": 863.0}, {\"fecha_date\": \"2021-07-05T00:00:00\", \"n_registros\": 862, \"roll7\": 862.5714285714286}, {\"fecha_date\": \"2021-07-06T00:00:00\", \"n_registros\": 863, \"roll7\": 862.1428571428571}, {\"fecha_date\": \"2021-07-07T00:00:00\", \"n_registros\": 861, \"roll7\": 862.2857142857143}, {\"fecha_date\": \"2021-07-08T00:00:00\", \"n_registros\": 861, \"roll7\": 862.1428571428571}, {\"fecha_date\": \"2021-07-09T00:00:00\", \"n_registros\": 862, \"roll7\": 862.4285714285714}, {\"fecha_date\": \"2021-07-10T00:00:00\", \"n_registros\": 864, \"roll7\": 862.7142857142857}, {\"fecha_date\": \"2021-07-11T00:00:00\", \"n_registros\": 862, \"roll7\": 863.0}, {\"fecha_date\": \"2021-07-12T00:00:00\", \"n_registros\": 864, \"roll7\": 863.8571428571429}, {\"fecha_date\": \"2021-07-13T00:00:00\", \"n_registros\": 865, \"roll7\": 864.7142857142857}, {\"fecha_date\": \"2021-07-14T00:00:00\", \"n_registros\": 863, \"roll7\": 865.1428571428571}, {\"fecha_date\": \"2021-07-15T00:00:00\", \"n_registros\": 867, \"roll7\": 865.8571428571429}, {\"fecha_date\": \"2021-07-16T00:00:00\", \"n_registros\": 868, \"roll7\": 865.8571428571429}, {\"fecha_date\": \"2021-07-17T00:00:00\", \"n_registros\": 867, \"roll7\": 866.1428571428571}, {\"fecha_date\": \"2021-07-18T00:00:00\", \"n_registros\": 867, \"roll7\": 866.8571428571429}, {\"fecha_date\": \"2021-07-19T00:00:00\", \"n_registros\": 864, \"roll7\": 866.7142857142857}, {\"fecha_date\": \"2021-07-20T00:00:00\", \"n_registros\": 867, \"roll7\": 866.5714285714286}, {\"fecha_date\": \"2021-07-21T00:00:00\", \"n_registros\": 868, \"roll7\": 866.5714285714286}, {\"fecha_date\": \"2021-07-22T00:00:00\", \"n_registros\": 866, \"roll7\": 866.7142857142857}, {\"fecha_date\": \"2021-07-23T00:00:00\", \"n_registros\": 867, \"roll7\": 866.8571428571429}, {\"fecha_date\": \"2021-07-24T00:00:00\", \"n_registros\": 867, \"roll7\": 867.1428571428571}, {\"fecha_date\": \"2021-07-25T00:00:00\", \"n_registros\": 868, \"roll7\": 866.2857142857143}, {\"fecha_date\": \"2021-07-26T00:00:00\", \"n_registros\": 865, \"roll7\": 866.8571428571429}, {\"fecha_date\": \"2021-07-27T00:00:00\", \"n_registros\": 869, \"roll7\": 867.5714285714286}, {\"fecha_date\": \"2021-07-28T00:00:00\", \"n_registros\": 862, \"roll7\": 868.0}, {\"fecha_date\": \"2021-07-29T00:00:00\", \"n_registros\": 870, \"roll7\": 868.1428571428571}, {\"fecha_date\": \"2021-07-30T00:00:00\", \"n_registros\": 872, \"roll7\": 868.7142857142857}, {\"fecha_date\": \"2021-07-31T00:00:00\", \"n_registros\": 870, \"roll7\": 868.8571428571429}, {\"fecha_date\": \"2021-08-01T00:00:00\", \"n_registros\": 869, \"roll7\": 869.7142857142857}, {\"fecha_date\": \"2021-08-02T00:00:00\", \"n_registros\": 869, \"roll7\": 869.5714285714286}, {\"fecha_date\": \"2021-08-03T00:00:00\", \"n_registros\": 870, \"roll7\": 869.4285714285714}, {\"fecha_date\": \"2021-08-04T00:00:00\", \"n_registros\": 868, \"roll7\": 869.4285714285714}, {\"fecha_date\": \"2021-08-05T00:00:00\", \"n_registros\": 869, \"roll7\": 869.5714285714286}, {\"fecha_date\": \"2021-08-06T00:00:00\", \"n_registros\": 871, \"roll7\": 869.5714285714286}, {\"fecha_date\": \"2021-08-07T00:00:00\", \"n_registros\": 870, \"roll7\": 869.2857142857143}, {\"fecha_date\": \"2021-08-08T00:00:00\", \"n_registros\": 870, \"roll7\": 869.1428571428571}, {\"fecha_date\": \"2021-08-09T00:00:00\", \"n_registros\": 869, \"roll7\": 869.0}, {\"fecha_date\": \"2021-08-10T00:00:00\", \"n_registros\": 868, \"roll7\": 868.7142857142857}, {\"fecha_date\": \"2021-08-11T00:00:00\", \"n_registros\": 867, \"roll7\": 868.2857142857143}, {\"fecha_date\": \"2021-08-12T00:00:00\", \"n_registros\": 868, \"roll7\": 868.1428571428571}, {\"fecha_date\": \"2021-08-13T00:00:00\", \"n_registros\": 869, \"roll7\": 868.2857142857143}, {\"fecha_date\": \"2021-08-14T00:00:00\", \"n_registros\": 867, \"roll7\": 868.2857142857143}, {\"fecha_date\": \"2021-08-15T00:00:00\", \"n_registros\": 869, \"roll7\": 868.5714285714286}, {\"fecha_date\": \"2021-08-16T00:00:00\", \"n_registros\": 870, \"roll7\": 869.0}, {\"fecha_date\": \"2021-08-17T00:00:00\", \"n_registros\": 868, \"roll7\": 869.2857142857143}, {\"fecha_date\": \"2021-08-18T00:00:00\", \"n_registros\": 869, \"roll7\": 869.7142857142857}, {\"fecha_date\": \"2021-08-19T00:00:00\", \"n_registros\": 871, \"roll7\": 870.1428571428571}, {\"fecha_date\": \"2021-08-20T00:00:00\", \"n_registros\": 871, \"roll7\": 870.0}, {\"fecha_date\": \"2021-08-21T00:00:00\", \"n_registros\": 870, \"roll7\": 870.2857142857143}, {\"fecha_date\": \"2021-08-22T00:00:00\", \"n_registros\": 872, \"roll7\": 870.8571428571429}, {\"fecha_date\": \"2021-08-23T00:00:00\", \"n_registros\": 869, \"roll7\": 870.7142857142857}, {\"fecha_date\": \"2021-08-24T00:00:00\", \"n_registros\": 870, \"roll7\": 870.8571428571429}, {\"fecha_date\": \"2021-08-25T00:00:00\", \"n_registros\": 873, \"roll7\": 871.0}, {\"fecha_date\": \"2021-08-26T00:00:00\", \"n_registros\": 870, \"roll7\": 871.0}, {\"fecha_date\": \"2021-08-27T00:00:00\", \"n_registros\": 872, \"roll7\": 871.2857142857143}, {\"fecha_date\": \"2021-08-28T00:00:00\", \"n_registros\": 871, \"roll7\": 870.8571428571429}, {\"fecha_date\": \"2021-08-29T00:00:00\", \"n_registros\": 872, \"roll7\": 870.0}, {\"fecha_date\": \"2021-08-30T00:00:00\", \"n_registros\": 871, \"roll7\": 869.5714285714286}, {\"fecha_date\": \"2021-08-31T00:00:00\", \"n_registros\": 867, \"roll7\": 869.1428571428571}, {\"fecha_date\": \"2021-09-01T00:00:00\", \"n_registros\": 867, \"roll7\": 869.1428571428571}, {\"fecha_date\": \"2021-09-02T00:00:00\", \"n_registros\": 867, \"roll7\": 868.5714285714286}, {\"fecha_date\": \"2021-09-03T00:00:00\", \"n_registros\": 869, \"roll7\": 867.8571428571429}, {\"fecha_date\": \"2021-09-04T00:00:00\", \"n_registros\": 871, \"roll7\": 868.0}, {\"fecha_date\": \"2021-09-05T00:00:00\", \"n_registros\": 868, \"roll7\": 868.2857142857143}, {\"fecha_date\": \"2021-09-06T00:00:00\", \"n_registros\": 866, \"roll7\": 868.2857142857143}, {\"fecha_date\": \"2021-09-07T00:00:00\", \"n_registros\": 868, \"roll7\": 868.0}, {\"fecha_date\": \"2021-09-08T00:00:00\", \"n_registros\": 869, \"roll7\": 867.4285714285714}, {\"fecha_date\": \"2021-09-09T00:00:00\", \"n_registros\": 867, \"roll7\": 867.2857142857143}, {\"fecha_date\": \"2021-09-10T00:00:00\", \"n_registros\": 867, \"roll7\": 867.4285714285714}, {\"fecha_date\": \"2021-09-11T00:00:00\", \"n_registros\": 867, \"roll7\": 866.4285714285714}, {\"fecha_date\": \"2021-09-12T00:00:00\", \"n_registros\": 867, \"roll7\": 865.8571428571429}, {\"fecha_date\": \"2021-09-13T00:00:00\", \"n_registros\": 867, \"roll7\": 865.7142857142857}, {\"fecha_date\": \"2021-09-14T00:00:00\", \"n_registros\": 861, \"roll7\": 865.7142857142857}, {\"fecha_date\": \"2021-09-15T00:00:00\", \"n_registros\": 865, \"roll7\": 865.4285714285714}, {\"fecha_date\": \"2021-09-16T00:00:00\", \"n_registros\": 866, \"roll7\": 865.2857142857143}, {\"fecha_date\": \"2021-09-17T00:00:00\", \"n_registros\": 867, \"roll7\": 865.1428571428571}, {\"fecha_date\": \"2021-09-18T00:00:00\", \"n_registros\": 865, \"roll7\": 866.1428571428571}, {\"fecha_date\": \"2021-09-19T00:00:00\", \"n_registros\": 866, \"roll7\": 866.7142857142857}, {\"fecha_date\": \"2021-09-20T00:00:00\", \"n_registros\": 866, \"roll7\": 867.1428571428571}, {\"fecha_date\": \"2021-09-21T00:00:00\", \"n_registros\": 868, \"roll7\": 867.2857142857143}, {\"fecha_date\": \"2021-09-22T00:00:00\", \"n_registros\": 869, \"roll7\": 867.8571428571429}, {\"fecha_date\": \"2021-09-23T00:00:00\", \"n_registros\": 869, \"roll7\": 868.0}, {\"fecha_date\": \"2021-09-24T00:00:00\", \"n_registros\": 868, \"roll7\": 868.1428571428571}, {\"fecha_date\": \"2021-09-25T00:00:00\", \"n_registros\": 869, \"roll7\": 868.1428571428571}, {\"fecha_date\": \"2021-09-26T00:00:00\", \"n_registros\": 867, \"roll7\": 867.8571428571429}, {\"fecha_date\": \"2021-09-27T00:00:00\", \"n_registros\": 867, \"roll7\": 867.2857142857143}, {\"fecha_date\": \"2021-09-28T00:00:00\", \"n_registros\": 868, \"roll7\": 867.4285714285714}, {\"fecha_date\": \"2021-09-29T00:00:00\", \"n_registros\": 867, \"roll7\": 867.4285714285714}, {\"fecha_date\": \"2021-09-30T00:00:00\", \"n_registros\": 865, \"roll7\": 867.1428571428571}, {\"fecha_date\": \"2021-10-01T00:00:00\", \"n_registros\": 869, \"roll7\": 867.0}, {\"fecha_date\": \"2021-10-02T00:00:00\", \"n_registros\": 869, \"roll7\": 867.2857142857143}, {\"fecha_date\": \"2021-10-03T00:00:00\", \"n_registros\": 865, \"roll7\": 867.8571428571429}, {\"fecha_date\": \"2021-10-04T00:00:00\", \"n_registros\": 866, \"roll7\": 869.0}, {\"fecha_date\": \"2021-10-05T00:00:00\", \"n_registros\": 870, \"roll7\": 869.4285714285714}, {\"fecha_date\": \"2021-10-06T00:00:00\", \"n_registros\": 871, \"roll7\": 870.2857142857143}, {\"fecha_date\": \"2021-10-07T00:00:00\", \"n_registros\": 873, \"roll7\": 871.4285714285714}, {\"fecha_date\": \"2021-10-08T00:00:00\", \"n_registros\": 872, \"roll7\": 872.5714285714286}, {\"fecha_date\": \"2021-10-09T00:00:00\", \"n_registros\": 875, \"roll7\": 873.1428571428571}, {\"fecha_date\": \"2021-10-10T00:00:00\", \"n_registros\": 873, \"roll7\": 873.7142857142857}, {\"fecha_date\": \"2021-10-11T00:00:00\", \"n_registros\": 874, \"roll7\": 873.2857142857143}, {\"fecha_date\": \"2021-10-12T00:00:00\", \"n_registros\": 874, \"roll7\": 873.4285714285714}, {\"fecha_date\": \"2021-10-13T00:00:00\", \"n_registros\": 875, \"roll7\": 873.2857142857143}, {\"fecha_date\": \"2021-10-14T00:00:00\", \"n_registros\": 870, \"roll7\": 873.4285714285714}, {\"fecha_date\": \"2021-10-15T00:00:00\", \"n_registros\": 873, \"roll7\": 873.7142857142857}, {\"fecha_date\": \"2021-10-16T00:00:00\", \"n_registros\": 874, \"roll7\": 873.8571428571429}, {\"fecha_date\": \"2021-10-17T00:00:00\", \"n_registros\": 874, \"roll7\": 874.0}, {\"fecha_date\": \"2021-10-18T00:00:00\", \"n_registros\": 876, \"roll7\": 874.4285714285714}, {\"fecha_date\": \"2021-10-19T00:00:00\", \"n_registros\": 875, \"roll7\": 874.7142857142857}, {\"fecha_date\": \"2021-10-20T00:00:00\", \"n_registros\": 876, \"roll7\": 875.0}, {\"fecha_date\": \"2021-10-21T00:00:00\", \"n_registros\": 873, \"roll7\": 875.1428571428571}, {\"fecha_date\": \"2021-10-22T00:00:00\", \"n_registros\": 875, \"roll7\": 874.8571428571429}, {\"fecha_date\": \"2021-10-23T00:00:00\", \"n_registros\": 876, \"roll7\": 874.8571428571429}, {\"fecha_date\": \"2021-10-24T00:00:00\", \"n_registros\": 875, \"roll7\": 875.0}, {\"fecha_date\": \"2021-10-25T00:00:00\", \"n_registros\": 874, \"roll7\": 875.7142857142857}, {\"fecha_date\": \"2021-10-26T00:00:00\", \"n_registros\": 875, \"roll7\": 876.2857142857143}, {\"fecha_date\": \"2021-10-27T00:00:00\", \"n_registros\": 877, \"roll7\": 876.4285714285714}, {\"fecha_date\": \"2021-10-28T00:00:00\", \"n_registros\": 878, \"roll7\": 875.8571428571429}, {\"fecha_date\": \"2021-10-29T00:00:00\", \"n_registros\": 879, \"roll7\": 875.4285714285714}, {\"fecha_date\": \"2021-10-30T00:00:00\", \"n_registros\": 877, \"roll7\": 875.2857142857143}, {\"fecha_date\": \"2021-10-31T00:00:00\", \"n_registros\": 871, \"roll7\": 874.7142857142857}, {\"fecha_date\": \"2021-11-01T00:00:00\", \"n_registros\": 871, \"roll7\": 874.5714285714286}, {\"fecha_date\": \"2021-11-02T00:00:00\", \"n_registros\": 874, \"roll7\": 873.8571428571429}, {\"fecha_date\": \"2021-11-03T00:00:00\", \"n_registros\": 873, \"roll7\": 873.2857142857143}, {\"fecha_date\": \"2021-11-04T00:00:00\", \"n_registros\": 877, \"roll7\": 873.5714285714286}, {\"fecha_date\": \"2021-11-05T00:00:00\", \"n_registros\": 874, \"roll7\": 873.5714285714286}, {\"fecha_date\": \"2021-11-06T00:00:00\", \"n_registros\": 873, \"roll7\": 873.4285714285714}, {\"fecha_date\": \"2021-11-07T00:00:00\", \"n_registros\": 873, \"roll7\": 873.1428571428571}, {\"fecha_date\": \"2021-11-08T00:00:00\", \"n_registros\": 871, \"roll7\": 873.0}, {\"fecha_date\": \"2021-11-09T00:00:00\", \"n_registros\": 873, \"roll7\": 873.1428571428571}, {\"fecha_date\": \"2021-11-10T00:00:00\", \"n_registros\": 871, \"roll7\": 873.4285714285714}, {\"fecha_date\": \"2021-11-11T00:00:00\", \"n_registros\": 876, \"roll7\": 873.7142857142857}, {\"fecha_date\": \"2021-11-12T00:00:00\", \"n_registros\": 875, \"roll7\": 874.2857142857143}, {\"fecha_date\": \"2021-11-13T00:00:00\", \"n_registros\": 875, \"roll7\": 874.5714285714286}, {\"fecha_date\": \"2021-11-14T00:00:00\", \"n_registros\": 875, \"roll7\": 874.8571428571429}, {\"fecha_date\": \"2021-11-15T00:00:00\", \"n_registros\": 875, \"roll7\": 874.5714285714286}, {\"fecha_date\": \"2021-11-16T00:00:00\", \"n_registros\": 875, \"roll7\": 875.0}, {\"fecha_date\": \"2021-11-17T00:00:00\", \"n_registros\": 873, \"roll7\": 875.1428571428571}, {\"fecha_date\": \"2021-11-18T00:00:00\", \"n_registros\": 874, \"roll7\": 874.8571428571429}, {\"fecha_date\": \"2021-11-19T00:00:00\", \"n_registros\": 878, \"roll7\": 874.8571428571429}, {\"fecha_date\": \"2021-11-20T00:00:00\", \"n_registros\": 876, \"roll7\": 874.7142857142857}, {\"fecha_date\": \"2021-11-21T00:00:00\", \"n_registros\": 873, \"roll7\": 874.8571428571429}, {\"fecha_date\": \"2021-11-22T00:00:00\", \"n_registros\": 875, \"roll7\": 875.1428571428571}, {\"fecha_date\": \"2021-11-23T00:00:00\", \"n_registros\": 874, \"roll7\": 874.7142857142857}, {\"fecha_date\": \"2021-11-24T00:00:00\", \"n_registros\": 874, \"roll7\": 873.8571428571429}, {\"fecha_date\": \"2021-11-25T00:00:00\", \"n_registros\": 876, \"roll7\": 873.7142857142857}, {\"fecha_date\": \"2021-11-26T00:00:00\", \"n_registros\": 875, \"roll7\": 873.0}, {\"fecha_date\": \"2021-11-27T00:00:00\", \"n_registros\": 870, \"roll7\": 872.5714285714286}, {\"fecha_date\": \"2021-11-28T00:00:00\", \"n_registros\": 872, \"roll7\": 872.7142857142857}, {\"fecha_date\": \"2021-11-29T00:00:00\", \"n_registros\": 870, \"roll7\": 872.2857142857143}, {\"fecha_date\": \"2021-11-30T00:00:00\", \"n_registros\": 871, \"roll7\": 872.0}, {\"fecha_date\": \"2021-12-01T00:00:00\", \"n_registros\": 875, \"roll7\": 872.2857142857143}, {\"fecha_date\": \"2021-12-02T00:00:00\", \"n_registros\": 873, \"roll7\": 871.7142857142857}, {\"fecha_date\": \"2021-12-03T00:00:00\", \"n_registros\": 873, \"roll7\": 871.5714285714286}, {\"fecha_date\": \"2021-12-04T00:00:00\", \"n_registros\": 872, \"roll7\": 871.2857142857143}, {\"fecha_date\": \"2021-12-05T00:00:00\", \"n_registros\": 868, \"roll7\": 870.8571428571429}, {\"fecha_date\": \"2021-12-06T00:00:00\", \"n_registros\": 869, \"roll7\": 870.0}, {\"fecha_date\": \"2021-12-07T00:00:00\", \"n_registros\": 869, \"roll7\": 869.7142857142857}, {\"fecha_date\": \"2021-12-08T00:00:00\", \"n_registros\": 872, \"roll7\": 869.8571428571429}, {\"fecha_date\": \"2021-12-09T00:00:00\", \"n_registros\": 867, \"roll7\": 870.5714285714286}, {\"fecha_date\": \"2021-12-10T00:00:00\", \"n_registros\": 871, \"roll7\": 870.8571428571429}, {\"fecha_date\": \"2021-12-11T00:00:00\", \"n_registros\": 873, \"roll7\": 871.5714285714286}, {\"fecha_date\": \"2021-12-12T00:00:00\", \"n_registros\": 873, \"roll7\": 872.5714285714286}, {\"fecha_date\": \"2021-12-13T00:00:00\", \"n_registros\": 871, \"roll7\": 873.8571428571429}, {\"fecha_date\": \"2021-12-14T00:00:00\", \"n_registros\": 874, \"roll7\": 874.4285714285714}, {\"fecha_date\": \"2021-12-15T00:00:00\", \"n_registros\": 879, \"roll7\": 875.4285714285714}, {\"fecha_date\": \"2021-12-16T00:00:00\", \"n_registros\": 876, \"roll7\": 876.2857142857143}, {\"fecha_date\": \"2021-12-17T00:00:00\", \"n_registros\": 875, \"roll7\": 877.2857142857143}, {\"fecha_date\": \"2021-12-18T00:00:00\", \"n_registros\": 880, \"roll7\": 877.7142857142857}, {\"fecha_date\": \"2021-12-19T00:00:00\", \"n_registros\": 879, \"roll7\": 877.7142857142857}, {\"fecha_date\": \"2021-12-20T00:00:00\", \"n_registros\": 878, \"roll7\": 878.1428571428571}, {\"fecha_date\": \"2021-12-21T00:00:00\", \"n_registros\": 877, \"roll7\": 878.2857142857143}, {\"fecha_date\": \"2021-12-22T00:00:00\", \"n_registros\": 879, \"roll7\": 878.2857142857143}, {\"fecha_date\": \"2021-12-23T00:00:00\", \"n_registros\": 879, \"roll7\": 878.1428571428571}, {\"fecha_date\": \"2021-12-24T00:00:00\", \"n_registros\": 876, \"roll7\": 878.1428571428571}, {\"fecha_date\": \"2021-12-25T00:00:00\", \"n_registros\": 880, \"roll7\": 878.4285714285714}, {\"fecha_date\": \"2021-12-26T00:00:00\", \"n_registros\": 878, \"roll7\": 878.4285714285714}, {\"fecha_date\": \"2021-12-27T00:00:00\", \"n_registros\": 878, \"roll7\": 878.5714285714286}, {\"fecha_date\": \"2021-12-28T00:00:00\", \"n_registros\": 879, \"roll7\": 878.7142857142857}, {\"fecha_date\": \"2021-12-29T00:00:00\", \"n_registros\": 879, \"roll7\": 878.5714285714286}, {\"fecha_date\": \"2021-12-30T00:00:00\", \"n_registros\": 880, \"roll7\": 878.5714285714286}, {\"fecha_date\": \"2021-12-31T00:00:00\", \"n_registros\": 877, \"roll7\": 878.5714285714286}, {\"fecha_date\": \"2022-01-01T00:00:00\", \"n_registros\": 879, \"roll7\": 878.5714285714286}, {\"fecha_date\": \"2022-01-02T00:00:00\", \"n_registros\": 878, \"roll7\": 878.8571428571429}, {\"fecha_date\": \"2022-01-03T00:00:00\", \"n_registros\": 878, \"roll7\": 878.7142857142857}, {\"fecha_date\": \"2022-01-04T00:00:00\", \"n_registros\": 879, \"roll7\": 879.1428571428571}, {\"fecha_date\": \"2022-01-05T00:00:00\", \"n_registros\": 881, \"roll7\": 879.1428571428571}, {\"fecha_date\": \"2022-01-06T00:00:00\", \"n_registros\": 879, \"roll7\": 878.8571428571429}, {\"fecha_date\": \"2022-01-07T00:00:00\", \"n_registros\": 880, \"roll7\": 878.1428571428571}, {\"fecha_date\": \"2022-01-08T00:00:00\", \"n_registros\": 879, \"roll7\": 877.8571428571429}, {\"fecha_date\": \"2022-01-09T00:00:00\", \"n_registros\": 876, \"roll7\": 877.2857142857143}, {\"fecha_date\": \"2022-01-10T00:00:00\", \"n_registros\": 873, \"roll7\": 876.7142857142857}, {\"fecha_date\": \"2022-01-11T00:00:00\", \"n_registros\": 877, \"roll7\": 875.8571428571429}, {\"fecha_date\": \"2022-01-12T00:00:00\", \"n_registros\": 877, \"roll7\": 874.8571428571429}, {\"fecha_date\": \"2022-01-13T00:00:00\", \"n_registros\": 875, \"roll7\": 874.2857142857143}, {\"fecha_date\": \"2022-01-14T00:00:00\", \"n_registros\": 874, \"roll7\": 874.2857142857143}, {\"fecha_date\": \"2022-01-15T00:00:00\", \"n_registros\": 872, \"roll7\": 873.4285714285714}, {\"fecha_date\": \"2022-01-16T00:00:00\", \"n_registros\": 872, \"roll7\": 872.8571428571429}, {\"fecha_date\": \"2022-01-17T00:00:00\", \"n_registros\": 873, \"roll7\": 872.7142857142857}, {\"fecha_date\": \"2022-01-18T00:00:00\", \"n_registros\": 871, \"roll7\": 873.0}, {\"fecha_date\": \"2022-01-19T00:00:00\", \"n_registros\": 873, \"roll7\": 873.5714285714286}, {\"fecha_date\": \"2022-01-20T00:00:00\", \"n_registros\": 874, \"roll7\": 874.0}, {\"fecha_date\": \"2022-01-21T00:00:00\", \"n_registros\": 876, \"roll7\": 874.4285714285714}, {\"fecha_date\": \"2022-01-22T00:00:00\", \"n_registros\": 876, \"roll7\": 875.2857142857143}, {\"fecha_date\": \"2022-01-23T00:00:00\", \"n_registros\": 875, \"roll7\": 875.7142857142857}, {\"fecha_date\": \"2022-01-24T00:00:00\", \"n_registros\": 876, \"roll7\": 875.8571428571429}, {\"fecha_date\": \"2022-01-25T00:00:00\", \"n_registros\": 877, \"roll7\": 875.4285714285714}, {\"fecha_date\": \"2022-01-26T00:00:00\", \"n_registros\": 876, \"roll7\": 875.0}, {\"fecha_date\": \"2022-01-27T00:00:00\", \"n_registros\": 875, \"roll7\": 874.7142857142857}, {\"fecha_date\": \"2022-01-28T00:00:00\", \"n_registros\": 873, \"roll7\": 874.2857142857143}, {\"fecha_date\": \"2022-01-29T00:00:00\", \"n_registros\": 873, \"roll7\": 873.7142857142857}, {\"fecha_date\": \"2022-01-30T00:00:00\", \"n_registros\": 873, \"roll7\": 873.4285714285714}, {\"fecha_date\": \"2022-01-31T00:00:00\", \"n_registros\": 873, \"roll7\": 873.5714285714286}, {\"fecha_date\": \"2022-02-01T00:00:00\", \"n_registros\": 873, \"roll7\": 873.8571428571429}, {\"fecha_date\": \"2022-02-02T00:00:00\", \"n_registros\": 874, \"roll7\": 874.2857142857143}, {\"fecha_date\": \"2022-02-03T00:00:00\", \"n_registros\": 876, \"roll7\": 874.5714285714286}, {\"fecha_date\": \"2022-02-04T00:00:00\", \"n_registros\": 875, \"roll7\": 874.7142857142857}, {\"fecha_date\": \"2022-02-05T00:00:00\", \"n_registros\": 876, \"roll7\": 874.4285714285714}, {\"fecha_date\": \"2022-02-06T00:00:00\", \"n_registros\": 875, \"roll7\": 874.4285714285714}, {\"fecha_date\": \"2022-02-07T00:00:00\", \"n_registros\": 874, \"roll7\": 874.2857142857143}, {\"fecha_date\": \"2022-02-08T00:00:00\", \"n_registros\": 871, \"roll7\": 874.2857142857143}, {\"fecha_date\": \"2022-02-09T00:00:00\", \"n_registros\": 874, \"roll7\": 874.1428571428571}, {\"fecha_date\": \"2022-02-10T00:00:00\", \"n_registros\": 875, \"roll7\": 874.4285714285714}, {\"fecha_date\": \"2022-02-11T00:00:00\", \"n_registros\": 875, \"roll7\": 874.7142857142857}, {\"fecha_date\": \"2022-02-12T00:00:00\", \"n_registros\": 875, \"roll7\": 875.4285714285714}, {\"fecha_date\": \"2022-02-13T00:00:00\", \"n_registros\": 877, \"roll7\": 875.8571428571429}, {\"fecha_date\": \"2022-02-14T00:00:00\", \"n_registros\": 876, \"roll7\": 876.2857142857143}, {\"fecha_date\": \"2022-02-15T00:00:00\", \"n_registros\": 876, \"roll7\": 876.7142857142857}, {\"fecha_date\": \"2022-02-16T00:00:00\", \"n_registros\": 877, \"roll7\": 877.1428571428571}, {\"fecha_date\": \"2022-02-17T00:00:00\", \"n_registros\": 878, \"roll7\": 877.0}, {\"fecha_date\": \"2022-02-18T00:00:00\", \"n_registros\": 878, \"roll7\": 876.8571428571429}, {\"fecha_date\": \"2022-02-19T00:00:00\", \"n_registros\": 878, \"roll7\": 876.7142857142857}, {\"fecha_date\": \"2022-02-20T00:00:00\", \"n_registros\": 876, \"roll7\": 876.7142857142857}, {\"fecha_date\": \"2022-02-21T00:00:00\", \"n_registros\": 875, \"roll7\": 876.5714285714286}, {\"fecha_date\": \"2022-02-22T00:00:00\", \"n_registros\": 875, \"roll7\": 876.5714285714286}, {\"fecha_date\": \"2022-02-23T00:00:00\", \"n_registros\": 877, \"roll7\": 876.4285714285714}, {\"fecha_date\": \"2022-02-24T00:00:00\", \"n_registros\": 877, \"roll7\": 876.7142857142857}, {\"fecha_date\": \"2022-02-25T00:00:00\", \"n_registros\": 878, \"roll7\": 877.1428571428571}, {\"fecha_date\": \"2022-02-26T00:00:00\", \"n_registros\": 877, \"roll7\": 877.5714285714286}, {\"fecha_date\": \"2022-02-27T00:00:00\", \"n_registros\": 878, \"roll7\": 877.4285714285714}, {\"fecha_date\": \"2022-02-28T00:00:00\", \"n_registros\": 878, \"roll7\": 877.1428571428571}, {\"fecha_date\": \"2022-03-01T00:00:00\", \"n_registros\": 878, \"roll7\": 877.1428571428571}, {\"fecha_date\": \"2022-03-02T00:00:00\", \"n_registros\": 876, \"roll7\": 877.1428571428571}, {\"fecha_date\": \"2022-03-03T00:00:00\", \"n_registros\": 875, \"roll7\": 876.7142857142857}, {\"fecha_date\": \"2022-03-04T00:00:00\", \"n_registros\": 878, \"roll7\": 876.2857142857143}, {\"fecha_date\": \"2022-03-05T00:00:00\", \"n_registros\": 877, \"roll7\": 876.0}, {\"fecha_date\": \"2022-03-06T00:00:00\", \"n_registros\": 875, \"roll7\": 876.1428571428571}, {\"fecha_date\": \"2022-03-07T00:00:00\", \"n_registros\": 875, \"roll7\": 876.1428571428571}, {\"fecha_date\": \"2022-03-08T00:00:00\", \"n_registros\": 876, \"roll7\": 876.2857142857143}, {\"fecha_date\": \"2022-03-09T00:00:00\", \"n_registros\": 877, \"roll7\": 876.5714285714286}, {\"fecha_date\": \"2022-03-10T00:00:00\", \"n_registros\": 875, \"roll7\": 876.8571428571429}, {\"fecha_date\": \"2022-03-11T00:00:00\", \"n_registros\": 879, \"roll7\": 876.2857142857143}, {\"fecha_date\": \"2022-03-12T00:00:00\", \"n_registros\": 879, \"roll7\": 876.0}, {\"fecha_date\": \"2022-03-13T00:00:00\", \"n_registros\": 877, \"roll7\": 875.8571428571429}, {\"fecha_date\": \"2022-03-14T00:00:00\", \"n_registros\": 871, \"roll7\": 876.2857142857143}, {\"fecha_date\": \"2022-03-15T00:00:00\", \"n_registros\": 874, \"roll7\": 876.1428571428571}, {\"fecha_date\": \"2022-03-16T00:00:00\", \"n_registros\": 876, \"roll7\": 875.8571428571429}, {\"fecha_date\": \"2022-03-17T00:00:00\", \"n_registros\": 878, \"roll7\": 875.7142857142857}, {\"fecha_date\": \"2022-03-18T00:00:00\", \"n_registros\": 878, \"roll7\": 876.1428571428571}, {\"fecha_date\": \"2022-03-19T00:00:00\", \"n_registros\": 877, \"roll7\": 875.7142857142857}, {\"fecha_date\": \"2022-03-20T00:00:00\", \"n_registros\": 876, \"roll7\": 875.1428571428571}, {\"fecha_date\": \"2022-03-21T00:00:00\", \"n_registros\": 874, \"roll7\": 874.5714285714286}, {\"fecha_date\": \"2022-03-22T00:00:00\", \"n_registros\": 871, \"roll7\": 873.8571428571429}, {\"fecha_date\": \"2022-03-23T00:00:00\", \"n_registros\": 872, \"roll7\": 873.0}, {\"fecha_date\": \"2022-03-24T00:00:00\", \"n_registros\": 874, \"roll7\": 872.2857142857143}, {\"fecha_date\": \"2022-03-25T00:00:00\", \"n_registros\": 873, \"roll7\": 872.0}, {\"fecha_date\": \"2022-03-26T00:00:00\", \"n_registros\": 871, \"roll7\": 872.5714285714286}, {\"fecha_date\": \"2022-03-27T00:00:00\", \"n_registros\": 871, \"roll7\": 872.8571428571429}, {\"fecha_date\": \"2022-03-28T00:00:00\", \"n_registros\": 872, \"roll7\": 872.7142857142857}, {\"fecha_date\": \"2022-03-29T00:00:00\", \"n_registros\": 875, \"roll7\": 873.0}, {\"fecha_date\": \"2022-03-30T00:00:00\", \"n_registros\": 874, \"roll7\": 873.5714285714286}, {\"fecha_date\": \"2022-03-31T00:00:00\", \"n_registros\": 873, \"roll7\": 873.2857142857143}, {\"fecha_date\": \"2022-04-01T00:00:00\", \"n_registros\": 875, \"roll7\": 872.5714285714286}, {\"fecha_date\": \"2022-04-02T00:00:00\", \"n_registros\": 875, \"roll7\": 871.2857142857143}, {\"fecha_date\": \"2022-04-03T00:00:00\", \"n_registros\": 869, \"roll7\": 870.5714285714286}, {\"fecha_date\": \"2022-04-04T00:00:00\", \"n_registros\": 867, \"roll7\": 869.8571428571429}, {\"fecha_date\": \"2022-04-05T00:00:00\", \"n_registros\": 866, \"roll7\": 868.8571428571429}, {\"fecha_date\": \"2022-04-06T00:00:00\", \"n_registros\": 869, \"roll7\": 868.2857142857143}, {\"fecha_date\": \"2022-04-07T00:00:00\", \"n_registros\": 868, \"roll7\": 868.7142857142857}, {\"fecha_date\": \"2022-04-08T00:00:00\", \"n_registros\": 868, \"roll7\": 869.0}, {\"fecha_date\": \"2022-04-09T00:00:00\", \"n_registros\": 871, \"roll7\": 869.5714285714286}, {\"fecha_date\": \"2022-04-10T00:00:00\", \"n_registros\": 872, \"roll7\": 869.7142857142857}, {\"fecha_date\": \"2022-04-11T00:00:00\", \"n_registros\": 869, \"roll7\": 870.0}, {\"fecha_date\": \"2022-04-12T00:00:00\", \"n_registros\": 870, \"roll7\": 870.5714285714286}, {\"fecha_date\": \"2022-04-13T00:00:00\", \"n_registros\": 870, \"roll7\": 870.5714285714286}, {\"fecha_date\": \"2022-04-14T00:00:00\", \"n_registros\": 870, \"roll7\": 870.4285714285714}, {\"fecha_date\": \"2022-04-15T00:00:00\", \"n_registros\": 872, \"roll7\": 870.5714285714286}, {\"fecha_date\": \"2022-04-16T00:00:00\", \"n_registros\": 871, \"roll7\": 870.8571428571429}, {\"fecha_date\": \"2022-04-17T00:00:00\", \"n_registros\": 871, \"roll7\": 870.7142857142857}, {\"fecha_date\": \"2022-04-18T00:00:00\", \"n_registros\": 870, \"roll7\": 870.7142857142857}, {\"fecha_date\": \"2022-04-19T00:00:00\", \"n_registros\": 872, \"roll7\": 870.7142857142857}, {\"fecha_date\": \"2022-04-20T00:00:00\", \"n_registros\": 869, \"roll7\": 870.7142857142857}, {\"fecha_date\": \"2022-04-21T00:00:00\", \"n_registros\": 870, \"roll7\": 871.0}, {\"fecha_date\": \"2022-04-22T00:00:00\", \"n_registros\": 872, \"roll7\": 871.4285714285714}, {\"fecha_date\": \"2022-04-23T00:00:00\", \"n_registros\": 871, \"roll7\": 871.4285714285714}, {\"fecha_date\": \"2022-04-24T00:00:00\", \"n_registros\": 873, \"roll7\": 871.8571428571429}, {\"fecha_date\": \"2022-04-25T00:00:00\", \"n_registros\": 873, \"roll7\": 872.1428571428571}, {\"fecha_date\": \"2022-04-26T00:00:00\", \"n_registros\": 872, \"roll7\": 872.2857142857143}, {\"fecha_date\": \"2022-04-27T00:00:00\", \"n_registros\": 872, \"roll7\": 872.5714285714286}, {\"fecha_date\": \"2022-04-28T00:00:00\", \"n_registros\": 872, \"roll7\": 872.5714285714286}, {\"fecha_date\": \"2022-04-29T00:00:00\", \"n_registros\": 873, \"roll7\": 872.5714285714286}, {\"fecha_date\": \"2022-04-30T00:00:00\", \"n_registros\": 873, \"roll7\": 872.1428571428571}, {\"fecha_date\": \"2022-05-01T00:00:00\", \"n_registros\": 873, \"roll7\": 871.5714285714286}, {\"fecha_date\": \"2022-05-02T00:00:00\", \"n_registros\": 873, \"roll7\": 871.1428571428571}, {\"fecha_date\": \"2022-05-03T00:00:00\", \"n_registros\": 869, \"roll7\": 870.4285714285714}, {\"fecha_date\": \"2022-05-04T00:00:00\", \"n_registros\": 868, \"roll7\": 870.0}, {\"fecha_date\": \"2022-05-05T00:00:00\", \"n_registros\": 869, \"roll7\": 869.5714285714286}, {\"fecha_date\": \"2022-05-06T00:00:00\", \"n_registros\": 868, \"roll7\": 869.1428571428571}, {\"fecha_date\": \"2022-05-07T00:00:00\", \"n_registros\": 870, \"roll7\": 869.1428571428571}, {\"fecha_date\": \"2022-05-08T00:00:00\", \"n_registros\": 870, \"roll7\": 869.7142857142857}, {\"fecha_date\": \"2022-05-09T00:00:00\", \"n_registros\": 870, \"roll7\": 869.7142857142857}, {\"fecha_date\": \"2022-05-10T00:00:00\", \"n_registros\": 869, \"roll7\": 870.0}, {\"fecha_date\": \"2022-05-11T00:00:00\", \"n_registros\": 872, \"roll7\": 869.5714285714286}, {\"fecha_date\": \"2022-05-12T00:00:00\", \"n_registros\": 869, \"roll7\": 869.2857142857143}, {\"fecha_date\": \"2022-05-13T00:00:00\", \"n_registros\": 870, \"roll7\": 869.4285714285714}, {\"fecha_date\": \"2022-05-14T00:00:00\", \"n_registros\": 867, \"roll7\": 869.5714285714286}, {\"fecha_date\": \"2022-05-15T00:00:00\", \"n_registros\": 868, \"roll7\": 869.4285714285714}, {\"fecha_date\": \"2022-05-16T00:00:00\", \"n_registros\": 871, \"roll7\": 869.7142857142857}, {\"fecha_date\": \"2022-05-17T00:00:00\", \"n_registros\": 870, \"roll7\": 869.7142857142857}, {\"fecha_date\": \"2022-05-18T00:00:00\", \"n_registros\": 871, \"roll7\": 870.1428571428571}, {\"fecha_date\": \"2022-05-19T00:00:00\", \"n_registros\": 871, \"roll7\": 869.5714285714286}, {\"fecha_date\": \"2022-05-20T00:00:00\", \"n_registros\": 870, \"roll7\": 868.2857142857143}, {\"fecha_date\": \"2022-05-21T00:00:00\", \"n_registros\": 870, \"roll7\": 868.0}, {\"fecha_date\": \"2022-05-22T00:00:00\", \"n_registros\": 864, \"roll7\": 867.5714285714286}, {\"fecha_date\": \"2022-05-23T00:00:00\", \"n_registros\": 862, \"roll7\": 867.2857142857143}, {\"fecha_date\": \"2022-05-24T00:00:00\", \"n_registros\": 868, \"roll7\": 867.5714285714286}, {\"fecha_date\": \"2022-05-25T00:00:00\", \"n_registros\": 868, \"roll7\": 867.7142857142857}, {\"fecha_date\": \"2022-05-26T00:00:00\", \"n_registros\": 869, \"roll7\": 868.4285714285714}, {\"fecha_date\": \"2022-05-27T00:00:00\", \"n_registros\": 872, \"roll7\": 869.7142857142857}, {\"fecha_date\": \"2022-05-28T00:00:00\", \"n_registros\": 871, \"roll7\": 869.7142857142857}, {\"fecha_date\": \"2022-05-29T00:00:00\", \"n_registros\": 869, \"roll7\": 869.8571428571429}, {\"fecha_date\": \"2022-05-30T00:00:00\", \"n_registros\": 871, \"roll7\": 870.4285714285714}, {\"fecha_date\": \"2022-05-31T00:00:00\", \"n_registros\": 868, \"roll7\": 870.4285714285714}, {\"fecha_date\": \"2022-06-01T00:00:00\", \"n_registros\": 869, \"roll7\": 870.5714285714286}, {\"fecha_date\": \"2022-06-02T00:00:00\", \"n_registros\": 873, \"roll7\": 871.0}, {\"fecha_date\": \"2022-06-03T00:00:00\", \"n_registros\": 872, \"roll7\": 871.0}, {\"fecha_date\": \"2022-06-04T00:00:00\", \"n_registros\": 872, \"roll7\": 871.4285714285714}, {\"fecha_date\": \"2022-06-05T00:00:00\", \"n_registros\": 872, \"roll7\": 871.2857142857143}, {\"fecha_date\": \"2022-06-06T00:00:00\", \"n_registros\": 871, \"roll7\": 870.8571428571429}, {\"fecha_date\": \"2022-06-07T00:00:00\", \"n_registros\": 871, \"roll7\": 870.7142857142857}, {\"fecha_date\": \"2022-06-08T00:00:00\", \"n_registros\": 868, \"roll7\": 870.1428571428571}, {\"fecha_date\": \"2022-06-09T00:00:00\", \"n_registros\": 870, \"roll7\": 869.5714285714286}, {\"fecha_date\": \"2022-06-10T00:00:00\", \"n_registros\": 871, \"roll7\": 869.2857142857143}, {\"fecha_date\": \"2022-06-11T00:00:00\", \"n_registros\": 868, \"roll7\": 869.4285714285714}, {\"fecha_date\": \"2022-06-12T00:00:00\", \"n_registros\": 868, \"roll7\": 869.0}, {\"fecha_date\": \"2022-06-13T00:00:00\", \"n_registros\": 869, \"roll7\": 868.2857142857143}, {\"fecha_date\": \"2022-06-14T00:00:00\", \"n_registros\": 872, \"roll7\": 867.7142857142857}, {\"fecha_date\": \"2022-06-15T00:00:00\", \"n_registros\": 865, \"roll7\": 867.7142857142857}, {\"fecha_date\": \"2022-06-16T00:00:00\", \"n_registros\": 865, \"roll7\": 867.2857142857143}, {\"fecha_date\": \"2022-06-17T00:00:00\", \"n_registros\": 867, \"roll7\": 866.5714285714286}, {\"fecha_date\": \"2022-06-18T00:00:00\", \"n_registros\": 868, \"roll7\": 865.2857142857143}, {\"fecha_date\": \"2022-06-19T00:00:00\", \"n_registros\": 865, \"roll7\": 865.5714285714286}, {\"fecha_date\": \"2022-06-20T00:00:00\", \"n_registros\": 864, \"roll7\": 866.4285714285714}, {\"fecha_date\": \"2022-06-21T00:00:00\", \"n_registros\": 863, \"roll7\": 867.2857142857143}, {\"fecha_date\": \"2022-06-22T00:00:00\", \"n_registros\": 867, \"roll7\": 867.7142857142857}, {\"fecha_date\": \"2022-06-23T00:00:00\", \"n_registros\": 871, \"roll7\": 868.8571428571429}, {\"fecha_date\": \"2022-06-24T00:00:00\", \"n_registros\": 873, \"roll7\": 869.8571428571429}, {\"fecha_date\": \"2022-06-25T00:00:00\", \"n_registros\": 871, \"roll7\": 871.0}, {\"fecha_date\": \"2022-06-26T00:00:00\", \"n_registros\": 873, \"roll7\": 871.4285714285714}, {\"fecha_date\": \"2022-06-27T00:00:00\", \"n_registros\": 871, \"roll7\": 871.4285714285714}, {\"fecha_date\": \"2022-06-28T00:00:00\", \"n_registros\": 871, \"roll7\": 871.1428571428571}, {\"fecha_date\": \"2022-06-29T00:00:00\", \"n_registros\": 870, \"roll7\": 871.1428571428571}, {\"fecha_date\": \"2022-06-30T00:00:00\", \"n_registros\": 871, \"roll7\": 870.2857142857143}, {\"fecha_date\": \"2022-07-01T00:00:00\", \"n_registros\": 871, \"roll7\": 869.5714285714286}, {\"fecha_date\": \"2022-07-02T00:00:00\", \"n_registros\": 871, \"roll7\": 869.1428571428571}, {\"fecha_date\": \"2022-07-03T00:00:00\", \"n_registros\": 867, \"roll7\": 868.7142857142857}, {\"fecha_date\": \"2022-07-04T00:00:00\", \"n_registros\": 866, \"roll7\": 868.7142857142857}, {\"fecha_date\": \"2022-07-05T00:00:00\", \"n_registros\": 868, \"roll7\": 868.5714285714286}, {\"fecha_date\": \"2022-07-06T00:00:00\", \"n_registros\": 867, \"roll7\": 868.5714285714286}, {\"fecha_date\": \"2022-07-07T00:00:00\", \"n_registros\": 871, \"roll7\": 869.4285714285714}, {\"fecha_date\": \"2022-07-08T00:00:00\", \"n_registros\": 870, \"roll7\": 870.1428571428571}, {\"fecha_date\": \"2022-07-09T00:00:00\", \"n_registros\": 871, \"roll7\": 870.4285714285714}, {\"fecha_date\": \"2022-07-10T00:00:00\", \"n_registros\": 873, \"roll7\": 871.1428571428571}, {\"fecha_date\": \"2022-07-11T00:00:00\", \"n_registros\": 871, \"roll7\": 871.5714285714286}, {\"fecha_date\": \"2022-07-12T00:00:00\", \"n_registros\": 870, \"roll7\": 871.7142857142857}, {\"fecha_date\": \"2022-07-13T00:00:00\", \"n_registros\": 872, \"roll7\": 872.0}, {\"fecha_date\": \"2022-07-14T00:00:00\", \"n_registros\": 874, \"roll7\": 871.8571428571429}, {\"fecha_date\": \"2022-07-15T00:00:00\", \"n_registros\": 871, \"roll7\": 872.1428571428571}, {\"fecha_date\": \"2022-07-16T00:00:00\", \"n_registros\": 873, \"roll7\": 872.4285714285714}, {\"fecha_date\": \"2022-07-17T00:00:00\", \"n_registros\": 872, \"roll7\": 872.4285714285714}, {\"fecha_date\": \"2022-07-18T00:00:00\", \"n_registros\": 873, \"roll7\": 872.1428571428571}, {\"fecha_date\": \"2022-07-19T00:00:00\", \"n_registros\": 872, \"roll7\": 872.1428571428571}, {\"fecha_date\": \"2022-07-20T00:00:00\", \"n_registros\": 872, \"roll7\": 871.8571428571429}, {\"fecha_date\": \"2022-07-21T00:00:00\", \"n_registros\": 872, \"roll7\": 871.7142857142857}, {\"fecha_date\": \"2022-07-22T00:00:00\", \"n_registros\": 871, \"roll7\": 871.4285714285714}, {\"fecha_date\": \"2022-07-23T00:00:00\", \"n_registros\": 871, \"roll7\": 870.8571428571429}, {\"fecha_date\": \"2022-07-24T00:00:00\", \"n_registros\": 871, \"roll7\": 870.0}, {\"fecha_date\": \"2022-07-25T00:00:00\", \"n_registros\": 871, \"roll7\": 869.0}, {\"fecha_date\": \"2022-07-26T00:00:00\", \"n_registros\": 868, \"roll7\": 868.4285714285714}, {\"fecha_date\": \"2022-07-27T00:00:00\", \"n_registros\": 866, \"roll7\": 868.0}, {\"fecha_date\": \"2022-07-28T00:00:00\", \"n_registros\": 865, \"roll7\": 867.4285714285714}, {\"fecha_date\": \"2022-07-29T00:00:00\", \"n_registros\": 867, \"roll7\": 866.8571428571429}, {\"fecha_date\": \"2022-07-30T00:00:00\", \"n_registros\": 868, \"roll7\": 867.1428571428571}, {\"fecha_date\": \"2022-07-31T00:00:00\", \"n_registros\": 867, \"roll7\": 868.0}, {\"fecha_date\": \"2022-08-01T00:00:00\", \"n_registros\": 867, \"roll7\": 868.8571428571429}, {\"fecha_date\": \"2022-08-02T00:00:00\", \"n_registros\": 870, \"roll7\": 869.0}, {\"fecha_date\": \"2022-08-03T00:00:00\", \"n_registros\": 872, \"roll7\": 869.0}, {\"fecha_date\": \"2022-08-04T00:00:00\", \"n_registros\": 871, \"roll7\": 869.1428571428571}, {\"fecha_date\": \"2022-08-05T00:00:00\", \"n_registros\": 868, \"roll7\": 869.1428571428571}, {\"fecha_date\": \"2022-08-06T00:00:00\", \"n_registros\": 868, \"roll7\": 869.1428571428571}, {\"fecha_date\": \"2022-08-07T00:00:00\", \"n_registros\": 868, \"roll7\": 868.8571428571429}, {\"fecha_date\": \"2022-08-08T00:00:00\", \"n_registros\": 867, \"roll7\": 868.8571428571429}, {\"fecha_date\": \"2022-08-09T00:00:00\", \"n_registros\": 870, \"roll7\": 869.5714285714286}, {\"fecha_date\": \"2022-08-10T00:00:00\", \"n_registros\": 870, \"roll7\": 869.8571428571429}, {\"fecha_date\": \"2022-08-11T00:00:00\", \"n_registros\": 871, \"roll7\": 870.0}, {\"fecha_date\": \"2022-08-12T00:00:00\", \"n_registros\": 873, \"roll7\": 870.2857142857143}, {\"fecha_date\": \"2022-08-13T00:00:00\", \"n_registros\": 870, \"roll7\": 870.0}, {\"fecha_date\": \"2022-08-14T00:00:00\", \"n_registros\": 869, \"roll7\": 870.1428571428571}, {\"fecha_date\": \"2022-08-15T00:00:00\", \"n_registros\": 869, \"roll7\": 869.7142857142857}, {\"fecha_date\": \"2022-08-16T00:00:00\", \"n_registros\": 868, \"roll7\": 869.5714285714286}, {\"fecha_date\": \"2022-08-17T00:00:00\", \"n_registros\": 871, \"roll7\": 870.0}, {\"fecha_date\": \"2022-08-18T00:00:00\", \"n_registros\": 868, \"roll7\": 870.4285714285714}, {\"fecha_date\": \"2022-08-19T00:00:00\", \"n_registros\": 872, \"roll7\": 870.7142857142857}, {\"fecha_date\": \"2022-08-20T00:00:00\", \"n_registros\": 873, \"roll7\": 871.1428571428571}, {\"fecha_date\": \"2022-08-21T00:00:00\", \"n_registros\": 872, \"roll7\": 871.0}, {\"fecha_date\": \"2022-08-22T00:00:00\", \"n_registros\": 871, \"roll7\": 871.4285714285714}, {\"fecha_date\": \"2022-08-23T00:00:00\", \"n_registros\": 871, \"roll7\": 871.5714285714286}, {\"fecha_date\": \"2022-08-24T00:00:00\", \"n_registros\": 870, \"roll7\": 871.5714285714286}, {\"fecha_date\": \"2022-08-25T00:00:00\", \"n_registros\": 871, \"roll7\": 871.2857142857143}, {\"fecha_date\": \"2022-08-26T00:00:00\", \"n_registros\": 873, \"roll7\": 870.4285714285714}, {\"fecha_date\": \"2022-08-27T00:00:00\", \"n_registros\": 873, \"roll7\": 869.7142857142857}, {\"fecha_date\": \"2022-08-28T00:00:00\", \"n_registros\": 870, \"roll7\": 868.7142857142857}, {\"fecha_date\": \"2022-08-29T00:00:00\", \"n_registros\": 865, \"roll7\": 868.4285714285714}, {\"fecha_date\": \"2022-08-30T00:00:00\", \"n_registros\": 866, \"roll7\": 867.8571428571429}, {\"fecha_date\": \"2022-08-31T00:00:00\", \"n_registros\": 863, \"roll7\": 867.2857142857143}, {\"fecha_date\": \"2022-09-01T00:00:00\", \"n_registros\": 869, \"roll7\": 867.1428571428571}, {\"fecha_date\": \"2022-09-02T00:00:00\", \"n_registros\": 869, \"roll7\": 867.5714285714286}, {\"fecha_date\": \"2022-09-03T00:00:00\", \"n_registros\": 869, \"roll7\": 867.8571428571429}, {\"fecha_date\": \"2022-09-04T00:00:00\", \"n_registros\": 869, \"roll7\": 868.5714285714286}, {\"fecha_date\": \"2022-09-05T00:00:00\", \"n_registros\": 868, \"roll7\": 868.2857142857143}, {\"fecha_date\": \"2022-09-06T00:00:00\", \"n_registros\": 868, \"roll7\": 868.1428571428571}, {\"fecha_date\": \"2022-09-07T00:00:00\", \"n_registros\": 868, \"roll7\": 868.2857142857143}, {\"fecha_date\": \"2022-09-08T00:00:00\", \"n_registros\": 867, \"roll7\": 868.2857142857143}, {\"fecha_date\": \"2022-09-09T00:00:00\", \"n_registros\": 868, \"roll7\": 868.0}, {\"fecha_date\": \"2022-09-10T00:00:00\", \"n_registros\": 870, \"roll7\": 868.0}, {\"fecha_date\": \"2022-09-11T00:00:00\", \"n_registros\": 869, \"roll7\": 868.0}, {\"fecha_date\": \"2022-09-12T00:00:00\", \"n_registros\": 866, \"roll7\": 868.2857142857143}, {\"fecha_date\": \"2022-09-13T00:00:00\", \"n_registros\": 868, \"roll7\": 868.7142857142857}, {\"fecha_date\": \"2022-09-14T00:00:00\", \"n_registros\": 868, \"roll7\": 869.0}, {\"fecha_date\": \"2022-09-15T00:00:00\", \"n_registros\": 869, \"roll7\": 868.8571428571429}, {\"fecha_date\": \"2022-09-16T00:00:00\", \"n_registros\": 871, \"roll7\": 869.0}, {\"fecha_date\": \"2022-09-17T00:00:00\", \"n_registros\": 872, \"roll7\": 868.8571428571429}, {\"fecha_date\": \"2022-09-18T00:00:00\", \"n_registros\": 868, \"roll7\": 869.1428571428571}, {\"fecha_date\": \"2022-09-19T00:00:00\", \"n_registros\": 867, \"roll7\": 869.1428571428571}, {\"fecha_date\": \"2022-09-20T00:00:00\", \"n_registros\": 867, \"roll7\": 869.1428571428571}, {\"fecha_date\": \"2022-09-21T00:00:00\", \"n_registros\": 870, \"roll7\": 869.0}, {\"fecha_date\": \"2022-09-22T00:00:00\", \"n_registros\": 869, \"roll7\": 869.4285714285714}, {\"fecha_date\": \"2022-09-23T00:00:00\", \"n_registros\": 871, \"roll7\": 869.7142857142857}, {\"fecha_date\": \"2022-09-24T00:00:00\", \"n_registros\": 871, \"roll7\": 870.4285714285714}, {\"fecha_date\": \"2022-09-25T00:00:00\", \"n_registros\": 871, \"roll7\": 870.8571428571429}, {\"fecha_date\": \"2022-09-26T00:00:00\", \"n_registros\": 869, \"roll7\": 871.1428571428571}, {\"fecha_date\": \"2022-09-27T00:00:00\", \"n_registros\": 872, \"roll7\": 871.4285714285714}, {\"fecha_date\": \"2022-09-28T00:00:00\", \"n_registros\": 873, \"roll7\": 871.7142857142857}, {\"fecha_date\": \"2022-09-29T00:00:00\", \"n_registros\": 871, \"roll7\": 872.0}, {\"fecha_date\": \"2022-09-30T00:00:00\", \"n_registros\": 873, \"roll7\": 872.4285714285714}, {\"fecha_date\": \"2022-10-01T00:00:00\", \"n_registros\": 873, \"roll7\": 872.1428571428571}, {\"fecha_date\": \"2022-10-02T00:00:00\", \"n_registros\": 873, \"roll7\": 872.0}, {\"fecha_date\": \"2022-10-03T00:00:00\", \"n_registros\": 872, \"roll7\": 872.2857142857143}, {\"fecha_date\": \"2022-10-04T00:00:00\", \"n_registros\": 870, \"roll7\": 872.1428571428571}, {\"fecha_date\": \"2022-10-05T00:00:00\", \"n_registros\": 872, \"roll7\": 872.0}, {\"fecha_date\": \"2022-10-06T00:00:00\", \"n_registros\": 873, \"roll7\": 871.5714285714286}, {\"fecha_date\": \"2022-10-07T00:00:00\", \"n_registros\": 872, \"roll7\": 871.1428571428571}, {\"fecha_date\": \"2022-10-08T00:00:00\", \"n_registros\": 872, \"roll7\": 871.0}, {\"fecha_date\": \"2022-10-09T00:00:00\", \"n_registros\": 870, \"roll7\": 870.5714285714286}, {\"fecha_date\": \"2022-10-10T00:00:00\", \"n_registros\": 869, \"roll7\": 870.0}, {\"fecha_date\": \"2022-10-11T00:00:00\", \"n_registros\": 869, \"roll7\": 869.7142857142857}, {\"fecha_date\": \"2022-10-12T00:00:00\", \"n_registros\": 869, \"roll7\": 869.8571428571429}, {\"fecha_date\": \"2022-10-13T00:00:00\", \"n_registros\": 869, \"roll7\": 870.0}, {\"fecha_date\": \"2022-10-14T00:00:00\", \"n_registros\": 870, \"roll7\": 870.0}, {\"fecha_date\": \"2022-10-15T00:00:00\", \"n_registros\": 873, \"roll7\": 870.1428571428571}, {\"fecha_date\": \"2022-10-16T00:00:00\", \"n_registros\": 871, \"roll7\": 870.1428571428571}, {\"fecha_date\": \"2022-10-17T00:00:00\", \"n_registros\": 869, \"roll7\": 869.8571428571429}, {\"fecha_date\": \"2022-10-18T00:00:00\", \"n_registros\": 870, \"roll7\": 869.1428571428571}, {\"fecha_date\": \"2022-10-19T00:00:00\", \"n_registros\": 869, \"roll7\": 868.0}, {\"fecha_date\": \"2022-10-20T00:00:00\", \"n_registros\": 867, \"roll7\": 867.2857142857143}, {\"fecha_date\": \"2022-10-21T00:00:00\", \"n_registros\": 865, \"roll7\": 867.0}, {\"fecha_date\": \"2022-10-22T00:00:00\", \"n_registros\": 865, \"roll7\": 866.8571428571429}, {\"fecha_date\": \"2022-10-23T00:00:00\", \"n_registros\": 866, \"roll7\": 866.7142857142857}, {\"fecha_date\": \"2022-10-24T00:00:00\", \"n_registros\": 867, \"roll7\": 866.8571428571429}, {\"fecha_date\": \"2022-10-25T00:00:00\", \"n_registros\": 869, \"roll7\": 867.4285714285714}, {\"fecha_date\": \"2022-10-26T00:00:00\", \"n_registros\": 868, \"roll7\": 867.8571428571429}, {\"fecha_date\": \"2022-10-27T00:00:00\", \"n_registros\": 868, \"roll7\": 868.4285714285714}, {\"fecha_date\": \"2022-10-28T00:00:00\", \"n_registros\": 869, \"roll7\": 868.8571428571429}, {\"fecha_date\": \"2022-10-29T00:00:00\", \"n_registros\": 868, \"roll7\": 869.1428571428571}, {\"fecha_date\": \"2022-10-30T00:00:00\", \"n_registros\": 870, \"roll7\": 869.4285714285714}, {\"fecha_date\": \"2022-10-31T00:00:00\", \"n_registros\": 870, \"roll7\": 869.8571428571429}, {\"fecha_date\": \"2022-11-01T00:00:00\", \"n_registros\": 871, \"roll7\": 869.5714285714286}, {\"fecha_date\": \"2022-11-02T00:00:00\", \"n_registros\": 870, \"roll7\": 869.4285714285714}, {\"fecha_date\": \"2022-11-03T00:00:00\", \"n_registros\": 871, \"roll7\": 869.1428571428571}, {\"fecha_date\": \"2022-11-04T00:00:00\", \"n_registros\": 867, \"roll7\": 868.8571428571429}, {\"fecha_date\": \"2022-11-05T00:00:00\", \"n_registros\": 867, \"roll7\": 868.2857142857143}, {\"fecha_date\": \"2022-11-06T00:00:00\", \"n_registros\": 868, \"roll7\": 868.0}, {\"fecha_date\": \"2022-11-07T00:00:00\", \"n_registros\": 868, \"roll7\": 867.5714285714286}, {\"fecha_date\": \"2022-11-08T00:00:00\", \"n_registros\": 867, \"roll7\": 867.8571428571429}, {\"fecha_date\": \"2022-11-09T00:00:00\", \"n_registros\": 868, \"roll7\": 867.8571428571429}, {\"fecha_date\": \"2022-11-10T00:00:00\", \"n_registros\": 868, \"roll7\": 868.0}, {\"fecha_date\": \"2022-11-11T00:00:00\", \"n_registros\": 869, \"roll7\": 868.1428571428571}, {\"fecha_date\": \"2022-11-12T00:00:00\", \"n_registros\": 867, \"roll7\": 868.4285714285714}, {\"fecha_date\": \"2022-11-13T00:00:00\", \"n_registros\": 869, \"roll7\": 868.4285714285714}, {\"fecha_date\": \"2022-11-14T00:00:00\", \"n_registros\": 869, \"roll7\": 868.5714285714286}, {\"fecha_date\": \"2022-11-15T00:00:00\", \"n_registros\": 869, \"roll7\": 868.4285714285714}, {\"fecha_date\": \"2022-11-16T00:00:00\", \"n_registros\": 868, \"roll7\": 868.8571428571429}, {\"fecha_date\": \"2022-11-17T00:00:00\", \"n_registros\": 869, \"roll7\": 869.1428571428571}, {\"fecha_date\": \"2022-11-18T00:00:00\", \"n_registros\": 868, \"roll7\": 869.2857142857143}, {\"fecha_date\": \"2022-11-19T00:00:00\", \"n_registros\": 870, \"roll7\": 869.5714285714286}, {\"fecha_date\": \"2022-11-20T00:00:00\", \"n_registros\": 871, \"roll7\": 871.0}, {\"fecha_date\": \"2022-11-21T00:00:00\", \"n_registros\": 870, \"roll7\": 872.1428571428571}, {\"fecha_date\": \"2022-11-22T00:00:00\", \"n_registros\": 871, \"roll7\": 872.8571428571429}, {\"fecha_date\": \"2022-11-23T00:00:00\", \"n_registros\": 878, \"roll7\": 873.5714285714286}, {\"fecha_date\": \"2022-11-24T00:00:00\", \"n_registros\": 877, \"roll7\": 874.0}, {\"fecha_date\": \"2022-11-25T00:00:00\", \"n_registros\": 873, \"roll7\": 874.4285714285714}, {\"fecha_date\": \"2022-11-26T00:00:00\", \"n_registros\": 875, \"roll7\": 874.5714285714286}, {\"fecha_date\": \"2022-11-27T00:00:00\", \"n_registros\": 874, \"roll7\": 873.4285714285714}, {\"fecha_date\": \"2022-11-28T00:00:00\", \"n_registros\": 873, \"roll7\": 872.1428571428571}, {\"fecha_date\": \"2022-11-29T00:00:00\", \"n_registros\": 872, \"roll7\": 871.2857142857143}, {\"fecha_date\": \"2022-11-30T00:00:00\", \"n_registros\": 870, \"roll7\": 871.1428571428571}, {\"fecha_date\": \"2022-12-01T00:00:00\", \"n_registros\": 868, \"roll7\": 871.1428571428571}, {\"fecha_date\": \"2022-12-02T00:00:00\", \"n_registros\": 867, \"roll7\": 870.7142857142857}, {\"fecha_date\": \"2022-12-03T00:00:00\", \"n_registros\": 874, \"roll7\": 870.8571428571429}, {\"fecha_date\": \"2022-12-04T00:00:00\", \"n_registros\": 874, \"roll7\": 870.7142857142857}, {\"fecha_date\": \"2022-12-05T00:00:00\", \"n_registros\": 870, \"roll7\": 871.1428571428571}, {\"fecha_date\": \"2022-12-06T00:00:00\", \"n_registros\": 873, \"roll7\": 871.1428571428571}, {\"fecha_date\": \"2022-12-07T00:00:00\", \"n_registros\": 869, \"roll7\": 870.2857142857143}, {\"fecha_date\": \"2022-12-08T00:00:00\", \"n_registros\": 871, \"roll7\": 869.4285714285714}, {\"fecha_date\": \"2022-12-09T00:00:00\", \"n_registros\": 867, \"roll7\": 868.7142857142857}, {\"fecha_date\": \"2022-12-10T00:00:00\", \"n_registros\": 868, \"roll7\": 867.2857142857143}, {\"fecha_date\": \"2022-12-11T00:00:00\", \"n_registros\": 868, \"roll7\": 866.5714285714286}, {\"fecha_date\": \"2022-12-12T00:00:00\", \"n_registros\": 865, \"roll7\": 865.5714285714286}, {\"fecha_date\": \"2022-12-13T00:00:00\", \"n_registros\": 863, \"roll7\": 865.8571428571429}, {\"fecha_date\": \"2022-12-14T00:00:00\", \"n_registros\": 864, \"roll7\": 866.0}, {\"fecha_date\": \"2022-12-15T00:00:00\", \"n_registros\": 864, \"roll7\": 866.2857142857143}, {\"fecha_date\": \"2022-12-16T00:00:00\", \"n_registros\": 869, \"roll7\": 866.1428571428571}, {\"fecha_date\": \"2022-12-17T00:00:00\", \"n_registros\": 869, \"roll7\": 866.8571428571429}, {\"fecha_date\": \"2022-12-18T00:00:00\", \"n_registros\": 870, \"roll7\": 867.7142857142857}, {\"fecha_date\": \"2022-12-19T00:00:00\", \"n_registros\": 864, \"roll7\": 868.4285714285714}, {\"fecha_date\": \"2022-12-20T00:00:00\", \"n_registros\": 868, \"roll7\": 868.7142857142857}, {\"fecha_date\": \"2022-12-21T00:00:00\", \"n_registros\": 870, \"roll7\": 868.8571428571429}, {\"fecha_date\": \"2022-12-22T00:00:00\", \"n_registros\": 869, \"roll7\": 868.7142857142857}, {\"fecha_date\": \"2022-12-23T00:00:00\", \"n_registros\": 871, \"roll7\": 869.4285714285714}, {\"fecha_date\": \"2022-12-24T00:00:00\", \"n_registros\": 870, \"roll7\": 869.4285714285714}, {\"fecha_date\": \"2022-12-25T00:00:00\", \"n_registros\": 869, \"roll7\": 869.5714285714286}, {\"fecha_date\": \"2022-12-26T00:00:00\", \"n_registros\": 869, \"roll7\": 869.8571428571429}, {\"fecha_date\": \"2022-12-27T00:00:00\", \"n_registros\": 868, \"roll7\": 870.0}, {\"fecha_date\": \"2022-12-28T00:00:00\", \"n_registros\": 871, \"roll7\": 870.2857142857143}, {\"fecha_date\": \"2022-12-29T00:00:00\", \"n_registros\": 871, \"roll7\": 870.8571428571429}, {\"fecha_date\": \"2022-12-30T00:00:00\", \"n_registros\": 872, \"roll7\": 871.5714285714286}, {\"fecha_date\": \"2022-12-31T00:00:00\", \"n_registros\": 872, \"roll7\": 871.8571428571429}, {\"fecha_date\": \"2023-01-01T00:00:00\", \"n_registros\": 873, \"roll7\": 872.0}, {\"fecha_date\": \"2023-01-02T00:00:00\", \"n_registros\": 874, \"roll7\": 872.1428571428571}, {\"fecha_date\": \"2023-01-03T00:00:00\", \"n_registros\": 870, \"roll7\": 872.0}, {\"fecha_date\": \"2023-01-04T00:00:00\", \"n_registros\": 872, \"roll7\": 872.0}, {\"fecha_date\": \"2023-01-05T00:00:00\", \"n_registros\": 872, \"roll7\": 871.8571428571429}, {\"fecha_date\": \"2023-01-06T00:00:00\", \"n_registros\": 871, \"roll7\": 871.4285714285714}, {\"fecha_date\": \"2023-01-07T00:00:00\", \"n_registros\": 872, \"roll7\": 871.4285714285714}, {\"fecha_date\": \"2023-01-08T00:00:00\", \"n_registros\": 872, \"roll7\": 871.2857142857143}, {\"fecha_date\": \"2023-01-09T00:00:00\", \"n_registros\": 871, \"roll7\": 871.2857142857143}, {\"fecha_date\": \"2023-01-10T00:00:00\", \"n_registros\": 870, \"roll7\": 871.2857142857143}, {\"fecha_date\": \"2023-01-11T00:00:00\", \"n_registros\": 871, \"roll7\": 871.4285714285714}, {\"fecha_date\": \"2023-01-12T00:00:00\", \"n_registros\": 872, \"roll7\": 871.2857142857143}, {\"fecha_date\": \"2023-01-13T00:00:00\", \"n_registros\": 871, \"roll7\": 871.4285714285714}, {\"fecha_date\": \"2023-01-14T00:00:00\", \"n_registros\": 873, \"roll7\": 871.2857142857143}, {\"fecha_date\": \"2023-01-15T00:00:00\", \"n_registros\": 871, \"roll7\": 870.0}, {\"fecha_date\": \"2023-01-16T00:00:00\", \"n_registros\": 872, \"roll7\": 869.1428571428571}, {\"fecha_date\": \"2023-01-17T00:00:00\", \"n_registros\": 869, \"roll7\": 869.0}, {\"fecha_date\": \"2023-01-18T00:00:00\", \"n_registros\": 862, \"roll7\": 868.8571428571429}, {\"fecha_date\": \"2023-01-19T00:00:00\", \"n_registros\": 866, \"roll7\": 868.8571428571429}, {\"fecha_date\": \"2023-01-20T00:00:00\", \"n_registros\": 870, \"roll7\": 868.4285714285714}, {\"fecha_date\": \"2023-01-21T00:00:00\", \"n_registros\": 872, \"roll7\": 868.5714285714286}, {\"fecha_date\": \"2023-01-22T00:00:00\", \"n_registros\": 871, \"roll7\": 869.5714285714286}, {\"fecha_date\": \"2023-01-23T00:00:00\", \"n_registros\": 869, \"roll7\": 870.5714285714286}, {\"fecha_date\": \"2023-01-24T00:00:00\", \"n_registros\": 870, \"roll7\": 871.5714285714286}, {\"fecha_date\": \"2023-01-25T00:00:00\", \"n_registros\": 869, \"roll7\": 872.0}, {\"fecha_date\": \"2023-01-26T00:00:00\", \"n_registros\": 873, \"roll7\": 872.5714285714286}, {\"fecha_date\": \"2023-01-27T00:00:00\", \"n_registros\": 877, \"roll7\": 873.5714285714286}, {\"fecha_date\": \"2023-01-28T00:00:00\", \"n_registros\": 875, \"roll7\": 874.1428571428571}, {\"fecha_date\": \"2023-01-29T00:00:00\", \"n_registros\": 875, \"roll7\": 875.7142857142857}, {\"fecha_date\": \"2023-01-30T00:00:00\", \"n_registros\": 876, \"roll7\": 876.2857142857143}, {\"fecha_date\": \"2023-01-31T00:00:00\", \"n_registros\": 874, \"roll7\": 876.1428571428571}, {\"fecha_date\": \"2023-02-01T00:00:00\", \"n_registros\": 880, \"roll7\": 876.4285714285714}, {\"fecha_date\": \"2023-02-02T00:00:00\", \"n_registros\": 877, \"roll7\": 877.0}, {\"fecha_date\": \"2023-02-03T00:00:00\", \"n_registros\": 876, \"roll7\": 877.2857142857143}, {\"fecha_date\": \"2023-02-04T00:00:00\", \"n_registros\": 877, \"roll7\": 877.7142857142857}, {\"fecha_date\": \"2023-02-05T00:00:00\", \"n_registros\": 879, \"roll7\": 876.8571428571429}, {\"fecha_date\": \"2023-02-06T00:00:00\", \"n_registros\": 878, \"roll7\": 876.5714285714286}, {\"fecha_date\": \"2023-02-07T00:00:00\", \"n_registros\": 877, \"roll7\": 876.5714285714286}, {\"fecha_date\": \"2023-02-08T00:00:00\", \"n_registros\": 874, \"roll7\": 876.4285714285714}, {\"fecha_date\": \"2023-02-09T00:00:00\", \"n_registros\": 875, \"roll7\": 876.0}, {\"fecha_date\": \"2023-02-10T00:00:00\", \"n_registros\": 876, \"roll7\": 875.5714285714286}, {\"fecha_date\": \"2023-02-11T00:00:00\", \"n_registros\": 876, \"roll7\": 875.5714285714286}, {\"fecha_date\": \"2023-02-12T00:00:00\", \"n_registros\": 876, \"roll7\": 876.1428571428571}, {\"fecha_date\": \"2023-02-13T00:00:00\", \"n_registros\": 875, \"roll7\": 876.2857142857143}, {\"fecha_date\": \"2023-02-14T00:00:00\", \"n_registros\": 877, \"roll7\": 876.5714285714286}, {\"fecha_date\": \"2023-02-15T00:00:00\", \"n_registros\": 878, \"roll7\": 876.7142857142857}, {\"fecha_date\": \"2023-02-16T00:00:00\", \"n_registros\": 876, \"roll7\": 877.0}, {\"fecha_date\": \"2023-02-17T00:00:00\", \"n_registros\": 878, \"roll7\": 877.2857142857143}, {\"fecha_date\": \"2023-02-18T00:00:00\", \"n_registros\": 877, \"roll7\": 877.0}, {\"fecha_date\": \"2023-02-19T00:00:00\", \"n_registros\": 878, \"roll7\": 876.8571428571429}, {\"fecha_date\": \"2023-02-20T00:00:00\", \"n_registros\": 877, \"roll7\": 877.1428571428571}, {\"fecha_date\": \"2023-02-21T00:00:00\", \"n_registros\": 875, \"roll7\": 876.8571428571429}, {\"fecha_date\": \"2023-02-22T00:00:00\", \"n_registros\": 877, \"roll7\": 877.0}, {\"fecha_date\": \"2023-02-23T00:00:00\", \"n_registros\": 878, \"roll7\": 877.0}, {\"fecha_date\": \"2023-02-24T00:00:00\", \"n_registros\": 876, \"roll7\": 876.4285714285714}, {\"fecha_date\": \"2023-02-25T00:00:00\", \"n_registros\": 878, \"roll7\": 876.0}, {\"fecha_date\": \"2023-02-26T00:00:00\", \"n_registros\": 878, \"roll7\": 875.7142857142857}, {\"fecha_date\": \"2023-02-27T00:00:00\", \"n_registros\": 873, \"roll7\": 875.2857142857143}, {\"fecha_date\": \"2023-02-28T00:00:00\", \"n_registros\": 872, \"roll7\": 875.7142857142857}, {\"fecha_date\": \"2023-03-01T00:00:00\", \"n_registros\": 875, \"roll7\": 876.0}, {\"fecha_date\": \"2023-03-02T00:00:00\", \"n_registros\": 875, \"roll7\": 876.1428571428571}, {\"fecha_date\": \"2023-03-03T00:00:00\", \"n_registros\": 879, \"roll7\": 876.7142857142857}, {\"fecha_date\": \"2023-03-04T00:00:00\", \"n_registros\": 880, \"roll7\": 876.8571428571429}, {\"fecha_date\": \"2023-03-05T00:00:00\", \"n_registros\": 879, \"roll7\": 877.0}, {\"fecha_date\": \"2023-03-06T00:00:00\", \"n_registros\": 877, \"roll7\": 877.5714285714286}, {\"fecha_date\": \"2023-03-07T00:00:00\", \"n_registros\": 873, \"roll7\": 877.4285714285714}, {\"fecha_date\": \"2023-03-08T00:00:00\", \"n_registros\": 876, \"roll7\": 877.4285714285714}, {\"fecha_date\": \"2023-03-09T00:00:00\", \"n_registros\": 879, \"roll7\": 877.4285714285714}, {\"fecha_date\": \"2023-03-10T00:00:00\", \"n_registros\": 878, \"roll7\": 877.2857142857143}, {\"fecha_date\": \"2023-03-11T00:00:00\", \"n_registros\": 880, \"roll7\": 877.5714285714286}, {\"fecha_date\": \"2023-03-12T00:00:00\", \"n_registros\": 879, \"roll7\": 877.8571428571429}, {\"fecha_date\": \"2023-03-13T00:00:00\", \"n_registros\": 876, \"roll7\": 877.1428571428571}, {\"fecha_date\": \"2023-03-14T00:00:00\", \"n_registros\": 875, \"roll7\": 877.0}, {\"fecha_date\": \"2023-03-15T00:00:00\", \"n_registros\": 878, \"roll7\": 876.5714285714286}, {\"fecha_date\": \"2023-03-16T00:00:00\", \"n_registros\": 874, \"roll7\": 876.2857142857143}, {\"fecha_date\": \"2023-03-17T00:00:00\", \"n_registros\": 877, \"roll7\": 876.1428571428571}, {\"fecha_date\": \"2023-03-18T00:00:00\", \"n_registros\": 877, \"roll7\": 876.2857142857143}, {\"fecha_date\": \"2023-03-19T00:00:00\", \"n_registros\": 877, \"roll7\": 876.2857142857143}, {\"fecha_date\": \"2023-03-20T00:00:00\", \"n_registros\": 875, \"roll7\": 876.7142857142857}, {\"fecha_date\": \"2023-03-21T00:00:00\", \"n_registros\": 876, \"roll7\": 876.7142857142857}, {\"fecha_date\": \"2023-03-22T00:00:00\", \"n_registros\": 878, \"roll7\": 876.7142857142857}, {\"fecha_date\": \"2023-03-23T00:00:00\", \"n_registros\": 877, \"roll7\": 876.5714285714286}, {\"fecha_date\": \"2023-03-24T00:00:00\", \"n_registros\": 877, \"roll7\": 876.8571428571429}, {\"fecha_date\": \"2023-03-25T00:00:00\", \"n_registros\": 877, \"roll7\": 876.8571428571429}, {\"fecha_date\": \"2023-03-26T00:00:00\", \"n_registros\": 876, \"roll7\": 876.4285714285714}, {\"fecha_date\": \"2023-03-27T00:00:00\", \"n_registros\": 877, \"roll7\": 876.1428571428571}, {\"fecha_date\": \"2023-03-28T00:00:00\", \"n_registros\": 876, \"roll7\": 876.1428571428571}, {\"fecha_date\": \"2023-03-29T00:00:00\", \"n_registros\": 875, \"roll7\": 876.1428571428571}, {\"fecha_date\": \"2023-03-30T00:00:00\", \"n_registros\": 875, \"roll7\": 876.2857142857143}, {\"fecha_date\": \"2023-03-31T00:00:00\", \"n_registros\": 877, \"roll7\": 875.7142857142857}, {\"fecha_date\": \"2023-04-01T00:00:00\", \"n_registros\": 877, \"roll7\": 875.8571428571429}, {\"fecha_date\": \"2023-04-02T00:00:00\", \"n_registros\": 877, \"roll7\": 876.1428571428571}, {\"fecha_date\": \"2023-04-03T00:00:00\", \"n_registros\": 873, \"roll7\": 876.4285714285714}, {\"fecha_date\": \"2023-04-04T00:00:00\", \"n_registros\": 877, \"roll7\": 876.7142857142857}, {\"fecha_date\": \"2023-04-05T00:00:00\", \"n_registros\": 877, \"roll7\": 876.8571428571429}, {\"fecha_date\": \"2023-04-06T00:00:00\", \"n_registros\": 877, \"roll7\": 876.8571428571429}, {\"fecha_date\": \"2023-04-07T00:00:00\", \"n_registros\": 879, \"roll7\": 877.4285714285714}, {\"fecha_date\": \"2023-04-08T00:00:00\", \"n_registros\": 878, \"roll7\": 877.1428571428571}, {\"fecha_date\": \"2023-04-09T00:00:00\", \"n_registros\": 877, \"roll7\": 877.0}, {\"fecha_date\": \"2023-04-10T00:00:00\", \"n_registros\": 877, \"roll7\": 876.8571428571429}, {\"fecha_date\": \"2023-04-11T00:00:00\", \"n_registros\": 875, \"roll7\": 876.7142857142857}, {\"fecha_date\": \"2023-04-12T00:00:00\", \"n_registros\": 876, \"roll7\": 876.2857142857143}, {\"fecha_date\": \"2023-04-13T00:00:00\", \"n_registros\": 876, \"roll7\": 876.1428571428571}, {\"fecha_date\": \"2023-04-14T00:00:00\", \"n_registros\": 878, \"roll7\": 876.0}, {\"fecha_date\": \"2023-04-15T00:00:00\", \"n_registros\": 875, \"roll7\": 875.8571428571429}, {\"fecha_date\": \"2023-04-16T00:00:00\", \"n_registros\": 876, \"roll7\": 875.8571428571429}, {\"fecha_date\": \"2023-04-17T00:00:00\", \"n_registros\": 876, \"roll7\": 875.8571428571429}, {\"fecha_date\": \"2023-04-18T00:00:00\", \"n_registros\": 874, \"roll7\": 875.4285714285714}, {\"fecha_date\": \"2023-04-19T00:00:00\", \"n_registros\": 876, \"roll7\": 875.2857142857143}, {\"fecha_date\": \"2023-04-20T00:00:00\", \"n_registros\": 876, \"roll7\": 874.8571428571429}, {\"fecha_date\": \"2023-04-21T00:00:00\", \"n_registros\": 875, \"roll7\": 874.4285714285714}, {\"fecha_date\": \"2023-04-22T00:00:00\", \"n_registros\": 874, \"roll7\": 874.4285714285714}, {\"fecha_date\": \"2023-04-23T00:00:00\", \"n_registros\": 873, \"roll7\": 874.0}, {\"fecha_date\": \"2023-04-24T00:00:00\", \"n_registros\": 873, \"roll7\": 873.7142857142857}, {\"fecha_date\": \"2023-04-25T00:00:00\", \"n_registros\": 874, \"roll7\": 873.8571428571429}, {\"fecha_date\": \"2023-04-26T00:00:00\", \"n_registros\": 873, \"roll7\": 874.1428571428571}, {\"fecha_date\": \"2023-04-27T00:00:00\", \"n_registros\": 874, \"roll7\": 874.5714285714286}, {\"fecha_date\": \"2023-04-28T00:00:00\", \"n_registros\": 876, \"roll7\": 874.7142857142857}, {\"fecha_date\": \"2023-04-29T00:00:00\", \"n_registros\": 876, \"roll7\": 874.5714285714286}, {\"fecha_date\": \"2023-04-30T00:00:00\", \"n_registros\": 876, \"roll7\": 874.7142857142857}, {\"fecha_date\": \"2023-05-01T00:00:00\", \"n_registros\": 874, \"roll7\": 873.7142857142857}, {\"fecha_date\": \"2023-05-02T00:00:00\", \"n_registros\": 873, \"roll7\": 872.8571428571429}, {\"fecha_date\": \"2023-05-03T00:00:00\", \"n_registros\": 874, \"roll7\": 871.8571428571429}, {\"fecha_date\": \"2023-05-04T00:00:00\", \"n_registros\": 867, \"roll7\": 870.4285714285714}, {\"fecha_date\": \"2023-05-05T00:00:00\", \"n_registros\": 870, \"roll7\": 869.1428571428571}, {\"fecha_date\": \"2023-05-06T00:00:00\", \"n_registros\": 869, \"roll7\": 868.7142857142857}, {\"fecha_date\": \"2023-05-07T00:00:00\", \"n_registros\": 866, \"roll7\": 868.2857142857143}, {\"fecha_date\": \"2023-05-08T00:00:00\", \"n_registros\": 865, \"roll7\": 869.2857142857143}, {\"fecha_date\": \"2023-05-09T00:00:00\", \"n_registros\": 870, \"roll7\": 869.5714285714286}, {\"fecha_date\": \"2023-05-10T00:00:00\", \"n_registros\": 871, \"roll7\": 869.5714285714286}, {\"fecha_date\": \"2023-05-11T00:00:00\", \"n_registros\": 874, \"roll7\": 869.5714285714286}, {\"fecha_date\": \"2023-05-12T00:00:00\", \"n_registros\": 872, \"roll7\": 870.1428571428571}, {\"fecha_date\": \"2023-05-13T00:00:00\", \"n_registros\": 869, \"roll7\": 870.0}, {\"fecha_date\": \"2023-05-14T00:00:00\", \"n_registros\": 866, \"roll7\": 869.7142857142857}, {\"fecha_date\": \"2023-05-15T00:00:00\", \"n_registros\": 869, \"roll7\": 868.4285714285714}, {\"fecha_date\": \"2023-05-16T00:00:00\", \"n_registros\": 869, \"roll7\": 867.5714285714286}, {\"fecha_date\": \"2023-05-17T00:00:00\", \"n_registros\": 869, \"roll7\": 867.1428571428571}, {\"fecha_date\": \"2023-05-18T00:00:00\", \"n_registros\": 865, \"roll7\": 866.4285714285714}, {\"fecha_date\": \"2023-05-19T00:00:00\", \"n_registros\": 866, \"roll7\": 865.2857142857143}, {\"fecha_date\": \"2023-05-20T00:00:00\", \"n_registros\": 866, \"roll7\": 863.7142857142857}, {\"fecha_date\": \"2023-05-21T00:00:00\", \"n_registros\": 861, \"roll7\": 862.1428571428571}, {\"fecha_date\": \"2023-05-22T00:00:00\", \"n_registros\": 861, \"roll7\": 861.4285714285714}, {\"fecha_date\": \"2023-05-23T00:00:00\", \"n_registros\": 858, \"roll7\": 860.5714285714286}, {\"fecha_date\": \"2023-05-24T00:00:00\", \"n_registros\": 858, \"roll7\": 860.4285714285714}, {\"fecha_date\": \"2023-05-25T00:00:00\", \"n_registros\": 860, \"roll7\": 860.7142857142857}, {\"fecha_date\": \"2023-05-26T00:00:00\", \"n_registros\": 860, \"roll7\": 861.2857142857143}, {\"fecha_date\": \"2023-05-27T00:00:00\", \"n_registros\": 865, \"roll7\": 862.1428571428571}, {\"fecha_date\": \"2023-05-28T00:00:00\", \"n_registros\": 863, \"roll7\": 862.7142857142857}, {\"fecha_date\": \"2023-05-29T00:00:00\", \"n_registros\": 865, \"roll7\": 864.0}, {\"fecha_date\": \"2023-05-30T00:00:00\", \"n_registros\": 864, \"roll7\": 864.7142857142857}, {\"fecha_date\": \"2023-05-31T00:00:00\", \"n_registros\": 862, \"roll7\": 864.7142857142857}, {\"fecha_date\": \"2023-06-01T00:00:00\", \"n_registros\": 869, \"roll7\": 864.4285714285714}, {\"fecha_date\": \"2023-06-02T00:00:00\", \"n_registros\": 865, \"roll7\": 863.8571428571429}, {\"fecha_date\": \"2023-06-03T00:00:00\", \"n_registros\": 865, \"roll7\": 863.4285714285714}, {\"fecha_date\": \"2023-06-04T00:00:00\", \"n_registros\": 861, \"roll7\": 863.8571428571429}, {\"fecha_date\": \"2023-06-05T00:00:00\", \"n_registros\": 861, \"roll7\": 863.7142857142857}, {\"fecha_date\": \"2023-06-06T00:00:00\", \"n_registros\": 861, \"roll7\": 864.2857142857143}, {\"fecha_date\": \"2023-06-07T00:00:00\", \"n_registros\": 865, \"roll7\": 864.5714285714286}, {\"fecha_date\": \"2023-06-08T00:00:00\", \"n_registros\": 868, \"roll7\": 865.5714285714286}, {\"fecha_date\": \"2023-06-09T00:00:00\", \"n_registros\": 869, \"roll7\": 866.2857142857143}, {\"fecha_date\": \"2023-06-10T00:00:00\", \"n_registros\": 867, \"roll7\": 867.0}, {\"fecha_date\": \"2023-06-11T00:00:00\", \"n_registros\": 868, \"roll7\": 867.8571428571429}, {\"fecha_date\": \"2023-06-12T00:00:00\", \"n_registros\": 866, \"roll7\": 868.2857142857143}, {\"fecha_date\": \"2023-06-13T00:00:00\", \"n_registros\": 866, \"roll7\": 868.5714285714286}, {\"fecha_date\": \"2023-06-14T00:00:00\", \"n_registros\": 871, \"roll7\": 869.0}, {\"fecha_date\": \"2023-06-15T00:00:00\", \"n_registros\": 871, \"roll7\": 868.7142857142857}, {\"fecha_date\": \"2023-06-16T00:00:00\", \"n_registros\": 871, \"roll7\": 868.8571428571429}, {\"fecha_date\": \"2023-06-17T00:00:00\", \"n_registros\": 870, \"roll7\": 869.1428571428571}, {\"fecha_date\": \"2023-06-18T00:00:00\", \"n_registros\": 866, \"roll7\": 868.8571428571429}, {\"fecha_date\": \"2023-06-19T00:00:00\", \"n_registros\": 867, \"roll7\": 868.4285714285714}, {\"fecha_date\": \"2023-06-20T00:00:00\", \"n_registros\": 868, \"roll7\": 868.2857142857143}, {\"fecha_date\": \"2023-06-21T00:00:00\", \"n_registros\": 869, \"roll7\": 868.4285714285714}, {\"fecha_date\": \"2023-06-22T00:00:00\", \"n_registros\": 868, \"roll7\": 868.8571428571429}, {\"fecha_date\": \"2023-06-23T00:00:00\", \"n_registros\": 870, \"roll7\": 869.5714285714286}, {\"fecha_date\": \"2023-06-24T00:00:00\", \"n_registros\": 871, \"roll7\": 870.2857142857143}, {\"fecha_date\": \"2023-06-25T00:00:00\", \"n_registros\": 869, \"roll7\": 871.0}, {\"fecha_date\": \"2023-06-26T00:00:00\", \"n_registros\": 872, \"roll7\": 871.4285714285714}, {\"fecha_date\": \"2023-06-27T00:00:00\", \"n_registros\": 873, \"roll7\": 871.5714285714286}, {\"fecha_date\": \"2023-06-28T00:00:00\", \"n_registros\": 874, \"roll7\": 871.5714285714286}, {\"fecha_date\": \"2023-06-29T00:00:00\", \"n_registros\": 871, \"roll7\": 872.1428571428571}, {\"fecha_date\": \"2023-06-30T00:00:00\", \"n_registros\": 871, \"roll7\": 872.2857142857143}, {\"fecha_date\": \"2023-07-01T00:00:00\", \"n_registros\": 871, \"roll7\": 872.2857142857143}, {\"fecha_date\": \"2023-07-02T00:00:00\", \"n_registros\": 873, \"roll7\": 872.5714285714286}, {\"fecha_date\": \"2023-07-03T00:00:00\", \"n_registros\": 873, \"roll7\": 873.1428571428571}, {\"fecha_date\": \"2023-07-04T00:00:00\", \"n_registros\": 873, \"roll7\": 874.8571428571429}, {\"fecha_date\": \"2023-07-05T00:00:00\", \"n_registros\": 876, \"roll7\": 876.5714285714286}, {\"fecha_date\": \"2023-07-06T00:00:00\", \"n_registros\": 875, \"roll7\": 878.0}, {\"fecha_date\": \"2023-07-07T00:00:00\", \"n_registros\": 883, \"roll7\": 879.2857142857143}, {\"fecha_date\": \"2023-07-08T00:00:00\", \"n_registros\": 883, \"roll7\": 880.5714285714286}, {\"fecha_date\": \"2023-07-09T00:00:00\", \"n_registros\": 883, \"roll7\": 881.2857142857143}, {\"fecha_date\": \"2023-07-10T00:00:00\", \"n_registros\": 882, \"roll7\": 882.1428571428571}, {\"fecha_date\": \"2023-07-11T00:00:00\", \"n_registros\": 882, \"roll7\": 882.4285714285714}, {\"fecha_date\": \"2023-07-12T00:00:00\", \"n_registros\": 881, \"roll7\": 882.7142857142857}, {\"fecha_date\": \"2023-07-13T00:00:00\", \"n_registros\": 881, \"roll7\": 883.0}, {\"fecha_date\": \"2023-07-14T00:00:00\", \"n_registros\": 885, \"roll7\": 883.2857142857143}, {\"fecha_date\": \"2023-07-15T00:00:00\", \"n_registros\": 885, \"roll7\": 883.7142857142857}, {\"fecha_date\": \"2023-07-16T00:00:00\", \"n_registros\": 885, \"roll7\": 884.1428571428571}, {\"fecha_date\": \"2023-07-17T00:00:00\", \"n_registros\": 884, \"roll7\": 884.4285714285714}, {\"fecha_date\": \"2023-07-18T00:00:00\", \"n_registros\": 885, \"roll7\": 884.4285714285714}, {\"fecha_date\": \"2023-07-19T00:00:00\", \"n_registros\": 884, \"roll7\": 884.1428571428571}, {\"fecha_date\": \"2023-07-20T00:00:00\", \"n_registros\": 883, \"roll7\": 883.8571428571429}, {\"fecha_date\": \"2023-07-21T00:00:00\", \"n_registros\": 885, \"roll7\": 883.5714285714286}, {\"fecha_date\": \"2023-07-22T00:00:00\", \"n_registros\": 883, \"roll7\": 883.2857142857143}, {\"fecha_date\": \"2023-07-23T00:00:00\", \"n_registros\": 883, \"roll7\": 882.8571428571429}, {\"fecha_date\": \"2023-07-24T00:00:00\", \"n_registros\": 882, \"roll7\": 882.8571428571429}, {\"fecha_date\": \"2023-07-25T00:00:00\", \"n_registros\": 883, \"roll7\": 882.7142857142857}, {\"fecha_date\": \"2023-07-26T00:00:00\", \"n_registros\": 881, \"roll7\": 882.8571428571429}, {\"fecha_date\": \"2023-07-27T00:00:00\", \"n_registros\": 883, \"roll7\": 883.1428571428571}, {\"fecha_date\": \"2023-07-28T00:00:00\", \"n_registros\": 884, \"roll7\": 883.5714285714286}, {\"fecha_date\": \"2023-07-29T00:00:00\", \"n_registros\": 884, \"roll7\": 883.7142857142857}, {\"fecha_date\": \"2023-07-30T00:00:00\", \"n_registros\": 885, \"roll7\": 884.1428571428571}, {\"fecha_date\": \"2023-07-31T00:00:00\", \"n_registros\": 885, \"roll7\": 884.4285714285714}, {\"fecha_date\": \"2023-08-01T00:00:00\", \"n_registros\": 884, \"roll7\": 884.2857142857143}, {\"fecha_date\": \"2023-08-02T00:00:00\", \"n_registros\": 884, \"roll7\": 884.5714285714286}, {\"fecha_date\": \"2023-08-03T00:00:00\", \"n_registros\": 885, \"roll7\": 884.7142857142857}, {\"fecha_date\": \"2023-08-04T00:00:00\", \"n_registros\": 883, \"roll7\": 884.7142857142857}, {\"fecha_date\": \"2023-08-05T00:00:00\", \"n_registros\": 886, \"roll7\": 884.5714285714286}, {\"fecha_date\": \"2023-08-06T00:00:00\", \"n_registros\": 886, \"roll7\": 884.0}, {\"fecha_date\": \"2023-08-07T00:00:00\", \"n_registros\": 885, \"roll7\": 884.0}, {\"fecha_date\": \"2023-08-08T00:00:00\", \"n_registros\": 883, \"roll7\": 884.4285714285714}, {\"fecha_date\": \"2023-08-09T00:00:00\", \"n_registros\": 880, \"roll7\": 884.4285714285714}, {\"fecha_date\": \"2023-08-10T00:00:00\", \"n_registros\": 885, \"roll7\": 884.4285714285714}, {\"fecha_date\": \"2023-08-11T00:00:00\", \"n_registros\": 886, \"roll7\": 884.4285714285714}, {\"fecha_date\": \"2023-08-12T00:00:00\", \"n_registros\": 886, \"roll7\": 884.8571428571429}, {\"fecha_date\": \"2023-08-13T00:00:00\", \"n_registros\": 886, \"roll7\": 885.5714285714286}, {\"fecha_date\": \"2023-08-14T00:00:00\", \"n_registros\": 885, \"roll7\": 885.2857142857143}, {\"fecha_date\": \"2023-08-15T00:00:00\", \"n_registros\": 886, \"roll7\": 885.0}, {\"fecha_date\": \"2023-08-16T00:00:00\", \"n_registros\": 885, \"roll7\": 884.7142857142857}, {\"fecha_date\": \"2023-08-17T00:00:00\", \"n_registros\": 883, \"roll7\": 884.4285714285714}, {\"fecha_date\": \"2023-08-18T00:00:00\", \"n_registros\": 884, \"roll7\": 884.2857142857143}, {\"fecha_date\": \"2023-08-19T00:00:00\", \"n_registros\": 884, \"roll7\": 883.7142857142857}, {\"fecha_date\": \"2023-08-20T00:00:00\", \"n_registros\": 884, \"roll7\": 883.5714285714286}, {\"fecha_date\": \"2023-08-21T00:00:00\", \"n_registros\": 884, \"roll7\": 883.5714285714286}, {\"fecha_date\": \"2023-08-22T00:00:00\", \"n_registros\": 882, \"roll7\": 883.2857142857143}, {\"fecha_date\": \"2023-08-23T00:00:00\", \"n_registros\": 884, \"roll7\": 882.8571428571429}, {\"fecha_date\": \"2023-08-24T00:00:00\", \"n_registros\": 883, \"roll7\": 882.2857142857143}, {\"fecha_date\": \"2023-08-25T00:00:00\", \"n_registros\": 882, \"roll7\": 881.4285714285714}, {\"fecha_date\": \"2023-08-26T00:00:00\", \"n_registros\": 881, \"roll7\": 881.2857142857143}, {\"fecha_date\": \"2023-08-27T00:00:00\", \"n_registros\": 880, \"roll7\": 881.1428571428571}, {\"fecha_date\": \"2023-08-28T00:00:00\", \"n_registros\": 878, \"roll7\": 881.2857142857143}, {\"fecha_date\": \"2023-08-29T00:00:00\", \"n_registros\": 881, \"roll7\": 881.5714285714286}, {\"fecha_date\": \"2023-08-30T00:00:00\", \"n_registros\": 883, \"roll7\": 881.4285714285714}, {\"fecha_date\": \"2023-08-31T00:00:00\", \"n_registros\": 884, \"roll7\": 881.0}, {\"fecha_date\": \"2023-09-01T00:00:00\", \"n_registros\": 884, \"roll7\": 880.8571428571429}, {\"fecha_date\": \"2023-09-02T00:00:00\", \"n_registros\": 880, \"roll7\": 880.5714285714286}, {\"fecha_date\": \"2023-09-03T00:00:00\", \"n_registros\": 877, \"roll7\": 880.5714285714286}, {\"fecha_date\": \"2023-09-04T00:00:00\", \"n_registros\": 877, \"roll7\": 880.4285714285714}, {\"fecha_date\": \"2023-09-05T00:00:00\", \"n_registros\": 879, \"roll7\": 880.4285714285714}, {\"fecha_date\": \"2023-09-06T00:00:00\", \"n_registros\": 883, \"roll7\": 880.5714285714286}, {\"fecha_date\": \"2023-09-07T00:00:00\", \"n_registros\": 883, \"roll7\": 880.7142857142857}, {\"fecha_date\": \"2023-09-08T00:00:00\", \"n_registros\": 884, \"roll7\": 881.0}, {\"fecha_date\": \"2023-09-09T00:00:00\", \"n_registros\": 881, \"roll7\": 881.2857142857143}, {\"fecha_date\": \"2023-09-10T00:00:00\", \"n_registros\": 878, \"roll7\": 881.2857142857143}, {\"fecha_date\": \"2023-09-11T00:00:00\", \"n_registros\": 879, \"roll7\": 880.8571428571429}, {\"fecha_date\": \"2023-09-12T00:00:00\", \"n_registros\": 881, \"roll7\": 880.4285714285714}, {\"fecha_date\": \"2023-09-13T00:00:00\", \"n_registros\": 883, \"roll7\": 880.7142857142857}, {\"fecha_date\": \"2023-09-14T00:00:00\", \"n_registros\": 880, \"roll7\": 881.2857142857143}, {\"fecha_date\": \"2023-09-15T00:00:00\", \"n_registros\": 881, \"roll7\": 881.4285714285714}, {\"fecha_date\": \"2023-09-16T00:00:00\", \"n_registros\": 883, \"roll7\": 881.7142857142857}, {\"fecha_date\": \"2023-09-17T00:00:00\", \"n_registros\": 882, \"roll7\": 881.8571428571429}, {\"fecha_date\": \"2023-09-18T00:00:00\", \"n_registros\": 880, \"roll7\": 882.2857142857143}, {\"fecha_date\": \"2023-09-19T00:00:00\", \"n_registros\": 883, \"roll7\": 883.0}, {\"fecha_date\": \"2023-09-20T00:00:00\", \"n_registros\": 884, \"roll7\": 883.7142857142857}, {\"fecha_date\": \"2023-09-21T00:00:00\", \"n_registros\": 883, \"roll7\": 884.7142857142857}, {\"fecha_date\": \"2023-09-22T00:00:00\", \"n_registros\": 886, \"roll7\": 886.0}, {\"fecha_date\": \"2023-09-23T00:00:00\", \"n_registros\": 888, \"roll7\": 886.7142857142857}, {\"fecha_date\": \"2023-09-24T00:00:00\", \"n_registros\": 889, \"roll7\": 887.2857142857143}, {\"fecha_date\": \"2023-09-25T00:00:00\", \"n_registros\": 889, \"roll7\": 887.7142857142857}, {\"fecha_date\": \"2023-09-26T00:00:00\", \"n_registros\": 888, \"roll7\": 888.0}, {\"fecha_date\": \"2023-09-27T00:00:00\", \"n_registros\": 888, \"roll7\": 887.8571428571429}, {\"fecha_date\": \"2023-09-28T00:00:00\", \"n_registros\": 886, \"roll7\": 887.5714285714286}, {\"fecha_date\": \"2023-09-29T00:00:00\", \"n_registros\": 888, \"roll7\": 887.1428571428571}, {\"fecha_date\": \"2023-09-30T00:00:00\", \"n_registros\": 887, \"roll7\": 886.8571428571429}, {\"fecha_date\": \"2023-10-01T00:00:00\", \"n_registros\": 887, \"roll7\": 886.5714285714286}, {\"fecha_date\": \"2023-10-02T00:00:00\", \"n_registros\": 886, \"roll7\": 885.8571428571429}, {\"fecha_date\": \"2023-10-03T00:00:00\", \"n_registros\": 886, \"roll7\": 885.4285714285714}, {\"fecha_date\": \"2023-10-04T00:00:00\", \"n_registros\": 886, \"roll7\": 885.0}, {\"fecha_date\": \"2023-10-05T00:00:00\", \"n_registros\": 881, \"roll7\": 884.5714285714286}, {\"fecha_date\": \"2023-10-06T00:00:00\", \"n_registros\": 885, \"roll7\": 884.2857142857143}, {\"fecha_date\": \"2023-10-07T00:00:00\", \"n_registros\": 884, \"roll7\": 884.1428571428571}, {\"fecha_date\": \"2023-10-08T00:00:00\", \"n_registros\": 884, \"roll7\": 884.1428571428571}, {\"fecha_date\": \"2023-10-09T00:00:00\", \"n_registros\": 884, \"roll7\": 884.7142857142857}, {\"fecha_date\": \"2023-10-10T00:00:00\", \"n_registros\": 885, \"roll7\": 884.7142857142857}, {\"fecha_date\": \"2023-10-11T00:00:00\", \"n_registros\": 886, \"roll7\": 884.5714285714286}, {\"fecha_date\": \"2023-10-12T00:00:00\", \"n_registros\": 885, \"roll7\": 884.4285714285714}, {\"fecha_date\": \"2023-10-13T00:00:00\", \"n_registros\": 885, \"roll7\": 884.8571428571429}, {\"fecha_date\": \"2023-10-14T00:00:00\", \"n_registros\": 883, \"roll7\": 885.2857142857143}, {\"fecha_date\": \"2023-10-15T00:00:00\", \"n_registros\": 883, \"roll7\": 885.7142857142857}, {\"fecha_date\": \"2023-10-16T00:00:00\", \"n_registros\": 887, \"roll7\": 885.4285714285714}, {\"fecha_date\": \"2023-10-17T00:00:00\", \"n_registros\": 888, \"roll7\": 885.1428571428571}, {\"fecha_date\": \"2023-10-18T00:00:00\", \"n_registros\": 889, \"roll7\": 885.5714285714286}, {\"fecha_date\": \"2023-10-19T00:00:00\", \"n_registros\": 883, \"roll7\": 885.8571428571429}, {\"fecha_date\": \"2023-10-20T00:00:00\", \"n_registros\": 883, \"roll7\": 884.8571428571429}, {\"fecha_date\": \"2023-10-21T00:00:00\", \"n_registros\": 886, \"roll7\": 883.5714285714286}, {\"fecha_date\": \"2023-10-22T00:00:00\", \"n_registros\": 885, \"roll7\": 882.5714285714286}, {\"fecha_date\": \"2023-10-23T00:00:00\", \"n_registros\": 880, \"roll7\": 882.2857142857143}, {\"fecha_date\": \"2023-10-24T00:00:00\", \"n_registros\": 879, \"roll7\": 882.0}, {\"fecha_date\": \"2023-10-25T00:00:00\", \"n_registros\": 882, \"roll7\": 881.4285714285714}, {\"fecha_date\": \"2023-10-26T00:00:00\", \"n_registros\": 881, \"roll7\": 881.0}, {\"fecha_date\": \"2023-10-27T00:00:00\", \"n_registros\": 881, \"roll7\": 880.8571428571429}, {\"fecha_date\": \"2023-10-28T00:00:00\", \"n_registros\": 882, \"roll7\": 881.0}, {\"fecha_date\": \"2023-10-29T00:00:00\", \"n_registros\": 882, \"roll7\": 880.8571428571429}, {\"fecha_date\": \"2023-10-30T00:00:00\", \"n_registros\": 879, \"roll7\": 880.7142857142857}, {\"fecha_date\": \"2023-10-31T00:00:00\", \"n_registros\": 880, \"roll7\": 880.7142857142857}, {\"fecha_date\": \"2023-11-01T00:00:00\", \"n_registros\": 881, \"roll7\": 880.7142857142857}, {\"fecha_date\": \"2023-11-02T00:00:00\", \"n_registros\": 880, \"roll7\": 880.8571428571429}, {\"fecha_date\": \"2023-11-03T00:00:00\", \"n_registros\": 881, \"roll7\": 881.1428571428571}, {\"fecha_date\": \"2023-11-04T00:00:00\", \"n_registros\": 882, \"roll7\": 881.5714285714286}, {\"fecha_date\": \"2023-11-05T00:00:00\", \"n_registros\": 883, \"roll7\": 881.8571428571429}, {\"fecha_date\": \"2023-11-06T00:00:00\", \"n_registros\": 881, \"roll7\": 882.1428571428571}, {\"fecha_date\": \"2023-11-07T00:00:00\", \"n_registros\": 883, \"roll7\": 882.2857142857143}, {\"fecha_date\": \"2023-11-08T00:00:00\", \"n_registros\": 883, \"roll7\": 882.1428571428571}, {\"fecha_date\": \"2023-11-09T00:00:00\", \"n_registros\": 882, \"roll7\": 881.7142857142857}, {\"fecha_date\": \"2023-11-10T00:00:00\", \"n_registros\": 882, \"roll7\": 881.4285714285714}, {\"fecha_date\": \"2023-11-11T00:00:00\", \"n_registros\": 881, \"roll7\": 881.4285714285714}, {\"fecha_date\": \"2023-11-12T00:00:00\", \"n_registros\": 880, \"roll7\": 881.7142857142857}, {\"fecha_date\": \"2023-11-13T00:00:00\", \"n_registros\": 879, \"roll7\": 882.1428571428571}, {\"fecha_date\": \"2023-11-14T00:00:00\", \"n_registros\": 883, \"roll7\": 882.2857142857143}, {\"fecha_date\": \"2023-11-15T00:00:00\", \"n_registros\": 885, \"roll7\": 882.5714285714286}, {\"fecha_date\": \"2023-11-16T00:00:00\", \"n_registros\": 885, \"roll7\": 882.8571428571429}, {\"fecha_date\": \"2023-11-17T00:00:00\", \"n_registros\": 883, \"roll7\": 883.2857142857143}, {\"fecha_date\": \"2023-11-18T00:00:00\", \"n_registros\": 883, \"roll7\": 883.7142857142857}, {\"fecha_date\": \"2023-11-19T00:00:00\", \"n_registros\": 882, \"roll7\": 883.8571428571429}, {\"fecha_date\": \"2023-11-20T00:00:00\", \"n_registros\": 882, \"roll7\": 884.4285714285714}, {\"fecha_date\": \"2023-11-21T00:00:00\", \"n_registros\": 886, \"roll7\": 885.1428571428571}, {\"fecha_date\": \"2023-11-22T00:00:00\", \"n_registros\": 886, \"roll7\": 885.8571428571429}, {\"fecha_date\": \"2023-11-23T00:00:00\", \"n_registros\": 889, \"roll7\": 886.5714285714286}, {\"fecha_date\": \"2023-11-24T00:00:00\", \"n_registros\": 888, \"roll7\": 887.1428571428571}, {\"fecha_date\": \"2023-11-25T00:00:00\", \"n_registros\": 888, \"roll7\": 887.0}, {\"fecha_date\": \"2023-11-26T00:00:00\", \"n_registros\": 887, \"roll7\": 886.7142857142857}, {\"fecha_date\": \"2023-11-27T00:00:00\", \"n_registros\": 886, \"roll7\": 886.1428571428571}, {\"fecha_date\": \"2023-11-28T00:00:00\", \"n_registros\": 885, \"roll7\": 885.5714285714286}, {\"fecha_date\": \"2023-11-29T00:00:00\", \"n_registros\": 884, \"roll7\": 885.1428571428571}, {\"fecha_date\": \"2023-11-30T00:00:00\", \"n_registros\": 885, \"roll7\": 884.5714285714286}, {\"fecha_date\": \"2023-12-01T00:00:00\", \"n_registros\": 884, \"roll7\": 884.1428571428571}, {\"fecha_date\": \"2023-12-02T00:00:00\", \"n_registros\": 885, \"roll7\": 884.1428571428571}, {\"fecha_date\": \"2023-12-03T00:00:00\", \"n_registros\": 883, \"roll7\": 884.4285714285714}, {\"fecha_date\": \"2023-12-04T00:00:00\", \"n_registros\": 883, \"roll7\": 884.4285714285714}, {\"fecha_date\": \"2023-12-05T00:00:00\", \"n_registros\": 885, \"roll7\": 884.5714285714286}, {\"fecha_date\": \"2023-12-06T00:00:00\", \"n_registros\": 886, \"roll7\": 884.7142857142857}, {\"fecha_date\": \"2023-12-07T00:00:00\", \"n_registros\": 885, \"roll7\": 885.1428571428571}, {\"fecha_date\": \"2023-12-08T00:00:00\", \"n_registros\": 885, \"roll7\": 885.4285714285714}, {\"fecha_date\": \"2023-12-09T00:00:00\", \"n_registros\": 886, \"roll7\": 886.0}, {\"fecha_date\": \"2023-12-10T00:00:00\", \"n_registros\": 886, \"roll7\": 886.5714285714286}, {\"fecha_date\": \"2023-12-11T00:00:00\", \"n_registros\": 885, \"roll7\": 887.2857142857143}, {\"fecha_date\": \"2023-12-12T00:00:00\", \"n_registros\": 889, \"roll7\": 888.2857142857143}, {\"fecha_date\": \"2023-12-13T00:00:00\", \"n_registros\": 890, \"roll7\": 889.1428571428571}, {\"fecha_date\": \"2023-12-14T00:00:00\", \"n_registros\": 890, \"roll7\": 889.7142857142857}, {\"fecha_date\": \"2023-12-15T00:00:00\", \"n_registros\": 892, \"roll7\": 890.4285714285714}, {\"fecha_date\": \"2023-12-16T00:00:00\", \"n_registros\": 892, \"roll7\": 890.4285714285714}, {\"fecha_date\": \"2023-12-17T00:00:00\", \"n_registros\": 890, \"roll7\": 890.2857142857143}, {\"fecha_date\": \"2023-12-18T00:00:00\", \"n_registros\": 890, \"roll7\": 890.2857142857143}, {\"fecha_date\": \"2023-12-19T00:00:00\", \"n_registros\": 889, \"roll7\": 890.0}, {\"fecha_date\": \"2023-12-20T00:00:00\", \"n_registros\": 889, \"roll7\": 889.8571428571429}, {\"fecha_date\": \"2023-12-21T00:00:00\", \"n_registros\": 890, \"roll7\": 889.5714285714286}, {\"fecha_date\": \"2023-12-22T00:00:00\", \"n_registros\": 890, \"roll7\": 889.4285714285714}, {\"fecha_date\": \"2023-12-23T00:00:00\", \"n_registros\": 891, \"roll7\": 889.2857142857143}, {\"fecha_date\": \"2023-12-24T00:00:00\", \"n_registros\": 888, \"roll7\": 889.1428571428571}, {\"fecha_date\": \"2023-12-25T00:00:00\", \"n_registros\": 889, \"roll7\": 889.1428571428571}, {\"fecha_date\": \"2023-12-26T00:00:00\", \"n_registros\": 888, \"roll7\": 889.1428571428571}, {\"fecha_date\": \"2023-12-27T00:00:00\", \"n_registros\": 888, \"roll7\": 889.0}, {\"fecha_date\": \"2023-12-28T00:00:00\", \"n_registros\": 890, \"roll7\": 889.1428571428571}, {\"fecha_date\": \"2023-12-29T00:00:00\", \"n_registros\": 890, \"roll7\": 888.8571428571429}, {\"fecha_date\": \"2023-12-30T00:00:00\", \"n_registros\": 890, \"roll7\": 889.1428571428571}, {\"fecha_date\": \"2023-12-31T00:00:00\", \"n_registros\": 889, \"roll7\": 889.7142857142857}, {\"fecha_date\": \"2024-01-02T00:00:00\", \"n_registros\": 887, \"roll7\": 890.0}, {\"fecha_date\": \"2024-01-03T00:00:00\", \"n_registros\": 890, \"roll7\": 890.1428571428571}, {\"fecha_date\": \"2024-01-04T00:00:00\", \"n_registros\": 892, \"roll7\": 890.1428571428571}, {\"fecha_date\": \"2024-01-05T00:00:00\", \"n_registros\": 892, \"roll7\": 890.0}, {\"fecha_date\": \"2024-01-06T00:00:00\", \"n_registros\": 891, \"roll7\": 890.2857142857143}, {\"fecha_date\": \"2024-01-07T00:00:00\", \"n_registros\": 890, \"roll7\": 890.0}, {\"fecha_date\": \"2024-01-08T00:00:00\", \"n_registros\": 888, \"roll7\": 889.4285714285714}, {\"fecha_date\": \"2024-01-09T00:00:00\", \"n_registros\": 889, \"roll7\": 889.1428571428571}, {\"fecha_date\": \"2024-01-10T00:00:00\", \"n_registros\": 888, \"roll7\": 888.7142857142857}, {\"fecha_date\": \"2024-01-11T00:00:00\", \"n_registros\": 888, \"roll7\": 888.5714285714286}, {\"fecha_date\": \"2024-01-12T00:00:00\", \"n_registros\": 890, \"roll7\": 888.4285714285714}, {\"fecha_date\": \"2024-01-13T00:00:00\", \"n_registros\": 888, \"roll7\": 888.7142857142857}, {\"fecha_date\": \"2024-01-14T00:00:00\", \"n_registros\": 889, \"roll7\": 888.7142857142857}, {\"fecha_date\": \"2024-01-15T00:00:00\", \"n_registros\": 887, \"roll7\": 889.1428571428571}, {\"fecha_date\": \"2024-01-16T00:00:00\", \"n_registros\": 891, \"roll7\": 889.2857142857143}, {\"fecha_date\": \"2024-01-17T00:00:00\", \"n_registros\": 888, \"roll7\": 889.8571428571429}, {\"fecha_date\": \"2024-01-18T00:00:00\", \"n_registros\": 891, \"roll7\": 890.2857142857143}, {\"fecha_date\": \"2024-01-19T00:00:00\", \"n_registros\": 891, \"roll7\": 890.8571428571429}, {\"fecha_date\": \"2024-01-20T00:00:00\", \"n_registros\": 892, \"roll7\": 890.5714285714286}, {\"fecha_date\": \"2024-01-21T00:00:00\", \"n_registros\": 892, \"roll7\": 890.7142857142857}, {\"fecha_date\": \"2024-01-22T00:00:00\", \"n_registros\": 891, \"roll7\": 890.2857142857143}, {\"fecha_date\": \"2024-01-23T00:00:00\", \"n_registros\": 889, \"roll7\": 890.0}, {\"fecha_date\": \"2024-01-24T00:00:00\", \"n_registros\": 889, \"roll7\": 890.0}, {\"fecha_date\": \"2024-01-25T00:00:00\", \"n_registros\": 888, \"roll7\": 889.7142857142857}, {\"fecha_date\": \"2024-01-26T00:00:00\", \"n_registros\": 889, \"roll7\": 889.4285714285714}, {\"fecha_date\": \"2024-01-27T00:00:00\", \"n_registros\": 892, \"roll7\": 889.7142857142857}, {\"fecha_date\": \"2024-01-28T00:00:00\", \"n_registros\": 890, \"roll7\": 890.0}, {\"fecha_date\": \"2024-01-29T00:00:00\", \"n_registros\": 889, \"roll7\": 890.4285714285714}, {\"fecha_date\": \"2024-01-30T00:00:00\", \"n_registros\": 891, \"roll7\": 890.8571428571429}, {\"fecha_date\": \"2024-01-31T00:00:00\", \"n_registros\": 891, \"roll7\": 890.8571428571429}, {\"fecha_date\": \"2024-02-01T00:00:00\", \"n_registros\": 891, \"roll7\": 891.0}, {\"fecha_date\": \"2024-02-02T00:00:00\", \"n_registros\": 892, \"roll7\": 891.1428571428571}, {\"fecha_date\": \"2024-02-03T00:00:00\", \"n_registros\": 892, \"roll7\": 891.1428571428571}, {\"fecha_date\": \"2024-02-04T00:00:00\", \"n_registros\": 891, \"roll7\": 891.2857142857143}, {\"fecha_date\": \"2024-02-05T00:00:00\", \"n_registros\": 890, \"roll7\": 891.2857142857143}, {\"fecha_date\": \"2024-02-06T00:00:00\", \"n_registros\": 891, \"roll7\": 890.8571428571429}, {\"fecha_date\": \"2024-02-07T00:00:00\", \"n_registros\": 892, \"roll7\": 889.5714285714286}, {\"fecha_date\": \"2024-02-08T00:00:00\", \"n_registros\": 891, \"roll7\": 888.7142857142857}, {\"fecha_date\": \"2024-02-09T00:00:00\", \"n_registros\": 889, \"roll7\": 887.8571428571429}, {\"fecha_date\": \"2024-02-10T00:00:00\", \"n_registros\": 883, \"roll7\": 887.2857142857143}, {\"fecha_date\": \"2024-02-11T00:00:00\", \"n_registros\": 885, \"roll7\": 886.8571428571429}, {\"fecha_date\": \"2024-02-12T00:00:00\", \"n_registros\": 884, \"roll7\": 886.2857142857143}, {\"fecha_date\": \"2024-02-13T00:00:00\", \"n_registros\": 887, \"roll7\": 886.0}, {\"fecha_date\": \"2024-02-14T00:00:00\", \"n_registros\": 889, \"roll7\": 886.7142857142857}, {\"fecha_date\": \"2024-02-15T00:00:00\", \"n_registros\": 887, \"roll7\": 887.4285714285714}, {\"fecha_date\": \"2024-02-16T00:00:00\", \"n_registros\": 887, \"roll7\": 888.2857142857143}, {\"fecha_date\": \"2024-02-17T00:00:00\", \"n_registros\": 888, \"roll7\": 888.5714285714286}, {\"fecha_date\": \"2024-02-18T00:00:00\", \"n_registros\": 890, \"roll7\": 888.7142857142857}, {\"fecha_date\": \"2024-02-19T00:00:00\", \"n_registros\": 890, \"roll7\": 888.8571428571429}, {\"fecha_date\": \"2024-02-20T00:00:00\", \"n_registros\": 889, \"roll7\": 889.1428571428571}, {\"fecha_date\": \"2024-02-21T00:00:00\", \"n_registros\": 890, \"roll7\": 889.5714285714286}, {\"fecha_date\": \"2024-02-22T00:00:00\", \"n_registros\": 888, \"roll7\": 889.4285714285714}, {\"fecha_date\": \"2024-02-23T00:00:00\", \"n_registros\": 889, \"roll7\": 889.1428571428571}, {\"fecha_date\": \"2024-02-24T00:00:00\", \"n_registros\": 891, \"roll7\": 888.7142857142857}, {\"fecha_date\": \"2024-02-25T00:00:00\", \"n_registros\": 889, \"roll7\": 888.5714285714286}, {\"fecha_date\": \"2024-02-26T00:00:00\", \"n_registros\": 888, \"roll7\": 888.4285714285714}, {\"fecha_date\": \"2024-02-27T00:00:00\", \"n_registros\": 886, \"roll7\": 888.2857142857143}, {\"fecha_date\": \"2024-02-28T00:00:00\", \"n_registros\": 889, \"roll7\": 888.1428571428571}, {\"fecha_date\": \"2024-02-29T00:00:00\", \"n_registros\": 887, \"roll7\": 887.8571428571429}, {\"fecha_date\": \"2024-03-01T00:00:00\", \"n_registros\": 888, \"roll7\": 888.2857142857143}, {\"fecha_date\": \"2024-03-02T00:00:00\", \"n_registros\": 890, \"roll7\": 888.8571428571429}, {\"fecha_date\": \"2024-03-03T00:00:00\", \"n_registros\": 887, \"roll7\": 889.1428571428571}, {\"fecha_date\": \"2024-03-04T00:00:00\", \"n_registros\": 891, \"roll7\": 889.4285714285714}, {\"fecha_date\": \"2024-03-05T00:00:00\", \"n_registros\": 890, \"roll7\": 889.4285714285714}, {\"fecha_date\": \"2024-03-06T00:00:00\", \"n_registros\": 891, \"roll7\": 889.0}, {\"fecha_date\": \"2024-03-07T00:00:00\", \"n_registros\": 889, \"roll7\": 889.1428571428571}, {\"fecha_date\": \"2024-03-08T00:00:00\", \"n_registros\": 888, \"roll7\": 888.2857142857143}, {\"fecha_date\": \"2024-03-09T00:00:00\", \"n_registros\": 887, \"roll7\": 888.0}, {\"fecha_date\": \"2024-03-10T00:00:00\", \"n_registros\": 888, \"roll7\": 887.2857142857143}, {\"fecha_date\": \"2024-03-11T00:00:00\", \"n_registros\": 885, \"roll7\": 887.0}, {\"fecha_date\": \"2024-03-12T00:00:00\", \"n_registros\": 888, \"roll7\": 887.1428571428571}, {\"fecha_date\": \"2024-03-13T00:00:00\", \"n_registros\": 886, \"roll7\": 887.4285714285714}, {\"fecha_date\": \"2024-03-14T00:00:00\", \"n_registros\": 887, \"roll7\": 887.4285714285714}, {\"fecha_date\": \"2024-03-15T00:00:00\", \"n_registros\": 889, \"roll7\": 887.7142857142857}, {\"fecha_date\": \"2024-03-16T00:00:00\", \"n_registros\": 889, \"roll7\": 887.1428571428571}, {\"fecha_date\": \"2024-03-17T00:00:00\", \"n_registros\": 888, \"roll7\": 887.1428571428571}, {\"fecha_date\": \"2024-03-18T00:00:00\", \"n_registros\": 887, \"roll7\": 887.0}, {\"fecha_date\": \"2024-03-19T00:00:00\", \"n_registros\": 884, \"roll7\": 886.7142857142857}, {\"fecha_date\": \"2024-03-20T00:00:00\", \"n_registros\": 886, \"roll7\": 886.5714285714286}, {\"fecha_date\": \"2024-03-21T00:00:00\", \"n_registros\": 886, \"roll7\": 886.4285714285714}, {\"fecha_date\": \"2024-03-22T00:00:00\", \"n_registros\": 887, \"roll7\": 886.2857142857143}, {\"fecha_date\": \"2024-03-23T00:00:00\", \"n_registros\": 888, \"roll7\": 886.1428571428571}, {\"fecha_date\": \"2024-03-24T00:00:00\", \"n_registros\": 887, \"roll7\": 885.4285714285714}, {\"fecha_date\": \"2024-03-25T00:00:00\", \"n_registros\": 886, \"roll7\": 884.8571428571429}, {\"fecha_date\": \"2024-03-26T00:00:00\", \"n_registros\": 883, \"roll7\": 884.0}, {\"fecha_date\": \"2024-03-27T00:00:00\", \"n_registros\": 881, \"roll7\": 882.8571428571429}, {\"fecha_date\": \"2024-03-28T00:00:00\", \"n_registros\": 882, \"roll7\": 881.8571428571429}, {\"fecha_date\": \"2024-03-29T00:00:00\", \"n_registros\": 881, \"roll7\": 881.8571428571429}, {\"fecha_date\": \"2024-03-30T00:00:00\", \"n_registros\": 880, \"roll7\": 882.8571428571429}, {\"fecha_date\": \"2024-03-31T00:00:00\", \"n_registros\": 880, \"roll7\": 884.2857142857143}, {\"fecha_date\": \"2024-04-01T00:00:00\", \"n_registros\": 886, \"roll7\": 885.7142857142857}, {\"fecha_date\": \"2024-04-02T00:00:00\", \"n_registros\": 890, \"roll7\": 887.0}, {\"fecha_date\": \"2024-04-03T00:00:00\", \"n_registros\": 891, \"roll7\": 888.5714285714286}, {\"fecha_date\": \"2024-04-04T00:00:00\", \"n_registros\": 892, \"roll7\": 889.8571428571429}, {\"fecha_date\": \"2024-04-05T00:00:00\", \"n_registros\": 890, \"roll7\": 890.4285714285714}, {\"fecha_date\": \"2024-04-06T00:00:00\", \"n_registros\": 891, \"roll7\": 890.5714285714286}, {\"fecha_date\": \"2024-04-07T00:00:00\", \"n_registros\": 889, \"roll7\": 890.5714285714286}, {\"fecha_date\": \"2024-04-08T00:00:00\", \"n_registros\": 890, \"roll7\": 891.0}, {\"fecha_date\": \"2024-04-09T00:00:00\", \"n_registros\": 891, \"roll7\": 891.7142857142857}, {\"fecha_date\": \"2024-04-10T00:00:00\", \"n_registros\": 891, \"roll7\": 892.2857142857143}, {\"fecha_date\": \"2024-04-11T00:00:00\", \"n_registros\": 895, \"roll7\": 893.0}, {\"fecha_date\": \"2024-04-12T00:00:00\", \"n_registros\": 895, \"roll7\": 893.5714285714286}, {\"fecha_date\": \"2024-04-13T00:00:00\", \"n_registros\": 895, \"roll7\": 894.0}, {\"fecha_date\": \"2024-04-14T00:00:00\", \"n_registros\": 894, \"roll7\": 894.4285714285714}, {\"fecha_date\": \"2024-04-15T00:00:00\", \"n_registros\": 894, \"roll7\": 894.0}, {\"fecha_date\": \"2024-04-16T00:00:00\", \"n_registros\": 894, \"roll7\": 893.7142857142857}, {\"fecha_date\": \"2024-04-17T00:00:00\", \"n_registros\": 894, \"roll7\": 893.2857142857143}, {\"fecha_date\": \"2024-04-18T00:00:00\", \"n_registros\": 892, \"roll7\": 892.8571428571429}, {\"fecha_date\": \"2024-04-19T00:00:00\", \"n_registros\": 893, \"roll7\": 892.5714285714286}, {\"fecha_date\": \"2024-04-20T00:00:00\", \"n_registros\": 892, \"roll7\": 892.2857142857143}, {\"fecha_date\": \"2024-04-21T00:00:00\", \"n_registros\": 891, \"roll7\": 891.8571428571429}, {\"fecha_date\": \"2024-04-22T00:00:00\", \"n_registros\": 892, \"roll7\": 891.7142857142857}, {\"fecha_date\": \"2024-04-23T00:00:00\", \"n_registros\": 892, \"roll7\": 891.4285714285714}, {\"fecha_date\": \"2024-04-24T00:00:00\", \"n_registros\": 891, \"roll7\": 890.1428571428571}, {\"fecha_date\": \"2024-04-25T00:00:00\", \"n_registros\": 891, \"roll7\": 889.4285714285714}, {\"fecha_date\": \"2024-04-26T00:00:00\", \"n_registros\": 891, \"roll7\": 888.7142857142857}, {\"fecha_date\": \"2024-04-27T00:00:00\", \"n_registros\": 883, \"roll7\": 888.2857142857143}, {\"fecha_date\": \"2024-04-28T00:00:00\", \"n_registros\": 886, \"roll7\": 887.7142857142857}, {\"fecha_date\": \"2024-04-29T00:00:00\", \"n_registros\": 887, \"roll7\": 886.8571428571429}, {\"fecha_date\": \"2024-04-30T00:00:00\", \"n_registros\": 889, \"roll7\": 885.4285714285714}, {\"fecha_date\": \"2024-05-01T00:00:00\", \"n_registros\": 887, \"roll7\": 885.7142857142857}, {\"fecha_date\": \"2024-05-02T00:00:00\", \"n_registros\": 885, \"roll7\": 885.7142857142857}, {\"fecha_date\": \"2024-05-03T00:00:00\", \"n_registros\": 881, \"roll7\": 884.8571428571429}, {\"fecha_date\": \"2024-05-04T00:00:00\", \"n_registros\": 885, \"roll7\": 884.2857142857143}, {\"fecha_date\": \"2024-05-05T00:00:00\", \"n_registros\": 886, \"roll7\": 884.4285714285714}, {\"fecha_date\": \"2024-05-06T00:00:00\", \"n_registros\": 881, \"roll7\": 884.8571428571429}, {\"fecha_date\": \"2024-05-07T00:00:00\", \"n_registros\": 885, \"roll7\": 885.7142857142857}, {\"fecha_date\": \"2024-05-08T00:00:00\", \"n_registros\": 888, \"roll7\": 885.8571428571429}, {\"fecha_date\": \"2024-05-09T00:00:00\", \"n_registros\": 888, \"roll7\": 885.8571428571429}, {\"fecha_date\": \"2024-05-10T00:00:00\", \"n_registros\": 887, \"roll7\": 886.4285714285714}, {\"fecha_date\": \"2024-05-11T00:00:00\", \"n_registros\": 886, \"roll7\": 886.5714285714286}, {\"fecha_date\": \"2024-05-12T00:00:00\", \"n_registros\": 886, \"roll7\": 886.2857142857143}, {\"fecha_date\": \"2024-05-13T00:00:00\", \"n_registros\": 885, \"roll7\": 885.8571428571429}, {\"fecha_date\": \"2024-05-14T00:00:00\", \"n_registros\": 886, \"roll7\": 885.1428571428571}, {\"fecha_date\": \"2024-05-15T00:00:00\", \"n_registros\": 886, \"roll7\": 884.5714285714286}, {\"fecha_date\": \"2024-05-16T00:00:00\", \"n_registros\": 885, \"roll7\": 883.0}, {\"fecha_date\": \"2024-05-17T00:00:00\", \"n_registros\": 882, \"roll7\": 882.4285714285714}, {\"fecha_date\": \"2024-05-18T00:00:00\", \"n_registros\": 882, \"roll7\": 881.5714285714286}, {\"fecha_date\": \"2024-05-19T00:00:00\", \"n_registros\": 875, \"roll7\": 881.0}, {\"fecha_date\": \"2024-05-20T00:00:00\", \"n_registros\": 881, \"roll7\": 881.0}, {\"fecha_date\": \"2024-05-21T00:00:00\", \"n_registros\": 880, \"roll7\": 881.7142857142857}, {\"fecha_date\": \"2024-05-22T00:00:00\", \"n_registros\": 882, \"roll7\": 882.2857142857143}, {\"fecha_date\": \"2024-05-23T00:00:00\", \"n_registros\": 885, \"roll7\": 884.0}, {\"fecha_date\": \"2024-05-24T00:00:00\", \"n_registros\": 887, \"roll7\": 884.5714285714286}, {\"fecha_date\": \"2024-05-25T00:00:00\", \"n_registros\": 886, \"roll7\": 884.8571428571429}, {\"fecha_date\": \"2024-05-26T00:00:00\", \"n_registros\": 887, \"roll7\": 885.2857142857143}, {\"fecha_date\": \"2024-05-27T00:00:00\", \"n_registros\": 885, \"roll7\": 885.4285714285714}, {\"fecha_date\": \"2024-05-28T00:00:00\", \"n_registros\": 882, \"roll7\": 885.5714285714286}, {\"fecha_date\": \"2024-05-29T00:00:00\", \"n_registros\": 885, \"roll7\": 885.5714285714286}, {\"fecha_date\": \"2024-05-30T00:00:00\", \"n_registros\": 886, \"roll7\": 885.4285714285714}, {\"fecha_date\": \"2024-05-31T00:00:00\", \"n_registros\": 888, \"roll7\": 885.5714285714286}, {\"fecha_date\": \"2024-06-01T00:00:00\", \"n_registros\": 886, \"roll7\": 886.0}, {\"fecha_date\": \"2024-06-02T00:00:00\", \"n_registros\": 886, \"roll7\": 886.5714285714286}, {\"fecha_date\": \"2024-06-03T00:00:00\", \"n_registros\": 886, \"roll7\": 886.7142857142857}, {\"fecha_date\": \"2024-06-04T00:00:00\", \"n_registros\": 885, \"roll7\": 886.0}, {\"fecha_date\": \"2024-06-05T00:00:00\", \"n_registros\": 889, \"roll7\": 885.5714285714286}, {\"fecha_date\": \"2024-06-06T00:00:00\", \"n_registros\": 887, \"roll7\": 885.1428571428571}, {\"fecha_date\": \"2024-06-07T00:00:00\", \"n_registros\": 883, \"roll7\": 884.2857142857143}, {\"fecha_date\": \"2024-06-08T00:00:00\", \"n_registros\": 883, \"roll7\": 884.4285714285714}, {\"fecha_date\": \"2024-06-09T00:00:00\", \"n_registros\": 883, \"roll7\": 884.0}, {\"fecha_date\": \"2024-06-10T00:00:00\", \"n_registros\": 880, \"roll7\": 883.5714285714286}, {\"fecha_date\": \"2024-06-11T00:00:00\", \"n_registros\": 886, \"roll7\": 884.0}, {\"fecha_date\": \"2024-06-12T00:00:00\", \"n_registros\": 886, \"roll7\": 884.5714285714286}, {\"fecha_date\": \"2024-06-13T00:00:00\", \"n_registros\": 884, \"roll7\": 885.0}, {\"fecha_date\": \"2024-06-14T00:00:00\", \"n_registros\": 886, \"roll7\": 885.5714285714286}, {\"fecha_date\": \"2024-06-15T00:00:00\", \"n_registros\": 887, \"roll7\": 885.4285714285714}, {\"fecha_date\": \"2024-06-16T00:00:00\", \"n_registros\": 886, \"roll7\": 884.5714285714286}, {\"fecha_date\": \"2024-06-17T00:00:00\", \"n_registros\": 884, \"roll7\": 884.0}, {\"fecha_date\": \"2024-06-18T00:00:00\", \"n_registros\": 885, \"roll7\": 883.7142857142857}, {\"fecha_date\": \"2024-06-19T00:00:00\", \"n_registros\": 880, \"roll7\": 883.1428571428571}, {\"fecha_date\": \"2024-06-20T00:00:00\", \"n_registros\": 880, \"roll7\": 882.7142857142857}, {\"fecha_date\": \"2024-06-21T00:00:00\", \"n_registros\": 884, \"roll7\": 883.0}, {\"fecha_date\": \"2024-06-22T00:00:00\", \"n_registros\": 883, \"roll7\": 882.8571428571429}, {\"fecha_date\": \"2024-06-23T00:00:00\", \"n_registros\": 883, \"roll7\": 883.4285714285714}, {\"fecha_date\": \"2024-06-24T00:00:00\", \"n_registros\": 886, \"roll7\": 883.7142857142857}, {\"fecha_date\": \"2024-06-25T00:00:00\", \"n_registros\": 884, \"roll7\": 883.1428571428571}, {\"fecha_date\": \"2024-06-26T00:00:00\", \"n_registros\": 884, \"roll7\": 882.1428571428571}, {\"fecha_date\": \"2024-06-27T00:00:00\", \"n_registros\": 882, \"roll7\": 881.1428571428571}, {\"fecha_date\": \"2024-06-28T00:00:00\", \"n_registros\": 880, \"roll7\": 880.2857142857143}, {\"fecha_date\": \"2024-06-29T00:00:00\", \"n_registros\": 876, \"roll7\": 879.0}, {\"fecha_date\": \"2024-06-30T00:00:00\", \"n_registros\": 876, \"roll7\": 878.2857142857143}, {\"fecha_date\": \"2024-07-01T00:00:00\", \"n_registros\": 880, \"roll7\": 878.0}, {\"fecha_date\": \"2024-07-02T00:00:00\", \"n_registros\": 875, \"roll7\": 878.0}, {\"fecha_date\": \"2024-07-03T00:00:00\", \"n_registros\": 879, \"roll7\": 878.1428571428571}, {\"fecha_date\": \"2024-07-04T00:00:00\", \"n_registros\": 880, \"roll7\": 878.7142857142857}, {\"fecha_date\": \"2024-07-05T00:00:00\", \"n_registros\": 880, \"roll7\": 878.7142857142857}, {\"fecha_date\": \"2024-07-06T00:00:00\", \"n_registros\": 877, \"roll7\": 879.2857142857143}, {\"fecha_date\": \"2024-07-07T00:00:00\", \"n_registros\": 880, \"roll7\": 879.8571428571429}, {\"fecha_date\": \"2024-07-08T00:00:00\", \"n_registros\": 880, \"roll7\": 880.4285714285714}, {\"fecha_date\": \"2024-07-09T00:00:00\", \"n_registros\": 879, \"roll7\": 881.0}, {\"fecha_date\": \"2024-07-10T00:00:00\", \"n_registros\": 883, \"roll7\": 881.8571428571429}, {\"fecha_date\": \"2024-07-11T00:00:00\", \"n_registros\": 884, \"roll7\": 882.1428571428571}, {\"fecha_date\": \"2024-07-12T00:00:00\", \"n_registros\": 884, \"roll7\": 882.4285714285714}, {\"fecha_date\": \"2024-07-13T00:00:00\", \"n_registros\": 883, \"roll7\": 883.0}, {\"fecha_date\": \"2024-07-14T00:00:00\", \"n_registros\": 882, \"roll7\": 882.8571428571429}, {\"fecha_date\": \"2024-07-15T00:00:00\", \"n_registros\": 882, \"roll7\": 882.7142857142857}, {\"fecha_date\": \"2024-07-16T00:00:00\", \"n_registros\": 883, \"roll7\": 882.7142857142857}, {\"fecha_date\": \"2024-07-17T00:00:00\", \"n_registros\": 882, \"roll7\": 882.8571428571429}, {\"fecha_date\": \"2024-07-18T00:00:00\", \"n_registros\": 883, \"roll7\": 883.1428571428571}, {\"fecha_date\": \"2024-07-19T00:00:00\", \"n_registros\": 884, \"roll7\": 883.4285714285714}, {\"fecha_date\": \"2024-07-20T00:00:00\", \"n_registros\": 884, \"roll7\": 883.4285714285714}, {\"fecha_date\": \"2024-07-21T00:00:00\", \"n_registros\": 884, \"roll7\": 884.0}, {\"fecha_date\": \"2024-07-22T00:00:00\", \"n_registros\": 884, \"roll7\": 884.2857142857143}, {\"fecha_date\": \"2024-07-23T00:00:00\", \"n_registros\": 883, \"roll7\": 884.4285714285714}, {\"fecha_date\": \"2024-07-24T00:00:00\", \"n_registros\": 886, \"roll7\": 884.4285714285714}, {\"fecha_date\": \"2024-07-25T00:00:00\", \"n_registros\": 885, \"roll7\": 884.1428571428571}, {\"fecha_date\": \"2024-07-26T00:00:00\", \"n_registros\": 885, \"roll7\": 883.1428571428571}, {\"fecha_date\": \"2024-07-27T00:00:00\", \"n_registros\": 884, \"roll7\": 882.4285714285714}, {\"fecha_date\": \"2024-07-28T00:00:00\", \"n_registros\": 882, \"roll7\": 881.8571428571429}, {\"fecha_date\": \"2024-07-29T00:00:00\", \"n_registros\": 877, \"roll7\": 882.0}, {\"fecha_date\": \"2024-07-30T00:00:00\", \"n_registros\": 878, \"roll7\": 881.8571428571429}, {\"fecha_date\": \"2024-07-31T00:00:00\", \"n_registros\": 882, \"roll7\": 881.8571428571429}, {\"fecha_date\": \"2024-08-01T00:00:00\", \"n_registros\": 886, \"roll7\": 882.1428571428571}, {\"fecha_date\": \"2024-08-02T00:00:00\", \"n_registros\": 884, \"roll7\": 883.0}, {\"fecha_date\": \"2024-08-03T00:00:00\", \"n_registros\": 884, \"roll7\": 883.7142857142857}, {\"fecha_date\": \"2024-08-04T00:00:00\", \"n_registros\": 884, \"roll7\": 883.7142857142857}, {\"fecha_date\": \"2024-08-05T00:00:00\", \"n_registros\": 883, \"roll7\": 883.5714285714286}, {\"fecha_date\": \"2024-08-06T00:00:00\", \"n_registros\": 883, \"roll7\": 883.8571428571429}, {\"fecha_date\": \"2024-08-07T00:00:00\", \"n_registros\": 882, \"roll7\": 884.0}, {\"fecha_date\": \"2024-08-08T00:00:00\", \"n_registros\": 885, \"roll7\": 884.1428571428571}, {\"fecha_date\": \"2024-08-09T00:00:00\", \"n_registros\": 886, \"roll7\": 883.8571428571429}, {\"fecha_date\": \"2024-08-10T00:00:00\", \"n_registros\": 885, \"roll7\": 883.2857142857143}, {\"fecha_date\": \"2024-08-11T00:00:00\", \"n_registros\": 885, \"roll7\": 882.8571428571429}, {\"fecha_date\": \"2024-08-12T00:00:00\", \"n_registros\": 881, \"roll7\": 881.8571428571429}, {\"fecha_date\": \"2024-08-13T00:00:00\", \"n_registros\": 879, \"roll7\": 880.7142857142857}, {\"fecha_date\": \"2024-08-14T00:00:00\", \"n_registros\": 879, \"roll7\": 880.1428571428571}, {\"fecha_date\": \"2024-08-15T00:00:00\", \"n_registros\": 878, \"roll7\": 879.5714285714286}, {\"fecha_date\": \"2024-08-16T00:00:00\", \"n_registros\": 878, \"roll7\": 879.5714285714286}, {\"fecha_date\": \"2024-08-17T00:00:00\", \"n_registros\": 881, \"roll7\": 879.5714285714286}, {\"fecha_date\": \"2024-08-18T00:00:00\", \"n_registros\": 881, \"roll7\": 879.5714285714286}, {\"fecha_date\": \"2024-08-19T00:00:00\", \"n_registros\": 881, \"roll7\": 880.0}, {\"fecha_date\": \"2024-08-20T00:00:00\", \"n_registros\": 879, \"roll7\": 879.5714285714286}, {\"fecha_date\": \"2024-08-21T00:00:00\", \"n_registros\": 879, \"roll7\": 878.8571428571429}, {\"fecha_date\": \"2024-08-22T00:00:00\", \"n_registros\": 881, \"roll7\": 878.0}, {\"fecha_date\": \"2024-08-23T00:00:00\", \"n_registros\": 875, \"roll7\": 877.1428571428571}, {\"fecha_date\": \"2024-08-24T00:00:00\", \"n_registros\": 876, \"roll7\": 876.8571428571429}, {\"fecha_date\": \"2024-08-25T00:00:00\", \"n_registros\": 875, \"roll7\": 876.5714285714286}, {\"fecha_date\": \"2024-08-26T00:00:00\", \"n_registros\": 875, \"roll7\": 875.2857142857143}, {\"fecha_date\": \"2024-08-27T00:00:00\", \"n_registros\": 877, \"roll7\": 875.2857142857143}, {\"fecha_date\": \"2024-08-28T00:00:00\", \"n_registros\": 877, \"roll7\": 875.0}, {\"fecha_date\": \"2024-08-29T00:00:00\", \"n_registros\": 872, \"roll7\": 875.5714285714286}, {\"fecha_date\": \"2024-08-30T00:00:00\", \"n_registros\": 875, \"roll7\": 876.2857142857143}, {\"fecha_date\": \"2024-08-31T00:00:00\", \"n_registros\": 874, \"roll7\": 876.5714285714286}, {\"fecha_date\": \"2024-09-01T00:00:00\", \"n_registros\": 879, \"roll7\": 876.7142857142857}, {\"fecha_date\": \"2024-09-02T00:00:00\", \"n_registros\": 880, \"roll7\": 877.7142857142857}, {\"fecha_date\": \"2024-09-03T00:00:00\", \"n_registros\": 879, \"roll7\": 878.5714285714286}, {\"fecha_date\": \"2024-09-04T00:00:00\", \"n_registros\": 878, \"roll7\": 879.5714285714286}, {\"fecha_date\": \"2024-09-05T00:00:00\", \"n_registros\": 879, \"roll7\": 879.5714285714286}, {\"fecha_date\": \"2024-09-06T00:00:00\", \"n_registros\": 881, \"roll7\": 879.4285714285714}, {\"fecha_date\": \"2024-09-07T00:00:00\", \"n_registros\": 881, \"roll7\": 879.4285714285714}, {\"fecha_date\": \"2024-09-08T00:00:00\", \"n_registros\": 879, \"roll7\": 879.8571428571429}, {\"fecha_date\": \"2024-09-09T00:00:00\", \"n_registros\": 879, \"roll7\": 880.1428571428571}, {\"fecha_date\": \"2024-09-10T00:00:00\", \"n_registros\": 879, \"roll7\": 880.2857142857143}, {\"fecha_date\": \"2024-09-11T00:00:00\", \"n_registros\": 881, \"roll7\": 880.2857142857143}, {\"fecha_date\": \"2024-09-12T00:00:00\", \"n_registros\": 881, \"roll7\": 880.4285714285714}, {\"fecha_date\": \"2024-09-13T00:00:00\", \"n_registros\": 882, \"roll7\": 880.5714285714286}, {\"fecha_date\": \"2024-09-14T00:00:00\", \"n_registros\": 881, \"roll7\": 881.0}, {\"fecha_date\": \"2024-09-15T00:00:00\", \"n_registros\": 880, \"roll7\": 881.1428571428571}, {\"fecha_date\": \"2024-09-16T00:00:00\", \"n_registros\": 880, \"roll7\": 881.2857142857143}, {\"fecha_date\": \"2024-09-17T00:00:00\", \"n_registros\": 882, \"roll7\": 881.5714285714286}, {\"fecha_date\": \"2024-09-18T00:00:00\", \"n_registros\": 882, \"roll7\": 881.8571428571429}, {\"fecha_date\": \"2024-09-19T00:00:00\", \"n_registros\": 882, \"roll7\": 882.7142857142857}, {\"fecha_date\": \"2024-09-20T00:00:00\", \"n_registros\": 884, \"roll7\": 883.1428571428571}, {\"fecha_date\": \"2024-09-21T00:00:00\", \"n_registros\": 883, \"roll7\": 883.5714285714286}, {\"fecha_date\": \"2024-09-22T00:00:00\", \"n_registros\": 886, \"roll7\": 884.1428571428571}, {\"fecha_date\": \"2024-09-23T00:00:00\", \"n_registros\": 883, \"roll7\": 885.0}, {\"fecha_date\": \"2024-09-24T00:00:00\", \"n_registros\": 885, \"roll7\": 885.4285714285714}, {\"fecha_date\": \"2024-09-25T00:00:00\", \"n_registros\": 886, \"roll7\": 886.0}, {\"fecha_date\": \"2024-09-26T00:00:00\", \"n_registros\": 888, \"roll7\": 886.2857142857143}, {\"fecha_date\": \"2024-09-27T00:00:00\", \"n_registros\": 887, \"roll7\": 887.0}, {\"fecha_date\": \"2024-09-28T00:00:00\", \"n_registros\": 887, \"roll7\": 887.2857142857143}, {\"fecha_date\": \"2024-09-29T00:00:00\", \"n_registros\": 888, \"roll7\": 887.2857142857143}, {\"fecha_date\": \"2024-09-30T00:00:00\", \"n_registros\": 888, \"roll7\": 886.8571428571429}, {\"fecha_date\": \"2024-10-01T00:00:00\", \"n_registros\": 887, \"roll7\": 886.8571428571429}, {\"fecha_date\": \"2024-10-02T00:00:00\", \"n_registros\": 886, \"roll7\": 886.8571428571429}, {\"fecha_date\": \"2024-10-03T00:00:00\", \"n_registros\": 885, \"roll7\": 886.8571428571429}, {\"fecha_date\": \"2024-10-04T00:00:00\", \"n_registros\": 887, \"roll7\": 886.1428571428571}, {\"fecha_date\": \"2024-10-05T00:00:00\", \"n_registros\": 887, \"roll7\": 885.7142857142857}, {\"fecha_date\": \"2024-10-06T00:00:00\", \"n_registros\": 888, \"roll7\": 885.2857142857143}, {\"fecha_date\": \"2024-10-07T00:00:00\", \"n_registros\": 883, \"roll7\": 884.7142857142857}, {\"fecha_date\": \"2024-10-08T00:00:00\", \"n_registros\": 884, \"roll7\": 883.8571428571429}, {\"fecha_date\": \"2024-10-09T00:00:00\", \"n_registros\": 883, \"roll7\": 883.2857142857143}, {\"fecha_date\": \"2024-10-10T00:00:00\", \"n_registros\": 881, \"roll7\": 882.5714285714286}, {\"fecha_date\": \"2024-10-11T00:00:00\", \"n_registros\": 881, \"roll7\": 882.4285714285714}, {\"fecha_date\": \"2024-10-12T00:00:00\", \"n_registros\": 883, \"roll7\": 882.2857142857143}, {\"fecha_date\": \"2024-10-13T00:00:00\", \"n_registros\": 883, \"roll7\": 882.0}, {\"fecha_date\": \"2024-10-14T00:00:00\", \"n_registros\": 882, \"roll7\": 882.1428571428571}, {\"fecha_date\": \"2024-10-15T00:00:00\", \"n_registros\": 883, \"roll7\": 882.5714285714286}, {\"fecha_date\": \"2024-10-16T00:00:00\", \"n_registros\": 881, \"roll7\": 882.7142857142857}, {\"fecha_date\": \"2024-10-17T00:00:00\", \"n_registros\": 882, \"roll7\": 882.8571428571429}, {\"fecha_date\": \"2024-10-18T00:00:00\", \"n_registros\": 884, \"roll7\": 882.7142857142857}, {\"fecha_date\": \"2024-10-19T00:00:00\", \"n_registros\": 884, \"roll7\": 882.4285714285714}, {\"fecha_date\": \"2024-10-20T00:00:00\", \"n_registros\": 884, \"roll7\": 882.7142857142857}, {\"fecha_date\": \"2024-10-21T00:00:00\", \"n_registros\": 881, \"roll7\": 882.8571428571429}, {\"fecha_date\": \"2024-10-22T00:00:00\", \"n_registros\": 881, \"roll7\": 882.7142857142857}, {\"fecha_date\": \"2024-10-23T00:00:00\", \"n_registros\": 883, \"roll7\": 882.8571428571429}, {\"fecha_date\": \"2024-10-24T00:00:00\", \"n_registros\": 883, \"roll7\": 882.8571428571429}, {\"fecha_date\": \"2024-10-25T00:00:00\", \"n_registros\": 883, \"roll7\": 883.2857142857143}, {\"fecha_date\": \"2024-10-26T00:00:00\", \"n_registros\": 885, \"roll7\": 883.0}, {\"fecha_date\": \"2024-10-27T00:00:00\", \"n_registros\": 884, \"roll7\": 882.7142857142857}, {\"fecha_date\": \"2024-10-28T00:00:00\", \"n_registros\": 884, \"roll7\": 882.5714285714286}, {\"fecha_date\": \"2024-10-29T00:00:00\", \"n_registros\": 879, \"roll7\": 882.4285714285714}, {\"fecha_date\": \"2024-10-30T00:00:00\", \"n_registros\": 881, \"roll7\": 881.8571428571429}, {\"fecha_date\": \"2024-10-31T00:00:00\", \"n_registros\": 882, \"roll7\": 881.7142857142857}, {\"fecha_date\": \"2024-11-01T00:00:00\", \"n_registros\": 882, \"roll7\": 881.5714285714286}, {\"fecha_date\": \"2024-11-02T00:00:00\", \"n_registros\": 881, \"roll7\": 881.7142857142857}, {\"fecha_date\": \"2024-11-03T00:00:00\", \"n_registros\": 883, \"roll7\": 882.0}, {\"fecha_date\": \"2024-11-04T00:00:00\", \"n_registros\": 883, \"roll7\": 881.7142857142857}, {\"fecha_date\": \"2024-11-05T00:00:00\", \"n_registros\": 880, \"roll7\": 882.0}, {\"fecha_date\": \"2024-11-06T00:00:00\", \"n_registros\": 883, \"roll7\": 882.7142857142857}, {\"fecha_date\": \"2024-11-07T00:00:00\", \"n_registros\": 880, \"roll7\": 883.1428571428571}, {\"fecha_date\": \"2024-11-08T00:00:00\", \"n_registros\": 884, \"roll7\": 883.2857142857143}, {\"fecha_date\": \"2024-11-09T00:00:00\", \"n_registros\": 886, \"roll7\": 884.0}, {\"fecha_date\": \"2024-11-10T00:00:00\", \"n_registros\": 886, \"roll7\": 884.1428571428571}, {\"fecha_date\": \"2024-11-11T00:00:00\", \"n_registros\": 884, \"roll7\": 884.8571428571429}, {\"fecha_date\": \"2024-11-12T00:00:00\", \"n_registros\": 885, \"roll7\": 885.0}, {\"fecha_date\": \"2024-11-13T00:00:00\", \"n_registros\": 884, \"roll7\": 885.0}, {\"fecha_date\": \"2024-11-14T00:00:00\", \"n_registros\": 885, \"roll7\": 885.0}, {\"fecha_date\": \"2024-11-15T00:00:00\", \"n_registros\": 885, \"roll7\": 885.0}, {\"fecha_date\": \"2024-11-16T00:00:00\", \"n_registros\": 886, \"roll7\": 884.7142857142857}, {\"fecha_date\": \"2024-11-17T00:00:00\", \"n_registros\": 886, \"roll7\": 884.5714285714286}, {\"fecha_date\": \"2024-11-18T00:00:00\", \"n_registros\": 884, \"roll7\": 884.7142857142857}, {\"fecha_date\": \"2024-11-19T00:00:00\", \"n_registros\": 883, \"roll7\": 884.5714285714286}, {\"fecha_date\": \"2024-11-20T00:00:00\", \"n_registros\": 883, \"roll7\": 884.0}, {\"fecha_date\": \"2024-11-21T00:00:00\", \"n_registros\": 886, \"roll7\": 883.7142857142857}, {\"fecha_date\": \"2024-11-22T00:00:00\", \"n_registros\": 884, \"roll7\": 883.7142857142857}, {\"fecha_date\": \"2024-11-23T00:00:00\", \"n_registros\": 882, \"roll7\": 883.8571428571429}, {\"fecha_date\": \"2024-11-24T00:00:00\", \"n_registros\": 884, \"roll7\": 884.1428571428571}, {\"fecha_date\": \"2024-11-25T00:00:00\", \"n_registros\": 884, \"roll7\": 883.8571428571429}, {\"fecha_date\": \"2024-11-26T00:00:00\", \"n_registros\": 884, \"roll7\": 884.1428571428571}, {\"fecha_date\": \"2024-11-27T00:00:00\", \"n_registros\": 885, \"roll7\": 884.4285714285714}, {\"fecha_date\": \"2024-11-28T00:00:00\", \"n_registros\": 884, \"roll7\": 884.4285714285714}, {\"fecha_date\": \"2024-11-29T00:00:00\", \"n_registros\": 886, \"roll7\": 884.5714285714286}, {\"fecha_date\": \"2024-11-30T00:00:00\", \"n_registros\": 884, \"roll7\": 884.5714285714286}, {\"fecha_date\": \"2024-12-01T00:00:00\", \"n_registros\": 884, \"roll7\": 884.4285714285714}, {\"fecha_date\": \"2024-12-02T00:00:00\", \"n_registros\": 885, \"roll7\": 884.2857142857143}, {\"fecha_date\": \"2024-12-03T00:00:00\", \"n_registros\": 884, \"roll7\": 883.7142857142857}, {\"fecha_date\": \"2024-12-04T00:00:00\", \"n_registros\": 884, \"roll7\": 883.5714285714286}, {\"fecha_date\": \"2024-12-05T00:00:00\", \"n_registros\": 883, \"roll7\": 883.1428571428571}, {\"fecha_date\": \"2024-12-06T00:00:00\", \"n_registros\": 882, \"roll7\": 882.0}, {\"fecha_date\": \"2024-12-07T00:00:00\", \"n_registros\": 883, \"roll7\": 881.4285714285714}, {\"fecha_date\": \"2024-12-08T00:00:00\", \"n_registros\": 881, \"roll7\": 880.8571428571429}, {\"fecha_date\": \"2024-12-09T00:00:00\", \"n_registros\": 877, \"roll7\": 879.8571428571429}, {\"fecha_date\": \"2024-12-10T00:00:00\", \"n_registros\": 880, \"roll7\": 879.0}, {\"fecha_date\": \"2024-12-11T00:00:00\", \"n_registros\": 880, \"roll7\": 878.2857142857143}, {\"fecha_date\": \"2024-12-12T00:00:00\", \"n_registros\": 876, \"roll7\": 878.2857142857143}, {\"fecha_date\": \"2024-12-13T00:00:00\", \"n_registros\": 876, \"roll7\": 878.8571428571429}, {\"fecha_date\": \"2024-12-14T00:00:00\", \"n_registros\": 878, \"roll7\": 879.2857142857143}, {\"fecha_date\": \"2024-12-15T00:00:00\", \"n_registros\": 881, \"roll7\": 879.8571428571429}, {\"fecha_date\": \"2024-12-16T00:00:00\", \"n_registros\": 881, \"roll7\": 880.8571428571429}, {\"fecha_date\": \"2024-12-17T00:00:00\", \"n_registros\": 883, \"roll7\": 882.1428571428571}, {\"fecha_date\": \"2024-12-18T00:00:00\", \"n_registros\": 884, \"roll7\": 883.1428571428571}, {\"fecha_date\": \"2024-12-19T00:00:00\", \"n_registros\": 883, \"roll7\": 883.5714285714286}, {\"fecha_date\": \"2024-12-20T00:00:00\", \"n_registros\": 885, \"roll7\": 883.7142857142857}, {\"fecha_date\": \"2024-12-21T00:00:00\", \"n_registros\": 885, \"roll7\": 883.4285714285714}, {\"fecha_date\": \"2024-12-22T00:00:00\", \"n_registros\": 884, \"roll7\": 883.0}, {\"fecha_date\": \"2024-12-23T00:00:00\", \"n_registros\": 882, \"roll7\": 882.5714285714286}, {\"fecha_date\": \"2024-12-24T00:00:00\", \"n_registros\": 881, \"roll7\": 881.7142857142857}, {\"fecha_date\": \"2024-12-25T00:00:00\", \"n_registros\": 881, \"roll7\": 881.1428571428571}, {\"fecha_date\": \"2024-12-26T00:00:00\", \"n_registros\": 880, \"roll7\": 880.7142857142857}, {\"fecha_date\": \"2024-12-27T00:00:00\", \"n_registros\": 879, \"roll7\": 880.0}, {\"fecha_date\": \"2024-12-28T00:00:00\", \"n_registros\": 881, \"roll7\": 879.4285714285714}, {\"fecha_date\": \"2024-12-29T00:00:00\", \"n_registros\": 881, \"roll7\": 879.1428571428571}, {\"fecha_date\": \"2024-12-30T00:00:00\", \"n_registros\": 877, \"roll7\": 878.7142857142857}, {\"fecha_date\": \"2024-12-31T00:00:00\", \"n_registros\": 877, \"roll7\": 879.0}, {\"fecha_date\": \"2025-01-01T00:00:00\", \"n_registros\": 879, \"roll7\": 879.0}, {\"fecha_date\": \"2025-01-02T00:00:00\", \"n_registros\": 877, \"roll7\": 878.7142857142857}, {\"fecha_date\": \"2025-01-03T00:00:00\", \"n_registros\": 881, \"roll7\": 879.0}, {\"fecha_date\": \"2025-01-04T00:00:00\", \"n_registros\": 881, \"roll7\": 879.2857142857143}, {\"fecha_date\": \"2025-01-05T00:00:00\", \"n_registros\": 879, \"roll7\": 879.4285714285714}, {\"fecha_date\": \"2025-01-06T00:00:00\", \"n_registros\": 879, \"roll7\": 880.4285714285714}, {\"fecha_date\": \"2025-01-07T00:00:00\", \"n_registros\": 879, \"roll7\": 880.5714285714286}, {\"fecha_date\": \"2025-01-08T00:00:00\", \"n_registros\": 880, \"roll7\": 881.0}, {\"fecha_date\": \"2025-01-09T00:00:00\", \"n_registros\": 884, \"roll7\": 881.7142857142857}, {\"fecha_date\": \"2025-01-10T00:00:00\", \"n_registros\": 882, \"roll7\": 882.2857142857143}, {\"fecha_date\": \"2025-01-11T00:00:00\", \"n_registros\": 884, \"roll7\": 883.2857142857143}, {\"fecha_date\": \"2025-01-12T00:00:00\", \"n_registros\": 884, \"roll7\": 884.4285714285714}, {\"fecha_date\": \"2025-01-13T00:00:00\", \"n_registros\": 883, \"roll7\": 884.7142857142857}, {\"fecha_date\": \"2025-01-14T00:00:00\", \"n_registros\": 886, \"roll7\": 885.0}, {\"fecha_date\": \"2025-01-15T00:00:00\", \"n_registros\": 888, \"roll7\": 885.1428571428571}, {\"fecha_date\": \"2025-01-16T00:00:00\", \"n_registros\": 886, \"roll7\": 885.4285714285714}, {\"fecha_date\": \"2025-01-17T00:00:00\", \"n_registros\": 884, \"roll7\": 885.8571428571429}, {\"fecha_date\": \"2025-01-18T00:00:00\", \"n_registros\": 885, \"roll7\": 885.7142857142857}, {\"fecha_date\": \"2025-01-19T00:00:00\", \"n_registros\": 886, \"roll7\": 885.4285714285714}, {\"fecha_date\": \"2025-01-20T00:00:00\", \"n_registros\": 886, \"roll7\": 884.8571428571429}, {\"fecha_date\": \"2025-01-21T00:00:00\", \"n_registros\": 885, \"roll7\": 885.0}, {\"fecha_date\": \"2025-01-22T00:00:00\", \"n_registros\": 886, \"roll7\": 885.2857142857143}, {\"fecha_date\": \"2025-01-23T00:00:00\", \"n_registros\": 882, \"roll7\": 885.1428571428571}, {\"fecha_date\": \"2025-01-24T00:00:00\", \"n_registros\": 885, \"roll7\": 885.0}, {\"fecha_date\": \"2025-01-25T00:00:00\", \"n_registros\": 887, \"roll7\": 885.0}, {\"fecha_date\": \"2025-01-26T00:00:00\", \"n_registros\": 885, \"roll7\": 884.7142857142857}, {\"fecha_date\": \"2025-01-27T00:00:00\", \"n_registros\": 885, \"roll7\": 884.8571428571429}, {\"fecha_date\": \"2025-01-28T00:00:00\", \"n_registros\": 885, \"roll7\": 884.7142857142857}, {\"fecha_date\": \"2025-01-29T00:00:00\", \"n_registros\": 884, \"roll7\": 884.4285714285714}, {\"fecha_date\": \"2025-01-30T00:00:00\", \"n_registros\": 883, \"roll7\": 884.1428571428571}, {\"fecha_date\": \"2025-01-31T00:00:00\", \"n_registros\": 884, \"roll7\": 884.1428571428571}, {\"fecha_date\": \"2025-02-01T00:00:00\", \"n_registros\": 885, \"roll7\": 884.4285714285714}, {\"fecha_date\": \"2025-02-02T00:00:00\", \"n_registros\": 883, \"roll7\": 884.7142857142857}, {\"fecha_date\": \"2025-02-03T00:00:00\", \"n_registros\": 885, \"roll7\": 884.7142857142857}, {\"fecha_date\": \"2025-02-04T00:00:00\", \"n_registros\": 887, \"roll7\": 885.0}, {\"fecha_date\": \"2025-02-05T00:00:00\", \"n_registros\": 886, \"roll7\": 885.1428571428571}, {\"fecha_date\": \"2025-02-06T00:00:00\", \"n_registros\": 883, \"roll7\": 885.4285714285714}, {\"fecha_date\": \"2025-02-07T00:00:00\", \"n_registros\": 886, \"roll7\": 885.4285714285714}, {\"fecha_date\": \"2025-02-08T00:00:00\", \"n_registros\": 886, \"roll7\": 885.2857142857143}, {\"fecha_date\": \"2025-02-09T00:00:00\", \"n_registros\": 885, \"roll7\": 885.5714285714286}, {\"fecha_date\": \"2025-02-10T00:00:00\", \"n_registros\": 885, \"roll7\": 885.5714285714286}, {\"fecha_date\": \"2025-02-11T00:00:00\", \"n_registros\": 886, \"roll7\": 885.8571428571429}, {\"fecha_date\": \"2025-02-12T00:00:00\", \"n_registros\": 888, \"roll7\": 886.0}, {\"fecha_date\": \"2025-02-13T00:00:00\", \"n_registros\": 883, \"roll7\": 886.1428571428571}, {\"fecha_date\": \"2025-02-14T00:00:00\", \"n_registros\": 888, \"roll7\": 886.2857142857143}, {\"fecha_date\": \"2025-02-15T00:00:00\", \"n_registros\": 887, \"roll7\": 886.2857142857143}, {\"fecha_date\": \"2025-02-16T00:00:00\", \"n_registros\": 886, \"roll7\": 886.1428571428571}, {\"fecha_date\": \"2025-02-17T00:00:00\", \"n_registros\": 886, \"roll7\": 886.5714285714286}, {\"fecha_date\": \"2025-02-18T00:00:00\", \"n_registros\": 886, \"roll7\": 886.4285714285714}, {\"fecha_date\": \"2025-02-19T00:00:00\", \"n_registros\": 887, \"roll7\": 886.2857142857143}, {\"fecha_date\": \"2025-02-20T00:00:00\", \"n_registros\": 886, \"roll7\": 886.0}, {\"fecha_date\": \"2025-02-21T00:00:00\", \"n_registros\": 887, \"roll7\": 885.4285714285714}, {\"fecha_date\": \"2025-02-22T00:00:00\", \"n_registros\": 886, \"roll7\": 884.8571428571429}, {\"fecha_date\": \"2025-02-23T00:00:00\", \"n_registros\": 884, \"roll7\": 884.4285714285714}, {\"fecha_date\": \"2025-02-24T00:00:00\", \"n_registros\": 882, \"roll7\": 884.2857142857143}, {\"fecha_date\": \"2025-02-25T00:00:00\", \"n_registros\": 882, \"roll7\": 883.5714285714286}, {\"fecha_date\": \"2025-02-26T00:00:00\", \"n_registros\": 884, \"roll7\": 883.0}, {\"fecha_date\": \"2025-02-27T00:00:00\", \"n_registros\": 885, \"roll7\": 882.5714285714286}, {\"fecha_date\": \"2025-02-28T00:00:00\", \"n_registros\": 882, \"roll7\": 882.5714285714286}, {\"fecha_date\": \"2025-03-01T00:00:00\", \"n_registros\": 882, \"roll7\": 882.7142857142857}, {\"fecha_date\": \"2025-03-02T00:00:00\", \"n_registros\": 881, \"roll7\": 882.4285714285714}, {\"fecha_date\": \"2025-03-03T00:00:00\", \"n_registros\": 882, \"roll7\": 882.2857142857143}, {\"fecha_date\": \"2025-03-04T00:00:00\", \"n_registros\": 883, \"roll7\": 882.2857142857143}, {\"fecha_date\": \"2025-03-05T00:00:00\", \"n_registros\": 882, \"roll7\": 882.1428571428571}, {\"fecha_date\": \"2025-03-06T00:00:00\", \"n_registros\": 884, \"roll7\": 881.8571428571429}, {\"fecha_date\": \"2025-03-07T00:00:00\", \"n_registros\": 882, \"roll7\": 881.1428571428571}, {\"fecha_date\": \"2025-03-08T00:00:00\", \"n_registros\": 881, \"roll7\": 881.0}, {\"fecha_date\": \"2025-03-09T00:00:00\", \"n_registros\": 879, \"roll7\": 881.1428571428571}, {\"fecha_date\": \"2025-03-10T00:00:00\", \"n_registros\": 877, \"roll7\": 881.0}, {\"fecha_date\": \"2025-03-11T00:00:00\", \"n_registros\": 882, \"roll7\": 881.0}, {\"fecha_date\": \"2025-03-12T00:00:00\", \"n_registros\": 883, \"roll7\": 881.4285714285714}, {\"fecha_date\": \"2025-03-13T00:00:00\", \"n_registros\": 883, \"roll7\": 881.5714285714286}, {\"fecha_date\": \"2025-03-14T00:00:00\", \"n_registros\": 882, \"roll7\": 881.4285714285714}, {\"fecha_date\": \"2025-03-15T00:00:00\", \"n_registros\": 884, \"roll7\": 881.1428571428571}, {\"fecha_date\": \"2025-03-16T00:00:00\", \"n_registros\": 880, \"roll7\": 881.1428571428571}, {\"fecha_date\": \"2025-03-17T00:00:00\", \"n_registros\": 876, \"roll7\": 881.2857142857143}, {\"fecha_date\": \"2025-03-18T00:00:00\", \"n_registros\": 880, \"roll7\": 881.5714285714286}, {\"fecha_date\": \"2025-03-19T00:00:00\", \"n_registros\": 883, \"roll7\": 881.5714285714286}, {\"fecha_date\": \"2025-03-20T00:00:00\", \"n_registros\": 884, \"roll7\": 882.0}, {\"fecha_date\": \"2025-03-21T00:00:00\", \"n_registros\": 884, \"roll7\": 883.1428571428571}, {\"fecha_date\": \"2025-03-22T00:00:00\", \"n_registros\": 884, \"roll7\": 883.7142857142857}, {\"fecha_date\": \"2025-03-23T00:00:00\", \"n_registros\": 883, \"roll7\": 884.1428571428571}, {\"fecha_date\": \"2025-03-24T00:00:00\", \"n_registros\": 884, \"roll7\": 884.0}, {\"fecha_date\": \"2025-03-25T00:00:00\", \"n_registros\": 884, \"roll7\": 884.0}, {\"fecha_date\": \"2025-03-26T00:00:00\", \"n_registros\": 886, \"roll7\": 883.8571428571429}, {\"fecha_date\": \"2025-03-27T00:00:00\", \"n_registros\": 883, \"roll7\": 883.8571428571429}, {\"fecha_date\": \"2025-03-28T00:00:00\", \"n_registros\": 884, \"roll7\": 883.4285714285714}, {\"fecha_date\": \"2025-03-29T00:00:00\", \"n_registros\": 883, \"roll7\": 883.5714285714286}, {\"fecha_date\": \"2025-03-30T00:00:00\", \"n_registros\": 883, \"roll7\": 883.2857142857143}, {\"fecha_date\": \"2025-03-31T00:00:00\", \"n_registros\": 881, \"roll7\": 883.0}, {\"fecha_date\": \"2025-04-01T00:00:00\", \"n_registros\": 885, \"roll7\": 882.4285714285714}, {\"fecha_date\": \"2025-04-02T00:00:00\", \"n_registros\": 884, \"roll7\": 881.5714285714286}, {\"fecha_date\": \"2025-04-03T00:00:00\", \"n_registros\": 881, \"roll7\": 880.7142857142857}, {\"fecha_date\": \"2025-04-04T00:00:00\", \"n_registros\": 880, \"roll7\": 880.2857142857143}, {\"fecha_date\": \"2025-04-05T00:00:00\", \"n_registros\": 877, \"roll7\": 880.0}, {\"fecha_date\": \"2025-04-06T00:00:00\", \"n_registros\": 877, \"roll7\": 879.7142857142857}, {\"fecha_date\": \"2025-04-07T00:00:00\", \"n_registros\": 878, \"roll7\": 879.8571428571429}, {\"fecha_date\": \"2025-04-08T00:00:00\", \"n_registros\": 883, \"roll7\": 880.0}, {\"fecha_date\": \"2025-04-09T00:00:00\", \"n_registros\": 882, \"roll7\": 880.4285714285714}, {\"fecha_date\": \"2025-04-10T00:00:00\", \"n_registros\": 882, \"roll7\": 880.4285714285714}, {\"fecha_date\": \"2025-04-11T00:00:00\", \"n_registros\": 881, \"roll7\": 879.8571428571429}, {\"fecha_date\": \"2025-04-12T00:00:00\", \"n_registros\": 880, \"roll7\": 878.0}, {\"fecha_date\": \"2025-04-13T00:00:00\", \"n_registros\": 877, \"roll7\": 876.8571428571429}, {\"fecha_date\": \"2025-04-14T00:00:00\", \"n_registros\": 874, \"roll7\": 876.2857142857143}, {\"fecha_date\": \"2025-04-15T00:00:00\", \"n_registros\": 870, \"roll7\": 875.5714285714286}, {\"fecha_date\": \"2025-04-16T00:00:00\", \"n_registros\": 874, \"roll7\": 874.5714285714286}, {\"fecha_date\": \"2025-04-17T00:00:00\", \"n_registros\": 878, \"roll7\": 873.8571428571429}, {\"fecha_date\": \"2025-04-18T00:00:00\", \"n_registros\": 876, \"roll7\": 874.1428571428571}, {\"fecha_date\": \"2025-04-19T00:00:00\", \"n_registros\": 873, \"roll7\": 875.1428571428571}, {\"fecha_date\": \"2025-04-20T00:00:00\", \"n_registros\": 872, \"roll7\": 876.4285714285714}, {\"fecha_date\": \"2025-04-21T00:00:00\", \"n_registros\": 876, \"roll7\": 877.2857142857143}, {\"fecha_date\": \"2025-04-22T00:00:00\", \"n_registros\": 877, \"roll7\": 878.5714285714286}, {\"fecha_date\": \"2025-04-23T00:00:00\", \"n_registros\": 883, \"roll7\": 880.2857142857143}, {\"fecha_date\": \"2025-04-24T00:00:00\", \"n_registros\": 884, \"roll7\": 882.0}, {\"fecha_date\": \"2025-04-25T00:00:00\", \"n_registros\": 885, \"roll7\": 875.2857142857143}, {\"fecha_date\": \"2025-04-26T00:00:00\", \"n_registros\": 885, \"roll7\": 873.5714285714286}, {\"fecha_date\": \"2025-04-27T00:00:00\", \"n_registros\": 884, \"roll7\": 872.7142857142857}, {\"fecha_date\": \"2025-04-28T00:00:00\", \"n_registros\": 829, \"roll7\": 872.1428571428571}, {\"fecha_date\": \"2025-04-29T00:00:00\", \"n_registros\": 865, \"roll7\": 871.4285714285714}, {\"fecha_date\": \"2025-04-30T00:00:00\", \"n_registros\": 877, \"roll7\": 870.2857142857143}, {\"fecha_date\": \"2025-05-01T00:00:00\", \"n_registros\": 880, \"roll7\": 869.1428571428571}, {\"fecha_date\": \"2025-05-02T00:00:00\", \"n_registros\": 880, \"roll7\": 875.7142857142857}, {\"fecha_date\": \"2025-05-03T00:00:00\", \"n_registros\": 877, \"roll7\": 878.4285714285714}, {\"fecha_date\": \"2025-05-04T00:00:00\", \"n_registros\": 876, \"roll7\": 879.4285714285714}, {\"fecha_date\": \"2025-05-05T00:00:00\", \"n_registros\": 875, \"roll7\": 879.5714285714286}, {\"fecha_date\": \"2025-05-06T00:00:00\", \"n_registros\": 884, \"roll7\": 879.5714285714286}, {\"fecha_date\": \"2025-05-07T00:00:00\", \"n_registros\": 884, \"roll7\": 879.4285714285714}, {\"fecha_date\": \"2025-05-08T00:00:00\", \"n_registros\": 881, \"roll7\": 878.7142857142857}, {\"fecha_date\": \"2025-05-09T00:00:00\", \"n_registros\": 880, \"roll7\": 878.5714285714286}, {\"fecha_date\": \"2025-05-10T00:00:00\", \"n_registros\": 876, \"roll7\": 877.7142857142857}, {\"fecha_date\": \"2025-05-11T00:00:00\", \"n_registros\": 871, \"roll7\": 877.0}, {\"fecha_date\": \"2025-05-12T00:00:00\", \"n_registros\": 874, \"roll7\": 876.1428571428571}, {\"fecha_date\": \"2025-05-13T00:00:00\", \"n_registros\": 878, \"roll7\": 876.1428571428571}, {\"fecha_date\": \"2025-05-14T00:00:00\", \"n_registros\": 879, \"roll7\": 877.2857142857143}, {\"fecha_date\": \"2025-05-15T00:00:00\", \"n_registros\": 875, \"roll7\": 878.4285714285714}, {\"fecha_date\": \"2025-05-16T00:00:00\", \"n_registros\": 880, \"roll7\": 878.5714285714286}, {\"fecha_date\": \"2025-05-17T00:00:00\", \"n_registros\": 884, \"roll7\": 878.2857142857143}, {\"fecha_date\": \"2025-05-18T00:00:00\", \"n_registros\": 879, \"roll7\": 878.7142857142857}, {\"fecha_date\": \"2025-05-19T00:00:00\", \"n_registros\": 875, \"roll7\": 879.8571428571429}, {\"fecha_date\": \"2025-05-20T00:00:00\", \"n_registros\": 876, \"roll7\": 879.7142857142857}, {\"fecha_date\": \"2025-05-21T00:00:00\", \"n_registros\": 882, \"roll7\": 879.7142857142857}, {\"fecha_date\": \"2025-05-22T00:00:00\", \"n_registros\": 883, \"roll7\": 880.2857142857143}, {\"fecha_date\": \"2025-05-23T00:00:00\", \"n_registros\": 879, \"roll7\": 881.7142857142857}, {\"fecha_date\": \"2025-05-24T00:00:00\", \"n_registros\": 884, \"roll7\": 883.2857142857143}, {\"fecha_date\": \"2025-05-25T00:00:00\", \"n_registros\": 883, \"roll7\": 883.8571428571429}, {\"fecha_date\": \"2025-05-26T00:00:00\", \"n_registros\": 885, \"roll7\": 884.2857142857143}, {\"fecha_date\": \"2025-05-27T00:00:00\", \"n_registros\": 887, \"roll7\": 884.7142857142857}, {\"fecha_date\": \"2025-05-28T00:00:00\", \"n_registros\": 886, \"roll7\": 884.4285714285714}, {\"fecha_date\": \"2025-05-29T00:00:00\", \"n_registros\": 886, \"roll7\": 883.8571428571429}, {\"fecha_date\": \"2025-05-30T00:00:00\", \"n_registros\": 882, \"roll7\": 883.1428571428571}, {\"fecha_date\": \"2025-05-31T00:00:00\", \"n_registros\": 882, \"roll7\": 882.4285714285714}, {\"fecha_date\": \"2025-06-01T00:00:00\", \"n_registros\": 879, \"roll7\": 881.7142857142857}, {\"fecha_date\": \"2025-06-02T00:00:00\", \"n_registros\": 880, \"roll7\": 881.2857142857143}, {\"fecha_date\": \"2025-06-03T00:00:00\", \"n_registros\": 882, \"roll7\": 881.4285714285714}, {\"fecha_date\": \"2025-06-04T00:00:00\", \"n_registros\": 881, \"roll7\": 881.5714285714286}, {\"fecha_date\": \"2025-06-05T00:00:00\", \"n_registros\": 883, \"roll7\": 882.1428571428571}, {\"fecha_date\": \"2025-06-06T00:00:00\", \"n_registros\": 883, \"roll7\": 882.4285714285714}, {\"fecha_date\": \"2025-06-07T00:00:00\", \"n_registros\": 883, \"roll7\": 881.7142857142857}, {\"fecha_date\": \"2025-06-08T00:00:00\", \"n_registros\": 883, \"roll7\": 880.8571428571429}, {\"fecha_date\": \"2025-06-09T00:00:00\", \"n_registros\": 882, \"roll7\": 880.7142857142857}, {\"fecha_date\": \"2025-06-10T00:00:00\", \"n_registros\": 877, \"roll7\": 880.7142857142857}, {\"fecha_date\": \"2025-06-11T00:00:00\", \"n_registros\": 875, \"roll7\": 880.4285714285714}, {\"fecha_date\": \"2025-06-12T00:00:00\", \"n_registros\": 882, \"roll7\": 880.0}, {\"fecha_date\": \"2025-06-13T00:00:00\", \"n_registros\": 883, \"roll7\": 879.5714285714286}, {\"fecha_date\": \"2025-06-14T00:00:00\", \"n_registros\": 881, \"roll7\": 879.8571428571429}, {\"fecha_date\": \"2025-06-15T00:00:00\", \"n_registros\": 880, \"roll7\": 880.5714285714286}, {\"fecha_date\": \"2025-06-16T00:00:00\", \"n_registros\": 879, \"roll7\": 880.0}, {\"fecha_date\": \"2025-06-17T00:00:00\", \"n_registros\": 879, \"roll7\": 879.5714285714286}, {\"fecha_date\": \"2025-06-18T00:00:00\", \"n_registros\": 880, \"roll7\": 878.8571428571429}, {\"fecha_date\": \"2025-06-19T00:00:00\", \"n_registros\": 878, \"roll7\": 878.2857142857143}, {\"fecha_date\": \"2025-06-20T00:00:00\", \"n_registros\": 880, \"roll7\": 877.1428571428571}, {\"fecha_date\": \"2025-06-21T00:00:00\", \"n_registros\": 876, \"roll7\": 876.0}, {\"fecha_date\": \"2025-06-22T00:00:00\", \"n_registros\": 876, \"roll7\": 874.7142857142857}, {\"fecha_date\": \"2025-06-23T00:00:00\", \"n_registros\": 871, \"roll7\": 874.8571428571429}, {\"fecha_date\": \"2025-06-24T00:00:00\", \"n_registros\": 871, \"roll7\": 875.0}, {\"fecha_date\": \"2025-06-25T00:00:00\", \"n_registros\": 871, \"roll7\": 875.4285714285714}, {\"fecha_date\": \"2025-06-26T00:00:00\", \"n_registros\": 879, \"roll7\": 875.5714285714286}, {\"fecha_date\": \"2025-06-27T00:00:00\", \"n_registros\": 881, \"roll7\": 876.2857142857143}, {\"fecha_date\": \"2025-06-28T00:00:00\", \"n_registros\": 879, \"roll7\": 877.1666666666666}, {\"fecha_date\": \"2025-06-29T00:00:00\", \"n_registros\": 877, \"roll7\": 878.4}, {\"fecha_date\": \"2025-06-30T00:00:00\", \"n_registros\": 876, \"roll7\": 878.25}], \"data-9fedf037adc5d514ca0cf5f49cb27a6d\": [{\"y\": 947}], \"data-f2d7d285ff426ed8ab948807ca6a1239\": [{\"y\": 918}]}}, {\"mode\": \"vega-lite\"});\n",
       "</script>"
      ],
      "text/plain": [
       "alt.VConcatChart(...)"
      ]
     },
     "execution_count": 24,
     "metadata": {},
     "output_type": "execute_result"
    }
   ],
   "execution_count": 24
  },
  {
   "metadata": {},
   "cell_type": "markdown",
   "source": [
    "### B.2 Cobertura espacial\n",
    "Comprobar que las estaciones del catálogo aparecen y con actividad mínima."
   ],
   "id": "57ea809b3ed682e0"
  },
  {
   "metadata": {},
   "cell_type": "code",
   "source": [
    "from pyspark.sql import functions as F\n",
    "from pyspark.sql import Window as W\n",
    "from pyspark import StorageLevel\n",
    "\n",
    "# 1) Reduce a claves y deduplica UNA vez (fecha, estación)\n",
    "df_keys = (df_meteo_norm\n",
    "    .select(\"fecha_date\", \"indicativo\")\n",
    "    .dropna(subset=[\"fecha_date\",\"indicativo\"])\n",
    "    .dropDuplicates([\"fecha_date\",\"indicativo\"])\n",
    "    .persist(StorageLevel.MEMORY_ONLY)\n",
    ")\n",
    "_ = df_keys.count()  # materializa en memoria\n",
    "\n",
    "# 2) Estaciones del catálogo (pequeño -> broadcast)\n",
    "df_cat_est = df_estaciones.select(\"indicativo\").distinct()\n",
    "from pyspark.sql.functions import broadcast\n",
    "\n",
    "n_est_cat = df_cat_est.count()\n",
    "\n",
    "# 3) Estaciones observadas (ya deduplicadas)\n",
    "df_est_obs = df_keys.select(\"indicativo\").distinct().persist(StorageLevel.MEMORY_ONLY)\n",
    "n_est_obs = df_est_obs.count()\n",
    "\n",
    "pct_est_activas = round(100.0 * n_est_obs / n_est_cat, 2) if n_est_cat else None\n",
    "print(f\"B.2 Cobertura espacial: {n_est_obs}/{n_est_cat} estaciones con datos ({pct_est_activas}%)\")\n",
    "\n",
    "# 4) Estaciones del catálogo SIN datos (anti-join con broadcast para evitar shuffle grande)\n",
    "df_est_sin_datos = broadcast(df_cat_est).join(df_est_obs, on=\"indicativo\", how=\"left_anti\")\n",
    "\n",
    "df_est_sin_datos.show(truncate=False)"
   ],
   "id": "f7b0a5eccb24cc26",
   "outputs": [],
   "execution_count": null
  },
  {
   "metadata": {},
   "cell_type": "markdown",
   "source": [
    "Hay 29 estaciones del catálogo sin ningún registro en el periodo 2017-2025.\n",
    "<br>\n",
    "El resto de estaciones tienen al menos un registro.\n"
   ],
   "id": "79b395e98b9910a6"
  },
  {
   "metadata": {
    "ExecuteTime": {
     "end_time": "2025-08-24T08:10:16.506807Z",
     "start_time": "2025-08-24T08:10:13.162768Z"
    }
   },
   "cell_type": "code",
   "source": [
    "# 5) Días reportados por estación (usa df_keys ya deduplicado: evita countDistinct)\n",
    "df_days_per_station = (df_keys\n",
    "    .groupBy(\"indicativo\")\n",
    "    .agg(F.count(\"*\").alias(\"dias_reportados\"))\n",
    "    .persist(StorageLevel.MEMORY_ONLY)\n",
    ")\n",
    "# Vista rápida sin ordenar globalmente (evita shuffle extra):\n",
    "df_days_per_station.orderBy(F.col(\"dias_reportados\").asc()).show(30)\n"
   ],
   "id": "b5e1c42ae6d3ac4b",
   "outputs": [
    {
     "name": "stderr",
     "output_type": "stream",
     "text": [
      "[Stage 63:=====================================================>(199 + 1) / 200]\r"
     ]
    },
    {
     "name": "stdout",
     "output_type": "stream",
     "text": [
      "+----------+---------------+\n",
      "|indicativo|dias_reportados|\n",
      "+----------+---------------+\n",
      "|     9283X|             43|\n",
      "|     1437O|            208|\n",
      "|     2661B|            212|\n",
      "|     5038X|            326|\n",
      "|     2503X|            344|\n",
      "|     6332X|            344|\n",
      "|     6299I|            385|\n",
      "|     9576C|            521|\n",
      "|      5511|            581|\n",
      "|     6248D|            623|\n",
      "|     5103E|            623|\n",
      "|     5051X|            692|\n",
      "|     5103F|            703|\n",
      "|     4195E|            713|\n",
      "|     6312E|            717|\n",
      "|     6335O|            725|\n",
      "|     6307C|            726|\n",
      "|     9201X|            822|\n",
      "|     9812M|            871|\n",
      "|     9720X|            928|\n",
      "|     1103X|            952|\n",
      "|     9987P|            955|\n",
      "|     3463X|           1000|\n",
      "|     4362X|           1004|\n",
      "|     2811A|           1036|\n",
      "|     B341X|           1070|\n",
      "|     6199X|           1084|\n",
      "|     0002I|           1099|\n",
      "|     1167J|           1150|\n",
      "|     1055B|           1175|\n",
      "+----------+---------------+\n",
      "only showing top 30 rows\n",
      "\n"
     ]
    },
    {
     "name": "stderr",
     "output_type": "stream",
     "text": [
      "                                                                                \r"
     ]
    }
   ],
   "execution_count": 10
  },
  {
   "metadata": {
    "ExecuteTime": {
     "end_time": "2025-08-24T08:10:29.704709Z",
     "start_time": "2025-08-24T08:10:29.346395Z"
    }
   },
   "cell_type": "code",
   "source": [
    "# TO DO:\n",
    "# 6) Histograma de dias reportados por estación?"
   ],
   "id": "639df517bbd4ca24",
   "outputs": [
    {
     "name": "stdout",
     "output_type": "stream",
     "text": [
      "Estadísticas de días reportados por estación:\n",
      "Row(min_dias=43, p25_dias=3035.0, mediana_dias=3088.0, p75_dias=3100.0, max_dias=3102, media_dias=2922.0555555555557, stddev_dias=497.5986283615458)\n"
     ]
    }
   ],
   "execution_count": 12
  },
  {
   "metadata": {},
   "cell_type": "markdown",
   "source": [
    "### B.3 Valores requeridos (sin nulos): fecha, indicativo, nombre, provincia, altitud\n",
    "Asegurar que `fecha`, `indicativo`, `nombre`, `provincia`, `altitud` no presentan nulos."
   ],
   "id": "85283b6f162f0f8a"
  },
  {
   "metadata": {
    "ExecuteTime": {
     "end_time": "2025-08-24T14:53:11.764443Z",
     "start_time": "2025-08-24T14:49:07.809919Z"
    }
   },
   "cell_type": "code",
   "source": [
    "from pyspark.sql import functions as F, types as T\n",
    "\n",
    "required_cols = [\"fecha\", \"indicativo\", \"nombre\", \"provincia\", \"altitud\"]\n",
    "\n",
    "def not_informed(c):\n",
    "    return (F.col(c).isNull()) | (F.length(F.trim(F.col(c))) == 0)\n",
    "\n",
    "df_req = df_meteo_norm.select(*required_cols)\n",
    "total_rows = df_req.count()\n",
    "\n",
    "rows = []\n",
    "for c in required_cols:\n",
    "    n_null = df_req.filter(F.col(c).isNull()).count()\n",
    "    n_empty = df_req.filter((F.col(c).isNotNull()) & (F.length(F.trim(F.col(c))) == 0)).count()\n",
    "    n_bad  = n_null + n_empty\n",
    "    completeness = round(100.0 * (total_rows - n_bad) / total_rows, 4)\n",
    "    rows.append((c, total_rows, n_null, n_empty, n_bad, completeness))\n",
    "\n",
    "df_b3 = spark.createDataFrame(rows, [\n",
    "    \"columna\", \"n_total\", \"n_nulls\", \"n_vacios\", \"n_incompletos\", \"pct_completitud\"\n",
    "])\n",
    "\n",
    "print(\"B.3 Completitud de campos obligatorios\")\n",
    "df_b3.orderBy(F.col(\"pct_completitud\").asc()).show()"
   ],
   "id": "8c7e9aa8baeaf3b0",
   "outputs": [
    {
     "name": "stdout",
     "output_type": "stream",
     "text": [
      "B.3 · Completitud de campos obligatorios\n",
      "+----------+-------+-------+--------+----------------------+-------------+---------------+\n",
      "|   columna|n_total|n_nulls|n_vacios|n_no_numericos_altitud|n_incompletos|pct_completitud|\n",
      "+----------+-------+-------+--------+----------------------+-------------+---------------+\n",
      "|indicativo|2682447|      0|       0|                     0|            0|          100.0|\n",
      "|     fecha|2682447|      0|       0|                     0|            0|          100.0|\n",
      "|   altitud|2682447|      0|       0|                     0|            0|          100.0|\n",
      "| provincia|2682447|      0|       0|                     0|            0|          100.0|\n",
      "|    nombre|2682447|      0|       0|                     0|            0|          100.0|\n",
      "+----------+-------+-------+--------+----------------------+-------------+---------------+\n",
      "\n"
     ]
    }
   ],
   "execution_count": 16
  },
  {
   "metadata": {},
   "cell_type": "markdown",
   "source": "Los campos obligatorios segun la metadata no contienen nulos.",
   "id": "4fa96b85d53baf8b"
  },
  {
   "metadata": {},
   "cell_type": "code",
   "outputs": [],
   "execution_count": null,
   "source": "df_b3.orderBy(F.col(\"pct_completitud\").asc())",
   "id": "8dd18b7a360bc3b7"
  },
  {
   "metadata": {},
   "cell_type": "markdown",
   "source": [
    "### B.4 Cobertura de variables clave por estación (tmax, tmin, tmed, prec)\n",
    "Para `tmax`, `tmin`, `tmed`, `prec`, calcular el **% de días informados** por estación.\n"
   ],
   "id": "6526199bf8fb1a40"
  },
  {
   "metadata": {
    "ExecuteTime": {
     "end_time": "2025-08-24T14:49:14.455212Z",
     "start_time": "2025-08-24T14:49:13.836089Z"
    }
   },
   "cell_type": "code",
   "source": [
    "# B.4  Cobertura de variables clave en general\n",
    "from pyspark.sql import functions as F\n",
    "key_vars = [\"tmax\", \"tmin\", \"tmed\", \"prec\", \"racha\"]\n",
    "rows = []\n",
    "for v in key_vars:\n",
    "    n_informados = df_meteo_norm.filter(informed(v)).count()\n",
    "    pct = round(100.0 * n_informados / total_rows, 4)\n",
    "    rows.append((v, n_informados, total_rows, pct))\n",
    "\n",
    "df_key_overall = spark.createDataFrame(rows, [\"Variable\", \"Nº informados\", \"Nº total\", \"% informado\"])\n",
    "\n",
    "print(\"B.4 Cobertura de variables clave (global):\")\n",
    "df_key_overall.orderBy(F.col(\"% informado\").desc()).show()"
   ],
   "id": "b539fc211e26e4d5",
   "outputs": [
    {
     "name": "stdout",
     "output_type": "stream",
     "text": [
      "B.4 Cobertura de variables clave (global):\n",
      "+--------+-------------+--------+-----------+\n",
      "|Variable|Nº informados|Nº total|% informado|\n",
      "+--------+-------------+--------+-----------+\n",
      "|    tmax|      2632062| 2682447|    98.1217|\n",
      "|    tmin|      2631430| 2682447|    98.0981|\n",
      "|    tmed|      2630673| 2682447|    98.0699|\n",
      "|    prec|      2610069| 2682447|    97.3018|\n",
      "|   racha|      2133407| 2682447|    79.5321|\n",
      "+--------+-------------+--------+-----------+\n",
      "\n"
     ]
    }
   ],
   "execution_count": 17
  },
  {
   "metadata": {
    "ExecuteTime": {
     "end_time": "2025-08-24T14:49:19.000033Z",
     "start_time": "2025-08-24T14:49:17.637447Z"
    }
   },
   "cell_type": "code",
   "source": [
    "# TODO: Variable rachas de viento la consideramos como variable clave tambien?\n",
    "# B.4  Cobertura de variables clave por estación\n",
    "from pyspark.sql import functions as F\n",
    "\n",
    "key_vars = [\"tmax\", \"tmin\", \"tmed\", \"prec\"]\n",
    "\n",
    "# Dataset reducido a campos necesarios\n",
    "df_keys = df_meteo_norm.select(\"indicativo\", \"fecha_date\", *key_vars)\n",
    "\n",
    "# Total de días por estación (sirve de denominador)\n",
    "df_totals = df_keys.groupBy(\"indicativo\").agg(F.count(\"*\").alias(\"n_total\"))\n",
    "\n",
    "# Cálculo de informados y nulos por variable\n",
    "agg_exprs = []\n",
    "for v in key_vars:\n",
    "    agg_exprs.append(F.sum(F.when(F.col(v).isNotNull() & (F.length(F.trim(F.col(v).cast(\"string\"))) > 0), 1).otherwise(0)).alias(f\"{v}_informados\"))\n",
    "    agg_exprs.append(F.sum(F.when(F.col(v).isNull() | (F.length(F.trim(F.col(v).cast(\"string\"))) == 0), 1).otherwise(0)).alias(f\"{v}_nulos\"))\n",
    "\n",
    "df_cov = df_keys.groupBy(\"indicativo\").agg(*agg_exprs)\n",
    "\n",
    "# Unimos con total de días por estación\n",
    "df_cov = df_cov.join(df_totals, on=\"indicativo\", how=\"left\")\n",
    "\n",
    "# Añadimos % de completitud\n",
    "for v in key_vars:\n",
    "    df_cov = df_cov.withColumn(f\"{v}_pct\", F.round(100.0 * F.col(f\"{v}_informados\") / F.col(\"n_total\"), 2))\n",
    "\n",
    "# Copbertura de valores clave por estación\n",
    "df_cov.orderBy(F.col(\"tmax_pct\").asc()).show(truncate=False)"
   ],
   "id": "c189eba24611a366",
   "outputs": [
    {
     "name": "stderr",
     "output_type": "stream",
     "text": [
      "[Stage 64:>                                                       (0 + 11) / 11]\r"
     ]
    },
    {
     "name": "stdout",
     "output_type": "stream",
     "text": [
      "+----------+---------------+----------+---------------+----------+---------------+----------+---------------+----------+-------+--------+--------+--------+--------+\n",
      "|indicativo|tmax_informados|tmax_nulos|tmin_informados|tmin_nulos|tmed_informados|tmed_nulos|prec_informados|prec_nulos|n_total|tmax_pct|tmin_pct|tmed_pct|prec_pct|\n",
      "+----------+---------------+----------+---------------+----------+---------------+----------+---------------+----------+-------+--------+--------+--------+--------+\n",
      "|5038X     |0              |326       |0              |326       |0              |326       |0              |326       |326    |0.0     |0.0     |0.0     |0.0     |\n",
      "|8501      |0              |1532      |0              |1532      |0              |1532      |1532           |0         |1532   |0.0     |0.0     |0.0     |100.0   |\n",
      "|8084Y     |670            |2153      |670            |2153      |670            |2153      |2823           |0         |2823   |23.73   |23.73   |23.73   |100.0   |\n",
      "|C689E     |1105           |1874      |1103           |1876      |1103           |1876      |2923           |56        |2979   |37.09   |37.03   |37.03   |98.12   |\n",
      "|2811A     |580            |456       |581            |455       |580            |456       |480            |556       |1036   |55.98   |56.08   |55.98   |46.33   |\n",
      "|3194U     |1436           |1087      |1436           |1087      |1436           |1087      |2509           |14        |2523   |56.92   |56.92   |56.92   |99.45   |\n",
      "|6084X     |1820           |1267      |1820           |1267      |1820           |1267      |3086           |1         |3087   |58.96   |58.96   |58.96   |99.97   |\n",
      "|6332X     |212            |132       |212            |132       |212            |132       |195            |149       |344    |61.63   |61.63   |61.63   |56.69   |\n",
      "|4061X     |1879           |1126      |1879           |1126      |1879           |1126      |2980           |25        |3005   |62.53   |62.53   |62.53   |99.17   |\n",
      "|0433D     |1870           |1111      |1870           |1111      |1870           |1111      |1807           |1174      |2981   |62.73   |62.73   |62.73   |60.62   |\n",
      "|6268Y     |1972           |1130      |1972           |1130      |1972           |1130      |3097           |5         |3102   |63.57   |63.57   |63.57   |99.84   |\n",
      "|3298X     |1815           |1031      |1815           |1031      |1815           |1031      |2775           |71        |2846   |63.77   |63.77   |63.77   |97.51   |\n",
      "|B691      |2008           |1077      |2028           |1057      |1599           |1486      |3020           |65        |3085   |65.09   |65.74   |51.83   |97.89   |\n",
      "|9590D     |1696           |844       |1696           |844       |1696           |844       |0              |2540      |2540   |66.77   |66.77   |66.77   |0.0     |\n",
      "|1059X     |2074           |1008      |2074           |1008      |2074           |1008      |3078           |4         |3082   |67.29   |67.29   |67.29   |99.87   |\n",
      "|5514Z     |1250           |550       |1250           |550       |1250           |550       |1746           |54        |1800   |69.44   |69.44   |69.44   |97.0    |\n",
      "|6277B     |2009           |786       |2010           |785       |2009           |786       |2362           |433       |2795   |71.88   |71.91   |71.88   |84.51   |\n",
      "|6205X     |1893           |656       |1893           |656       |1893           |656       |2127           |422       |2549   |74.26   |74.26   |74.26   |83.44   |\n",
      "|1210X     |2237           |704       |2237           |704       |2237           |704       |2730           |211       |2941   |76.06   |76.06   |76.06   |92.83   |\n",
      "|3085Y     |2305           |663       |2305           |663       |2305           |663       |2933           |35        |2968   |77.66   |77.66   |77.66   |98.82   |\n",
      "+----------+---------------+----------+---------------+----------+---------------+----------+---------------+----------+-------+--------+--------+--------+--------+\n",
      "only showing top 20 rows\n",
      "\n"
     ]
    },
    {
     "name": "stderr",
     "output_type": "stream",
     "text": [
      "                                                                                \r"
     ]
    }
   ],
   "execution_count": 18
  },
  {
   "metadata": {
    "ExecuteTime": {
     "end_time": "2025-08-24T15:04:52.493754Z",
     "start_time": "2025-08-24T15:04:50.904427Z"
    }
   },
   "cell_type": "code",
   "source": [
    "# TODO: Igual que celda anterior, pero ampliada\n",
    "# === Métricas de cobertura: globales y por estación ===\n",
    "from pyspark.sql import functions as F\n",
    "\n",
    "# Ajusta esta lista si quieres incluir/excluir variables\n",
    "key_vars = [\"tmax\", \"tmin\", \"tmed\", \"prec\", \"racha\"]\n",
    "\n",
    "# --- 0) Dataset base ---\n",
    "# Usamos df_meteo_norm si existe; si no, intentamos usar df (original)\n",
    "try:\n",
    "    _ = df_meteo_norm\n",
    "    base = df_meteo_norm\n",
    "except NameError:\n",
    "    base = df\n",
    "\n",
    "# Nos quedamos con columnas necesarias; si 'fecha' está normalizada en 'fecha_date', no es imprescindible aquí\n",
    "cols_presentes = [c for c in [\"indicativo\"] + key_vars if c in base.columns]\n",
    "if \"indicativo\" not in cols_presentes:\n",
    "    raise ValueError(\"No se encontró la columna 'indicativo' en el DataFrame. Es necesaria para métricas por estación.\")\n",
    "df_keys = base.select(*cols_presentes)\n",
    "\n",
    "# Función \"está informado\": no nulo y no cadena vacía (por si los campos aún son string)\n",
    "def informed(colname):\n",
    "    col = F.col(colname)\n",
    "    return F.when(col.isNotNull() & (F.length(F.trim(col.cast(\"string\"))) > 0), 1).otherwise(0)\n",
    "\n",
    "# --- 1) Cobertura global por variable ---\n",
    "n_total = df_keys.count()\n",
    "\n",
    "agg_exprs_global = []\n",
    "for v in key_vars:\n",
    "    if v in df_keys.columns:\n",
    "        agg_exprs_global.append(F.sum(informed(v)).alias(f\"{v}_informados\"))\n",
    "\n",
    "global_counts = df_keys.agg(*agg_exprs_global)\n",
    "\n",
    "# Construimos tabla global “larga”\n",
    "rows = []\n",
    "row = global_counts.collect()[0].asDict()\n",
    "for v in key_vars:\n",
    "    if f\"{v}_informados\" in row:\n",
    "        n_inf = int(row[f\"{v}_informados\"])\n",
    "        rows.append((v, n_inf, n_total, n_total - n_inf, 100.0 * n_inf / n_total, 100.0 * (n_total - n_inf) / n_total))\n",
    "global_df = spark.createDataFrame(rows, [\"variable\", \"n_informados\", \"n_total\", \"n_nulos\", \"pct_informado\", \"pct_nulo\"])\n",
    "\n",
    "print(\"=== Cobertura global por variable ===\")\n",
    "global_df.orderBy(F.col(\"pct_informado\").desc()).show(truncate=False)"
   ],
   "id": "392261f6b7932af8",
   "outputs": [
    {
     "name": "stdout",
     "output_type": "stream",
     "text": [
      "=== Cobertura global por variable ===\n",
      "+--------+------------+-------+-------+-----------------+------------------+\n",
      "|variable|n_informados|n_total|n_nulos|pct_informado    |pct_nulo          |\n",
      "+--------+------------+-------+-------+-----------------+------------------+\n",
      "|tmax    |2632062     |2682447|50385  |98.12167770695936|1.8783222930406454|\n",
      "|tmin    |2631430     |2682447|51017  |98.09811712962083|1.9018828703791724|\n",
      "|tmed    |2630673     |2682447|51774  |98.06989662796693|1.9301033720330727|\n",
      "|prec    |2610069     |2682447|72378  |97.30179198321532|2.6982080167846747|\n",
      "|racha   |2133407     |2682447|549040 |79.53212123109981|20.46787876890019 |\n",
      "+--------+------------+-------+-------+-----------------+------------------+\n",
      "\n"
     ]
    }
   ],
   "execution_count": 20
  },
  {
   "metadata": {
    "ExecuteTime": {
     "end_time": "2025-08-24T15:05:08.512331Z",
     "start_time": "2025-08-24T15:04:54.973383Z"
    }
   },
   "cell_type": "code",
   "source": [
    "# --- Cobertura por estación (distribución y percentiles) ---\n",
    "# Conteo por estación (denominador)\n",
    "by_station_total = df_keys.groupBy(\"indicativo\").agg(F.count(F.lit(1)).alias(\"n_total_est\"))\n",
    "\n",
    "# Conteo informados por estación y variable\n",
    "agg_exprs_station = []\n",
    "for v in key_vars:\n",
    "    if v in df_keys.columns:\n",
    "        agg_exprs_station.append(F.sum(informed(v)).alias(f\"{v}_inf\"))\n",
    "by_station_inf = df_keys.groupBy(\"indicativo\").agg(*agg_exprs_station)\n",
    "\n",
    "# Une y calcula % por estación/variable\n",
    "by_station = by_station_inf.join(by_station_total, on=\"indicativo\", how=\"inner\")\n",
    "for v in key_vars:\n",
    "    if f\"{v}_inf\" in by_station.columns:\n",
    "        by_station = by_station.withColumn(f\"{v}_pct\", F.round(100.0 * F.col(f\"{v}_inf\") / F.col(\"n_total_est\"), 4))\n",
    "\n",
    "# Métricas agregadas por variable sobre la distribución por estación\n",
    "# percentiles aproximados para velocidad\n",
    "def pct_expr(colname, p):\n",
    "    return F.expr(f\"percentile_approx({colname}, {p})\")\n",
    "\n",
    "stats_rows = []\n",
    "estaciones_total = by_station.select(\"indicativo\").distinct().count()\n",
    "\n",
    "for v in key_vars:\n",
    "    pct_col = f\"{v}_pct\"\n",
    "    if pct_col in by_station.columns:\n",
    "        dist = by_station.select(pct_col).where(F.col(pct_col).isNotNull())\n",
    "        # percentiles\n",
    "        p25, p50, p75 = dist.select(\n",
    "            pct_expr(pct_col, 0.25).alias(\"p25\"),\n",
    "            pct_expr(pct_col, 0.50).alias(\"p50\"),\n",
    "            pct_expr(pct_col, 0.75).alias(\"p75\"),\n",
    "        ).collect()[0]\n",
    "        # min/max\n",
    "        minv, maxv = dist.agg(F.min(pct_col), F.max(pct_col)).collect()[0]\n",
    "        # estaciones por umbral\n",
    "        ge95 = by_station.where(F.col(pct_col) >= 95).count()\n",
    "        ge90 = by_station.where(F.col(pct_col) >= 90).count()\n",
    "        ge80 = by_station.where(F.col(pct_col) >= 80).count()\n",
    "\n",
    "        stats_rows.append((\n",
    "            v, estaciones_total, ge95, ge90, ge80,\n",
    "            float(minv), float(p25), float(p50), float(p75), float(maxv)\n",
    "        ))\n",
    "\n",
    "stats_df = spark.createDataFrame(\n",
    "    stats_rows,\n",
    "    [\"variable\", \"n_estaciones\", \"est_ge95\", \"est_ge90\", \"est_ge80\", \"min_pct\", \"p25_pct\", \"p50_pct\", \"p75_pct\", \"max_pct\"]\n",
    ")\n",
    "\n",
    "print(\"\\n=== Cobertura por estación: distribución ===\")\n",
    "stats_df.orderBy(\"variable\").show(truncate=False)"
   ],
   "id": "97faeb41afd5014b",
   "outputs": [
    {
     "name": "stderr",
     "output_type": "stream",
     "text": [
      "                                                                                \r"
     ]
    },
    {
     "name": "stdout",
     "output_type": "stream",
     "text": [
      "\n",
      "=== Cobertura por estación: distribución ===\n",
      "+--------+------------+--------+--------+--------+-------+-------+-------+-------+-------+\n",
      "|variable|n_estaciones|est_ge95|est_ge90|est_ge80|min_pct|p25_pct|p50_pct|p75_pct|max_pct|\n",
      "+--------+------------+--------+--------+--------+-------+-------+-------+-------+-------+\n",
      "|prec    |918         |800     |859     |887     |0.0    |97.7517|99.1909|99.8066|100.0  |\n",
      "|racha   |918         |681     |711     |730     |0.0    |94.2885|99.0566|99.673 |100.0  |\n",
      "|tmax    |918         |847     |878     |898     |0.0    |98.6778|99.5487|99.8373|100.0  |\n",
      "|tmed    |918         |847     |878     |898     |0.0    |98.6359|99.5103|99.8057|100.0  |\n",
      "|tmin    |918         |847     |878     |898     |0.0    |98.6662|99.5164|99.8062|100.0  |\n",
      "+--------+------------+--------+--------+--------+-------+-------+-------+-------+-------+\n",
      "\n"
     ]
    }
   ],
   "execution_count": 21
  },
  {
   "metadata": {
    "ExecuteTime": {
     "end_time": "2025-08-24T13:43:28.802259Z",
     "start_time": "2025-08-24T13:43:27.752938Z"
    }
   },
   "cell_type": "code",
   "source": [
    "# 3) Tabla de estaciones por encima del umbral, por variable ---\n",
    "\n",
    "# TODO: DEFINIR UMBRALES POR VARIABLE\n",
    "UMBRAL_TRUSTED = 90.0\n",
    "apt_cols = []\n",
    "for v in key_vars:\n",
    "    pct_col = f\"{v}_pct\"\n",
    "    if pct_col in by_station.columns:\n",
    "        by_station = by_station.withColumn(f\"apt_{v}\", (F.col(pct_col) >= UMBRAL_TRUSTED).cast(\"boolean\"))\n",
    "        apt_cols.append(f\"apt_{v}\")\n",
    "\n",
    "apt_summary = None\n",
    "if apt_cols:\n",
    "    exprs = [F.sum(F.when(F.col(c) == True, 1).otherwise(0)).alias(c) for c in apt_cols]\n",
    "    apt_summary = by_station.agg(*exprs)\n",
    "    print(f\"\\n=== Nº de estaciones por encima del umbral, por variable (umbral {UMBRAL_TRUSTED:.0f}%) ===\")\n",
    "    apt_summary.show(truncate=False)"
   ],
   "id": "e5570a7a0d1c3cb4",
   "outputs": [
    {
     "name": "stdout",
     "output_type": "stream",
     "text": [
      "\n",
      "=== Nº de estaciones por encima del umbral, por variable (umbral 90%) ===\n",
      "+--------+--------+--------+--------+---------+\n",
      "|apt_tmax|apt_tmin|apt_tmed|apt_prec|apt_racha|\n",
      "+--------+--------+--------+--------+---------+\n",
      "|878     |878     |878     |859     |711      |\n",
      "+--------+--------+--------+--------+---------+\n",
      "\n"
     ]
    }
   ],
   "execution_count": 26
  },
  {
   "metadata": {},
   "cell_type": "markdown",
   "source": [
    "##### **Conclusiones del check B.4**\n",
    "\n",
    "El análisis de cobertura de las variables **tmax**, **tmin**, **tmed** y **prec** se ha realizado sobre un total de **918 estaciones**.\n",
    "Los resultados obtenidos muestran lo siguiente:\n",
    "\n",
    "- **Cobertura general muy elevada** en la mayoría de estaciones:\n",
    "  - El **percentil 50 (mediana)** de cobertura se sitúa en torno al **99,5%** para las tres variables de temperatura y en **99,2%** para precipitación.\n",
    "  - El **percentil 25** ya supera el **98,6%** en temperaturas y el **97,7%** en precipitación.\n",
    "\n",
    "- **Cobertura ≥95%**:\n",
    "  - **tmax**: 847 estaciones (92,3%)\n",
    "  - **tmin**: 847 estaciones (92,3%)\n",
    "  - **tmed**: 847 estaciones (92,3%)\n",
    "  - **prec**: 800 estaciones (87,2%)\n",
    "\n",
    "- **Cobertura ≥80%**:\n",
    "  - Temperaturas: 898 estaciones (>97%)\n",
    "  - Precipitación: 887 estaciones (96,6%)\n",
    "\n",
    "- **Estaciones deficitarias**:\n",
    "  Existen algunas estaciones con valores de **0% de cobertura** en ciertas variables, lo que refleja estaciones pluviométricas (que solo informan precipitación) o estaciones con problemas sistemáticos de reporte en una o más variables.\n",
    "\n",
    "##### **Conclusión principal**\n",
    "La red de estaciones presenta una **alta completitud en las variables clave**: más del 90% de las estaciones alcanzan coberturas superiores al 95% en temperaturas, y cerca del 87% lo hacen en precipitación.\n",
    "No obstante, se identifican estaciones con ausencia total en alguna variable, que deberán ser **clasificadas por variable de validez** (ej. estaciones pluviometricas, aptas para precipitación pero no para temperaturas)"
   ],
   "id": "fb986e2125d13a14"
  },
  {
   "metadata": {},
   "cell_type": "markdown",
   "source": [
    "### B.5 Cobertura de variables opcionales (ranking global por completitud)\n",
    "Cuantificar nulos en variables no críticas (e.g., `sol`, `dir`, humedad, presión).\n"
   ],
   "id": "7c9a0b42a4e2d14"
  },
  {
   "metadata": {
    "ExecuteTime": {
     "end_time": "2025-08-24T15:11:44.879884Z",
     "start_time": "2025-08-24T15:11:44.420733Z"
    }
   },
   "cell_type": "code",
   "source": [
    "from pyspark.sql import functions as F\n",
    "\n",
    "def informed_bool(colname: str):\n",
    "    c = F.col(colname)\n",
    "    # True si no es nulo y no es cadena vacía (aunque venga como string)\n",
    "    return c.isNotNull() & (F.length(F.trim(c.cast(\"string\"))) > 0)\n",
    "\n",
    "def informed_int(colname: str):\n",
    "    # 1/0 para sumar en agregaciones\n",
    "    return F.when(informed_bool(colname), 1).otherwise(0)\n",
    "\n",
    "# TODO: DEFINIR VARIABLES OPCIONALES\n",
    "# Variables opcionales\n",
    "optional_vars = [\n",
    "    \"sol\",\"dir\",\"velmedia\",\"racha\",\"horaracha\",\n",
    "    \"presmax\",\"presmin\",\"horapresmax\",\"horapresmin\",\n",
    "    \"hrmedia\",\"hrmax\",\"hrmin\",\"horahrmax\",\"horahrmin\"\n",
    "]\n",
    "\n",
    "# Filtra a las que existen en el DF normalizado\n",
    "optional_vars = [v for v in optional_vars if v in df_meteo_norm.columns]\n",
    "\n",
    "if not optional_vars:\n",
    "    raise ValueError(\"Ninguna de las columnas opcionales existe en df_meteo_norm.\")\n",
    "\n",
    "# Total de filas (denominador)\n",
    "try:\n",
    "    total_rows\n",
    "except NameError:\n",
    "    total_rows = df_meteo_norm.count()\n",
    "\n",
    "agg_exprs = [F.sum(informed_int(v)).alias(f\"{v}_informados\") for v in optional_vars]\n",
    "counts_row = df_meteo_norm.agg(*agg_exprs).collect()[0].asDict()\n",
    "\n",
    "rows = []\n",
    "for v in optional_vars:\n",
    "    n_inf = int(counts_row[f\"{v}_informados\"])\n",
    "    pct   = round(100.0 * n_inf / total_rows, 4) if total_rows else 0.0\n",
    "    rows.append((v, n_inf, total_rows, pct))\n",
    "\n",
    "df_optional_rank = spark.createDataFrame(\n",
    "    rows,\n",
    "    [\n",
    "        \"variable\",\n",
    "        \"n_informados\", # No nulo y no vacío,\n",
    "        \"n_total\",\n",
    "        \"pct_informado\"\n",
    "    ]\n",
    ")\n",
    "\n",
    "# Mostrar ordenado por % informado\n",
    "df_optional_rank.orderBy(F.col(\"pct_informado\").desc()).show(truncate=False)"
   ],
   "id": "e2553c55acdb6b71",
   "outputs": [
    {
     "name": "stdout",
     "output_type": "stream",
     "text": [
      "+-----------+------------+-------+-------------+\n",
      "|variable   |n_informados|n_total|pct_informado|\n",
      "+-----------+------------+-------+-------------+\n",
      "|hrmin      |2560719     |2682447|95.4621      |\n",
      "|hrmax      |2560537     |2682447|95.4553      |\n",
      "|horahrmin  |2559810     |2682447|95.4282      |\n",
      "|horahrmax  |2559597     |2682447|95.4202      |\n",
      "|hrmedia    |2522570     |2682447|94.0399      |\n",
      "|velmedia   |2142163     |2682447|79.8585      |\n",
      "|racha      |2133407     |2682447|79.5321      |\n",
      "|dir        |2133357     |2682447|79.5303      |\n",
      "|horaracha  |2133272     |2682447|79.5271      |\n",
      "|presmax    |657374      |2682447|24.5065      |\n",
      "|presmin    |657362      |2682447|24.5061      |\n",
      "|horapresmax|657350      |2682447|24.5056      |\n",
      "|horapresmin|657318      |2682447|24.5044      |\n",
      "|sol        |456937      |2682447|17.0343      |\n",
      "+-----------+------------+-------+-------------+\n",
      "\n"
     ]
    }
   ],
   "execution_count": 28
  },
  {
   "metadata": {},
   "cell_type": "markdown",
   "source": [
    "# C. Validez y rangos de valores\n",
    "\n",
    "**Motivación.** Identificar valores fuera de rango o incoherentes, con el fin de detectar errores de medición, carga o interpretación de unidades."
   ],
   "id": "2372eef21b6135ce"
  },
  {
   "metadata": {
    "ExecuteTime": {
     "end_time": "2025-08-24T15:22:13.412897Z",
     "start_time": "2025-08-24T15:22:13.324221Z"
    }
   },
   "cell_type": "code",
   "source": [
    "# Helpers\n",
    "from pyspark.sql import functions as F, types as T\n",
    "\n",
    "# Normalizador robusto de numéricos (soporta coma decimal y espacios)\n",
    "def to_float(colname: str):\n",
    "    \"\"\"Convierte a float una columna que puede venir con coma decimal o espacios.\"\"\"\n",
    "    c = F.col(colname).cast(\"string\")\n",
    "    return F.regexp_replace(F.trim(c), \",\", \".\").cast(\"double\")\n",
    "\n",
    "# Informed (no nulo ni vacío)\n",
    "def informed(colname: str):\n",
    "    c = F.col(colname)\n",
    "    return c.isNotNull() & (F.length(F.trim(c.cast(\"string\"))) > 0)\n",
    "\n",
    "# % helper\n",
    "def pct(numerador_col, denominador_col):\n",
    "    return F.round(100.0 * numerador_col / F.when(denominador_col == 0, None).otherwise(denominador_col), 2)\n",
    "\n",
    "# Parse de precipitación: Ip (traza) → 0.05 mm (ajústalo), negativos manteniéndose para detectar errores,\n",
    "#      \"Acum\" (si aparece) deja nulo para no mezclar con diario, o ajusta a tu criterio.\n",
    "def parse_prec(colname: str, ip_value: float = 0.05):\n",
    "    s = F.trim(F.col(colname).cast(\"string\"))\n",
    "    # Ip → valor pequeño; \"Acum\" (o variantes) → null; resto: numérico con coma\n",
    "    return F.when(s.rlike(r'(?i)^ip$'), F.lit(ip_value)) \\\n",
    "            .when(s.rlike(r'(?i)^acum'), F.lit(None).cast(\"double\")) \\\n",
    "            .otherwise(F.regexp_replace(s, \",\", \".\").cast(\"double\"))\n",
    "\n",
    "# Fecha derivada por año/mes (si no las tienes ya)\n",
    "df_meteo_norm = df_meteo_norm.withColumn(\"anio\", F.year(\"fecha_date\")) \\\n",
    "                             .withColumn(\"mes\",  F.month(\"fecha_date\"))\n"
   ],
   "id": "464bafd1ff1a12f0",
   "outputs": [
    {
     "name": "stdout",
     "output_type": "stream",
     "text": [
      "Helpers listos · filas en df: 2682447\n"
     ]
    }
   ],
   "execution_count": 33
  },
  {
   "metadata": {},
   "cell_type": "markdown",
   "source": [
    "### C.1 Temperaturas en rangos razonables\n",
    "Verificar que `tmax`, `tmin`, `tmed` caen dentro de un rango físico plausible para España.\n",
    "**Umbrales propuestos:** `tmin ∈ [-30, 35]`, `tmax ∈ [-15, 50]`, `tmed ∈ [-20, 45]`.\n",
    "Medimr  % fuera de rango y su distribución por estación y mes."
   ],
   "id": "91582c43c02a7a72"
  },
  {
   "metadata": {
    "ExecuteTime": {
     "end_time": "2025-08-24T15:25:02.823528Z",
     "start_time": "2025-08-24T15:25:01.512436Z"
    }
   },
   "cell_type": "code",
   "source": [
    "# Umbrales (ajusta si procede)\n",
    "TMIN_MIN, TMIN_MAX = -30.0, 35.0\n",
    "TMAX_MIN, TMAX_MAX = -15.0, 50.0\n",
    "TMED_MIN, TMED_MAX = -20.0, 45.0\n",
    "\n",
    "tmin_f = to_float(\"tmin\")\n",
    "tmax_f = to_float(\"tmax\")\n",
    "tmed_f = to_float(\"tmed\")\n",
    "\n",
    "out_tmin = informed(\"tmin\") & ((tmin_f < TMIN_MIN) | (tmin_f > TMIN_MAX))\n",
    "out_tmax = informed(\"tmax\") & ((tmax_f < TMAX_MIN) | (tmax_f > TMAX_MAX))\n",
    "out_tmed = informed(\"tmed\") & ((tmed_f < TMED_MIN) | (tmed_f > TMED_MAX))\n",
    "\n",
    "viol_df = (df_meteo_norm\n",
    "           .withColumn(\"out_tmin\", out_tmin.cast(\"int\"))\n",
    "           .withColumn(\"out_tmax\", out_tmax.cast(\"int\"))\n",
    "           .withColumn(\"out_tmed\", out_tmed.cast(\"int\")))\n",
    "\n",
    "agg = (viol_df.agg(\n",
    "            F.sum(\"out_tmin\").alias(\"tmin_fuera\"),\n",
    "            F.sum(\"out_tmax\").alias(\"tmax_fuera\"),\n",
    "            F.sum(\"out_tmed\").alias(\"tmed_fuera\"),\n",
    "            F.count(\"*\").alias(\"n_total\"))\n",
    "        .withColumn(\"%_tmin_fuera\", pct(F.col(\"tmin_fuera\"), F.col(\"n_total\")))\n",
    "        .withColumn(\"%_tmax_fuera\", pct(F.col(\"tmax_fuera\"), F.col(\"n_total\")))\n",
    "        .withColumn(\"%_tmed_fuera\", pct(F.col(\"tmed_fuera\"), F.col(\"n_total\"))))\n",
    "\n",
    "agg.show(truncate=False)\n"
   ],
   "id": "83d395465d60dc1",
   "outputs": [
    {
     "name": "stdout",
     "output_type": "stream",
     "text": [
      "C.1 · % fuera de rango (sobre todas las filas):\n"
     ]
    },
    {
     "name": "stderr",
     "output_type": "stream",
     "text": [
      "[Stage 328:>                                                      (0 + 11) / 11]\r"
     ]
    },
    {
     "name": "stdout",
     "output_type": "stream",
     "text": [
      "+----------+----------+----------+-------+------------+------------+------------+\n",
      "|tmin_fuera|tmax_fuera|tmed_fuera|n_total|%_tmin_fuera|%_tmax_fuera|%_tmed_fuera|\n",
      "+----------+----------+----------+-------+------------+------------+------------+\n",
      "|6         |1         |0         |2682447|0.0         |0.0         |0.0         |\n",
      "+----------+----------+----------+-------+------------+------------+------------+\n",
      "\n"
     ]
    },
    {
     "name": "stderr",
     "output_type": "stream",
     "text": [
      "                                                                                \r"
     ]
    }
   ],
   "execution_count": 34
  },
  {
   "metadata": {},
   "cell_type": "markdown",
   "source": [
    "El numero de valores fuera de rango es negligible para las tres variables de temperatura.\n",
    "#TODO: DECIDIR QUE HACER"
   ],
   "id": "44c64c0a7a07e103"
  },
  {
   "metadata": {
    "ExecuteTime": {
     "end_time": "2025-08-24T15:31:26.191556Z",
     "start_time": "2025-08-24T15:31:24.441906Z"
    }
   },
   "cell_type": "code",
   "source": [
    "# Muestra ejemplos de filas fuera de rango\n",
    "print(\"Muestras de out-of-range (tmax/tmin/tmed):\")\n",
    "(viol_df.filter(F.col(\"out_tmax\")==1).select(\"fecha_date\",\"indicativo\",\"tmax\").show(truncate=False))\n",
    "(viol_df.filter(F.col(\"out_tmin\")==1).select(\"fecha_date\",\"indicativo\",\"tmin\").show(truncate=False))\n",
    "(viol_df.filter(F.col(\"out_tmed\")==1).select(\"fecha_date\",\"indicativo\",\"tmed\").show(5, truncate=False))"
   ],
   "id": "c4971fb647690236",
   "outputs": [
    {
     "name": "stdout",
     "output_type": "stream",
     "text": [
      "Muestras de out-of-range (tmax/tmin/tmed):\n",
      "+----------+----------+-----+\n",
      "|fecha_date|indicativo|tmax |\n",
      "+----------+----------+-----+\n",
      "|2023-09-20|6084X     |-50,0|\n",
      "+----------+----------+-----+\n",
      "\n",
      "+----------+----------+----+\n",
      "|fecha_date|indicativo|tmin|\n",
      "+----------+----------+----+\n",
      "|2023-09-20|6084X     |50,0|\n",
      "|2023-08-12|C418L     |37,2|\n",
      "|2023-08-12|C625O     |35,3|\n",
      "|2023-08-12|C417J     |35,3|\n",
      "|2023-08-11|C418L     |35,5|\n",
      "|2023-08-11|C625O     |35,5|\n",
      "+----------+----------+----+\n",
      "\n",
      "+----------+----------+----+\n",
      "|fecha_date|indicativo|tmed|\n",
      "+----------+----------+----+\n",
      "+----------+----------+----+\n",
      "\n"
     ]
    }
   ],
   "execution_count": 39
  },
  {
   "metadata": {},
   "cell_type": "markdown",
   "source": [
    "### C.2 Consistencia entre temperaturas\n",
    "\n",
    "**Objetivo.** Verificar la coherencia interna de las temperaturas diarias.\n",
    "\n",
    "**Reglas (sin tolerancias):**\n",
    "1) **Orden lógico:** `tmax ≥ tmin`.\n",
    "2) **Media acotada:** `tmin ≤ tmed ≤ tmax`.\n",
    "\n",
    "> Estas dos reglas no dependen del método con el que la estación calcule `tmed`; por tanto, no requieren umbrales ni tolerancias.\n",
    "\n",
    "- Nº y % de violaciones sobre el total de registros.\n",
    "- Ranking por estación (y por mes) de mayor % de violaciones.\n",
    "- Muestras de filas problemáticas para depuración.\n",
    "\n",
    "> (Opcional, si se desea un control más estricto) comparar `tmed` con `(tmax+tmin)/2 ± tolerancia`. No se activa en este bloque."
   ],
   "id": "c06a6c94fecab705"
  },
  {
   "metadata": {
    "ExecuteTime": {
     "end_time": "2025-08-24T15:54:28.805016Z",
     "start_time": "2025-08-24T15:54:27.896333Z"
    }
   },
   "cell_type": "code",
   "source": [
    "# C.2 Consistencia entre temperaturas (sin tolerancias) · FIX agg booleanas\n",
    "from pyspark.sql import functions as F\n",
    "\n",
    "required = {\"tmin\",\"tmax\",\"tmed\"}\n",
    "missing  = [c for c in required if c not in df_meteo_norm.columns]\n",
    "if missing:\n",
    "    raise ValueError(f\"C.2 requiere columnas {sorted(required)}; faltan: {missing}\")\n",
    "\n",
    "tmin = to_float(\"tmin\")\n",
    "tmax = to_float(\"tmax\")\n",
    "tmed = to_float(\"tmed\")\n",
    "\n",
    "have_minmax = tmin.isNotNull() & tmax.isNotNull()\n",
    "have_all    = have_minmax & tmed.isNotNull()\n",
    "\n",
    "# Reglas de consistencia (booleanas)\n",
    "incumpl_max_menor_min     = have_minmax & (tmax < tmin)                     # incoherente: tmax < tmin\n",
    "incumpl_tmed_fuera_rango  = have_all & ((tmed < tmin) | (tmed > tmax))      # incoherente: tmed fuera de [tmin, tmax]\n",
    "\n",
    "df_flags = (df_meteo_norm\n",
    "            .withColumn(\"incumpl_max_menor_min\", incumpl_max_menor_min)\n",
    "            .withColumn(\"incumpl_tmed_fuera_rango\", incumpl_tmed_fuera_rango))\n",
    "\n",
    "# Contar True con count(when(col, True)) para evitar sum(BOOLEAN)\n",
    "res_global = (df_flags\n",
    "              .agg(\n",
    "                  F.count(F.when(F.col(\"incumpl_max_menor_min\"), True)).alias(\"n_incumpl_max_menor_min\"),\n",
    "                  F.count(F.when(F.col(\"incumpl_tmed_fuera_rango\"), True)).alias(\"n_incumpl_tmed_fuera_rango\"),\n",
    "                  F.count(\"*\").alias(\"n_total\")\n",
    "              )\n",
    "              .withColumn(\"%_incumpl_max_menor_min\",    F.round(100.0 * F.col(\"n_incumpl_max_menor_min\")   / F.col(\"n_total\"), 4))\n",
    "              .withColumn(\"%_incumpl_tmed_fuera_rango\", F.round(100.0 * F.col(\"n_incumpl_tmed_fuera_rango\")/ F.col(\"n_total\"), 4))\n",
    "             )\n",
    "\n",
    "res_global.show(truncate=False)\n",
    "\n"
   ],
   "id": "5949d5a56144c4ac",
   "outputs": [
    {
     "name": "stdout",
     "output_type": "stream",
     "text": [
      "+-----------------------+--------------------------+-------+-----------------------+--------------------------+\n",
      "|n_incumpl_max_menor_min|n_incumpl_tmed_fuera_rango|n_total|%_incumpl_max_menor_min|%_incumpl_tmed_fuera_rango|\n",
      "+-----------------------+--------------------------+-------+-----------------------+--------------------------+\n",
      "|1                      |1                         |2682447|0.0                    |0.0                       |\n",
      "+-----------------------+--------------------------+-------+-----------------------+--------------------------+\n",
      "\n"
     ]
    },
    {
     "name": "stderr",
     "output_type": "stream",
     "text": [
      "                                                                                \r"
     ]
    }
   ],
   "execution_count": 53
  },
  {
   "metadata": {
    "ExecuteTime": {
     "end_time": "2025-08-24T15:57:19.177478Z",
     "start_time": "2025-08-24T15:57:17.533946Z"
    }
   },
   "cell_type": "code",
   "outputs": [
    {
     "name": "stdout",
     "output_type": "stream",
     "text": [
      "Registro con tmax < tmin:\n",
      "+----------+----------+----+-----+----+---------+----------+\n",
      "|fecha     |indicativo|tmin|tmax |tmed|provincia|nombre    |\n",
      "+----------+----------+----+-----+----+---------+----------+\n",
      "|2023-09-20|6084X     |50,0|-50,0|0,0 |MALAGA   |FUENGIROLA|\n",
      "+----------+----------+----+-----+----+---------+----------+\n",
      "\n",
      "Registro con tmed fuera de [tmin, tmax]:\n",
      "+----------+----------+----+-----+----+---------+----------+\n",
      "|fecha     |indicativo|tmin|tmax |tmed|provincia|nombre    |\n",
      "+----------+----------+----+-----+----+---------+----------+\n",
      "|2023-09-20|6084X     |50,0|-50,0|0,0 |MALAGA   |FUENGIROLA|\n",
      "+----------+----------+----+-----+----+---------+----------+\n",
      "\n"
     ]
    }
   ],
   "execution_count": 55,
   "source": [
    "# Ver registro que incumple la regla tmax < tmin\n",
    "print(\"Registro con tmax < tmin:\")\n",
    "(df_meteo_norm\n",
    " .filter(to_float(\"tmax\") < to_float(\"tmin\"))\n",
    " .select(\"fecha\",\"indicativo\",\"tmin\",\"tmax\",\"tmed\",\"provincia\",\"nombre\")\n",
    " .show(truncate=False))\n",
    "\n",
    "# Ver registro que incumple la regla tmed fuera de [tmin, tmax]\n",
    "print(\"Registro con tmed fuera de [tmin, tmax]:\")\n",
    "(df_meteo_norm\n",
    " .filter((to_float(\"tmed\") < to_float(\"tmin\")) | (to_float(\"tmed\") > to_float(\"tmax\")))\n",
    " .select(\"fecha\",\"indicativo\",\"tmin\",\"tmax\",\"tmed\",\"provincia\",\"nombre\")\n",
    " .show(truncate=False))"
   ],
   "id": "190f5d28dbe7148e"
  },
  {
   "metadata": {},
   "cell_type": "markdown",
   "source": [
    "Se detecta un registro incoherente (Fuengirola, 20/09/2023, con `tmin=50°C` y `tmax=-50°C`).\n",
    "<br>\n",
    "Probablemente un error de carga o de medición."
   ],
   "id": "e98a92dd0ef5e7c9"
  },
  {
   "metadata": {},
   "cell_type": "markdown",
   "source": [
    "### C.3 Precipitación (no negativa y códigos especiales)\n",
    "Asegura `prec ≥ 0`.\n",
    "<br>\n",
    "Interpreta `Ip` como traza (0.05 mm por defecto) y “Acum” como nulos (o ajustar según negocio).\n",
    "Mide recuento de negativos, presencia de `Ip/Acum` y conversión correcta a numérico."
   ],
   "id": "71230e916a37cac3"
  },
  {
   "metadata": {
    "ExecuteTime": {
     "end_time": "2025-08-24T16:04:12.949506Z",
     "start_time": "2025-08-24T16:04:12.467447Z"
    }
   },
   "cell_type": "code",
   "source": [
    "prec_f = parse_prec(\"prec\", ip_value=0.05)  # ajusta el valor de traza si procede\n",
    "\n",
    "prec_df = df_meteo_norm.withColumn(\"prec_num\", prec_f)\n",
    "\n",
    "# Negativos informados\n",
    "neg = informed(\"prec\") & (F.col(\"prec_num\") < 0)\n",
    "\n",
    "# Marcas para Ip/Acum en crudo (texto original), por curiosidad\n",
    "prec_raw = F.trim(F.col(\"prec\").cast(\"string\"))\n",
    "is_ip   = prec_raw.rlike(r'(?i)^ip$')\n",
    "is_acum = prec_raw.rlike(r'(?i)^acum')\n",
    "\n",
    "agg = (prec_df.agg(\n",
    "            F.sum(neg.cast(\"int\")).alias(\"prec_negativos\"),\n",
    "            F.sum(is_ip.cast(\"int\")).alias(\"prec_Ip_crudo\"),\n",
    "            F.sum(is_acum.cast(\"int\")).alias(\"prec_Acum_crudo\"),\n",
    "            F.count(\"*\").alias(\"n_total\"))\n",
    "       .withColumn(\"%_negativos\", pct(F.col(\"prec_negativos\"), F.col(\"n_total\")))\n",
    ")\n",
    "\n",
    "print(\"C.3 Precipitación:\")\n",
    "agg.show(truncate=False)\n"
   ],
   "id": "a98749902796330f",
   "outputs": [
    {
     "name": "stdout",
     "output_type": "stream",
     "text": [
      "C.3 Precipitación:\n",
      "+--------------+-------------+---------------+-------+-----------+\n",
      "|prec_negativos|prec_Ip_crudo|prec_Acum_crudo|n_total|%_negativos|\n",
      "+--------------+-------------+---------------+-------+-----------+\n",
      "|0             |16087        |348            |2682447|0.0        |\n",
      "+--------------+-------------+---------------+-------+-----------+\n",
      "\n"
     ]
    }
   ],
   "execution_count": 57
  },
  {
   "metadata": {},
   "cell_type": "markdown",
   "source": [
    "El check C.3 confirma que no existen valores negativos de precipitación (0% de los registros), lo que indica consistencia básica.\n",
    "<br>\n",
    "Se han identificado 16 087 casos de traza (`Ip`) y 348 de acumulación (`Acum`)."
   ],
   "id": "e0888826abd5c6f9"
  },
  {
   "metadata": {
    "ExecuteTime": {
     "end_time": "2025-08-24T16:09:46.076723Z",
     "start_time": "2025-08-24T16:09:46.015752Z"
    }
   },
   "cell_type": "code",
   "source": [
    "from pyspark.sql import functions as F\n",
    "\n",
    "print(\"Registros con precipitación marcada como 'Acum':\")\n",
    "(df_meteo_norm\n",
    " .filter(F.trim(F.col(\"prec\").cast(\"string\")).rlike(r'(?i)^acum$'))\n",
    " .select(\"fecha\",\"indicativo\",\"nombre\",\"provincia\",\"prec\")\n",
    " .show(10, truncate=False))"
   ],
   "id": "7754ee774cd3fb03",
   "outputs": [
    {
     "name": "stdout",
     "output_type": "stream",
     "text": [
      "Registros con precipitación marcada como 'Acum':\n",
      "+----------+----------+------------------------------+---------+----+\n",
      "|fecha     |indicativo|nombre                        |provincia|prec|\n",
      "+----------+----------+------------------------------+---------+----+\n",
      "|2021-01-06|7195X     |CARAVACA DE LA CRUZ, LOS ROYOS|MURCIA   |Acum|\n",
      "|2021-01-06|7080X     |MORATALLA                     |MURCIA   |Acum|\n",
      "|2021-01-06|7127X     |BULLAS                        |MURCIA   |Acum|\n",
      "|2022-12-14|9814I     |TORLA-ORDESA, EL CEBOLLAR     |HUESCA   |Acum|\n",
      "|2018-12-18|1542      |PUERTO DE LEITARIEGOS         |ASTURIAS |Acum|\n",
      "|2019-01-23|9638D     |COLL DE NARGÓ                 |LLEIDA   |Acum|\n",
      "|2019-01-23|9744B     |VALL DE BOÍ                   |LLEIDA   |Acum|\n",
      "|2017-01-19|8354X     |ALBARRACÍN                    |TERUEL   |Acum|\n",
      "|2017-01-19|7195X     |CARAVACA DE LA CRUZ, LOS ROYOS|MURCIA   |Acum|\n",
      "|2017-01-19|7080X     |MORATALLA                     |MURCIA   |Acum|\n",
      "+----------+----------+------------------------------+---------+----+\n",
      "only showing top 10 rows\n",
      "\n"
     ]
    }
   ],
   "execution_count": 59
  },
  {
   "metadata": {},
   "cell_type": "markdown",
   "source": [
    "### C.4 Viento: velocidad, racha y dirección\n",
    "Validar `velmedia ≥ 0`, `racha ≥ velmedia`,\n",
    "y `dir ∈ [0,360]` (aceptando códigos especiales si aplican, p. ej. `88/99`)."
   ],
   "id": "ed7f7cd2c0fda818"
  },
  {
   "metadata": {
    "ExecuteTime": {
     "end_time": "2025-08-24T16:13:23.347369Z",
     "start_time": "2025-08-24T16:13:22.743919Z"
    }
   },
   "cell_type": "code",
   "source": [
    "vel_f  = to_float(\"velmedia\")\n",
    "racha_f = to_float(\"racha\")\n",
    "dir_s   = F.trim(F.col(\"dir\").cast(\"string\"))\n",
    "dir_f   = F.regexp_replace(dir_s, \",\", \".\").cast(\"double\")\n",
    "\n",
    "# AEMET (en algunas series) usa 88/99 como códigos; aquí los aceptamos como válidos especiales.\n",
    "dir_valid = (dir_f >= 0) & (dir_f <= 360) | dir_s.isin(\"88\",\"99\")\n",
    "\n",
    "viol_vel_neg   = informed(\"velmedia\") & (vel_f < 0)\n",
    "viol_racha_rel = informed(\"velmedia\") & informed(\"racha\") & (racha_f < vel_f)\n",
    "viol_dir_range = informed(\"dir\") & (~dir_valid)\n",
    "\n",
    "wind_df = (df_meteo_norm\n",
    "           .withColumn(\"viol_vel_neg\", viol_vel_neg.cast(\"int\"))\n",
    "           .withColumn(\"viol_racha_rel\", viol_racha_rel.cast(\"int\"))\n",
    "           .withColumn(\"viol_dir_range\", viol_dir_range.cast(\"int\")))\n",
    "\n",
    "agg = (wind_df.agg(F.sum(\"viol_vel_neg\").alias(\"vel_neg\"),\n",
    "                   F.sum(\"viol_racha_rel\").alias(\"racha_menor_vel\"),\n",
    "                   F.sum(\"viol_dir_range\").alias(\"dir_fuera_rango\"),\n",
    "                   F.count(\"*\").alias(\"n_total\"))\n",
    "       .withColumn(\"%_vel_neg\", pct(F.col(\"vel_neg\"), F.col(\"n_total\")))\n",
    "       .withColumn(\"%_racha_menor_vel\", pct(F.col(\"racha_menor_vel\"), F.col(\"n_total\")))\n",
    "       .withColumn(\"%_dir_fuera_rango\", pct(F.col(\"dir_fuera_rango\"), F.col(\"n_total\"))))\n",
    "\n",
    "print(\"C.4 Viento:\")\n",
    "agg.show(truncate=False)\n"
   ],
   "id": "b741484d2c3f99cd",
   "outputs": [
    {
     "name": "stdout",
     "output_type": "stream",
     "text": [
      "C.4 Viento:\n",
      "+-------+---------------+---------------+-------+---------+-----------------+-----------------+\n",
      "|vel_neg|racha_menor_vel|dir_fuera_rango|n_total|%_vel_neg|%_racha_menor_vel|%_dir_fuera_rango|\n",
      "+-------+---------------+---------------+-------+---------+-----------------+-----------------+\n",
      "|0      |0              |0              |2682447|0.0      |0.0              |0.0              |\n",
      "+-------+---------------+---------------+-------+---------+-----------------+-----------------+\n",
      "\n"
     ]
    }
   ],
   "execution_count": 61
  },
  {
   "metadata": {},
   "cell_type": "markdown",
   "source": "Todos los regstros cumplen las reglas de validación para viento.",
   "id": "d28710479457f820"
  },
  {
   "metadata": {},
   "cell_type": "markdown",
   "source": [
    "### C.5 Presión atmosférica\n",
    "Verificar que `presmin`, `presmax` estan en rango plausible (ej. 850–1050 hPa)\n",
    "y que `presmax ≥ presmin` cuando ambas están informadas."
   ],
   "id": "5477b31ca4d81e2c"
  },
  {
   "metadata": {
    "ExecuteTime": {
     "end_time": "2025-08-24T16:28:44.255508Z",
     "start_time": "2025-08-24T16:28:44.029320Z"
    }
   },
   "cell_type": "code",
   "source": [
    "# Rango plausible a nivel estación (ajusta si tus presiones están reducidas al nivel del mar)\n",
    "P_MIN, P_MAX = 850.0, 1050.0\n",
    "\n",
    "pmin_f = to_float(\"presmin\")\n",
    "pmax_f = to_float(\"presmax\")\n",
    "\n",
    "viol_pmin = informed(\"presmin\") & ((pmin_f < P_MIN) | (pmin_f > P_MAX))\n",
    "viol_pmax = informed(\"presmax\") & ((pmax_f < P_MIN) | (pmax_f > P_MAX))\n",
    "viol_order = informed(\"presmin\") & informed(\"presmax\") & (pmax_f < pmin_f)\n",
    "\n",
    "prs_df = (df_meteo_norm\n",
    "          .withColumn(\"viol_pmin\", viol_pmin.cast(\"int\"))\n",
    "          .withColumn(\"viol_pmax\", viol_pmax.cast(\"int\"))\n",
    "          .withColumn(\"viol_order\", viol_order.cast(\"int\")))\n",
    "\n",
    "agg = (prs_df.agg(F.sum(\"viol_pmin\").alias(\"pmin_fuera\"),\n",
    "                  F.sum(\"viol_pmax\").alias(\"pmax_fuera\"),\n",
    "                  F.sum(\"viol_order\").alias(\"pmax_menor_pmin\"),\n",
    "                  F.count(\"*\").alias(\"n_total\"))\n",
    "       .withColumn(\"%_pmin_fuera\", pct(F.col(\"pmin_fuera\"), F.col(\"n_total\")))\n",
    "       .withColumn(\"%_pmax_fuera\", pct(F.col(\"pmax_fuera\"), F.col(\"n_total\")))\n",
    "       .withColumn(\"%_pmax_menor_pmin\", pct(F.col(\"pmax_menor_pmin\"), F.col(\"n_total\"))))\n",
    "\n",
    "print(\"C.5 Presión:\")\n",
    "agg.show(truncate=False)"
   ],
   "id": "dbc5db614f0ee151",
   "outputs": [
    {
     "name": "stdout",
     "output_type": "stream",
     "text": [
      "C.5 Presión:\n",
      "+----------+----------+---------------+-------+------------+------------+-----------------+\n",
      "|pmin_fuera|pmax_fuera|pmax_menor_pmin|n_total|%_pmin_fuera|%_pmax_fuera|%_pmax_menor_pmin|\n",
      "+----------+----------+---------------+-------+------------+------------+-----------------+\n",
      "|28697     |26287     |0              |2682447|1.07        |0.98        |0.0              |\n",
      "+----------+----------+---------------+-------+------------+------------+-----------------+\n",
      "\n"
     ]
    }
   ],
   "execution_count": 70
  },
  {
   "metadata": {
    "ExecuteTime": {
     "end_time": "2025-08-24T16:26:45.507957Z",
     "start_time": "2025-08-24T16:26:44.956128Z"
    }
   },
   "cell_type": "code",
   "source": [
    "# Ver valores fuera de rango\n",
    "from pyspark.sql import functions as F\n",
    "\n",
    "# Convertir a float\n",
    "pmin = to_float(\"presmin\")\n",
    "pmax = to_float(\"presmax\")\n",
    "\n",
    "# Condiciones de fuera de rango\n",
    "cond_pmin_fuera = pmin.isNotNull() & ((pmin < 850) | (pmin > 1050))\n",
    "cond_pmax_fuera = pmax.isNotNull() & ((pmax < 850) | (pmax > 1050))\n",
    "\n",
    "# DataFrame con flags\n",
    "df_pres_flags = (df_meteo_norm\n",
    "                 .withColumn(\"pmin_fuera\", cond_pmin_fuera)\n",
    "                 .withColumn(\"pmax_fuera\", cond_pmax_fuera))\n",
    "\n",
    "# ---- Ejemplos de registros fuera de rango ----\n",
    "print(\"Ejemplos de registros con pmin fuera de rango:\")\n",
    "(df_pres_flags\n",
    " .filter(F.col(\"pmin_fuera\"))\n",
    " .select(\"fecha\",\"indicativo\",\"nombre\",\"provincia\",\"presmin\",\"presmax\")\n",
    " .show(10, truncate=False))\n",
    "\n",
    "print(\"Ejemplos de registros con pmax fuera de rango:\")\n",
    "(df_pres_flags\n",
    " .filter(F.col(\"pmax_fuera\"))\n",
    " .select(\"fecha\",\"indicativo\",\"nombre\",\"provincia\",\"presmin\",\"presmax\")\n",
    " .show(10, truncate=False))\n",
    "\n",
    "# ---- Ranking de estaciones más problemáticas ----\n",
    "rank_pres = (df_pres_flags\n",
    "             .groupBy(\"indicativo\",\"nombre\",\"provincia\")\n",
    "             .agg(\n",
    "                 F.count(F.when(F.col(\"pmin_fuera\"), True)).alias(\"n_pmin_fuera\"),\n",
    "                 F.count(F.when(F.col(\"pmax_fuera\"), True)).alias(\"n_pmax_fuera\"),\n",
    "                 F.count(\"*\").alias(\"n_total\")\n",
    "             )\n",
    "             .withColumn(\"%_pmin_fuera\", F.round(100.0 * F.col(\"n_pmin_fuera\")/F.col(\"n_total\"), 2))\n",
    "             .withColumn(\"%_pmax_fuera\", F.round(100.0 * F.col(\"n_pmax_fuera\")/F.col(\"n_total\"), 2))\n",
    "             .orderBy((F.col(\"n_pmin_fuera\")+F.col(\"n_pmax_fuera\")).desc()))\n",
    "\n",
    "print(\"Top 20 estaciones con más registros de presión fuera de rango:\")\n",
    "rank_pres.show(20, truncate=False)"
   ],
   "id": "520ac02ddbb5e3b4",
   "outputs": [
    {
     "name": "stdout",
     "output_type": "stream",
     "text": [
      "Ejemplos de registros con pmin fuera de rango:\n",
      "+----------+----------+------------------------------------------+---------------------+-------+-------+\n",
      "|fecha     |indicativo|nombre                                    |provincia            |presmin|presmax|\n",
      "+----------+----------+------------------------------------------+---------------------+-------+-------+\n",
      "|2025-05-30|2462      |PUERTO DE NAVACERRADA                     |MADRID               |820,1  |821,5  |\n",
      "|2025-05-30|6248D     |CAÑAR, PARQUE NACIONAL SIERRA NEVADA      |GRANADA              |835,6  |837,3  |\n",
      "|2025-05-30|9814I     |TORLA-ORDESA, EL CEBOLLAR                 |HUESCA               |817,4  |819,0  |\n",
      "|2025-05-30|5511      |PRADOLLANO, PARQUE NACIONAL SIERRA NEVADA |GRANADA              |711,9  |713,1  |\n",
      "|2025-05-30|6299I     |LAGUNA SECA, PARQUE NACIONAL SIERRA NEVADA|GRANADA              |781,9  |783,1  |\n",
      "|2025-05-30|2150H     |LA PINILLA, ESTACIÓN DE ESQUÍ             |SEGOVIA              |828,5  |830,7  |\n",
      "|2025-05-30|C101A     |ROQUE DE LOS MUCHACHOS                    |STA. CRUZ DE TENERIFE|785,3  |786,8  |\n",
      "|2025-05-30|5103E     |CAMARATE 2, PARQUE NACIONAL SIERRA NEVADA |GRANADA              |795,9  |797,2  |\n",
      "|2025-05-30|2491C     |LA COVATILLA, ESTACIÓN DE ESQUÍ           |SALAMANCA            |812,0  |813,6  |\n",
      "|2025-05-30|9585      |LA MOLINA                                 |GIRONA               |837,4  |839,0  |\n",
      "+----------+----------+------------------------------------------+---------------------+-------+-------+\n",
      "only showing top 10 rows\n",
      "\n",
      "Ejemplos de registros con pmax fuera de rango:\n",
      "+----------+----------+------------------------------------------+---------------------+-------+-------+\n",
      "|fecha     |indicativo|nombre                                    |provincia            |presmin|presmax|\n",
      "+----------+----------+------------------------------------------+---------------------+-------+-------+\n",
      "|2025-05-30|2462      |PUERTO DE NAVACERRADA                     |MADRID               |820,1  |821,5  |\n",
      "|2025-05-30|6248D     |CAÑAR, PARQUE NACIONAL SIERRA NEVADA      |GRANADA              |835,6  |837,3  |\n",
      "|2025-05-30|9814I     |TORLA-ORDESA, EL CEBOLLAR                 |HUESCA               |817,4  |819,0  |\n",
      "|2025-05-30|5511      |PRADOLLANO, PARQUE NACIONAL SIERRA NEVADA |GRANADA              |711,9  |713,1  |\n",
      "|2025-05-30|6299I     |LAGUNA SECA, PARQUE NACIONAL SIERRA NEVADA|GRANADA              |781,9  |783,1  |\n",
      "|2025-05-30|2150H     |LA PINILLA, ESTACIÓN DE ESQUÍ             |SEGOVIA              |828,5  |830,7  |\n",
      "|2025-05-30|C101A     |ROQUE DE LOS MUCHACHOS                    |STA. CRUZ DE TENERIFE|785,3  |786,8  |\n",
      "|2025-05-30|5103E     |CAMARATE 2, PARQUE NACIONAL SIERRA NEVADA |GRANADA              |795,9  |797,2  |\n",
      "|2025-05-30|2491C     |LA COVATILLA, ESTACIÓN DE ESQUÍ           |SALAMANCA            |812,0  |813,6  |\n",
      "|2025-05-30|9585      |LA MOLINA                                 |GIRONA               |837,4  |839,0  |\n",
      "+----------+----------+------------------------------------------+---------------------+-------+-------+\n",
      "only showing top 10 rows\n",
      "\n",
      "Top 20 estaciones con más registros de presión fuera de rango:\n",
      "+----------+--------------------------------------------------+----------------------+------------+------------+-------+------------+------------+\n",
      "|indicativo|nombre                                            |provincia             |n_pmin_fuera|n_pmax_fuera|n_total|%_pmin_fuera|%_pmax_fuera|\n",
      "+----------+--------------------------------------------------+----------------------+------------+------------+-------+------------+------------+\n",
      "|C430E     |IZAÑA                                             |SANTA CRUZ DE TENERIFE|3101        |3101        |3102   |99.97       |99.97       |\n",
      "|2462      |PUERTO DE NAVACERRADA                             |MADRID                |3100        |3100        |3102   |99.94       |99.94       |\n",
      "|9585      |LA MOLINA                                         |GIRONA                |3036        |3036        |3071   |98.86       |98.86       |\n",
      "|9001S     |ALTO CAMPOO                                       |CANTABRIA             |2961        |2946        |2996   |98.83       |98.33       |\n",
      "|2491C     |LA COVATILLA, ESTACIÓN DE ESQUÍ                   |SALAMANCA             |2673        |2673        |2686   |99.52       |99.52       |\n",
      "|2150H     |LA PINILLA, ESTACIÓN DE ESQUÍ                     |SEGOVIA               |2495        |2494        |2795   |89.27       |89.23       |\n",
      "|C101A     |ROQUE DE LOS MUCHACHOS                            |STA. CRUZ DE TENERIFE |2040        |2040        |2057   |99.17       |99.17       |\n",
      "|3266A     |PUERTO ALTO DEL LEÓN                              |MADRID                |1920        |1079        |3071   |62.52       |35.14       |\n",
      "|1542      |PUERTO DE LEITARIEGOS                             |ASTURIAS              |1668        |917         |2943   |56.68       |31.16       |\n",
      "|1167J     |CORISCAO, PARQUE NACIONAL PICOS DE EUROPA         |CANTABRIA             |1094        |1094        |1150   |95.13       |95.13       |\n",
      "|2630X     |PUERTO DE SAN ISIDRO                              |LEON                  |1074        |582         |2459   |43.68       |23.67       |\n",
      "|1167G     |MIRADOR DEL CABLE, PARQUE NACIONAL PICOS DE EUROPA|CANTABRIA             |674         |674         |1225   |55.02       |55.02       |\n",
      "|5103E     |CAMARATE 2, PARQUE NACIONAL SIERRA NEVADA         |GRANADA               |622         |622         |623    |99.84       |99.84       |\n",
      "|6248D     |CAÑAR, PARQUE NACIONAL SIERRA NEVADA              |GRANADA               |616         |616         |623    |98.88       |98.88       |\n",
      "|5511      |PRADOLLANO, PARQUE NACIONAL SIERRA NEVADA         |GRANADA               |545         |545         |581    |93.8        |93.8        |\n",
      "|6299I     |LAGUNA SECA, PARQUE NACIONAL SIERRA NEVADA        |GRANADA               |379         |379         |385    |98.44       |98.44       |\n",
      "|5103F     |CAMARATE, PARQUE NACIONAL SIERRA NEVADA           |GRANADA               |434         |230         |703    |61.74       |32.72       |\n",
      "|2811A     |NAVARREDONDA DE GREDOS                            |AVILA                 |126         |54          |1036   |12.16       |5.21        |\n",
      "|9445L     |FORMIGAL, SARRIOS                                 |HUESCA                |34          |34          |1484   |2.29        |2.29        |\n",
      "|9814I     |TORLA-ORDESA, EL CEBOLLAR                         |HUESCA                |33          |33          |2054   |1.61        |1.61        |\n",
      "+----------+--------------------------------------------------+----------------------+------------+------------+-------+------------+------------+\n",
      "only showing top 20 rows\n",
      "\n"
     ]
    }
   ],
   "execution_count": 66
  },
  {
   "metadata": {},
   "cell_type": "markdown",
   "source": [
    "# D. Consistencia temporal\n",
    "\n",
    "**Motivación.** La correcta localización temporal es esencial para relacionar eventos y construir series."
   ],
   "id": "618b373ccda46ded"
  },
  {
   "metadata": {},
   "cell_type": "markdown",
   "source": [
    "### D.1 Validez de valores acumulados\n",
    "Si aparecen acumulaciones (p. ej., precipitación), comprobar su plausibilidad y consistencia con periodos adyacentes."
   ],
   "id": "6b3014f5620c6bc1"
  },
  {
   "metadata": {
    "ExecuteTime": {
     "end_time": "2025-08-24T17:04:16.897137Z",
     "start_time": "2025-08-24T17:04:13.792579Z"
    }
   },
   "cell_type": "code",
   "source": [
    "from pyspark.sql import functions as F, Window\n",
    "from pyspark.sql.types import DoubleType\n",
    "\n",
    "# 1) Detectar \"Acum\" y parsear precipitación (usa tu parse_prec si ya lo tienes)\n",
    "prec_raw = F.trim(F.col(\"prec\").cast(\"string\"))\n",
    "is_acum  = prec_raw.rlike(r'(?i)^acum$')\n",
    "\n",
    "def parse_prec(colname: str, ip_value: float = 0.05):\n",
    "    c = F.trim(F.col(colname).cast(\"string\"))\n",
    "    return (F.when(c.rlike(r'(?i)^ip$'), F.lit(ip_value))\n",
    "             .when(c.rlike(r'(?i)^acum$'), F.lit(None).cast(DoubleType()))\n",
    "             .otherwise(F.regexp_replace(c, \",\", \".\").cast(DoubleType())))\n",
    "\n",
    "prec_num = parse_prec(\"prec\", ip_value=0.05)\n",
    "\n",
    "dfp = (df_meteo_norm\n",
    "       .withColumn(\"is_acum\", is_acum)\n",
    "       .withColumn(\"prec_num\", prec_num)\n",
    "       .withColumn(\"fecha_date\", F.to_date(\"fecha\")))\n",
    "\n",
    "# 2) Coger un (indicativo, fecha) con Acum (el primero)\n",
    "sample = (dfp.filter(F.col(\"is_acum\"))\n",
    "            .select(\"indicativo\",\"fecha_date\")\n",
    "            .orderBy(\"indicativo\",\"fecha_date\")\n",
    "            .limit(1)\n",
    "            .collect())\n",
    "\n",
    "if not sample:\n",
    "    print(\"No se han encontrado registros con 'Acum'.\")\n",
    "else:\n",
    "    s_indic, s_fecha = sample[0][\"indicativo\"], sample[0][\"fecha_date\"]\n",
    "\n",
    "    # 3) Ventana ±5 días para ese indicativo\n",
    "    ctx = (dfp.filter(F.col(\"indicativo\") == s_indic)\n",
    "              .withColumn(\"diff_days\", F.datediff(F.col(\"fecha_date\"), F.lit(s_fecha)))\n",
    "              .filter((F.col(\"diff_days\") >= -5) & (F.col(\"diff_days\") <= 5))\n",
    "              .select(\"fecha_date\",\"indicativo\",\"prec\",\"prec_num\",\"is_acum\")\n",
    "              .orderBy(\"fecha_date\"))\n",
    "\n",
    "    print(f\"Contexto ±5 días alrededor de {s_fecha} en {s_indic}:\")\n",
    "    ctx.show(30, truncate=False)"
   ],
   "id": "be8c5280608c2aff",
   "outputs": [
    {
     "name": "stderr",
     "output_type": "stream",
     "text": [
      "25/08/24 19:04:14 WARN SparkStringUtils: Truncated the string representation of a plan since it was too large. This behavior can be adjusted by setting 'spark.sql.debug.maxToStringFields'.\n",
      "                                                                                \r"
     ]
    },
    {
     "name": "stdout",
     "output_type": "stream",
     "text": [
      "Contexto ±5 días alrededor de 2018-02-12 en 0061X:\n",
      "+----------+----------+----+--------+-------+\n",
      "|fecha_date|indicativo|prec|prec_num|is_acum|\n",
      "+----------+----------+----+--------+-------+\n",
      "|2018-02-07|0061X     |0,0 |0.0     |false  |\n",
      "|2018-02-08|0061X     |0,0 |0.0     |false  |\n",
      "|2018-02-09|0061X     |0,2 |0.2     |false  |\n",
      "|2018-02-10|0061X     |0,0 |0.0     |false  |\n",
      "|2018-02-11|0061X     |0,0 |0.0     |false  |\n",
      "|2018-02-12|0061X     |Acum|NULL    |true   |\n",
      "|2018-02-13|0061X     |3,6 |3.6     |false  |\n",
      "|2018-02-14|0061X     |0,0 |0.0     |false  |\n",
      "|2018-02-15|0061X     |0,0 |0.0     |false  |\n",
      "|2018-02-16|0061X     |0,0 |0.0     |false  |\n",
      "|2018-02-17|0061X     |0,0 |0.0     |false  |\n",
      "+----------+----------+----+--------+-------+\n",
      "\n"
     ]
    }
   ],
   "execution_count": 9
  },
  {
   "metadata": {},
   "cell_type": "markdown",
   "source": [
    "# E. Coherencia espacial\n",
    "\n",
    "**Motivación.** Estaciones cercanas deben mostrar comportamientos compatibles; la ubicación y altitud influyen en las magnitudes.\n",
    "\n",
    "### E.1 Registros duplicados por estación y fecha\n",
    "Confirmar unicidad espacial-temporal del dato.\n",
    "**Qué medir:** duplicados y su distribución.\n",
    "\n",
    "### E.2 Coherencia de altitud con el catálogo\n",
    "Verificar que la altitud por `indicativo` coincide con el catálogo y no cambia en el tiempo.\n",
    "**Qué medir:** discrepancias y su magnitud.\n",
    "\n",
    "### E.3 Coherencia de coordenadas por estación\n",
    "Comprobar que latitud/longitud son únicas y estables por `indicativo`.\n",
    "**Qué medir:** estaciones con coordenadas múltiples o inválidas.\n",
    "\n",
    "### E.4 Valores extremos frente a estaciones cercanas\n",
    "Detectar outliers espaciales persistentes que sugieran fallos instrumentales o de integración.\n",
    "**Qué medir:** z-scores espaciales / vecinos k; estaciones con desviaciones sistemáticas."
   ],
   "id": "df2a4367e67eba3c"
  },
  {
   "metadata": {},
   "cell_type": "markdown",
   "source": [
    "# F. Homogeneidad y representatividad\n",
    "\n",
    "**Motivación.** El análisis de riesgos requiere cobertura suficiente y balanceada en el tiempo, el espacio y las variables clave.\n",
    "\n",
    "### F.1 Estabilidad de estaciones (cobertura temporal)\n",
    "- Primero, **calcular la cobertura (%) de cada estación** respecto al total de días esperados (2017–2025).\n",
    "- Presentar la **distribución de coberturas** (histograma/tabla).\n",
    "- A partir de esa distribución, **proponer umbrales** (p. ej., <50% preliminar; <70% más estricto).\n",
    "- **Justificar** el umbral elegido en función de:\n",
    "  - número de estaciones descartadas,\n",
    "  - impacto espacial (provincias/regiones afectadas),\n",
    "  - necesidades de representatividad para el análisis de riesgos.\n",
    "\n",
    "**Qué medir:** cobertura por estación; gráficos de distribución; escenarios de filtrado y su impacto espacial.\n",
    "\n",
    "### F.2 Cobertura de variables clave por estación\n",
    "Para `tmax`, `tmin`, `tmed`, `prec`, medir el **% de días informados** por estación y definir criterios de inclusión por variable.\n",
    "**Qué medir:** matriz estación × variable; umbrales propuestos y su impacto.\n",
    "\n",
    "### F.3 Distribución regional de estaciones activas\n",
    "Comprobar representatividad por provincia/área climática tras aplicar filtros de estabilidad y variables.\n",
    "**Qué medir:** recuento y densidad de estaciones activas por provincia; cambios tras los filtros.\n",
    "\n",
    "### F.4 Balance temporal\n",
    "Detectar años o meses con cobertura anómala que puedan sesgar el análisis (p. ej., eventos faltantes).\n",
    "**Qué medir:** % de cobertura por año/mes; impacto en la comparabilidad interanual/estacional."
   ],
   "id": "ad9d9099e29dc68c"
  },
  {
   "metadata": {},
   "cell_type": "markdown",
   "source": [
    "# G. Calidad técnica\n",
    "\n",
    "**Motivación.** Asegurar que el dataset es robusto para procesamiento distribuido y reproducible.\n",
    "\n",
    "### G.1 Duplicados globales\n",
    "Eliminar duplicados exactos o casi idénticos que puedan inflar recuentos o sesgar estimaciones.\n",
    "**Qué medir:** número y patrón de duplicados; reglas de deduplicación.\n",
    "\n",
    "### G.2 Tratamiento de codificaciones especiales\n",
    "Gestionar correctamente `Ip`, `Acum`, y códigos especiales de dirección del viento (p. ej., 88/99).\n",
    "**Qué medir:** ocurrencias y conversiones; tasa de éxito tras normalización.\n",
    "\n",
    "### G.3 Identificación de valores atípicos extremos\n",
    "Detectar outliers mediante enfoques robustos (p. ej., IQR, MAD, z-score por estación/mes) y decidir su tratamiento.\n",
    "**Qué medir:** % de outliers por variable/estación; persistencia vs. puntuales.\n",
    "\n",
    "### G.4 Verificación de archivos faltantes en *landing*\n",
    "Comprobar que existe un Parquet por día según la convención y que no hay huecos de ingesta.\n",
    "**Qué medir:** días sin archivo; consistencia de la estructura de carpetas y particiones."
   ],
   "id": "839ccc82f11e3edd"
  }
 ],
 "metadata": {
  "kernelspec": {
   "display_name": "Python 3",
   "language": "python",
   "name": "python3"
  },
  "language_info": {
   "codemirror_mode": {
    "name": "ipython",
    "version": 2
   },
   "file_extension": ".py",
   "mimetype": "text/x-python",
   "name": "python",
   "nbconvert_exporter": "python",
   "pygments_lexer": "ipython2",
   "version": "2.7.6"
  }
 },
 "nbformat": 4,
 "nbformat_minor": 5
}
